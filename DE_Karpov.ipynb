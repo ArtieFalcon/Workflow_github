{
 "cells": [
  {
   "cell_type": "code",
   "execution_count": null,
   "id": "1827078f",
   "metadata": {},
   "outputs": [],
   "source": []
  },
  {
   "cell_type": "code",
   "execution_count": null,
   "id": "32fd6e4e",
   "metadata": {},
   "outputs": [],
   "source": [
    "\n"
   ]
  },
  {
   "cell_type": "markdown",
   "id": "60c00158",
   "metadata": {},
   "source": [
    "# #Module3"
   ]
  },
  {
   "cell_type": "markdown",
   "id": "af74bed9",
   "metadata": {},
   "source": [
    "explain analyze\n",
    "select * from tpch1.orders o join tpch1.customer c on o.o_custkey=c.c_custkey;\n",
    "\n",
    "\n",
    "select * from tpch1.orders o ;\n",
    "select count(*) from tpch1.customer c ;\n",
    "Gather Motion 4:1  (slice3; segments: 4)  (cost=0.00..15178.97 rows=11 879 777 width=266)\n",
    ";\n",
    "select count(*) from tpch1.customer\n",
    "union all select count(*) from tpch1.customer_1 ;\n",
    "explain analyze\n",
    "select * from tpch1.orders o join tpch1.customer_1 c on o.o_custkey=c.c_custkey;\n",
    "\n",
    "select gp_segment_id, count(*) from gp_dist_random('tpch1.customer') group by 1;\n",
    "select gp_segment_id, count(*) from gp_dist_random('tpch1.customer_1') group by 1;\n",
    "\n",
    "select  sum( distinct r_regionkey) from tpch1.region;\n",
    "\n",
    "explain analyze\n",
    "select * from tpch1.nation_ext n join tpch1.region_ext r on n.n_regionkey=r.r_regionkey;\n",
    "\n",
    "explain analyze\n",
    "select * from tpch1.orders_2 o join tpch1.customer_2 c on o.o_custkey=c.c_custkey;\n",
    "----------------------------------------- model linear regression\n",
    "--Создадим таблицу, в которой есть идентификаторы, значения того, что нужно предсказать и x1, x2.\n",
    "CREATE TABLE regr_example (\n",
    "   id int,\n",
    "   y int,\n",
    "   x1 int,\n",
    "   x2 int\n",
    ");\n",
    "INSERT INTO regr_example VALUES\n",
    "   (1,  5, 2, 3),\n",
    "   (2, 10, 7, 2),\n",
    "   (3,  6, 4, 1),\n",
    "   (4,  8, 3, 4);\n",
    "   \n",
    "  --Потом применяем к ней функцию linregr_train из библиотеки MADlib:\n",
    "  SELECT madlib.linregr_train (\n",
    "   'regr_example',         -- source table\n",
    "   'regr_example_model',   -- output model table\n",
    "   'y',                    -- dependent variable\n",
    "   'ARRAY[1, x1, x2]'      -- independent variables\n",
    ");\n",
    "--В результаты выводится краткий отчет с основными коэффициентами регрессии, необходимыми для анализа полученной модели:\n",
    "SELECT * FROM regr_example_model;\n",
    "--С помощью полученной модели можно строить предсказания. Для этого нужно использовать функцию linregr_predict\n",
    "SELECT \n",
    "    regr_example.*,\n",
    "    madlib.linregr_predict ( ARRAY[1, x1, x2], m.coef ) AS predict,\n",
    "    y - madlib.linregr_predict ( ARRAY[1, x1, x2], m.coef ) AS residual\n",
    "    FROM regr_example, regr_example_model m;\n",
    "-------------------------------------------------------\n",
    "select habitat_id, st_area(geom) from public.buowl_habitat\n",
    "where habitat_id in (select habitat_id from public.buowl_habitat order by habitat_id limit 5)\n",
    "order by st_area(geom);\n",
    "select * from public.buowl_habitat order by habitat_id limit 5;\n",
    "\n",
    "select * from public.linear_projects ;\n",
    "with cte1 as (\n",
    "select t1.gid, st_intersects(t1.geom, t2.geom) as s, count(*) over() from public.linear_projects t1\n",
    "inner join public.linear_projects t2 on t1.gid=t2.gid\n",
    ")\n",
    "select * from cte1 where s = 'true' ;\n"
   ]
  },
  {
   "cell_type": "markdown",
   "id": "b2383bf5",
   "metadata": {},
   "source": [
    "# Module 3 Lesson 7 \n",
    "-- Geometrical and space coordinates (PostGIS  extantion)\n",
    "CREATE TABLE public.ais_geom_test (gid int4, geom geometry,\n",
    "  name varchar(25) ) distributed RANDOMLY ;\n",
    "\n",
    "INSERT INTO public.ais_geom_test ( gid, geom, name )\n",
    "  VALUES (1, 'POLYGON((0 0 0,0 5 0,5 5 0,5 0 0,0 0 0))', '3D Square');\n",
    "INSERT INTO public.ais_geom_test ( gid, geom, name )\n",
    "  VALUES (2, 'LINESTRING((1 1 1,5 5 5,7 7 5))', '3D Line');\n",
    "INSERT INTO public.ais_geom_test ( gid, geom, name )\n",
    "  VALUES (3, 'MULTIPOINT((3 4,8 9))', '2D Aggregate Point');\n",
    "INSERT INTO public.ais_geom_test ( gid, geom, name )\n",
    "  VALUES (1, ST_Polygon(ST)GeomFromText('LINESTRING(75.15 29.53,77 30,77.6 29.5 75.15 29.53)'), 4326, '3D Poly');\n",
    "  \n",
    " select * from public.ais_geom_test;\n",
    " SELECT geometrytype (geom), NAME FROM public.ais_geom_test;\n",
    " \n",
    "SELECT ST_Polygon(\n",
    "    ST_GeomFromText('LINESTRING(75.15 29.53,77 30,77.6 29.5, 75.15 29.53)'), 4326\n",
    "); \n",
    "DROP TABLE geotest;\n",
    "CREATE TABLE geotest (id INT4, name VARCHAR(32) );\n",
    "SELECT AddGeometryColumn ('geotest','geopoint', 4326,'POINT',2);\n",
    "\n",
    "INSERT INTO geotest (id, name, geopoint)\n",
    "  VALUES (1, 'Olympia', ST_GeometryFromText('POINT(-122.90 46.97)', 4326)); \n",
    "INSERT INTO geotest (id, name, geopoint)\n",
    "  VALUES (2, 'Renton', ST_GeometryFromText('POINT(-122.90 47.50)', 4326));\n",
    " INSERT INTO geotest (id, name, geopoint)\n",
    "  VALUES (2, 'IstanbulHome', ST_GeometryFromText('POINT(41.037 28.9763)', 4326));\n",
    " UPDATE  geotest \n",
    "   SET geopoint = ST_GeometryFromText('POINT(28.9763 41.037)', 4326)\n",
    "   WHERE name = 'IstanbulHome';\n",
    "INSERT INTO geotest (id, name, geopoint)\n",
    "  VALUES (2, 'IstanbulHome', ST_GeometryFromText('POINT(28.9763 41.037)', 4326));\n",
    " \n",
    "SELECT name, ST_AsText(geopoint) FROM geotest;\n",
    "\n",
    "SELECT geopoint FROM geotest WHERE name = 'IstanbulHome'; -- a Map\n",
    "\n",
    "select true;\n",
    "\n",
    "with t1 as (\n",
    "select * from public.linear_projects\n",
    ")\n",
    ", t2 as (\n",
    "select count(*) over(), count(distinct t1.gid) over(), t1.gid as gid1, t2.gid as gid2 from public.linear_projects t2\n",
    "inner join t1 on st_intersects(t1.geom,t2.geom) = true \n",
    "and t1.gid != t2.gid)\n",
    "select * from t2\n",
    ";\n",
    "and cast(t1.geom as VARCHAR(64)) != cast(t2.geom as VARCHAR(64))\n",
    "; \n",
    "\n",
    "--Greenplum Text\n",
    "SELECT 'a fat cat sat on a mat and ate a fat rat'::tsvector @@ 'cat & rats'::tsquery;\n",
    "SELECT 'a fat cat sat on a mat and ate a fat rat'::tsvector @@ 'cat'::tsquery;\n",
    "SELECT \n",
    "   to_tsvector('english', p_name) || to_tsvector('english', p_type) || to_tsvector('english', p_comment)\n",
    "FROM tpch1.part \n",
    "LIMIT 50;\n",
    "select * from tpch1.part;\n",
    "SELECT \n",
    "   to_tsvector('english', p_name)\n",
    "FROM tpch1.part \n",
    "LIMIT 50;\n",
    "--The @@@ text search operator (deprecated since 6.0). This operator is currently a synonym for the @@ operator.\n",
    "select * from public.articles;\n",
    "select to_tsvector('english', body) @@ lower('Ryanair') ::tsquery from public.articles;\n",
    "select to_tsvector('english', body) from public.articles;\n",
    "\n",
    "--ts_rank(tsvector,tsquery) -- ranking text searches\n",
    "select ts_rank(to_tsvector('english', body),to_tsvector('english', body) @@ lower('airline')) from public.articles;\n",
    "SELECT heading, body, ts_rank_cd(to_tsvector('english', body), query) AS rank\n",
    "FROM public.articles, to_tsquery('airline') query\n",
    "--WHERE query @@ textsearch\n",
    "ORDER BY rank desc;\n",
    "\n",
    "--Highlighting Results ts_headline (text,tsquery) \n",
    "SELECT heading, ts_headline('english', body,\n",
    "  to_tsquery('ryanair | wizz'))\n",
    " from public.articles;\n",
    "\n",
    "\n"
   ]
  },
  {
   "cell_type": "code",
   "execution_count": 24,
   "id": "054ce526",
   "metadata": {},
   "outputs": [
    {
     "name": "stdout",
     "output_type": "stream",
     "text": [
      "Datetime is: 2023-01-20 23:24:56.375094 <class 'datetime.datetime'>\n",
      "2023-01-16 23:24:56.376769\n",
      "Day of a week is: 0\n"
     ]
    }
   ],
   "source": [
    "from datetime import datetime, timedelta\n",
    "\n",
    "# get current datetime\n",
    "date = datetime.now()\n",
    "print('Datetime is:', date, type(date))\n",
    "date = datetime.now() + timedelta(days=-4)\n",
    "print(date) \n",
    "\n",
    "# get day of week as an integer\n",
    "x = date.weekday()\n",
    "print('Day of a week is:', x)\n",
    "\n"
   ]
  },
  {
   "cell_type": "code",
   "execution_count": 26,
   "id": "b896ded3",
   "metadata": {},
   "outputs": [
    {
     "data": {
      "text/plain": [
       "4"
      ]
     },
     "execution_count": 26,
     "metadata": {},
     "output_type": "execute_result"
    }
   ],
   "source": [
    "from datetime import datetime\n",
    "def week_day():\n",
    "    return datetime.now().weekday() # note, monday is 0, tuesday is 1... so sunday is 6\n",
    "week_day()"
   ]
  },
  {
   "cell_type": "code",
   "execution_count": 4,
   "id": "ba8f2289",
   "metadata": {},
   "outputs": [
    {
     "data": {
      "text/plain": [
       "0"
      ]
     },
     "execution_count": 4,
     "metadata": {},
     "output_type": "execute_result"
    }
   ],
   "source": [
    "# datetime.strptime(ds, \"%Y-%m-%d\").weekday()\n",
    "from datetime import datetime\n",
    "ds = datetime(2023, 1, 23)\n",
    "def week_day():\n",
    "    return ds.weekday() # note, monday is 0, tuesday is 1... so sunday is 6\n",
    "week_day()"
   ]
  },
  {
   "cell_type": "code",
   "execution_count": null,
   "id": "03d30db7",
   "metadata": {},
   "outputs": [],
   "source": []
  }
 ],
 "metadata": {
  "kernelspec": {
   "display_name": "Python 3 (ipykernel)",
   "language": "python",
   "name": "python3"
  },
  "language_info": {
   "codemirror_mode": {
    "name": "ipython",
    "version": 3
   },
   "file_extension": ".py",
   "mimetype": "text/x-python",
   "name": "python",
   "nbconvert_exporter": "python",
   "pygments_lexer": "ipython3",
   "version": "3.9.7"
  }
 },
 "nbformat": 4,
 "nbformat_minor": 5
}
