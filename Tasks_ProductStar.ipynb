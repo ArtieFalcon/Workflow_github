{
 "cells": [
  {
   "cell_type": "code",
   "execution_count": 1,
   "id": "95062e58-908e-4d84-9766-3a89ccb8841e",
   "metadata": {},
   "outputs": [],
   "source": [
    "dd = 2"
   ]
  },
  {
   "cell_type": "code",
   "execution_count": 2,
   "id": "0ebdc463-b2b2-41d1-a637-36a40be350f6",
   "metadata": {},
   "outputs": [
    {
     "name": "stdout",
     "output_type": "stream",
     "text": [
      "2\n"
     ]
    }
   ],
   "source": [
    "print(dd)"
   ]
  },
  {
   "cell_type": "code",
   "execution_count": 25,
   "id": "15d930da-bb3e-461f-8118-4e7281944ef7",
   "metadata": {},
   "outputs": [
    {
     "name": "stdout",
     "output_type": "stream",
     "text": [
      "[5, 7, 9, 11, 13, 45]\n",
      "45045=45=13=11=9=7=5\n"
     ]
    }
   ],
   "source": [
    "l = []\n",
    "for i in range(5,15):\n",
    "    l.append(i)\n",
    "ll = l[::2]\n",
    "s = sum(ll)\n",
    "m = 1\n",
    "for k in ll:\n",
    "    m *= k\n",
    "ll.append(s)\n",
    "print(ll)\n",
    "lll = ll + [m]\n",
    "lll.sort(reverse = True)\n",
    "for j in range(0,len(lll)):\n",
    "    lll[j] = str(lll[j])\n",
    "print('='.join(lll))"
   ]
  },
  {
   "cell_type": "code",
   "execution_count": 30,
   "id": "4e482ee8-b3f8-4910-9268-abb2cdb73edf",
   "metadata": {},
   "outputs": [
    {
     "data": {
      "text/plain": [
       "[1, 1, 2, 3, -7, -10]"
      ]
     },
     "execution_count": 30,
     "metadata": {},
     "output_type": "execute_result"
    }
   ],
   "source": [
    "a = [1, 1, 2, 3, 5, 8, 13, 21, 34, 55, 89, 5, 9, -7, -10]\n",
    "aa = list(filter(lambda x: x < 5, a))\n",
    "aa"
   ]
  },
  {
   "cell_type": "code",
   "execution_count": 36,
   "id": "9cde6026-5867-4a7f-8be8-50abbcd32519",
   "metadata": {},
   "outputs": [
    {
     "data": {
      "text/plain": [
       "[1, 2, 3, 5, 8, 11, 13, 34]"
      ]
     },
     "execution_count": 36,
     "metadata": {},
     "output_type": "execute_result"
    }
   ],
   "source": [
    "a = [1, 1, 2, 3, 5, 8, 13, 21, 34, 55, 89, 11]\n",
    "b = [1, 2, 3, 4, 5, 6, 7, 8, 9, 10, 34, 11, 12, 13]\n",
    "g = list( set(a) & set(b))\n",
    "g.sort()\n",
    "g"
   ]
  },
  {
   "cell_type": "code",
   "execution_count": 56,
   "id": "8de3a355-1402-4e26-9a20-68729f531efd",
   "metadata": {},
   "outputs": [
    {
     "data": {
      "text/plain": [
       "'flow'"
      ]
     },
     "execution_count": 56,
     "metadata": {},
     "output_type": "execute_result"
    }
   ],
   "source": [
    "#Дана строка. Выведите слово, которое встречается чаще всего. Если таких слов несколько, выведите то,\n",
    "#которое меньше в лексикографическом порядке.\n",
    "s = 'kafka python course stack flow dict list python stack course star product star product analytics flow star kafka stack flow ython list set ist fit predict dict list python ourse ython ourse star product ist fit predict analytics kafka stack flow product ist fit predict analytics star flow dict flow list python course stack flow dict list python stack course'\n",
    "def f(s):\n",
    "    d = {}\n",
    "    ss = s.split(' ')\n",
    "    for i in ss:\n",
    "        if i not in d.keys():\n",
    "            d[i] = 1\n",
    "        else:\n",
    "            d[i]+=1\n",
    "    m = max(d.values())\n",
    "    l = []\n",
    "    for k,v in d.items():\n",
    "        if v == m:\n",
    "            l.append(k)\n",
    "    #splay(d)\n",
    "    word = l[0]\n",
    "    mi = len(word)\n",
    "    for k in l:\n",
    "        if len(k) < mi:\n",
    "            mi = len(k)\n",
    "            word = k\n",
    "    return word\n",
    "    \n",
    "f(s)"
   ]
  },
  {
   "cell_type": "code",
   "execution_count": 59,
   "id": "dfc65052-024d-4e11-8ac3-545cda150230",
   "metadata": {},
   "outputs": [
    {
     "data": {
      "text/plain": [
       "'ceo'"
      ]
     },
     "execution_count": 59,
     "metadata": {},
     "output_type": "execute_result"
    }
   ],
   "source": [
    "#Task 5\n",
    "#Создайте словарь из двух списков. Чтобы по каждому имени можно было узнать профессию. Выведи профессию maria.\n",
    "names = ['igor', 'dasha', 'martin', 'vladimir', 'rishat', 'maria', 'marat', 'petr', 'dima', 'polina', 'katya', 'elena']\n",
    "occupations = ['smm', 'developer', 'analyst', 'president', 'analyst', 'ceo', 'customer development', 'founder', 'developer', 'ml engineer', 'product manager', 'cmo']\n",
    "name = 'maria'\n",
    "def f(names,occupations,name):\n",
    "    d = {}\n",
    "    for n,o in zip(names, occupations):\n",
    "        d[n] = o    \n",
    "    return d[name]\n",
    "f(names,occupations, name)    "
   ]
  },
  {
   "cell_type": "code",
   "execution_count": 70,
   "id": "c008d504-83e4-4869-85e1-a73f29b528ec",
   "metadata": {},
   "outputs": [
    {
     "name": "stdout",
     "output_type": "stream",
     "text": [
      "{1: 10, 2: 20, 3901: 11, 384: 13, 8489: 1, 48: 10, 3: 13, 4: 40, 93: 12, 91: 41, 95: 1, 841: 11, 584: 11, 5: 50, 6: 60, 9: 90, 7: 11}\n"
     ]
    }
   ],
   "source": [
    "#Task6\n",
    "#Напишите код, который соединит эти словари в один:\n",
    "dict1={1:10, 2:20, 3901:11, 384:13, 8489:1, 48:10}\n",
    "dict2={3:30, 4:40, 93:12, 91:41, 95:1, 841:11, 584:11}\n",
    "dict3={5:50, 6:60, 9:90, 3:13, 7:11}\n",
    "#Выведи длину получившегося словаря и самое популярное значение в нем через запятую без пробела. Например: 3,19\n",
    "dict1.update(dict2)\n",
    "dict1.update(dict3)\n",
    "for k,v in dict1.items():\n",
    "    if v == max(dict1.values()):\n",
    "        m = k\n",
    "print((dict1)) #,',',m)\n"
   ]
  },
  {
   "cell_type": "code",
   "execution_count": 84,
   "id": "26ac4485-4e6c-40b6-9cb3-1cb7ac3ce5ef",
   "metadata": {},
   "outputs": [
    {
     "data": {
      "text/plain": [
       "'PSCbgxpq'"
      ]
     },
     "execution_count": 84,
     "metadata": {},
     "output_type": "execute_result"
    }
   ],
   "source": [
    "#Task7\n",
    "#Напишите код, который для любой строки автоматически вернет словарь с количеством вхождений каждого символа.\n",
    "#Потом, используя этот код, выведи для строки given_string 8 самых непопулярных букв без пробелов и запятых. Регистр надо учитывать!\n",
    "# пример\n",
    "#given_string = 'apple'\n",
    "#result_dict = {'a': 1, 'p': 2, 'l': 1, 'e': 1}\n",
    "given_string = 'Python Star Course for beginners and experts for data science and analytics without sql with code'\n",
    "def g(s):\n",
    "    ss = list(s)\n",
    "    d = {}\n",
    "    for i in ss:\n",
    "        if i not in d.keys():\n",
    "            d[i] = 1\n",
    "        else:\n",
    "            d[i]+=1\n",
    "    c = 1\n",
    "    if ' ' in s:\n",
    "        d.pop(\" \")\n",
    "    if ',' in s:\n",
    "        d.pop(\",\")\n",
    "    dd = d.copy()\n",
    "    l = []\n",
    "    for k,v in d.items():\n",
    "        #if v == min(set(dd.values()).difference(set(l))):\n",
    "        l.append(v)\n",
    "        \n",
    "    l.sort() \n",
    "    ll = l[:8:1]\n",
    "    lll = []\n",
    "    for i in ll:\n",
    "        for k,v in d.items():\n",
    "            if v == i and k not in lll:\n",
    "                lll.append(k)\n",
    "    return ''.join(lll)\n",
    "g(given_string)"
   ]
  },
  {
   "cell_type": "code",
   "execution_count": 4,
   "id": "305b3e91-758e-4363-957d-3db1b990d258",
   "metadata": {},
   "outputs": [
    {
     "name": "stderr",
     "output_type": "stream",
     "text": [
      "\"ls\" ­Ґ пў«пҐвбп ў­гваҐ­­Ґ© Ё«Ё ў­Ґи­Ґ©\n",
      "Є®¬ ­¤®©, ЁбЇ®«­пҐ¬®© Їа®Ја ¬¬®© Ё«Ё Ї ЄҐв­л¬ д ©«®¬.\n"
     ]
    }
   ],
   "source": [
    "!ls"
   ]
  },
  {
   "cell_type": "code",
   "execution_count": 6,
   "id": "eb3686ac-fdfc-4591-9e0f-11ce5ea6e86e",
   "metadata": {},
   "outputs": [
    {
     "name": "stdout",
     "output_type": "stream",
     "text": [
      " ’®¬ ў гбва®©бвўҐ C ­Ґ Ё¬ҐҐв ¬ҐвЄЁ.\n",
      " ‘ҐаЁ©­л© ­®¬Ґа в®¬ : CA3C-45AF\n",
      "\n",
      " ‘®¤Ґа¦Ё¬®Ґ Ї ЇЄЁ C:\\Users\\Artemiy\\Repo_python\n",
      "\n",
      "11.09.2022  03:58    <DIR>          .\n",
      "11.09.2022  03:58    <DIR>          ..\n",
      "10.09.2022  20:10    <DIR>          .ipynb_checkpoints\n",
      "11.09.2022  03:58             2я342 GitBashCommands.txt\n",
      "10.09.2022  17:25            51я041 Python_studies.ipynb\n",
      "10.09.2022  14:25                22 README.md\n",
      "11.09.2022  03:58             8я729 Test2.ipynb\n",
      "               4 д ©«®ў         62я134 Ў ©в\n",
      "               3 Ї Ї®Є  152я012я673я024 Ў ©в бў®Ў®¤­®\n"
     ]
    }
   ],
   "source": [
    "%ls"
   ]
  },
  {
   "cell_type": "code",
   "execution_count": 7,
   "id": "1bbe19f2-e7ec-4783-9277-542da5ecc8c6",
   "metadata": {},
   "outputs": [
    {
     "data": {
      "text/plain": [
       "'C:\\\\Users\\\\Artemiy\\\\Repo_python'"
      ]
     },
     "execution_count": 7,
     "metadata": {},
     "output_type": "execute_result"
    }
   ],
   "source": [
    "%pwd"
   ]
  },
  {
   "cell_type": "code",
   "execution_count": 8,
   "id": "abbe1188-e0df-4700-abc1-7447865db608",
   "metadata": {},
   "outputs": [],
   "source": [
    "%mkdir Folder_test"
   ]
  },
  {
   "cell_type": "code",
   "execution_count": 21,
   "id": "cc3d81be-a725-487e-abe8-3eafde0f4714",
   "metadata": {},
   "outputs": [
    {
     "name": "stdout",
     "output_type": "stream",
     "text": [
      "hghghgk\n"
     ]
    }
   ],
   "source": [
    "import os.path #Create and Save file\n",
    "with open (r'C:\\Users\\Artemiy\\Desktop\\Python, Linux\\PYTHON TASKS\\data_sf.csv', encoding='utf-8', mode = 'r') as f:\n",
    "    toFile = r'C:\\Users\\Artemiy\\Repo_python\\creations'\n",
    "    if not os.path.exists(toFile):\n",
    "        os.makedirs(toFile)\n",
    "    name_of_file = \"Anarchy of Taganka.txt\"\n",
    "    #f.seek(0)\n",
    "    g = f.readline()\n",
    "    print(g+'k')\n",
    "    with open(os.path.join(toFile, name_of_file), mode = 'w+') as ff:\n",
    "        ff.write(g)\n",
    "    #completeName = os.path.join(toFile, name_of_file+\".csv\")    \n"
   ]
  },
  {
   "cell_type": "code",
   "execution_count": 11,
   "id": "4aa9f9d0-3ebb-4465-a0e3-35c68ed7be95",
   "metadata": {},
   "outputs": [],
   "source": [
    "import os #Create and Save file\n",
    "def save_file_at_dir(dir_path, filename, file_content, mode='w'):\n",
    "    os.makedirs(dir_path, exist_ok=True)\n",
    "    with open(os.path.join(dir_path, filename), mode) as f:\n",
    "        f.write(file_content)\n",
    "save_file_at_dir('new_dir_test', 'new_file.csv', 'new text')        \n"
   ]
  },
  {
   "cell_type": "code",
   "execution_count": null,
   "id": "a5a45217-2024-4bf5-9532-f067f263263a",
   "metadata": {},
   "outputs": [],
   "source": []
  },
  {
   "cell_type": "markdown",
   "id": "57f004fd-2072-419e-ada5-68fbb3964a63",
   "metadata": {},
   "source": [
    "Запишите в файл бинарные данные \n",
    "b'\\xd1\\xe5\\xea\\xf0\\xe5\\xf2\\xed\\xee\\xe5 \\xf1\\xeb\\xee\\xe2\\xee: \\xef\\xf3\\xf5\\xee\\xe2\\xe8\\xf7\\xee\\xea', \n",
    "и прочитайте его как текстовый в Windows кодировке cp1251"
   ]
  },
  {
   "cell_type": "code",
   "execution_count": 7,
   "id": "45440a95-13fd-403a-9d8a-b1a38b4a82ee",
   "metadata": {},
   "outputs": [
    {
     "name": "stdout",
     "output_type": "stream",
     "text": [
      "Секретное слово: пуховичок\n"
     ]
    }
   ],
   "source": [
    "import os.path #Create and Save file\n",
    "with open(r'C:\\Users\\Artemiy\\Repo_python\\Folder_test\\new_test.txt', mode = 'wb') as f:\n",
    "    \n",
    "    g = b'\\xd1\\xe5\\xea\\xf0\\xe5\\xf2\\xed\\xee\\xe5 \\xf1\\xeb\\xee\\xe2\\xee: \\xef\\xf3\\xf5\\xee\\xe2\\xe8\\xf7\\xee\\xea'\n",
    "    #print(g)\n",
    "    #with open(os.path.join(toFile, name_of_file), mode = 'w+') as ff:\n",
    "    f.write(g)\n",
    "with open(r'C:\\Users\\Artemiy\\Repo_python\\Folder_test\\new_test.txt', encoding='cp1251', mode = 'r') as ff:\n",
    "    k = ff.read()\n",
    "    print(k)"
   ]
  },
  {
   "cell_type": "code",
   "execution_count": 24,
   "id": "27c63e7d-9b37-4712-a039-e772c079edb5",
   "metadata": {},
   "outputs": [
    {
     "data": {
      "text/plain": [
       "0"
      ]
     },
     "execution_count": 24,
     "metadata": {},
     "output_type": "execute_result"
    }
   ],
   "source": [
    "class Solution:\n",
    "    def mySqrt(self, x: int):\n",
    "        #x = input('x equals ')\n",
    "        if int(x) >= 0:\n",
    "            for i in range(0,int(x)+1):\n",
    "                if i*i <= int(x) and (i+1)*(i+1) > int(x):\n",
    "                    \n",
    "                    return int(i)\n",
    "                    break\n",
    "            \n",
    "        else:\n",
    "            print('else')\n",
    "            return False\n",
    "        print('end')\n",
    "        \n",
    "Solution.mySqrt(1,0)"
   ]
  },
  {
   "cell_type": "code",
   "execution_count": 41,
   "id": "ad5519cb",
   "metadata": {},
   "outputs": [
    {
     "name": "stdout",
     "output_type": "stream",
     "text": [
      "[0, 0, 1, 1, 1, 1, 2, 2, 2, 4]\n"
     ]
    },
    {
     "data": {
      "text/plain": [
       "(4, [0, 1, 2, 4, 4, 4, 4, 4, 4, 4])"
      ]
     },
     "execution_count": 41,
     "metadata": {},
     "output_type": "execute_result"
    }
   ],
   "source": [
    "#Input: \n",
    "#nums = [0,0,1,1,1,2,2,3,3,4]\n",
    "nums = [0,0,1,1,1,1,2,2,2,4]\n",
    "print(nums)\n",
    "#Output: 5, nums = [0,1,2,3,4,_,_,_,_,_]\n",
    "class Solution:\n",
    "    def removeDuplicates(self, nums):\n",
    "        j=0\n",
    "        k=len(set(nums))\n",
    "        while j <= len(nums):\n",
    "            \n",
    "            for i in range(1,len(nums)-1):\n",
    "                if nums[i-1] == nums[i]:\n",
    "                    nums[i] = nums[i+1]\n",
    "                #print(nums)\n",
    "            j+=1\n",
    "                \n",
    "        return k, nums\n",
    "Solution.removeDuplicates(1,nums)"
   ]
  },
  {
   "cell_type": "code",
   "execution_count": 48,
   "id": "d3999248",
   "metadata": {},
   "outputs": [
    {
     "name": "stdout",
     "output_type": "stream",
     "text": [
      "[0, 0, 1, 1, 1, 1, 2, 2, 2, 4]\n"
     ]
    },
    {
     "data": {
      "text/plain": [
       "(4, [0, 1, 2, 4, 4, 4, 4, 4, 4, 4])"
      ]
     },
     "execution_count": 48,
     "metadata": {},
     "output_type": "execute_result"
    }
   ],
   "source": [
    "#Input: \n",
    "#nums = [0,0,1,1,1,2,2,3,3,4]\n",
    "nums = [0,0,1,1,1,1,2,2,2,4]\n",
    "print(nums)\n",
    "#Output: 5, nums = [0,1,2,3,4,_,_,_,_,_]\n",
    "class Solution:\n",
    "    def removeDuplicates(self, nums):\n",
    "        j = min(nums)\n",
    "        m = max(nums)\n",
    "        k=len(set(nums))\n",
    "        for i in range(1,len(nums)):\n",
    "            if nums[i] == j: #== nums[i+1] or:\n",
    "                nums[i] = m\n",
    "            else:\n",
    "                j = nums[i]\n",
    "        nums.sort()        \n",
    "        return k, nums\n",
    "Solution.removeDuplicates(1,nums)"
   ]
  },
  {
   "cell_type": "code",
   "execution_count": null,
   "id": "6491ba13",
   "metadata": {},
   "outputs": [],
   "source": []
  }
 ],
 "metadata": {
  "kernelspec": {
   "display_name": "Python 3 (ipykernel)",
   "language": "python",
   "name": "python3"
  },
  "language_info": {
   "codemirror_mode": {
    "name": "ipython",
    "version": 3
   },
   "file_extension": ".py",
   "mimetype": "text/x-python",
   "name": "python",
   "nbconvert_exporter": "python",
   "pygments_lexer": "ipython3",
   "version": "3.9.7"
  }
 },
 "nbformat": 4,
 "nbformat_minor": 5
}
