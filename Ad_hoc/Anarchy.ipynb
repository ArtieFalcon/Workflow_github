{
 "cells": [
  {
   "cell_type": "code",
   "execution_count": 1,
   "id": "f2e6b86d-e330-4646-88e9-23d57bfd1cc9",
   "metadata": {},
   "outputs": [
    {
     "name": "stdout",
     "output_type": "stream",
     "text": [
      "\t\t\u001b[1mAnarchy\u001b[0m\n",
      " A story of a boy who became as free as wind...\n",
      "    \tHe was an ordinary young boy without a past. He was told of course, and many times that time itself exists. But he never believed. Big scintists \n",
      "    and old wise men had been repeting all the time and all the same. Reels and Stories went by. Life was full of events: bright colorful days \n",
      "    changed more colorful nights, stars felt on hands of new generation true dreamers. Sun raised every single day exept this one. It seems \n",
      "    like it was too late to raise, everybody didn't want to notice this circumstance. \n",
      "    They had no time they had no a single second to stay and think about the Sun. Except him. He had time, enought.\n",
      "    \n"
     ]
    }
   ],
   "source": [
    "import os.path #Create and Save file\n",
    "with open (r'C:\\Users\\Artemiy\\Repo_python\\creations\\Anarchy of Taganka.txt', encoding='utf-8', mode = 'w+') as f:\n",
    "    name_of_file = \"Anarchy.txt\" #\"As free as wind\"\n",
    "    #f.seek(0)\n",
    "    g = '\\t\\t' + '\\033[1m' + 'Anarchy' + '\\033[0m' +'\\n A story of a boy who became as free as wind...' +    '''\n",
    "    \\tHe was an ordinary young boy without a past. He was told of course, and many times that time itself exists. But he never believed. Big scintists \n",
    "    and old wise men had been repeting all the time and all the same. Reels and Stories went by. Life was full of events: bright colorful days \n",
    "    changed more colorful nights, stars felt on hands of new generation true dreamers. Sun raised every single day exept this one. It seems \n",
    "    like it was too late to raise, everybody didn't want to notice this circumstance. \n",
    "    They had no time they had no a single second to stay and think about the Sun. Except him. He had time, enought.\n",
    "    '''\n",
    "    #print(g)\n",
    "    #with open(os.path.join(toFile, name_of_file), mode = 'w+') as ff:\n",
    "    f.write(g)\n",
    "    #completeName = os.path.join(toFile, name_of_file+\".csv\")    \n",
    "with open (r'C:\\Users\\Artemiy\\Repo_python\\creations\\Anarchy of Taganka.txt', encoding='utf-8', mode = 'r') as f:\n",
    "    h = f.read()\n",
    "    print(h)"
   ]
  },
  {
   "cell_type": "code",
   "execution_count": null,
   "id": "1fd8d1bf-d0c5-422f-b3f2-d3e0927a66e0",
   "metadata": {},
   "outputs": [],
   "source": []
  }
 ],
 "metadata": {
  "kernelspec": {
   "display_name": "Python 3 (ipykernel)",
   "language": "python",
   "name": "python3"
  },
  "language_info": {
   "codemirror_mode": {
    "name": "ipython",
    "version": 3
   },
   "file_extension": ".py",
   "mimetype": "text/x-python",
   "name": "python",
   "nbconvert_exporter": "python",
   "pygments_lexer": "ipython3",
   "version": "3.9.7"
  }
 },
 "nbformat": 4,
 "nbformat_minor": 5
}
