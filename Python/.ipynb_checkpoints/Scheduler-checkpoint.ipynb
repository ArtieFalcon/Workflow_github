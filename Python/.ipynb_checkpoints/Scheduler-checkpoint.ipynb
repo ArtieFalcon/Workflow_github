{
 "cells": [
  {
   "cell_type": "markdown",
   "id": "6b4e6add",
   "metadata": {},
   "source": [
    "# Library Schedule"
   ]
  },
  {
   "cell_type": "code",
   "execution_count": null,
   "id": "a3c43f8f",
   "metadata": {},
   "outputs": [],
   "source": [
    "#if needed: !pip3 install schedule"
   ]
  },
  {
   "cell_type": "code",
   "execution_count": 20,
   "id": "c357203e",
   "metadata": {},
   "outputs": [
    {
     "name": "stderr",
     "output_type": "stream",
     "text": [
      "--- Logging error ---\n",
      "Traceback (most recent call last):\n",
      "  File \"C:\\Users\\Artemiy\\anaconda3_new\\lib\\logging\\__init__.py\", line 434, in format\n",
      "    return self._format(record)\n",
      "  File \"C:\\Users\\Artemiy\\anaconda3_new\\lib\\logging\\__init__.py\", line 430, in _format\n",
      "    return self._fmt % record.__dict__\n",
      "KeyError: 'level'\n",
      "\n",
      "During handling of the above exception, another exception occurred:\n",
      "\n",
      "Traceback (most recent call last):\n",
      "  File \"C:\\Users\\Artemiy\\anaconda3_new\\lib\\logging\\__init__.py\", line 1083, in emit\n",
      "    msg = self.format(record)\n",
      "  File \"C:\\Users\\Artemiy\\anaconda3_new\\lib\\logging\\__init__.py\", line 927, in format\n",
      "    return fmt.format(record)\n",
      "  File \"C:\\Users\\Artemiy\\anaconda3_new\\lib\\logging\\__init__.py\", line 666, in format\n",
      "    s = self.formatMessage(record)\n",
      "  File \"C:\\Users\\Artemiy\\anaconda3_new\\lib\\logging\\__init__.py\", line 635, in formatMessage\n",
      "    return self._style.format(record)\n",
      "  File \"C:\\Users\\Artemiy\\anaconda3_new\\lib\\logging\\__init__.py\", line 436, in format\n",
      "    raise ValueError('Formatting field not found in record: %s' % e)\n",
      "ValueError: Formatting field not found in record: 'level'\n",
      "Call stack:\n",
      "  File \"C:\\Users\\Artemiy\\anaconda3_new\\lib\\runpy.py\", line 197, in _run_module_as_main\n",
      "    return _run_code(code, main_globals, None,\n",
      "  File \"C:\\Users\\Artemiy\\anaconda3_new\\lib\\runpy.py\", line 87, in _run_code\n",
      "    exec(code, run_globals)\n",
      "  File \"C:\\Users\\Artemiy\\anaconda3_new\\lib\\site-packages\\ipykernel_launcher.py\", line 16, in <module>\n",
      "    app.launch_new_instance()\n",
      "  File \"C:\\Users\\Artemiy\\anaconda3_new\\lib\\site-packages\\traitlets\\config\\application.py\", line 846, in launch_instance\n",
      "    app.start()\n",
      "  File \"C:\\Users\\Artemiy\\anaconda3_new\\lib\\site-packages\\ipykernel\\kernelapp.py\", line 677, in start\n",
      "    self.io_loop.start()\n",
      "  File \"C:\\Users\\Artemiy\\anaconda3_new\\lib\\site-packages\\tornado\\platform\\asyncio.py\", line 199, in start\n",
      "    self.asyncio_loop.run_forever()\n",
      "  File \"C:\\Users\\Artemiy\\anaconda3_new\\lib\\asyncio\\base_events.py\", line 596, in run_forever\n",
      "    self._run_once()\n",
      "  File \"C:\\Users\\Artemiy\\anaconda3_new\\lib\\asyncio\\base_events.py\", line 1890, in _run_once\n",
      "    handle._run()\n",
      "  File \"C:\\Users\\Artemiy\\anaconda3_new\\lib\\asyncio\\events.py\", line 80, in _run\n",
      "    self._context.run(self._callback, *self._args)\n",
      "  File \"C:\\Users\\Artemiy\\anaconda3_new\\lib\\site-packages\\ipykernel\\kernelbase.py\", line 457, in dispatch_queue\n",
      "    await self.process_one()\n",
      "  File \"C:\\Users\\Artemiy\\anaconda3_new\\lib\\site-packages\\ipykernel\\kernelbase.py\", line 446, in process_one\n",
      "    await dispatch(*args)\n",
      "  File \"C:\\Users\\Artemiy\\anaconda3_new\\lib\\site-packages\\ipykernel\\kernelbase.py\", line 353, in dispatch_shell\n",
      "    await result\n",
      "  File \"C:\\Users\\Artemiy\\anaconda3_new\\lib\\site-packages\\ipykernel\\kernelbase.py\", line 648, in execute_request\n",
      "    reply_content = await reply_content\n",
      "  File \"C:\\Users\\Artemiy\\anaconda3_new\\lib\\site-packages\\ipykernel\\ipkernel.py\", line 353, in do_execute\n",
      "    res = shell.run_cell(code, store_history=store_history, silent=silent)\n",
      "  File \"C:\\Users\\Artemiy\\anaconda3_new\\lib\\site-packages\\ipykernel\\zmqshell.py\", line 533, in run_cell\n",
      "    return super(ZMQInteractiveShell, self).run_cell(*args, **kwargs)\n",
      "  File \"C:\\Users\\Artemiy\\anaconda3_new\\lib\\site-packages\\IPython\\core\\interactiveshell.py\", line 2901, in run_cell\n",
      "    result = self._run_cell(\n",
      "  File \"C:\\Users\\Artemiy\\anaconda3_new\\lib\\site-packages\\IPython\\core\\interactiveshell.py\", line 2947, in _run_cell\n",
      "    return runner(coro)\n",
      "  File \"C:\\Users\\Artemiy\\anaconda3_new\\lib\\site-packages\\IPython\\core\\async_helpers.py\", line 68, in _pseudo_sync_runner\n",
      "    coro.send(None)\n",
      "  File \"C:\\Users\\Artemiy\\anaconda3_new\\lib\\site-packages\\IPython\\core\\interactiveshell.py\", line 3172, in run_cell_async\n",
      "    has_raised = await self.run_ast_nodes(code_ast.body, cell_name,\n",
      "  File \"C:\\Users\\Artemiy\\anaconda3_new\\lib\\site-packages\\IPython\\core\\interactiveshell.py\", line 3364, in run_ast_nodes\n",
      "    if (await self.run_code(code, result,  async_=asy)):\n",
      "  File \"C:\\Users\\Artemiy\\anaconda3_new\\lib\\site-packages\\IPython\\core\\interactiveshell.py\", line 3444, in run_code\n",
      "    exec(code_obj, self.user_global_ns, self.user_ns)\n",
      "  File \"C:\\Users\\Artemiy\\AppData\\Local\\Temp/ipykernel_11904/2566791141.py\", line 21, in <module>\n",
      "    logging.info('win-win')\n",
      "Message: 'win-win'\n",
      "Arguments: ()\n"
     ]
    },
    {
     "name": "stdout",
     "output_type": "stream",
     "text": [
      "Hello, World! 2023-02-06 17:48:50.588719\n",
      "Hello, World! 2023-02-06 17:49:02.630939\n",
      "Hello, World! 2023-02-06 17:49:14.669396\n",
      "Hello, World! 2023-02-06 17:49:26.707417\n",
      "Hello, World! 2023-02-06 17:49:38.739547\n",
      "Hello, World! 2023-02-06 17:49:50.767285\n",
      "Hello, World! 2023-02-06 17:50:02.805628\n",
      "Hello, World! 2023-02-06 17:50:14.842832\n",
      "Hello, World! 2023-02-06 17:50:26.876839\n",
      "Hello, World! 2023-02-06 17:50:38.903565\n",
      "Hello, World! 2023-02-06 17:50:50.941728\n",
      "Hello, World! 2023-02-06 17:51:02.980258\n",
      "Hello, World! 2023-02-06 17:51:15.018085\n",
      "Hello, World! 2023-02-06 17:51:27.039561\n",
      "Hello, World! 2023-02-06 17:51:39.077908\n",
      "Hello, World! 2023-02-06 17:51:51.116175\n",
      "Hello, World! 2023-02-06 17:52:03.153769\n",
      "Hello, World! 2023-02-06 17:52:15.172868\n",
      "Hello, World! 2023-02-06 17:52:27.212209\n",
      "Hello, World! 2023-02-06 17:52:39.252535\n",
      "Hello, World! 2023-02-06 17:52:51.291137\n",
      "Hello, World! 2023-02-06 17:53:03.321734\n",
      "Hello, World! 2023-02-06 17:53:15.350666\n",
      "Hello, World! 2023-02-06 17:53:27.388993\n",
      "Hello, World! 2023-02-06 17:53:39.427033\n",
      "Hello, World! 2023-02-06 17:53:51.465003\n",
      "Hello, World! 2023-02-06 17:54:03.487427\n",
      "Hello, World! 2023-02-06 17:54:15.525238\n",
      "Hello, World! 2023-02-06 17:54:27.563528\n",
      "Hello, World! 2023-02-06 17:54:39.601698\n",
      "Hello, World! 2023-02-06 17:54:51.636258\n",
      "Hello, World! 2023-02-06 17:55:03.678161\n",
      "Hello, World! 2023-02-06 17:55:15.712067\n"
     ]
    },
    {
     "ename": "KeyboardInterrupt",
     "evalue": "",
     "output_type": "error",
     "traceback": [
      "\u001b[1;31m---------------------------------------------------------------------------\u001b[0m",
      "\u001b[1;31mKeyboardInterrupt\u001b[0m                         Traceback (most recent call last)",
      "\u001b[1;32m~\\AppData\\Local\\Temp/ipykernel_11904/2566791141.py\u001b[0m in \u001b[0;36m<module>\u001b[1;34m\u001b[0m\n\u001b[0;32m     24\u001b[0m     \u001b[1;32mwhile\u001b[0m \u001b[1;32mTrue\u001b[0m\u001b[1;33m:\u001b[0m\u001b[1;33m\u001b[0m\u001b[1;33m\u001b[0m\u001b[0m\n\u001b[0;32m     25\u001b[0m         \u001b[0mschedule\u001b[0m\u001b[1;33m.\u001b[0m\u001b[0mrun_pending\u001b[0m\u001b[1;33m(\u001b[0m\u001b[1;33m)\u001b[0m\u001b[1;33m\u001b[0m\u001b[1;33m\u001b[0m\u001b[0m\n\u001b[1;32m---> 26\u001b[1;33m         \u001b[0mtime\u001b[0m\u001b[1;33m.\u001b[0m\u001b[0msleep\u001b[0m\u001b[1;33m(\u001b[0m\u001b[1;36m4\u001b[0m\u001b[1;33m)\u001b[0m\u001b[1;33m\u001b[0m\u001b[1;33m\u001b[0m\u001b[0m\n\u001b[0m\u001b[0;32m     27\u001b[0m \u001b[1;32mexcept\u001b[0m \u001b[0mKeyError\u001b[0m\u001b[1;33m:\u001b[0m\u001b[1;33m\u001b[0m\u001b[1;33m\u001b[0m\u001b[0m\n\u001b[0;32m     28\u001b[0m     \u001b[0mlogging\u001b[0m\u001b[1;33m.\u001b[0m\u001b[0mexception\u001b[0m\u001b[1;33m(\u001b[0m\u001b[1;34m'any text'\u001b[0m\u001b[1;33m)\u001b[0m \u001b[1;31m# -Writing error log from output to a file\u001b[0m\u001b[1;33m\u001b[0m\u001b[1;33m\u001b[0m\u001b[0m\n",
      "\u001b[1;31mKeyboardInterrupt\u001b[0m: "
     ]
    }
   ],
   "source": [
    "import schedule\n",
    "import time\n",
    "import logging\n",
    "import datetime\n",
    "\n",
    "schedule.clear()\n",
    "\n",
    "logging.basicConfig(filename = 'log_file.log', filemode = 'w', format = '%(asctime)s, %(level)s, %(message)s', level = logging.INFO)\n",
    "\n",
    "def hello_world():\n",
    "    print('Hello, World!', datetime.datetime.now())\n",
    "    \n",
    "schedule.every(10).seconds.do(hello_world) # or if parameters needed: schedule.every(6).seconds.do(hello_world, arg_1 = x, arg_2 = y...)\n",
    "\n",
    "    #examples:\n",
    "    #schedule.every(10).minutes.do(job)\n",
    "    #schedule.every().hour.do(job)\n",
    "    #schedule.every().day.at('10:30').do(job) ... etc\n",
    "    \n",
    "#here is a build-in Logger, if detalization of this logger is enough - there is no need for next string\n",
    "logging.info('win-win')\n",
    "\n",
    "try:\n",
    "    while True:\n",
    "        schedule.run_pending()\n",
    "        time.sleep(4)\n",
    "except KeyError:\n",
    "    logging.exception('any text') # -Writing error log from output to a file\n",
    "\n"
   ]
  },
  {
   "cell_type": "code",
   "execution_count": 9,
   "id": "df5819bb",
   "metadata": {},
   "outputs": [
    {
     "name": "stdout",
     "output_type": "stream",
     "text": [
      "Collecting schedule\n",
      "  Using cached schedule-1.1.0-py2.py3-none-any.whl (10 kB)\n",
      "Installing collected packages: schedule\n",
      "Successfully installed schedule-1.1.0\n"
     ]
    }
   ],
   "source": [
    "!pip3 install schedule"
   ]
  },
  {
   "cell_type": "markdown",
   "id": "190109d8",
   "metadata": {},
   "source": [
    "# Library Sched"
   ]
  },
  {
   "cell_type": "code",
   "execution_count": null,
   "id": "7a4cb4f3",
   "metadata": {},
   "outputs": [],
   "source": [
    "import sched, time, datetime\n",
    "import logging\n",
    "\n",
    "#Logger Initializing \n",
    "logging.basicConfig(filename = 'log.log', filemode = 'w', format = '%(asctime)s, %(level)s, %(message)s', level = logging.INFO)\n",
    "\n",
    "def hello_world():\n",
    "    print('hello bro')\n",
    "    \n",
    "s = sched.scheduler(time.time, time.sleep)\n",
    "\n",
    "#if exact time schould be set\n",
    "#date = datetime.datetime(2023, 11, 16, 11, 50, 50)\n",
    "\n",
    "#Making parameter via datetime.now()\n",
    "date = datetime.datetime.now()\n",
    "# Unix timestamp doesnt support milliseconds - let's avoid them\n",
    "date = date.replace(microsecond = 0)\n",
    "date += datetime.timedelta(seconds = 5)\n",
    "\n",
    "try: \n",
    "    while True:\n",
    "        time_to_run = time.mktime(time.strptime(str(date), '%Y-%m-%d %H:%M:%S'))\n",
    "        # in this lib there is no build-in logger, nessesary logging atributes needed to be set:\n",
    "        logging.info('start run is' + str(date))\n",
    "        s.enterabs(time_to_run, 1, hello_world)\n",
    "        s.run()\n",
    "        \n",
    "        date += datetime.timedelta(seconds =5)\n",
    "except:\n",
    "    logging.exception('any text') # - it will write error code from output to file\n",
    "    \n"
   ]
  }
 ],
 "metadata": {
  "kernelspec": {
   "display_name": "Python 3 (ipykernel)",
   "language": "python",
   "name": "python3"
  },
  "language_info": {
   "codemirror_mode": {
    "name": "ipython",
    "version": 3
   },
   "file_extension": ".py",
   "mimetype": "text/x-python",
   "name": "python",
   "nbconvert_exporter": "python",
   "pygments_lexer": "ipython3",
   "version": "3.9.7"
  }
 },
 "nbformat": 4,
 "nbformat_minor": 5
}
