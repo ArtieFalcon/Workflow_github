{
 "cells": [
  {
   "cell_type": "code",
   "execution_count": 1,
   "id": "87675fa4-94c3-4d5a-9b81-c3412ac46ab6",
   "metadata": {},
   "outputs": [
    {
     "name": "stdout",
     "output_type": "stream",
     "text": [
      "hello world\n"
     ]
    }
   ],
   "source": [
    "import numpy as np\n",
    "print('hello world')"
   ]
  },
  {
   "cell_type": "code",
   "execution_count": 2,
   "id": "86041f26-1220-4677-a0cd-07d13d54f269",
   "metadata": {},
   "outputs": [
    {
     "name": "stdout",
     "output_type": "stream",
     "text": [
      "additional\n"
     ]
    }
   ],
   "source": [
    "print('additional')"
   ]
  },
  {
   "cell_type": "code",
   "execution_count": 2,
   "id": "c093f501-fdfe-44d9-9aa3-5fb3a7ea34af",
   "metadata": {},
   "outputs": [],
   "source": [
    "import pandas as pd"
   ]
  },
  {
   "cell_type": "code",
   "execution_count": 3,
   "id": "c1d1dc03-5fbc-46c3-9e99-236b59f34555",
   "metadata": {},
   "outputs": [
    {
     "data": {
      "text/html": [
       "<div>\n",
       "<style scoped>\n",
       "    .dataframe tbody tr th:only-of-type {\n",
       "        vertical-align: middle;\n",
       "    }\n",
       "\n",
       "    .dataframe tbody tr th {\n",
       "        vertical-align: top;\n",
       "    }\n",
       "\n",
       "    .dataframe thead th {\n",
       "        text-align: right;\n",
       "    }\n",
       "</style>\n",
       "<table border=\"1\" class=\"dataframe\">\n",
       "  <thead>\n",
       "    <tr style=\"text-align: right;\">\n",
       "      <th></th>\n",
       "      <th>Unnamed: 0</th>\n",
       "      <th>Name</th>\n",
       "      <th>Age</th>\n",
       "      <th>Nationality</th>\n",
       "      <th>Club</th>\n",
       "      <th>Value</th>\n",
       "      <th>Wage</th>\n",
       "      <th>Position</th>\n",
       "      <th>Crossing</th>\n",
       "      <th>Finishing</th>\n",
       "      <th>...</th>\n",
       "      <th>Penalties</th>\n",
       "      <th>Composure</th>\n",
       "      <th>Marking</th>\n",
       "      <th>StandingTackle</th>\n",
       "      <th>SlidingTackle</th>\n",
       "      <th>GKDiving</th>\n",
       "      <th>GKHandling</th>\n",
       "      <th>GKKicking</th>\n",
       "      <th>GKPositioning</th>\n",
       "      <th>GKReflexes</th>\n",
       "    </tr>\n",
       "  </thead>\n",
       "  <tbody>\n",
       "    <tr>\n",
       "      <th>12893</th>\n",
       "      <td>13122</td>\n",
       "      <td>N. Christoffersson</td>\n",
       "      <td>19</td>\n",
       "      <td>Sweden</td>\n",
       "      <td>Trelleborgs FF</td>\n",
       "      <td>60000</td>\n",
       "      <td>1000</td>\n",
       "      <td>ST</td>\n",
       "      <td>23</td>\n",
       "      <td>52</td>\n",
       "      <td>...</td>\n",
       "      <td>43</td>\n",
       "      <td>42</td>\n",
       "      <td>22</td>\n",
       "      <td>15</td>\n",
       "      <td>19</td>\n",
       "      <td>10</td>\n",
       "      <td>9</td>\n",
       "      <td>9</td>\n",
       "      <td>5</td>\n",
       "      <td>12</td>\n",
       "    </tr>\n",
       "    <tr>\n",
       "      <th>12894</th>\n",
       "      <td>13123</td>\n",
       "      <td>B. Worman</td>\n",
       "      <td>16</td>\n",
       "      <td>England</td>\n",
       "      <td>Cambridge United</td>\n",
       "      <td>60000</td>\n",
       "      <td>1000</td>\n",
       "      <td>ST</td>\n",
       "      <td>25</td>\n",
       "      <td>40</td>\n",
       "      <td>...</td>\n",
       "      <td>55</td>\n",
       "      <td>41</td>\n",
       "      <td>32</td>\n",
       "      <td>13</td>\n",
       "      <td>11</td>\n",
       "      <td>6</td>\n",
       "      <td>5</td>\n",
       "      <td>10</td>\n",
       "      <td>6</td>\n",
       "      <td>13</td>\n",
       "    </tr>\n",
       "    <tr>\n",
       "      <th>12895</th>\n",
       "      <td>13124</td>\n",
       "      <td>D. Walker-Rice</td>\n",
       "      <td>17</td>\n",
       "      <td>England</td>\n",
       "      <td>Tranmere Rovers</td>\n",
       "      <td>60000</td>\n",
       "      <td>1000</td>\n",
       "      <td>RW</td>\n",
       "      <td>44</td>\n",
       "      <td>50</td>\n",
       "      <td>...</td>\n",
       "      <td>50</td>\n",
       "      <td>46</td>\n",
       "      <td>20</td>\n",
       "      <td>25</td>\n",
       "      <td>27</td>\n",
       "      <td>14</td>\n",
       "      <td>6</td>\n",
       "      <td>14</td>\n",
       "      <td>8</td>\n",
       "      <td>9</td>\n",
       "    </tr>\n",
       "    <tr>\n",
       "      <th>12896</th>\n",
       "      <td>13125</td>\n",
       "      <td>G. Nugent</td>\n",
       "      <td>16</td>\n",
       "      <td>England</td>\n",
       "      <td>Tranmere Rovers</td>\n",
       "      <td>60000</td>\n",
       "      <td>1000</td>\n",
       "      <td>CM</td>\n",
       "      <td>41</td>\n",
       "      <td>34</td>\n",
       "      <td>...</td>\n",
       "      <td>33</td>\n",
       "      <td>43</td>\n",
       "      <td>40</td>\n",
       "      <td>43</td>\n",
       "      <td>50</td>\n",
       "      <td>10</td>\n",
       "      <td>15</td>\n",
       "      <td>9</td>\n",
       "      <td>12</td>\n",
       "      <td>9</td>\n",
       "    </tr>\n",
       "  </tbody>\n",
       "</table>\n",
       "<p>4 rows × 42 columns</p>\n",
       "</div>"
      ],
      "text/plain": [
       "       Unnamed: 0                Name  Age Nationality              Club  \\\n",
       "12893       13122  N. Christoffersson   19      Sweden    Trelleborgs FF   \n",
       "12894       13123           B. Worman   16     England  Cambridge United   \n",
       "12895       13124      D. Walker-Rice   17     England   Tranmere Rovers   \n",
       "12896       13125           G. Nugent   16     England   Tranmere Rovers   \n",
       "\n",
       "       Value  Wage Position  Crossing  Finishing  ...  Penalties  Composure  \\\n",
       "12893  60000  1000       ST        23         52  ...         43         42   \n",
       "12894  60000  1000       ST        25         40  ...         55         41   \n",
       "12895  60000  1000       RW        44         50  ...         50         46   \n",
       "12896  60000  1000       CM        41         34  ...         33         43   \n",
       "\n",
       "       Marking  StandingTackle  SlidingTackle  GKDiving  GKHandling  \\\n",
       "12893       22              15             19        10           9   \n",
       "12894       32              13             11         6           5   \n",
       "12895       20              25             27        14           6   \n",
       "12896       40              43             50        10          15   \n",
       "\n",
       "       GKKicking  GKPositioning  GKReflexes  \n",
       "12893          9              5          12  \n",
       "12894         10              6          13  \n",
       "12895         14              8           9  \n",
       "12896          9             12           9  \n",
       "\n",
       "[4 rows x 42 columns]"
      ]
     },
     "metadata": {},
     "output_type": "display_data"
    }
   ],
   "source": [
    "df=pd.read_csv('data_sf.csv', sep=',')\n",
    "display(df.tail(4))"
   ]
  },
  {
   "cell_type": "code",
   "execution_count": 17,
   "id": "d1d0981e-99fc-4850-9565-307d005f563b",
   "metadata": {},
   "outputs": [
    {
     "name": "stdout",
     "output_type": "stream",
     "text": [
      "<class 'pandas.core.frame.DataFrame'>\n",
      "RangeIndex: 12897 entries, 0 to 12896\n",
      "Data columns (total 42 columns):\n",
      " #   Column           Non-Null Count  Dtype \n",
      "---  ------           --------------  ----- \n",
      " 0   Unnamed: 0       12897 non-null  int64 \n",
      " 1   Name             12897 non-null  object\n",
      " 2   Age              12897 non-null  int64 \n",
      " 3   Nationality      12897 non-null  object\n",
      " 4   Club             12897 non-null  object\n",
      " 5   Value            12897 non-null  int64 \n",
      " 6   Wage             12897 non-null  int64 \n",
      " 7   Position         12897 non-null  object\n",
      " 8   Crossing         12897 non-null  int64 \n",
      " 9   Finishing        12897 non-null  int64 \n",
      " 10  HeadingAccuracy  12897 non-null  int64 \n",
      " 11  ShortPassing     12897 non-null  int64 \n",
      " 12  Volleys          12897 non-null  int64 \n",
      " 13  Dribbling        12897 non-null  int64 \n",
      " 14  Curve            12897 non-null  int64 \n",
      " 15  FKAccuracy       12897 non-null  int64 \n",
      " 16  LongPassing      12897 non-null  int64 \n",
      " 17  BallControl      12897 non-null  int64 \n",
      " 18  Acceleration     12897 non-null  int64 \n",
      " 19  SprintSpeed      12897 non-null  int64 \n",
      " 20  Agility          12897 non-null  int64 \n",
      " 21  Reactions        12897 non-null  int64 \n",
      " 22  Balance          12897 non-null  int64 \n",
      " 23  ShotPower        12897 non-null  int64 \n",
      " 24  Jumping          12897 non-null  int64 \n",
      " 25  Stamina          12897 non-null  int64 \n",
      " 26  Strength         12897 non-null  int64 \n",
      " 27  LongShots        12897 non-null  int64 \n",
      " 28  Aggression       12897 non-null  int64 \n",
      " 29  Interceptions    12897 non-null  int64 \n",
      " 30  Positioning      12897 non-null  int64 \n",
      " 31  Vision           12897 non-null  int64 \n",
      " 32  Penalties        12897 non-null  int64 \n",
      " 33  Composure        12897 non-null  int64 \n",
      " 34  Marking          12897 non-null  int64 \n",
      " 35  StandingTackle   12897 non-null  int64 \n",
      " 36  SlidingTackle    12897 non-null  int64 \n",
      " 37  GKDiving         12897 non-null  int64 \n",
      " 38  GKHandling       12897 non-null  int64 \n",
      " 39  GKKicking        12897 non-null  int64 \n",
      " 40  GKPositioning    12897 non-null  int64 \n",
      " 41  GKReflexes       12897 non-null  int64 \n",
      "dtypes: int64(38), object(4)\n",
      "memory usage: 4.1+ MB\n"
     ]
    },
    {
     "data": {
      "text/plain": [
       "None"
      ]
     },
     "metadata": {},
     "output_type": "display_data"
    }
   ],
   "source": [
    "display(df.info())"
   ]
  },
  {
   "cell_type": "code",
   "execution_count": 18,
   "id": "fb9805a6-d2b8-43c3-825e-3b7fd8b89a26",
   "metadata": {},
   "outputs": [
    {
     "name": "stdout",
     "output_type": "stream",
     "text": [
      "0        42\n",
      "1        42\n",
      "2        42\n",
      "3        42\n",
      "4        42\n",
      "         ..\n",
      "12892    42\n",
      "12893    42\n",
      "12894    42\n",
      "12895    42\n",
      "12896    42\n",
      "Length: 12897, dtype: int64\n"
     ]
    }
   ],
   "source": [
    "print(df.count(axis='columns')) #columns quantity"
   ]
  },
  {
   "cell_type": "code",
   "execution_count": 32,
   "id": "3c0a15f5-b5fe-4dcc-b261-151351c3c8b8",
   "metadata": {},
   "outputs": [
    {
     "data": {
      "text/html": [
       "<div>\n",
       "<style scoped>\n",
       "    .dataframe tbody tr th:only-of-type {\n",
       "        vertical-align: middle;\n",
       "    }\n",
       "\n",
       "    .dataframe tbody tr th {\n",
       "        vertical-align: top;\n",
       "    }\n",
       "\n",
       "    .dataframe thead th {\n",
       "        text-align: right;\n",
       "    }\n",
       "</style>\n",
       "<table border=\"1\" class=\"dataframe\">\n",
       "  <thead>\n",
       "    <tr style=\"text-align: right;\">\n",
       "      <th></th>\n",
       "      <th>Age</th>\n",
       "      <th>Wage</th>\n",
       "      <th>Penalties</th>\n",
       "    </tr>\n",
       "  </thead>\n",
       "  <tbody>\n",
       "    <tr>\n",
       "      <th>count</th>\n",
       "      <td>12897.000000</td>\n",
       "      <td>12897.000000</td>\n",
       "      <td>12897.000000</td>\n",
       "    </tr>\n",
       "    <tr>\n",
       "      <th>mean</th>\n",
       "      <td>24.795379</td>\n",
       "      <td>7517.562224</td>\n",
       "      <td>46.459874</td>\n",
       "    </tr>\n",
       "    <tr>\n",
       "      <th>std</th>\n",
       "      <td>4.872212</td>\n",
       "      <td>23061.985387</td>\n",
       "      <td>15.479313</td>\n",
       "    </tr>\n",
       "    <tr>\n",
       "      <th>min</th>\n",
       "      <td>16.000000</td>\n",
       "      <td>1000.000000</td>\n",
       "      <td>5.000000</td>\n",
       "    </tr>\n",
       "    <tr>\n",
       "      <th>25%</th>\n",
       "      <td>21.000000</td>\n",
       "      <td>1000.000000</td>\n",
       "      <td>37.000000</td>\n",
       "    </tr>\n",
       "    <tr>\n",
       "      <th>50%</th>\n",
       "      <td>24.000000</td>\n",
       "      <td>2000.000000</td>\n",
       "      <td>47.000000</td>\n",
       "    </tr>\n",
       "    <tr>\n",
       "      <th>75%</th>\n",
       "      <td>28.000000</td>\n",
       "      <td>4000.000000</td>\n",
       "      <td>58.000000</td>\n",
       "    </tr>\n",
       "    <tr>\n",
       "      <th>max</th>\n",
       "      <td>45.000000</td>\n",
       "      <td>565000.000000</td>\n",
       "      <td>91.000000</td>\n",
       "    </tr>\n",
       "  </tbody>\n",
       "</table>\n",
       "</div>"
      ],
      "text/plain": [
       "                Age           Wage     Penalties\n",
       "count  12897.000000   12897.000000  12897.000000\n",
       "mean      24.795379    7517.562224     46.459874\n",
       "std        4.872212   23061.985387     15.479313\n",
       "min       16.000000    1000.000000      5.000000\n",
       "25%       21.000000    1000.000000     37.000000\n",
       "50%       24.000000    2000.000000     47.000000\n",
       "75%       28.000000    4000.000000     58.000000\n",
       "max       45.000000  565000.000000     91.000000"
      ]
     },
     "execution_count": 32,
     "metadata": {},
     "output_type": "execute_result"
    }
   ],
   "source": [
    "df[['Club','Age','Wage','Penalties']].describe() #statistics ONLY numerical columns!!"
   ]
  },
  {
   "cell_type": "code",
   "execution_count": 31,
   "id": "d4134876-d2c9-4529-a997-3ed3e9b88098",
   "metadata": {},
   "outputs": [
    {
     "data": {
      "text/html": [
       "<div>\n",
       "<style scoped>\n",
       "    .dataframe tbody tr th:only-of-type {\n",
       "        vertical-align: middle;\n",
       "    }\n",
       "\n",
       "    .dataframe tbody tr th {\n",
       "        vertical-align: top;\n",
       "    }\n",
       "\n",
       "    .dataframe thead th {\n",
       "        text-align: right;\n",
       "    }\n",
       "</style>\n",
       "<table border=\"1\" class=\"dataframe\">\n",
       "  <thead>\n",
       "    <tr style=\"text-align: right;\">\n",
       "      <th></th>\n",
       "      <th>Club</th>\n",
       "      <th>Nationality</th>\n",
       "    </tr>\n",
       "  </thead>\n",
       "  <tbody>\n",
       "    <tr>\n",
       "      <th>count</th>\n",
       "      <td>12897</td>\n",
       "      <td>12897</td>\n",
       "    </tr>\n",
       "    <tr>\n",
       "      <th>unique</th>\n",
       "      <td>650</td>\n",
       "      <td>156</td>\n",
       "    </tr>\n",
       "    <tr>\n",
       "      <th>top</th>\n",
       "      <td>V-Varen Nagasaki</td>\n",
       "      <td>England</td>\n",
       "    </tr>\n",
       "    <tr>\n",
       "      <th>freq</th>\n",
       "      <td>30</td>\n",
       "      <td>1368</td>\n",
       "    </tr>\n",
       "  </tbody>\n",
       "</table>\n",
       "</div>"
      ],
      "text/plain": [
       "                    Club Nationality\n",
       "count              12897       12897\n",
       "unique               650         156\n",
       "top     V-Varen Nagasaki     England\n",
       "freq                  30        1368"
      ]
     },
     "execution_count": 31,
     "metadata": {},
     "output_type": "execute_result"
    }
   ],
   "source": [
    "#statistics NON numerical columns!!\n",
    "df[['Club','Age','Wage','Nationality']].describe(include = ['object']) "
   ]
  },
  {
   "cell_type": "code",
   "execution_count": 7,
   "id": "5fa780cd-1f50-4ed0-a8e7-d60c336671d3",
   "metadata": {},
   "outputs": [
    {
     "name": "stdout",
     "output_type": "stream",
     "text": [
      "45 7517.56222377297 and 12897\n"
     ]
    }
   ],
   "source": [
    "print(df['Age'].max(), df['Wage'].mean(), 'and', df['Penalties'].count()) \n",
    "# count() - number of NOT NULL elements"
   ]
  },
  {
   "cell_type": "code",
   "execution_count": null,
   "id": "89db95f2-26e0-43fb-bb45-20795f43e591",
   "metadata": {},
   "outputs": [],
   "source": []
  },
  {
   "cell_type": "code",
   "execution_count": 31,
   "id": "e4223e99",
   "metadata": {},
   "outputs": [
    {
     "ename": "TypeError",
     "evalue": "'tuple' object is not callable",
     "output_type": "error",
     "traceback": [
      "\u001b[1;31m---------------------------------------------------------------------------\u001b[0m",
      "\u001b[1;31mTypeError\u001b[0m                                 Traceback (most recent call last)",
      "\u001b[1;32m~\\AppData\\Local\\Temp/ipykernel_19000/1249348598.py\u001b[0m in \u001b[0;36m<module>\u001b[1;34m\u001b[0m\n\u001b[0;32m     10\u001b[0m     \u001b[1;32mreturn\u001b[0m\u001b[1;33m\u001b[0m\u001b[1;33m\u001b[0m\u001b[0m\n\u001b[0;32m     11\u001b[0m \u001b[1;33m\u001b[0m\u001b[0m\n\u001b[1;32m---> 12\u001b[1;33m \u001b[0mwater\u001b[0m\u001b[1;33m(\u001b[0m\u001b[1;36m10\u001b[0m\u001b[1;33m)\u001b[0m\u001b[1;33m\u001b[0m\u001b[1;33m\u001b[0m\u001b[0m\n\u001b[0m",
      "\u001b[1;32m~\\AppData\\Local\\Temp/ipykernel_19000/1249348598.py\u001b[0m in \u001b[0;36mwater\u001b[1;34m(n)\u001b[0m\n\u001b[0;32m      3\u001b[0m     \u001b[1;32mimport\u001b[0m \u001b[0mnumpy\u001b[0m \u001b[1;32mas\u001b[0m \u001b[0mnp\u001b[0m\u001b[1;33m\u001b[0m\u001b[1;33m\u001b[0m\u001b[0m\n\u001b[0;32m      4\u001b[0m \u001b[1;31m#n=int(input())\u001b[0m\u001b[1;33m\u001b[0m\u001b[1;33m\u001b[0m\u001b[0m\n\u001b[1;32m----> 5\u001b[1;33m     \u001b[0mk\u001b[0m\u001b[1;33m=\u001b[0m\u001b[0mlist\u001b[0m\u001b[1;33m(\u001b[0m\u001b[0mrange\u001b[0m\u001b[1;33m(\u001b[0m\u001b[0mn\u001b[0m\u001b[1;33m,\u001b[0m\u001b[1;36m0\u001b[0m\u001b[1;33m,\u001b[0m\u001b[1;36m1\u001b[0m\u001b[1;33m)\u001b[0m\u001b[1;33m)\u001b[0m\u001b[1;33m\u001b[0m\u001b[1;33m\u001b[0m\u001b[0m\n\u001b[0m\u001b[0;32m      6\u001b[0m     \u001b[0mprint\u001b[0m\u001b[1;33m(\u001b[0m\u001b[0mk\u001b[0m\u001b[1;33m)\u001b[0m\u001b[1;33m\u001b[0m\u001b[1;33m\u001b[0m\u001b[0m\n\u001b[0;32m      7\u001b[0m     \u001b[0marr\u001b[0m\u001b[1;33m=\u001b[0m\u001b[0mnp\u001b[0m\u001b[1;33m.\u001b[0m\u001b[0mrandom\u001b[0m\u001b[1;33m.\u001b[0m\u001b[0mrandint\u001b[0m\u001b[1;33m(\u001b[0m\u001b[0mn\u001b[0m\u001b[1;33m,\u001b[0m \u001b[0msize\u001b[0m\u001b[1;33m=\u001b[0m\u001b[0mn\u001b[0m\u001b[1;33m)\u001b[0m\u001b[1;33m\u001b[0m\u001b[1;33m\u001b[0m\u001b[0m\n",
      "\u001b[1;31mTypeError\u001b[0m: 'tuple' object is not callable"
     ]
    }
   ],
   "source": [
    "#11. Container With Most Water\n",
    "def water(n):\n",
    "    import numpy as np\n",
    "#n=int(input())\n",
    "    k=list(range(n,0,1))\n",
    "    print(k)\n",
    "    arr=np.random.randint(n, size=n)\n",
    "    plt.bar(k, arr, tick_label = tick_label,\n",
    "    width = 0.8, color = ['green'])\n",
    "    return\n",
    "  \n",
    "water(10)"
   ]
  },
  {
   "cell_type": "code",
   "execution_count": 23,
   "id": "8f5f8d1b-8835-47e7-8ef7-ff274a6f45bd",
   "metadata": {},
   "outputs": [
    {
     "data": {
      "image/png": "iVBORw0KGgoAAAANSUhEUgAAAX4AAAEWCAYAAABhffzLAAAAOXRFWHRTb2Z0d2FyZQBNYXRwbG90bGliIHZlcnNpb24zLjQuMywgaHR0cHM6Ly9tYXRwbG90bGliLm9yZy/MnkTPAAAACXBIWXMAAAsTAAALEwEAmpwYAAAW+klEQVR4nO3de7RdZX3u8e8joCCghJMtRgGjFC8cPUTdRfHSeimWchwi9XihiDiqI46jHMXKUWqtwLGjYuutrZc2KIqCVLygVKuWgggoKEEDhsaKF1AxJUGqgNcm+Z0/1ty62NlJVkLmWuy8388Ya6x5XfM3d7Kf9e53zfXOVBWSpHbcbdIFSJLGy+CXpMYY/JLUGINfkhpj8EtSYwx+SWqMwa8mJXl/kr+YwHEXJ6kkO4/72NIMg193eUmuT/KrJAtnLV/RhejiCZV2l9D9DH5r1rKJvLFpfjD4NV98Fzh6ZibJI4DdJlfOb0yq9e5fDdpWBr/miw8CLxiaPw74wMxMkt9OctNwGCZ5VpIVm3nNhUkuSHJbki8kecDQvn+T5PtJbk1yVZInDq07JclHk5yV5FbghbNfOMluSd6S5IYkP0lyWZLhN6pjknwvyc1J/mxov0OSXJ7kx0lWJ3lHkrsPra8kL0tyHXBdkku6VVcnuT3JczdzvhJg8Gv+uAK4V5KHJdkJeC5w1szKqroS+BFw2NA+z2fwhrEpxwBvABYCK4Czh9ZdCSwB9gY+BHwkya5D648EPgrsNWu/GW8GHg08rnuNVwMbhtY/AXgI8FTg9Uke1i1fD7yyq+nQbv1LZ732M4HHAAdV1e90yw6uqj2q6sObOV8JMPg1v8y0+g8DvgHcOGv9mQzCniR7A7/PILQ35dNVdUlV/RL4M+DQJPsBVNVZVfWjqlpXVW8B7sEgqGdcXlWfqKoNVfXz4RdNcjfgj4FXVNWNVbW+qr7UHWfGqVX186q6GrgaOLg77lVVdUV33OuBfwB+d1bdb6yqW2YfVxqVfYSaTz4IXAI8kKFuniFnAauS7AE8B7i0qlZv5vW+PzNRVbcnuQW4H/D9JK8CXtzNF3AvBq3wjfadw0JgV+Dbm9nmP4amfwbsAZDkwcBbgWngngx+R6/aVN3StrDFr3mjqm5g8CHvEcDH51h/I3A5cBRwLJvv5gHYb2aie7PYG/hh15//GgZvHguqai/gJ0CGD7eZ170Z+AVwwBaOP5d3M/hr5sCquhfw2lnH3dKxBxtUvbCqXrcNx1cDDH7NNy8CnlJVP93E+g8w6E9/BHDeFl7riCRP6D48fQPw5ar6PrAnsA5YC+yc5PUMWvwjqaoNwBnAW5PcL8lOSQ5Nco8Rdt8TuBW4PclDgf89wj43AQ8atT7J4Ne8UlXfrqrlm9nkPOABwHmbeXOY8SHgZOAWBh/EHtMt/xzwGeCbwA0MWu9b271yIvB1Bh8S3wK8idF+304E/gi4DTgdGOXD2lOAM7srgZ4DkOTvk/z5VtasRsQbsWhHk+TbwEuq6l8nXYt0V2SLXzuUJM9i0Ad+0aRrke6qvKpHO4wkFwMHAcd2/eyS5mBXjyQ1xq4eSWrMvOjqWbhwYS1evHjSZUjSvHLVVVfdXFVTs5fPi+BfvHgxy5dv7go+SdJsSW6Ya7ldPZLUGINfkhpj8EtSYwx+SWqMwS9JjTH4JakxvQd/NyTt15J8qpvfu7vP6XXd84K+a5Ak/cY4WvyvAFYNzZ8EXFhVBwIXdvOSpDHpNfiT7Av8T+A9Q4uPZHBvVLrnZ/ZZgyTpjvr+5u7bGdwNac+hZfvM3Ae1qlYnuc9cOyZZCiwF2H///XsuU9qx5NTZd2ucv+pkB5Lc3npr8Sd5OrCmqmbfKHokVbWsqqaranpqaqOhJiRJ26jPFv/jgWckOQLYFbhXkrOAm5Is6lr7i4A1PdYgSZqltxZ/Vf1pVe1bVYuB5wEXVdXzgfOB47rNjgM+2VcNkqSNTeI6/tOAw5JcBxzWzUuSxmQswzJX1cXAxd30j4CnjuO4kqSN+c1dSWqMwS9JjTH4JakxBr8kNcbgl6TGGPyS1BiDX5IaY/BLUmMMfklqjMEvSY0x+CWpMQa/JDXG4Jekxhj8ktSYsQzLLE2C952V5maLX5Ia0+fN1ndN8pUkVye5Nsmp3fJTktyYZEX3OKKvGiRJG+uzq+eXwFOq6vYkuwCXJflMt+5tVfXmHo8tSdqE3oK/qgq4vZvdpXvYUSlJE9ZrH3+SnZKsANYAF1TVl7tVxye5JskZSRb0WYMk6Y56Df6qWl9VS4B9gUOSPBx4N3AAsARYDbxlrn2TLE2yPMnytWvX9lmmJDVlLFf1VNWPgYuBw6vqpu4NYQNwOnDIJvZZVlXTVTU9NTU1jjIlqQl9XtUzlWSvbno34PeAbyRZNLTZUcDKvmqQJG2sz6t6FgFnJtmJwRvMuVX1qSQfTLKEwQe91wMv6bEGSdIsfV7Vcw3wyDmWH9vXMSVJW+Y3dyWpMQa/JDXG4Jekxhj8ktQYg1+SGmPwS1JjDH5JaozBL0mNMfglqTEGvyQ1xuCXpMYY/JLUGINfkhpj8EtSYwx+SWqMwS9JjTH4Jakxfd5zd9ckX0lydZJrk5zaLd87yQVJruueF/RVgyRpY322+H8JPKWqDgaWAIcneSxwEnBhVR0IXNjNS5LGpLfgr4Hbu9ldukcBRwJndsvPBJ7ZVw2SpI312sefZKckK4A1wAVV9WVgn6paDdA932cT+y5NsjzJ8rVr1/ZZpiQ1pdfgr6r1VbUE2Bc4JMnDt2LfZVU1XVXTU1NTvdUoSa0Zy1U9VfVj4GLgcOCmJIsAuuc146hBkjTQ51U9U0n26qZ3A34P+AZwPnBct9lxwCf7qkGStLGde3ztRcCZSXZi8AZzblV9KsnlwLlJXgR8D3h2jzVIkmbpLfir6hrgkXMs/xHw1L6OK0naPL+5K0mNMfglqTEGvyQ1xuCXpMYY/JLUGINfkhpj8EtSYwx+SWqMwS9JjTH4JakxBr8kNcbgl6TGGPyS1BiDX5IaY/BLUmMMfklqjMEvSY3p8567+yX5fJJVSa5N8opu+SlJbkyyonsc0VcNkqSN9XnP3XXAq6rqq0n2BK5KckG37m1V9eYejy1J2oQ+77m7GljdTd+WZBVw/76OJ0kazVj6+JMsZnDj9S93i45Pck2SM5Is2MQ+S5MsT7J87dq14yhTkprQe/An2QP4GHBCVd0KvBs4AFjC4C+Ct8y1X1Utq6rpqpqemprqu0xJakavwZ9kFwahf3ZVfRygqm6qqvVVtQE4HTikzxokSXfU51U9Ad4LrKqqtw4tXzS02VHAyr5qkCRtrM+reh4PHAt8PcmKbtlrgaOTLAEKuB54SY81SJJm2WLwJ9kd+HlVbUjyYOChwGeq6r82t19VXQZkjlX/vE2VSpK2i1Fa/JcAT+yuvrkQWA48Fzimz8K0feTUud575586uSZdgrTDGKWPP1X1M+APgb+rqqOAg/otS5LUl5GCP8mhDFr4n+6W9fnZgCSpR6ME/wnAnwLnVdW1SR4EfL7XqiRJvdliy72qvgB8YWj+O8DL+yxKktSfTQZ/krdX1QlJ/onBpZd3UFXP6LUySVIvNtfi/2D37CiakrQD2WTwV9VV3eSqqlozvC7JQ3qtSpLUm1E+3L00yXNmZpK8Cjivv5IkSX0a5bLMJwHLkjwb2AdYhQOrSdK8tcUWf3dDlc8ChwKLgQ9U1e091yVJ6skoY/VcwGDc/IcD+wJnJLmkqk7suzhJ0vY3Sh//O6vqBVX146paCTwO+EnPdUmSejLKF7g+MWt+HfCGvgqSJPVriy3+JI9NcmWS25P8Ksn6JLb4JWmeGqWr5x3A0cB1wG7Ai4F39lmUJKk/I42yWVXfSrJTVa0H3pfkSz3XJUnqySgt/p8luTuwIslfJXklsPuWdkqyX5LPJ1mV5Nokr+iW753kgiTXdc8L7uQ5SJK2wijBf2y33fHAT4H9gGeNsN864FVV9TDgscDLkhwEnARcWFUHMrij10nbUrgkaduMclXPDd3kL4BTR33h7otfq7vp25KsAu4PHMng28AAZwIXA68ZuWJJ0p0ySov/TkuyGHgk8GVgn+5NYebN4T6b2GdpkuVJlq9du3YcZUpSE3oP/iR7AB8DTqiqW0fdr6qWVdV0VU1PTU31V6AkNWargj/Jfbdy+10YhP7ZVfXxbvFNSRZ16xcBaza1vyRp+9vaFv8/j7phkgDvZTCe/1uHVp0PHNdNHwd8citrkCTdCSNdxz8kW7Ht4xlcEfT1JCu6Za8FTgPOTfIi4HvAs7eyBknSnbC1wX/6qBtW1WVs+o3iqVt5XEnSdrJVXT1V9a6+CpEkjcdYLueUJN11GPyS1JhRhmU+3vF0JGnHMUqL/77AlUnOTXJ4d5mmJGmeGuVm668DDmRwTf4LgeuS/GWSA3quTZLUg5H6+KuqgP/oHuuABcBHk/xVj7VJknqwxev4k7ycwTdsbwbeA/zfqvqvJHdjcFeuV/dboiRpexrlC1wLgT8cGp4ZgKrakOTp/ZQlSerLKOPxv34z61Zt33IkSX3zOn5JaozBL0mNMfglqTEGvyQ1xuCXpMYY/JLUGINfkhrTW/AnOSPJmiQrh5adkuTGJCu6xxF9HV+SNLc+W/zvBw6fY/nbqmpJ9xj55u2SpO2jt+CvqkuAW/p6fUnStplEH//xSa7puoI2eYOXJEuTLE+yfO3ateOsT5J2aOMO/ncDBwBLgNXAWza1YVUtq6rpqpqempoaU3mStOMba/BX1U1Vtb6qNgCnA4eM8/iSpDEHf5JFQ7NHASs3ta0kqR+jjMe/TZKcAzwJWJjkB8DJwJOSLAEKuB54SV/HlyTNrbfgr6qj51j83r6OJ0kajd/claTGGPyS1BiDX5IaY/BLUmMMfklqjMEvSY0x+CWpMQa/JDXG4Jekxhj8ktQYg1+SGmPwS1JjDH5JaozBL0mNMfglqTEGvyQ1xuCXpMb0FvxJzkiyJsnKoWV7J7kgyXXd84K+ji9JmlufLf73A4fPWnYScGFVHQhc2M1Lksaot+CvqkuAW2YtPhI4s5s+E3hmX8eXJM2tt5utb8I+VbUaoKpWJ7nPpjZMshRYCrD//vtv8wFzarZ537uaOrkmXYKkHcBd9sPdqlpWVdNVNT01NTXpciRphzHu4L8pySKA7nnNmI8vSc0bd/CfDxzXTR8HfHLMx5ek5vV5Oec5wOXAQ5L8IMmLgNOAw5JcBxzWzUuSxqi3D3er6uhNrHpqX8eUJG3ZXfbDXUlSPwx+SWqMwS9JjTH4JakxBr8kNcbgl6TGGPyS1BiDX5IaY/BLUmMMfklqjMEvSY0x+CWpMQa/JDXG4Jekxhj8ktQYg1+SGmPwS1JjersD1+YkuR64DVgPrKuq6UnUIUktmkjwd55cVTdP8PiS1CS7eiSpMZNq8RfwL0kK+IeqWjZ7gyRLgaUA+++//5jLkzSf5dRMuoTtpk6u7f6ak2rxP76qHgX8AfCyJL8ze4OqWlZV01U1PTU1Nf4KJWkHNZHgr6ofds9rgPOAQyZRhyS1aOzBn2T3JHvOTANPA1aOuw5JatUk+vj3Ac5LMnP8D1XVZydQhyQ1aezBX1XfAQ4e93ElSQNezilJjTH4JakxBr8kNcbgl6TGGPyS1BiDX5IaY/BLUmMMfklqjMEvSY0x+CWpMQa/JDXG4Jekxhj8ktQYg1+SGmPwS1JjDH5JaozBL0mNmUjwJzk8yb8n+VaSkyZRgyS1ahI3W98JeCfwB8BBwNFJDhp3HZLUqkm0+A8BvlVV36mqXwH/CBw5gTokqUmpqvEeMPlfwOFV9eJu/ljgMVV1/KztlgJLu9mHAP8+1kK33kLg5kkXMSGee7taPv/5cO4PqKqp2Qt3nkAhmWPZRu8+VbUMWNZ/OdtHkuVVNT3pOibBc2/z3KHt85/P5z6Jrp4fAPsNze8L/HACdUhSkyYR/FcCByZ5YJK7A88Dzp9AHZLUpLF39VTVuiTHA58DdgLOqKprx11HD+ZNt1QPPPd2tXz+8/bcx/7hriRpsvzmriQ1xuCXpMYY/NqsJHsleemk6xiH4XNN8qQkn5p0TZOU5OVJViU5e9K1TMLQ+f/njja0jMGvLdkLaCL42YZz7YYg2VG9FDiiqo7Z1hfIwHzNmZnzX1BVp026mO1pvv6DjF2SP0mysnuckGRx1xo4Pcm1Sf4lyW7dtgck+WySq5JcmuShk67/TjgNOCDJiiTvS/IMgCTnJTmjm35Rkr/opu/wc5pc2dvk1+cK/DWwR5KPJvlGkrOTBCDJ9Ulen+Qy4NlJnpbk8iRfTfKRJHt02z06yRe6/wefS7JoYme2lZL8PfAg4Pwkr0ryiSTXJLkiyf/otjklyYlD+6zsfi9mfjfeBXyVO35vZ16Ydf6vTPKOJPfu/u3v1m1zzyTfT7LLvPudryofW3gAjwa+DuwO7AFcCzwSWAcs6bY5F3h+N30hcGA3/Rjgokmfw50498XAym76ecBfd9NfAa7opt8H/P6mfk6TPodtPNcnAT9h8AXDuwGXA0/o1l0PvLqbXghcAuzezb8GeD2wC/AlYKpb/lwGly5P/Dy34udxfXd+fwec3C17CrCimz4FOHFo+5Xdz3AxsAF47KTPYTud/wuBd3TLPgk8eejf9D3d9Lz6nZ/EkA3z0ROA86rqpwBJPg48EfhuVa3otrkKWNy19h4HfKRrIALcY7zl9uZS4IRuNNV/AxZ0rdhDgZcDf8zcP6evTajeO+srVfUDgO6vgMXAZd26D3fPj2UwyuwXu3/vuzN4k3gI8HDggm75TsDqMdW9vT0BeBZAVV2U5L8lufcW9rmhqq7ov7Sx+zCDwP88g4bQu+bj77zBP5q5xhcC+OXQ9HpgNwatwx9X1ZK+ixq3qroxyQLgcAat3L2B5wC3V9VtGfpfv4OY/e87/Pvy0+45wAVVdfTwjkkeAVxbVYf2W+JYbGp8rXXcsbt416Hpn7JjOh94Y5K9GfyFexGDv3Dn1e+8ffyjuQR4ZtentztwFIPW70aq6lbgu0meDb/+cOvg8ZW63d0G7Dk0fzlwAoOfyaXAifzmZzHyz+kuava5juIK4PFJfgt+3e/7YAajyU4lObRbvkuS/75dqx2fS4BjYHC1E3Bz9//8euBR3fJHAQ+cTHnjU1W3M+jm/BvgU1W1fj7+ztviH0FVfTXJ+xn8gwO8B/jPzexyDPDuJK9j0Nf7j8DVvRbZk6r6UZIvJlkJfIZBkD+tqr6V5AYGrf5Lu203+jlV1bzp5pl1rj8Hbhphn7VJXgick2Tmz/vXVdU3MxiC/G+7bpGdgbcz+NxjvjkFeF+Sa4CfAcd1yz8GvKDrBrsS+OZEqhu/DwMfYfA50Ix59TvvkA2S1Bi7eiSpMQa/JDXG4Jekxhj8ktQYg1+SGmPwS2OQZDrJ3066Dgm8nFOSmmOLX01K8tvdaJO7Jtk9gxFWH74V+y/uRmH8avd4XLf8qCT/2n17c1GSbya5b4bG90/yuxmMdroiydeSbO23haU7xRa/mpXBUNK7Mhhj6QdV9cat2PeewIaq+kWSA4Fzqmq6W3cWg6EcDgfOrqpzuqEOTqyqpyf5J+C0qvpiN8DXL6pq3XY9OWkzHLJBLft/DIYa+AWD0UW3xi7AO5IsYTCA24OH1v0fBkMUX1FV58yx7xeBt2ZwZ6uPz4wAKo2LXT1q2d4M7huwJ3ccWRKAJC8b6pK536zVr2Qwls/BwDSD4Zhn3J/BePT7ZI67T9Xgbk4vZvCXxhV3+Zt2aIdj8Ktly4A/B84G3jR7ZVW9s6qWdI8fzlp9b2B1VW0AjmUw3j5JdmZwY5o/AlYBfzL7dZMcUFVfr6o3AcsBg19jZVePmpTkBcC6qvpQBvfN/VKSp1TVRSO+xLuAj3VD8X6e34w//1rg0qq6dGbUyiSfnrXvCUmezKCL6N8YjHoqjY0f7kpSY+zqkaTGGPyS1BiDX5IaY/BLUmMMfklqjMEvSY0x+CWpMf8fXW7Vb2OSFPwAAAAASUVORK5CYII=\n",
      "text/plain": [
       "<Figure size 432x288 with 1 Axes>"
      ]
     },
     "metadata": {
      "needs_background": "light"
     },
     "output_type": "display_data"
    }
   ],
   "source": [
    "import matplotlib.pyplot as plt\n",
    "# x-coordinates of left sides of bars \n",
    "left = [1, 2, 3, 4, 5]\n",
    "  \n",
    "# heights of bars\n",
    "height = [10, 24, 36, 40, 5]\n",
    "  \n",
    "# labels for bars\n",
    "tick_label = ['one', 'two', 'three', 'four', 'five']\n",
    "  \n",
    "# plotting a bar chart\n",
    "plt.bar(left, height, tick_label = tick_label,\n",
    "        width = 0.8, color = ['green'])\n",
    "  \n",
    "# naming the x-axis\n",
    "plt.xlabel('x - axis')\n",
    "# naming the y-axis\n",
    "plt.ylabel('y - axis')\n",
    "# plot title\n",
    "plt.title('My bar chart!')\n",
    "  \n",
    "# function to show the plot\n",
    "plt.show()"
   ]
  },
  {
   "cell_type": "code",
   "execution_count": 1,
   "id": "8c983448-afe6-4147-9c62-6f166fccd729",
   "metadata": {},
   "outputs": [
    {
     "name": "stdout",
     "output_type": "stream",
     "text": [
      "range(1, 10)\n"
     ]
    }
   ],
   "source": [
    "m = range(1, 10)\n",
    "print(m)"
   ]
  },
  {
   "cell_type": "code",
   "execution_count": 2,
   "id": "ac9ed503-7aec-44aa-9374-26e4cee8422d",
   "metadata": {},
   "outputs": [],
   "source": [
    "l = list(range(1, 100, 4)) + list(range(2, 100, 4))\n",
    "l.sort()"
   ]
  },
  {
   "cell_type": "code",
   "execution_count": 26,
   "id": "2498c8ed-14f5-4193-b3c6-c8b7709460dd",
   "metadata": {},
   "outputs": [
    {
     "data": {
      "text/plain": [
       "'m=5\\ng=4\\np=g+_ #last printed expression is assigned to the variable _\\np '"
      ]
     },
     "execution_count": 26,
     "metadata": {},
     "output_type": "execute_result"
    }
   ],
   "source": [
    "'''m=5\n",
    "g=4\n",
    "p=g+_ #last printed expression is assigned to the variable _\n",
    "p '''"
   ]
  },
  {
   "cell_type": "code",
   "execution_count": 28,
   "id": "e75dacf1-8d89-45e4-87e0-659d04d4ee43",
   "metadata": {},
   "outputs": [
    {
     "name": "stdout",
     "output_type": "stream",
     "text": [
      "My name is John, and I am 36\n"
     ]
    }
   ],
   "source": [
    "age = 36\n",
    "txt = \"My name is John, and I am {}\"\n",
    "print(txt.format(age))"
   ]
  },
  {
   "cell_type": "code",
<<<<<<< HEAD
   "execution_count": 2,
=======
   "execution_count": 34,
>>>>>>> fef5e63ebf188cfb27b2e94782db71bf65c9a5fe
   "id": "fe99f423-3247-4247-91f6-dd98fd23483f",
   "metadata": {},
   "outputs": [
    {
<<<<<<< HEAD
     "name": "stdout",
     "output_type": "stream",
     "text": [
      "Binary tree from list :\n",
      " \n",
      "    ___3\n",
      "   /    \\\n",
      "  6      8\n",
      " / \\      \\\n",
      "2   11     13\n",
      "\n",
      "\n",
      "List from binary tree : [3, 6, 8, 2, 11, None, 13]\n"
=======
     "ename": "ContextualVersionConflict",
     "evalue": "(setuptools 58.0.4 (c:\\users\\artemiy\\anaconda3\\lib\\site-packages), Requirement.parse('setuptools>=60.8.2'), {'binarytree'})",
     "output_type": "error",
     "traceback": [
      "\u001b[1;31m---------------------------------------------------------------------------\u001b[0m",
      "\u001b[1;31mContextualVersionConflict\u001b[0m                 Traceback (most recent call last)",
      "\u001b[1;32m~\\AppData\\Local\\Temp/ipykernel_11136/2346208244.py\u001b[0m in \u001b[0;36m<module>\u001b[1;34m\u001b[0m\n\u001b[0;32m      2\u001b[0m \u001b[1;31m# Creating binary tree\u001b[0m\u001b[1;33m\u001b[0m\u001b[1;33m\u001b[0m\u001b[0m\n\u001b[0;32m      3\u001b[0m \u001b[1;31m# from given list\u001b[0m\u001b[1;33m\u001b[0m\u001b[1;33m\u001b[0m\u001b[0m\n\u001b[1;32m----> 4\u001b[1;33m \u001b[1;32mfrom\u001b[0m \u001b[0mbinarytree\u001b[0m \u001b[1;32mimport\u001b[0m \u001b[0mbuild\u001b[0m\u001b[1;33m\u001b[0m\u001b[1;33m\u001b[0m\u001b[0m\n\u001b[0m\u001b[0;32m      5\u001b[0m \u001b[1;33m\u001b[0m\u001b[0m\n\u001b[0;32m      6\u001b[0m \u001b[1;31m# List of nodes\u001b[0m\u001b[1;33m\u001b[0m\u001b[1;33m\u001b[0m\u001b[0m\n",
      "\u001b[1;32m~\\anaconda3\\lib\\site-packages\\binarytree\\__init__.py\u001b[0m in \u001b[0;36m<module>\u001b[1;34m\u001b[0m\n\u001b[0;32m     40\u001b[0m )\n\u001b[0;32m     41\u001b[0m \u001b[1;33m\u001b[0m\u001b[0m\n\u001b[1;32m---> 42\u001b[1;33m \u001b[0m__version__\u001b[0m \u001b[1;33m=\u001b[0m \u001b[0mget_distribution\u001b[0m\u001b[1;33m(\u001b[0m\u001b[1;34m\"binarytree\"\u001b[0m\u001b[1;33m)\u001b[0m\u001b[1;33m.\u001b[0m\u001b[0mversion\u001b[0m\u001b[1;33m\u001b[0m\u001b[1;33m\u001b[0m\u001b[0m\n\u001b[0m\u001b[0;32m     43\u001b[0m \u001b[1;33m\u001b[0m\u001b[0m\n\u001b[0;32m     44\u001b[0m \u001b[0m_ATTR_LEFT\u001b[0m \u001b[1;33m=\u001b[0m \u001b[1;34m\"left\"\u001b[0m\u001b[1;33m\u001b[0m\u001b[1;33m\u001b[0m\u001b[0m\n",
      "\u001b[1;32m~\\anaconda3\\lib\\site-packages\\pkg_resources\\__init__.py\u001b[0m in \u001b[0;36mget_distribution\u001b[1;34m(dist)\u001b[0m\n\u001b[0;32m    464\u001b[0m     \u001b[0mns\u001b[0m\u001b[1;33m.\u001b[0m\u001b[0mclear\u001b[0m\u001b[1;33m(\u001b[0m\u001b[1;33m)\u001b[0m\u001b[1;33m\u001b[0m\u001b[1;33m\u001b[0m\u001b[0m\n\u001b[0;32m    465\u001b[0m     \u001b[0mns\u001b[0m\u001b[1;33m[\u001b[0m\u001b[1;34m'__name__'\u001b[0m\u001b[1;33m]\u001b[0m \u001b[1;33m=\u001b[0m \u001b[0mname\u001b[0m\u001b[1;33m\u001b[0m\u001b[1;33m\u001b[0m\u001b[0m\n\u001b[1;32m--> 466\u001b[1;33m     \u001b[0mrequire\u001b[0m\u001b[1;33m(\u001b[0m\u001b[0mdist_spec\u001b[0m\u001b[1;33m)\u001b[0m\u001b[1;33m[\u001b[0m\u001b[1;36m0\u001b[0m\u001b[1;33m]\u001b[0m\u001b[1;33m.\u001b[0m\u001b[0mrun_script\u001b[0m\u001b[1;33m(\u001b[0m\u001b[0mscript_name\u001b[0m\u001b[1;33m,\u001b[0m \u001b[0mns\u001b[0m\u001b[1;33m)\u001b[0m\u001b[1;33m\u001b[0m\u001b[1;33m\u001b[0m\u001b[0m\n\u001b[0m\u001b[0;32m    467\u001b[0m \u001b[1;33m\u001b[0m\u001b[0m\n\u001b[0;32m    468\u001b[0m \u001b[1;33m\u001b[0m\u001b[0m\n",
      "\u001b[1;32m~\\anaconda3\\lib\\site-packages\\pkg_resources\\__init__.py\u001b[0m in \u001b[0;36mget_provider\u001b[1;34m(moduleOrReq)\u001b[0m\n\u001b[0;32m    340\u001b[0m \u001b[1;33m\u001b[0m\u001b[0m\n\u001b[0;32m    341\u001b[0m \u001b[1;32mdef\u001b[0m \u001b[0mregister_loader_type\u001b[0m\u001b[1;33m(\u001b[0m\u001b[0mloader_type\u001b[0m\u001b[1;33m,\u001b[0m \u001b[0mprovider_factory\u001b[0m\u001b[1;33m)\u001b[0m\u001b[1;33m:\u001b[0m\u001b[1;33m\u001b[0m\u001b[1;33m\u001b[0m\u001b[0m\n\u001b[1;32m--> 342\u001b[1;33m     \"\"\"Register `provider_factory` to make providers for `loader_type`\n\u001b[0m\u001b[0;32m    343\u001b[0m \u001b[1;33m\u001b[0m\u001b[0m\n\u001b[0;32m    344\u001b[0m     \u001b[0;31m`\u001b[0m\u001b[0mloader_type\u001b[0m\u001b[0;31m`\u001b[0m \u001b[1;32mis\u001b[0m \u001b[0mthe\u001b[0m \u001b[0mtype\u001b[0m \u001b[1;32mor\u001b[0m \u001b[1;32mclass\u001b[0m \u001b[0mof\u001b[0m \u001b[0ma\u001b[0m \u001b[0mPEP\u001b[0m \u001b[1;36m302\u001b[0m\u001b[0;31m \u001b[0m\u001b[0;31m`\u001b[0m\u001b[0;31m`\u001b[0m\u001b[0mmodule\u001b[0m\u001b[1;33m.\u001b[0m\u001b[0m__loader__\u001b[0m\u001b[0;31m`\u001b[0m\u001b[0;31m`\u001b[0m\u001b[1;33m,\u001b[0m\u001b[1;33m\u001b[0m\u001b[1;33m\u001b[0m\u001b[0m\n",
      "\u001b[1;32m~\\anaconda3\\lib\\site-packages\\pkg_resources\\__init__.py\u001b[0m in \u001b[0;36mrequire\u001b[1;34m(self, *requirements)\u001b[0m\n\u001b[0;32m    884\u001b[0m                     \u001b[1;32melse\u001b[0m\u001b[1;33m:\u001b[0m\u001b[1;33m\u001b[0m\u001b[1;33m\u001b[0m\u001b[0m\n\u001b[0;32m    885\u001b[0m                         \u001b[1;31m# give up on this project, keep going\u001b[0m\u001b[1;33m\u001b[0m\u001b[1;33m\u001b[0m\u001b[0m\n\u001b[1;32m--> 886\u001b[1;33m                         \u001b[1;32mbreak\u001b[0m\u001b[1;33m\u001b[0m\u001b[1;33m\u001b[0m\u001b[0m\n\u001b[0m\u001b[0;32m    887\u001b[0m \u001b[1;33m\u001b[0m\u001b[0m\n\u001b[0;32m    888\u001b[0m                 \u001b[1;32melse\u001b[0m\u001b[1;33m:\u001b[0m\u001b[1;33m\u001b[0m\u001b[1;33m\u001b[0m\u001b[0m\n",
      "\u001b[1;32m~\\anaconda3\\lib\\site-packages\\pkg_resources\\__init__.py\u001b[0m in \u001b[0;36mresolve\u001b[1;34m(self, requirements, env, installer, replace_conflicting, extras)\u001b[0m\n\u001b[0;32m    775\u001b[0m             \u001b[1;32mif\u001b[0m \u001b[0mdist\u001b[0m \u001b[1;32mis\u001b[0m \u001b[1;32mNone\u001b[0m\u001b[1;33m:\u001b[0m\u001b[1;33m\u001b[0m\u001b[1;33m\u001b[0m\u001b[0m\n\u001b[0;32m    776\u001b[0m                 \u001b[1;31m# Find the best distribution and add it to the map\u001b[0m\u001b[1;33m\u001b[0m\u001b[1;33m\u001b[0m\u001b[0m\n\u001b[1;32m--> 777\u001b[1;33m                 \u001b[0mdist\u001b[0m \u001b[1;33m=\u001b[0m \u001b[0mself\u001b[0m\u001b[1;33m.\u001b[0m\u001b[0mby_key\u001b[0m\u001b[1;33m.\u001b[0m\u001b[0mget\u001b[0m\u001b[1;33m(\u001b[0m\u001b[0mreq\u001b[0m\u001b[1;33m.\u001b[0m\u001b[0mkey\u001b[0m\u001b[1;33m)\u001b[0m\u001b[1;33m\u001b[0m\u001b[1;33m\u001b[0m\u001b[0m\n\u001b[0m\u001b[0;32m    778\u001b[0m                 \u001b[1;32mif\u001b[0m \u001b[0mdist\u001b[0m \u001b[1;32mis\u001b[0m \u001b[1;32mNone\u001b[0m \u001b[1;32mor\u001b[0m \u001b[1;33m(\u001b[0m\u001b[0mdist\u001b[0m \u001b[1;32mnot\u001b[0m \u001b[1;32min\u001b[0m \u001b[0mreq\u001b[0m \u001b[1;32mand\u001b[0m \u001b[0mreplace_conflicting\u001b[0m\u001b[1;33m)\u001b[0m\u001b[1;33m:\u001b[0m\u001b[1;33m\u001b[0m\u001b[1;33m\u001b[0m\u001b[0m\n\u001b[0;32m    779\u001b[0m                     \u001b[0mws\u001b[0m \u001b[1;33m=\u001b[0m \u001b[0mself\u001b[0m\u001b[1;33m\u001b[0m\u001b[1;33m\u001b[0m\u001b[0m\n",
      "\u001b[1;31mContextualVersionConflict\u001b[0m: (setuptools 58.0.4 (c:\\users\\artemiy\\anaconda3\\lib\\site-packages), Requirement.parse('setuptools>=60.8.2'), {'binarytree'})"
>>>>>>> fef5e63ebf188cfb27b2e94782db71bf65c9a5fe
     ]
    }
   ],
   "source": [
    "#pip install binarytree \n",
    "# Creating binary tree \n",
    "# from given list\n",
    "from binarytree import build\n",
    "  \n",
    "# List of nodes\n",
    "nodes =[3, 6, 8, 2, 11, None, 13]\n",
    "  \n",
    "# Building the binary tree\n",
    "binary_tree = build(nodes)\n",
    "print('Binary tree from list :\\n',\n",
    "      binary_tree)\n",
    "  \n",
    "# Getting list of nodes from\n",
    "# binarytree\n",
    "print('\\nList from binary tree :', \n",
    "      binary_tree.values)"
   ]
  },
  {
   "cell_type": "code",
<<<<<<< HEAD
   "execution_count": 1,
=======
   "execution_count": 35,
>>>>>>> fef5e63ebf188cfb27b2e94782db71bf65c9a5fe
   "id": "0024b779-8dd4-4284-847a-ae933ef0fb64",
   "metadata": {},
   "outputs": [
    {
<<<<<<< HEAD
     "name": "stdout",
     "output_type": "stream",
     "text": [
      "Binary tree : \n",
      "  3\n",
      " / \\\n",
      "6   8\n",
      "\n",
      "List of nodes : [Node(3), Node(6), Node(8)]\n",
      "Inorder of nodes : [Node(6), Node(3), Node(8)]\n",
      "Size of tree : 3\n",
      "Height of tree : 1\n",
      "Properties of tree : \n",
      " {'height': 1, 'size': 3, 'is_max_heap': False, 'is_min_heap': True, 'is_perfect': True, 'is_strict': True, 'is_complete': True, 'leaf_count': 2, 'min_node_value': 3, 'max_node_value': 8, 'min_leaf_depth': 1, 'max_leaf_depth': 1, 'is_balanced': True, 'is_bst': False, 'is_symmetric': False}\n"
=======
     "ename": "ContextualVersionConflict",
     "evalue": "(setuptools 58.0.4 (c:\\users\\artemiy\\anaconda3\\lib\\site-packages), Requirement.parse('setuptools>=60.8.2'), {'binarytree'})",
     "output_type": "error",
     "traceback": [
      "\u001b[1;31m---------------------------------------------------------------------------\u001b[0m",
      "\u001b[1;31mContextualVersionConflict\u001b[0m                 Traceback (most recent call last)",
      "\u001b[1;32m~\\AppData\\Local\\Temp/ipykernel_11136/1105965792.py\u001b[0m in \u001b[0;36m<module>\u001b[1;34m\u001b[0m\n\u001b[1;32m----> 1\u001b[1;33m \u001b[1;32mfrom\u001b[0m \u001b[0mbinarytree\u001b[0m \u001b[1;32mimport\u001b[0m \u001b[0mNode\u001b[0m\u001b[1;33m\u001b[0m\u001b[1;33m\u001b[0m\u001b[0m\n\u001b[0m\u001b[0;32m      2\u001b[0m \u001b[0mroot\u001b[0m \u001b[1;33m=\u001b[0m \u001b[0mNode\u001b[0m\u001b[1;33m(\u001b[0m\u001b[1;36m3\u001b[0m\u001b[1;33m)\u001b[0m\u001b[1;33m\u001b[0m\u001b[1;33m\u001b[0m\u001b[0m\n\u001b[0;32m      3\u001b[0m \u001b[0mroot\u001b[0m\u001b[1;33m.\u001b[0m\u001b[0mleft\u001b[0m \u001b[1;33m=\u001b[0m \u001b[0mNode\u001b[0m\u001b[1;33m(\u001b[0m\u001b[1;36m6\u001b[0m\u001b[1;33m)\u001b[0m\u001b[1;33m\u001b[0m\u001b[1;33m\u001b[0m\u001b[0m\n\u001b[0;32m      4\u001b[0m \u001b[0mroot\u001b[0m\u001b[1;33m.\u001b[0m\u001b[0mright\u001b[0m \u001b[1;33m=\u001b[0m \u001b[0mNode\u001b[0m\u001b[1;33m(\u001b[0m\u001b[1;36m8\u001b[0m\u001b[1;33m)\u001b[0m\u001b[1;33m\u001b[0m\u001b[1;33m\u001b[0m\u001b[0m\n\u001b[0;32m      5\u001b[0m \u001b[1;33m\u001b[0m\u001b[0m\n",
      "\u001b[1;32m~\\anaconda3\\lib\\site-packages\\binarytree\\__init__.py\u001b[0m in \u001b[0;36m<module>\u001b[1;34m\u001b[0m\n\u001b[0;32m     40\u001b[0m )\n\u001b[0;32m     41\u001b[0m \u001b[1;33m\u001b[0m\u001b[0m\n\u001b[1;32m---> 42\u001b[1;33m \u001b[0m__version__\u001b[0m \u001b[1;33m=\u001b[0m \u001b[0mget_distribution\u001b[0m\u001b[1;33m(\u001b[0m\u001b[1;34m\"binarytree\"\u001b[0m\u001b[1;33m)\u001b[0m\u001b[1;33m.\u001b[0m\u001b[0mversion\u001b[0m\u001b[1;33m\u001b[0m\u001b[1;33m\u001b[0m\u001b[0m\n\u001b[0m\u001b[0;32m     43\u001b[0m \u001b[1;33m\u001b[0m\u001b[0m\n\u001b[0;32m     44\u001b[0m \u001b[0m_ATTR_LEFT\u001b[0m \u001b[1;33m=\u001b[0m \u001b[1;34m\"left\"\u001b[0m\u001b[1;33m\u001b[0m\u001b[1;33m\u001b[0m\u001b[0m\n",
      "\u001b[1;32m~\\anaconda3\\lib\\site-packages\\pkg_resources\\__init__.py\u001b[0m in \u001b[0;36mget_distribution\u001b[1;34m(dist)\u001b[0m\n\u001b[0;32m    464\u001b[0m     \u001b[0mns\u001b[0m\u001b[1;33m.\u001b[0m\u001b[0mclear\u001b[0m\u001b[1;33m(\u001b[0m\u001b[1;33m)\u001b[0m\u001b[1;33m\u001b[0m\u001b[1;33m\u001b[0m\u001b[0m\n\u001b[0;32m    465\u001b[0m     \u001b[0mns\u001b[0m\u001b[1;33m[\u001b[0m\u001b[1;34m'__name__'\u001b[0m\u001b[1;33m]\u001b[0m \u001b[1;33m=\u001b[0m \u001b[0mname\u001b[0m\u001b[1;33m\u001b[0m\u001b[1;33m\u001b[0m\u001b[0m\n\u001b[1;32m--> 466\u001b[1;33m     \u001b[0mrequire\u001b[0m\u001b[1;33m(\u001b[0m\u001b[0mdist_spec\u001b[0m\u001b[1;33m)\u001b[0m\u001b[1;33m[\u001b[0m\u001b[1;36m0\u001b[0m\u001b[1;33m]\u001b[0m\u001b[1;33m.\u001b[0m\u001b[0mrun_script\u001b[0m\u001b[1;33m(\u001b[0m\u001b[0mscript_name\u001b[0m\u001b[1;33m,\u001b[0m \u001b[0mns\u001b[0m\u001b[1;33m)\u001b[0m\u001b[1;33m\u001b[0m\u001b[1;33m\u001b[0m\u001b[0m\n\u001b[0m\u001b[0;32m    467\u001b[0m \u001b[1;33m\u001b[0m\u001b[0m\n\u001b[0;32m    468\u001b[0m \u001b[1;33m\u001b[0m\u001b[0m\n",
      "\u001b[1;32m~\\anaconda3\\lib\\site-packages\\pkg_resources\\__init__.py\u001b[0m in \u001b[0;36mget_provider\u001b[1;34m(moduleOrReq)\u001b[0m\n\u001b[0;32m    340\u001b[0m \u001b[1;33m\u001b[0m\u001b[0m\n\u001b[0;32m    341\u001b[0m \u001b[1;32mdef\u001b[0m \u001b[0mregister_loader_type\u001b[0m\u001b[1;33m(\u001b[0m\u001b[0mloader_type\u001b[0m\u001b[1;33m,\u001b[0m \u001b[0mprovider_factory\u001b[0m\u001b[1;33m)\u001b[0m\u001b[1;33m:\u001b[0m\u001b[1;33m\u001b[0m\u001b[1;33m\u001b[0m\u001b[0m\n\u001b[1;32m--> 342\u001b[1;33m     \"\"\"Register `provider_factory` to make providers for `loader_type`\n\u001b[0m\u001b[0;32m    343\u001b[0m \u001b[1;33m\u001b[0m\u001b[0m\n\u001b[0;32m    344\u001b[0m     \u001b[0;31m`\u001b[0m\u001b[0mloader_type\u001b[0m\u001b[0;31m`\u001b[0m \u001b[1;32mis\u001b[0m \u001b[0mthe\u001b[0m \u001b[0mtype\u001b[0m \u001b[1;32mor\u001b[0m \u001b[1;32mclass\u001b[0m \u001b[0mof\u001b[0m \u001b[0ma\u001b[0m \u001b[0mPEP\u001b[0m \u001b[1;36m302\u001b[0m\u001b[0;31m \u001b[0m\u001b[0;31m`\u001b[0m\u001b[0;31m`\u001b[0m\u001b[0mmodule\u001b[0m\u001b[1;33m.\u001b[0m\u001b[0m__loader__\u001b[0m\u001b[0;31m`\u001b[0m\u001b[0;31m`\u001b[0m\u001b[1;33m,\u001b[0m\u001b[1;33m\u001b[0m\u001b[1;33m\u001b[0m\u001b[0m\n",
      "\u001b[1;32m~\\anaconda3\\lib\\site-packages\\pkg_resources\\__init__.py\u001b[0m in \u001b[0;36mrequire\u001b[1;34m(self, *requirements)\u001b[0m\n\u001b[0;32m    884\u001b[0m                     \u001b[1;32melse\u001b[0m\u001b[1;33m:\u001b[0m\u001b[1;33m\u001b[0m\u001b[1;33m\u001b[0m\u001b[0m\n\u001b[0;32m    885\u001b[0m                         \u001b[1;31m# give up on this project, keep going\u001b[0m\u001b[1;33m\u001b[0m\u001b[1;33m\u001b[0m\u001b[0m\n\u001b[1;32m--> 886\u001b[1;33m                         \u001b[1;32mbreak\u001b[0m\u001b[1;33m\u001b[0m\u001b[1;33m\u001b[0m\u001b[0m\n\u001b[0m\u001b[0;32m    887\u001b[0m \u001b[1;33m\u001b[0m\u001b[0m\n\u001b[0;32m    888\u001b[0m                 \u001b[1;32melse\u001b[0m\u001b[1;33m:\u001b[0m\u001b[1;33m\u001b[0m\u001b[1;33m\u001b[0m\u001b[0m\n",
      "\u001b[1;32m~\\anaconda3\\lib\\site-packages\\pkg_resources\\__init__.py\u001b[0m in \u001b[0;36mresolve\u001b[1;34m(self, requirements, env, installer, replace_conflicting, extras)\u001b[0m\n\u001b[0;32m    775\u001b[0m             \u001b[1;32mif\u001b[0m \u001b[0mdist\u001b[0m \u001b[1;32mis\u001b[0m \u001b[1;32mNone\u001b[0m\u001b[1;33m:\u001b[0m\u001b[1;33m\u001b[0m\u001b[1;33m\u001b[0m\u001b[0m\n\u001b[0;32m    776\u001b[0m                 \u001b[1;31m# Find the best distribution and add it to the map\u001b[0m\u001b[1;33m\u001b[0m\u001b[1;33m\u001b[0m\u001b[0m\n\u001b[1;32m--> 777\u001b[1;33m                 \u001b[0mdist\u001b[0m \u001b[1;33m=\u001b[0m \u001b[0mself\u001b[0m\u001b[1;33m.\u001b[0m\u001b[0mby_key\u001b[0m\u001b[1;33m.\u001b[0m\u001b[0mget\u001b[0m\u001b[1;33m(\u001b[0m\u001b[0mreq\u001b[0m\u001b[1;33m.\u001b[0m\u001b[0mkey\u001b[0m\u001b[1;33m)\u001b[0m\u001b[1;33m\u001b[0m\u001b[1;33m\u001b[0m\u001b[0m\n\u001b[0m\u001b[0;32m    778\u001b[0m                 \u001b[1;32mif\u001b[0m \u001b[0mdist\u001b[0m \u001b[1;32mis\u001b[0m \u001b[1;32mNone\u001b[0m \u001b[1;32mor\u001b[0m \u001b[1;33m(\u001b[0m\u001b[0mdist\u001b[0m \u001b[1;32mnot\u001b[0m \u001b[1;32min\u001b[0m \u001b[0mreq\u001b[0m \u001b[1;32mand\u001b[0m \u001b[0mreplace_conflicting\u001b[0m\u001b[1;33m)\u001b[0m\u001b[1;33m:\u001b[0m\u001b[1;33m\u001b[0m\u001b[1;33m\u001b[0m\u001b[0m\n\u001b[0;32m    779\u001b[0m                     \u001b[0mws\u001b[0m \u001b[1;33m=\u001b[0m \u001b[0mself\u001b[0m\u001b[1;33m\u001b[0m\u001b[1;33m\u001b[0m\u001b[0m\n",
      "\u001b[1;31mContextualVersionConflict\u001b[0m: (setuptools 58.0.4 (c:\\users\\artemiy\\anaconda3\\lib\\site-packages), Requirement.parse('setuptools>=60.8.2'), {'binarytree'})"
>>>>>>> fef5e63ebf188cfb27b2e94782db71bf65c9a5fe
     ]
    }
   ],
   "source": [
    "from binarytree import Node\n",
    "root = Node(3)\n",
    "root.left = Node(6)\n",
    "root.right = Node(8)\n",
    "  \n",
    "# Getting binary tree\n",
    "print('Binary tree :', root)\n",
    "  \n",
    "# Getting list of nodes\n",
    "print('List of nodes :', list(root))\n",
    "  \n",
    "# Getting inorder of nodes\n",
    "print('Inorder of nodes :', root.inorder)\n",
    "  \n",
    "# Checking tree properties\n",
    "print('Size of tree :', root.size)\n",
    "print('Height of tree :', root.height)\n",
    "  \n",
    "# Get all properties at once\n",
    "print('Properties of tree : \\n', root.properties)"
   ]
  },
  {
   "cell_type": "code",
   "execution_count": 1,
   "id": "4d99be31-bef4-4626-a683-184d6ca81815",
   "metadata": {},
   "outputs": [
    {
     "name": "stdout",
     "output_type": "stream",
     "text": [
      "20\n"
     ]
    }
   ],
   "source": [
    "import requests\n",
    "import json\n",
    "#среднюю температуру в Москве 1 июня 2019 года\n",
    "city = 'moscow'\n",
    "k = 'f0a0a6247d17423e969145812220809'\n",
    "api = f'http://api.worldweatheronline.com/premium/v1/past-weather.ashx?q={city}&format=json&date=2019-06-01&key={k}'\n",
    "response_API = requests.get(api)\n",
    "data = response_API.text\n",
    "type((data))\n",
    "d = json.loads(data)\n",
    "dataf = d['data']['weather'][0]['avgtempC'] #[]\n",
    "print(dataf)"
   ]
  },
  {
   "cell_type": "code",
<<<<<<< HEAD
   "execution_count": 3,
   "id": "53ecf8ff-9270-427c-b148-f3d01ea36d51",
   "metadata": {},
   "outputs": [
    {
     "data": {
      "text/plain": [
       "'C:\\\\Users\\\\Artemiy\\\\Repo_python'"
      ]
     },
     "execution_count": 3,
     "metadata": {},
     "output_type": "execute_result"
    }
   ],
   "source": [
    "pwd"
   ]
  },
  {
   "cell_type": "code",
   "execution_count": 4,
   "id": "aad9602d-7429-4208-9be1-3ecb5ccadb5a",
   "metadata": {},
   "outputs": [
    {
     "ename": "SyntaxError",
     "evalue": "invalid syntax (Temp/ipykernel_18792/1387249117.py, line 1)",
     "output_type": "error",
     "traceback": [
      "\u001b[1;36m  File \u001b[1;32m\"C:\\Users\\Artemiy\\AppData\\Local\\Temp/ipykernel_18792/1387249117.py\"\u001b[1;36m, line \u001b[1;32m1\u001b[0m\n\u001b[1;33m    jupyter notebook --generate-config\u001b[0m\n\u001b[1;37m            ^\u001b[0m\n\u001b[1;31mSyntaxError\u001b[0m\u001b[1;31m:\u001b[0m invalid syntax\n"
     ]
    }
   ],
   "source": [
    "jupyter notebook --generate-config"
   ]
  },
  {
   "cell_type": "code",
   "execution_count": null,
   "id": "6cb98082-d08d-4a02-aac9-b6793d6ea071",
=======
   "execution_count": null,
   "id": "53ecf8ff-9270-427c-b148-f3d01ea36d51",
>>>>>>> fef5e63ebf188cfb27b2e94782db71bf65c9a5fe
   "metadata": {},
   "outputs": [],
   "source": []
  }
 ],
 "metadata": {
  "kernelspec": {
   "display_name": "Python 3 (ipykernel)",
   "language": "python",
   "name": "python3"
  },
  "language_info": {
   "codemirror_mode": {
    "name": "ipython",
    "version": 3
   },
   "file_extension": ".py",
   "mimetype": "text/x-python",
   "name": "python",
   "nbconvert_exporter": "python",
   "pygments_lexer": "ipython3",
   "version": "3.9.7"
  },
  "toc-autonumbering": true
 },
 "nbformat": 4,
 "nbformat_minor": 5
}
