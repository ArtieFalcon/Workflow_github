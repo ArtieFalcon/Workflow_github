{
   "cell_type": "markdown",
   "metadata": {},
   "source": [
    "# Задачи"
   ]
  },
  {
   "cell_type": "markdown",
   "metadata": {},
   "source": [
    "**Задача 1** \\\n",
    "Олег учится в группе студентов на первом курсе вечеронего факультета.\n",
    "В группе Олега всего 10 студентов. \n",
    "Представим всех студентов в виде списка: \\\n",
    "['Алла', 'Маша', 'Александр', 'Сергей', 'Вера', 'Константин', 'Елена', 'Максим', 'Роман', 'Олег']\n",
    " \n",
    "Выполните следующие задания с представленным списком:\\\n",
    "  **Выбрать старосту группы. Первыйстудент в списке - староста. \\\n",
    "  Определить переменную 'headman'c именем старосты из списка.**"
   ]
  },
  {
   "cell_type": "code",
   "execution_count": 1,
   "metadata": {},
   "outputs": [],
   "source": [
    "names_list = ['Алла', 'Маша', 'Александр', 'Сергей', 'Вера', 'Константин', 'Елена', 'Максим', 'Роман', 'Олег']\n",
    "# Ваше решение:\n",
    "#headman = names_list[1]\n",
    "headman = names_list[0]"
   ]
  },
  {
   "cell_type": "code",
   "execution_count": 2,
   "metadata": {},
   "outputs": [
    {
     "data": {
      "application/javascript": [
       "\n",
       "var output_area = this;\n",
       "var cell_element = output_area.element.parents('.cell');\n",
       "var cell_idx = Jupyter.notebook.get_cell_elements().index(cell_element);\n",
       "Jupyter.notebook.execute_cells([cell_idx+1]);\n"
      ],
      "text/plain": [
       "<IPython.core.display.Javascript object>"
      ]
     },
     "execution_count": 2,
     "metadata": {},
     "output_type": "execute_result"
    }
   ],
   "source": [
    "#Заупсутите текущую ячейку для создания интерфейса проверки.\n",
    "from lib_hometask.Home_task_Interface import CellRunner ; from IPython.display import Javascript; Javascript(CellRunner().runner(1)) #Запуск {1} ячейки из текущей"
   ]
  },
  {
   "cell_type": "code",
   "execution_count": 3,
   "metadata": {},
   "outputs": [
    {
     "data": {
      "application/vnd.jupyter.widget-view+json": {
       "model_id": "a5f3e744316e474a86e7e59913706c8a",
       "version_major": 2,
       "version_minor": 0
      },
      "text/plain": [
       "HBox(children=(Button(button_style='info', description='Проверить', icon='check', layout=Layout(border='1px so…"
      ]
     },
     "metadata": {},
     "output_type": "display_data"
    },
    {
     "data": {
      "text/html": [
       "<script>\n",
       "        code_show=true; \n",
       "        function code_toggle() {\n",
       "         if (code_show){\n",
       "         $('div.cell.code_cell.rendered.selected div.input').hide();\n",
       "         } else {\n",
       "         $('div.cell.code_cell.rendered.selected div.input').show();\n",
       "         }\n",
       "         code_show = !code_show\n",
       "        } \n",
       "        $( document ).ready(code_toggle);\n",
       "        </script>\n",
       "        <form action=\"javascript:code_toggle()\"  align=\"right\"><input type=\"submit\" value=\"Raw code\"> </form>"
      ],
      "text/plain": [
       "<IPython.core.display.HTML object>"
      ]
     },
     "metadata": {},
     "output_type": "display_data"
    },
    {
     "name": "stdout",
     "output_type": "stream",
     "text": [
      "......\n",
      "----------------------------------------------------------------------\n",
      "Ran 6 tests in 0.000s\n",
      "\n",
      "OK\n",
      "\n"
     ]
    }
   ],
   "source": [
    "from lib_hometask.Home_task_Interface import HomeTaskInterface \n",
    "HomeTaskInterface(task_number = 1, result = headman).display_hbox() # Номер задачи для проверки - task_number"
   ]
  },
  {
   "cell_type": "markdown",
   "metadata": {},
   "source": [
    "**Задача 6** \\\n",
    "Что из перечисленного **не** относится к изменяемым типам данных?\n",
    "Выберите правильный вариант ответа."
   ]
  },
  {
   "cell_type": "code",
   "execution_count": 3,
   "metadata": {},
   "outputs": [
    {
     "data": {
      "application/javascript": [
       "\n",
       "var output_area = this;\n",
       "var cell_element = output_area.element.parents('.cell');\n",
       "var cell_idx = Jupyter.notebook.get_cell_elements().index(cell_element);\n",
       "Jupyter.notebook.execute_cells([cell_idx+1]);\n"
      ],
      "text/plain": [
       "<IPython.core.display.Javascript object>"
      ]
     },
     "execution_count": 3,
     "metadata": {},
     "output_type": "execute_result"
    }
   ],
   "source": [
    "#Заупсутите текущую ячейку для создания интерфейса проверки.\n",
    "from lib_hometask.Home_task_Interface import CellRunner ; from IPython.display import Javascript; Javascript(CellRunner().runner(1)) #Запуск {1} ячейки из текущей"
   ]
  },
  {
   "cell_type": "code",
   "execution_count": 4,
   "metadata": {},
   "outputs": [
    {
     "data": {
      "application/vnd.jupyter.widget-view+json": {
       "model_id": "df9502b015f0496d81df3872b2a6abae",
       "version_major": 2,
       "version_minor": 0
      },
      "text/plain": [
       "RadioButtons(options=('Списки', 'Множества', 'Словари', 'Числа'), value=None)"
      ]
     },
     "metadata": {},
     "output_type": "display_data"
    },
    {
     "data": {
      "application/vnd.jupyter.widget-view+json": {
       "model_id": "8dc0c4cd335e46bcb76dd446a4e67d3e",
       "version_major": 2,
       "version_minor": 0
      },
      "text/plain": [
       "HBox(children=(Button(button_style='info', description='Проверить', icon='check', layout=Layout(border='1px so…"
      ]
     },
     "metadata": {},
	 "output_type": "display_data"
    },
    {
     "data": {
      "text/html": [
       "<script>\n",
       "        code_show=true; \n",
       "        function code_toggle() {\n",
       "         if (code_show){\n",
       "         $('div.cell.code_cell.rendered.selected div.input').hide();\n",
       "         } else {\n",
       "         $('div.cell.code_cell.rendered.selected div.input').show();\n",
       "         }\n",
       "         code_show = !code_show\n",
       "        } \n",
       "        $( document ).ready(code_toggle);\n",
       "        </script>\n",
       "        <form action=\"javascript:code_toggle()\"  align=\"right\"><input type=\"submit\" value=\"Raw code\"> </form>"
      ],
      "text/plain": [
       "<IPython.core.display.HTML object>"
      ]
     },
     "metadata": {},
     "output_type": "display_data"
    }
   ],
   "source": [
    "from lib_hometask.Home_task_Interface import HomeTaskInterfaceSelection \n",
    "HomeTaskInterfaceSelection(task_number = 6).display_hbox_selection() #Номер задачи - task_number"
   ]
  },
  {
   "cell_type": "markdown",
   "metadata": {},
   "source": [
    "----"
   ]
  },
  {
   "cell_type": "code",
   "execution_count": null,
   "metadata": {},
   "outputs": [],
   "source": []
  }
 ],
 "metadata": {
  "kernelspec": {
   "display_name": "Python 3",
   "language": "python",
   "name": "python3"
  },
  "language_info": {
   "codemirror_mode": {
    "name": "ipython",
    "version": 3
   },
   "file_extension": ".py",
   "mimetype": "text/x-python",
   "name": "python",
   "nbconvert_exporter": "python",
   "pygments_lexer": "ipython3",
   "version": "3.6.4"
  },
  "toc": {
   "base_numbering": 1,
   "nav_menu": {},
   "number_sections": true,
   "sideBar": true,
   "skip_h1_title": false,
   "title_cell": "Table of Contents",
   "title_sidebar": "Contents",
   "toc_cell": false,
   "toc_position": {
    "height": "calc(100% - 180px)",
    "left": "10px",
    "top": "150px",
    "width": "165px"
   },
   "toc_section_display": true,
   "toc_window_display": true
  }
 },
 "nbformat": 4,
 "nbformat_minor": 4
}
