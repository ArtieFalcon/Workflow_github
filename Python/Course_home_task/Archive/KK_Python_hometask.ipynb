{
 "cells": [
  {
   "cell_type": "markdown",
   "metadata": {},
   "source": [
    "## Содержание\n",
    "\n",
    "* [Постановка](#Постановка)\n",
    "* [Задачи](#Задачи)\n",
    "* [Черновик](#Черновик)\n",
    "---"
   ]
  },
  {
   "cell_type": "markdown",
   "metadata": {},
   "source": [
    "##  Постановка"
   ]
  },
  {
   "cell_type": "markdown",
   "metadata": {},
   "source": [
    "https://smartiqa.ru/python-workbook"
   ]
  },
  {
   "cell_type": "code",
   "execution_count": null,
   "metadata": {},
   "outputs": [],
   "source": [
    "#Задача1\n",
    "'''Дан список l. Преобразуйте список в Tuple'''\n",
    "l = [1,2,3,-5,'f']\n",
    "#Решение:\n",
    "\n",
    "#Проверка:\n",
    "print(l, type(l))"
   ]
  },
  {
   "cell_type": "code",
   "execution_count": null,
   "metadata": {},
   "outputs": [],
   "source": [
    "#Задача2\n",
    "'''Преобразуйте каждое из представленных выражений в ЦЕЛОЕ десятичное число c помощью функции int().\n",
    "Обратите внимание, что не все переменные можно преобразовать.'''\n",
    "a = '123е'\n",
    "b = '91.4'\n",
    "c = 524.345 ** 43\n",
    "d = '7.1 + 4'\n",
    "f = '4 - 2'\n",
    "g = '42'\n",
    "h = -12.12\n",
    "\n",
    "#Решение:\n",
    "x = int(g) # - пример\n",
    "\n",
    "\n",
    "#Комментарии:\n",
    "'''\n",
    "- Строку преобразовать нельзя, если в ней есть буквенный символ,\n",
    "не имеющий численного представления в десятичной системе счисления.\n",
    "- Строку, имитирующую число с плавающей точкой к типу int преобразовать не получится.\n",
    "- Строку и число либо выражение внутри строки нельзя сделать целым числом.\n",
    "- Если внутри строки имеются лишь числа, то Python без проблем сделает из них int.\n",
    "- Число с плавающей точкой преобразуется в целое методом отсечения дробного остатка.\n",
    "К целым числам можно привести:\n",
    "– целые числа: int(555) = 555;\n",
    "– числа с плавающей точкой: int(-32.45) = -32;\n",
    "– булевы значения: int(False) = 0;\n",
    "– десятичные дроби: int(Decimal('17.7')) = 17;\n",
    "– дробные числа: int(Fraction(10, 7)) = 1;\n",
    "– строки: int('31') = 31.\n",
    "'''\n",
    "#Проверка:\n",
    "print(x, type(x))"
   ]
  },
  {
   "cell_type": "code",
   "execution_count": null,
   "metadata": {},
   "outputs": [],
   "source": [
    "#Задача3. Представить задачу в виде \"Задача - в ноутбуке, ответ - вне ноутбука (как решебник)\"\n",
    "'''Какая операция с целыми числами никогда не дает в виде результата целое число?'''\n",
    "#Ответ:\n",
    "'''Простое деление всегда возвращает тип float, даже если деление не имеет дробного остатка \n",
    "(т.е. если разделить 4 / 2, то получим 2.0, а не 2).'''"
   ]
  },
  {
   "cell_type": "code",
   "execution_count": null,
   "metadata": {},
   "outputs": [],
   "source": [
    "#Задача4\n",
    "'''Дано комплексное число x. Подобрать комплексное число y так, чтобы сумма x и y была в начале координат'''\n",
    "x = complex(1j - 4)\n",
    "\n",
    "#Решение:\n",
    "y = complex(-5j)\n",
    "\n",
    "#Проверка:\n",
    "print(x+y)"
   ]
  },
  {
   "cell_type": "code",
   "execution_count": null,
   "metadata": {},
   "outputs": [],
   "source": [
    "#Задача4\n",
    "'''Дана последовательность r. \n",
    "Представить последовательность в виде списка, затем отобрать только каждый второй элемент, используя шаг'''\n",
    "r = range(6)\n",
    "\n",
    "#Решение:\n",
    "r = list(r)\n",
    "r[1::2]\n"
   ]
  },
  {
   "cell_type": "code",
   "execution_count": null,
   "metadata": {},
   "outputs": [],
   "source": [
    "#Задача5\n",
    "'''Даны переменные xx, yy. Изменить переменную yy так, чтобы zz = False'''\n",
    "xx = bool(5-78**2)\n",
    "yy = 5/(3**3)\n",
    "zz = bool(xx * yy)\n",
    "print('Дано: ',zz)\n",
    "\n",
    "#Решение:\n",
    "yy = 0\n",
    "zz = bool(xx * yy)\n",
    "\n",
    "#Проверка:\n",
    "print('Решение: ',zz)"
   ]
  },
  {
   "cell_type": "code",
   "execution_count": null,
   "metadata": {},
   "outputs": [],
   "source": [
    "#Задача6\n",
    "''' Данна переменная а типа str. Вывести только второе слово, изменив s1,s2 \n",
    "'''\n",
    "a = \"Hello, World!\"\n",
    "s1 = 3\n",
    "s2 = 5\n",
    "\n",
    "#Решение:\n",
    "s1 = 7\n",
    "s2 = 12\n",
    "\n",
    "#Проверка:\n",
    "print(a[s1:s2])"
   ]
  },
  {
   "cell_type": "code",
   "execution_count": null,
   "metadata": {},
   "outputs": [],
   "source": [
    "#Задача7\n",
    "'''Даны 4 переменные. Изменить порядок использования переменных в 'myorder' так,\n",
    "чтобы получить корректное предложение '''\n",
    "quantity = 3\n",
    "itemno = 'bag'\n",
    "price = '$' + str(49.95)\n",
    "myorder = \"I want to pay {0} dollars for {0} pieces of item {2}.\"\n",
    "\n",
    "#Решение:\n",
    "myorder = \"I want to pay {2} dollars for {0} pieces of item {1}.\"\n",
    "\n",
    "#Проверка:\n",
    "print(myorder.format(quantity, itemno, price))"
   ]
  },
  {
   "cell_type": "markdown",
   "metadata": {},
   "source": [
    "**7.1 Задачи в ином формате**"
   ]
  },
  {
   "cell_type": "code",
   "execution_count": null,
   "metadata": {},
   "outputs": [],
   "source": [
    "# Примеры заданий\n",
    "names_list = ['Алла', 'Маша', 'Александр', 'Сергей', 'Вера', 'Константин', 'Елена', 'Максим', 'Роман']\n",
    "\n",
    "# 1. Работа со списком:\n",
    "#   - Выбрать Веру двумя разными способами.\n",
    "#   - Рассчитайся на 1/2. Создать два списка для учителя физкультуры.\n",
    "#   - Развернуть список.\n",
    "\n",
    "# 2. Дано неправильное решение, как его исправить? Необходимо выбрать два имени, Сергей и Константин.\n",
    "#names_list[3,5]\n",
    "\n",
    "################################################################################\n",
    "\n",
    "# 3. Какова минимальная длина слова в списке и сколько таких имен всего?\n",
    "# Решение:\n",
    "my_list = []\n",
    "for i in names_list:\n",
    "    my_list.append(len(i))\n",
    "name_length = min(my_list)\n",
    "result = my_list.count(name_length)\n",
    "print(f'Минимальная длинна: {name_length}')\n",
    "print(f'  Всего таких слов: {result}')\n",
    "\n",
    "################################################################################\n",
    "\n",
    "# 4. Самостоятельный разбор или что тут происходит\n",
    "my_list = [1, 10, 45, 31, 12, 54, 111, 398, 97, 63]\n",
    "result = max(my_list) + min(my_list) + my_list.count('batman')\n",
    "print(result)\n",
    "\n",
    "################################################################################\n",
    "\n",
    "# 5. Самостоятельный разбор, вариант посложнее\n",
    "my_list = [1, 10, 45, 31, 12, 54, 111, 398, 97, 63]\n",
    "my_list.sort(reverse = True)\n",
    "new_list = my_list[::2]\n",
    "result = 0\n",
    "for number in new_list:\n",
    "    result += number\n",
    "print(result)\n",
    "\n",
    "################################################################################\n",
    "\n",
    "# 6. Дан список с одним числом my_list = [2], необходимо расширить его до 10 элементов, где каждый последующий элемент в два раза больше предыдущего.\n",
    "# Ответ: [2, 4, 8, 16, 32, 64, 128, 256, 512, 1024]\n",
    "# Решение:\n",
    "my_list = [2]\n",
    "for i in range(9):\n",
    "    my_list.append(my_list[i] * 2)\n",
    "my_list"
   ]
  },
  {
   "cell_type": "markdown",
   "metadata": {},
   "source": [
    "## Задачи"
   ]
  },
  {
   "cell_type": "markdown",
   "metadata": {},
   "source": [
    "**Задача1.** \\\n",
    "Данны переменные а, b типа str. \n",
    "```\n",
    "a = \"Hello, World!\"\n",
    "b = 'Just Peace, nothing more!'\n",
    "```\n",
    "\n",
    "Задать переменные. Записать в переменную 'result1' только **вторые** слова переменных, используя срезы (slice)"
   ]
  },
  {
   "cell_type": "code",
   "execution_count": null,
   "metadata": {},
   "outputs": [],
   "source": [
    "#Решение задачи:\n",
    "a = \"Hello, World!\"\n",
    "b = 'Just Peace, nothing more!'\n",
    "result1 = a[7:12] + b[5:10]\n",
    "#result1 = a[2]\n",
    "result1\n",
    "\n",
    "###################################\n",
    "#Создание интерфейса проверки\n",
    "from Home_task_Interface import CellRunner\n",
    "from IPython.display import Javascript\n",
    "Javascript(CellRunner().runner(1)) #Запуск {1} ячейки из текущей"
   ]
  },
  {
   "cell_type": "code",
   "execution_count": null,
   "metadata": {},
   "outputs": [],
   "source": [
    "import ipywidgets as widgets\n",
    "from IPython.display import HTML, display, clear_output\n",
    "from ipywidgets import Button, Layout, HBox, VBox\n",
    "\n",
    "from Home_task_Interface import HomeTaskInterface\n",
    "HomeTaskInterface(task_number = 1, result = result1).display_hbox() # Номер задачи для проверки - task_number"
   ]
  },
  {
   "cell_type": "markdown",
   "metadata": {},
   "source": [
    "________"
   ]
  },
  {
   "cell_type": "markdown",
   "metadata": {},
   "source": [
    "### Задача2\n",
    "Дан список учеников names_list:\n",
    "```\n",
    "names_list = ['Алла', 'Маша', 'Александр', 'Сергей', 'Вера', 'Константин', 'Елена', 'Максим', 'Роман']\n",
    "```\n",
    "1. Развернуть список.\n",
    "2. Из списка в п.1 выбрать каждое второе имя начиная с начала для учителя физкультуры. \n",
    "3. Присвоить получившийся список переменной result2."
   ]
  },
  {
   "cell_type": "code",
   "execution_count": 7,
   "metadata": {},
   "outputs": [
    {
     "data": {
      "text/plain": [
       "['Роман', 'Елена', 'Вера', 'Александр', 'Алла']"
      ]
     },
     "execution_count": 7,
     "metadata": {},
     "output_type": "execute_result"
    }
   ],
   "source": [
    "names_list = ['Алла', 'Маша', 'Александр', 'Сергей', 'Вера', 'Константин', 'Елена', 'Максим', 'Роман']\n",
    "#Решение:\n",
    "result2 = names_list[::-1][::2]\n",
    "#result2 = names_list[2::-1][::2]\n",
    "result2"
   ]
  },
  {
   "cell_type": "code",
   "execution_count": 8,
   "metadata": {},
   "outputs": [
    {
     "data": {
      "application/javascript": [
       "\n",
       "var output_area = this;\n",
       "var cell_element = output_area.element.parents('.cell');\n",
       "var cell_idx = Jupyter.notebook.get_cell_elements().index(cell_element);\n",
       "Jupyter.notebook.execute_cells([cell_idx+1]);\n"
      ],
      "text/plain": [
       "<IPython.core.display.Javascript object>"
      ]
     },
     "execution_count": 8,
     "metadata": {},
     "output_type": "execute_result"
    }
   ],
   "source": [
    "#Создание интерфейса проверки\n",
    "from Home_task_Interface import CellRunner\n",
    "from IPython.display import Javascript\n",
    "Javascript(CellRunner().runner(1)) #Запуск {1} ячейки из текущей"
   ]
  },
  {
   "cell_type": "code",
   "execution_count": 9,
   "metadata": {},
   "outputs": [
    {
     "data": {
      "application/vnd.jupyter.widget-view+json": {
       "model_id": "e8f3639ffd0d45cf91a29f1d682e2c84",
       "version_major": 2,
       "version_minor": 0
      },
      "text/plain": [
       "HBox(children=(VBox(children=(Button(button_style='info', description='ОТПРАВИТЬ ОТВЕТ', icon='check', layout=…"
      ]
     },
     "metadata": {},
     "output_type": "display_data"
    },
    {
     "data": {
      "text/html": [
       "<script>\n",
       "        code_show=true; \n",
       "        function code_toggle() {\n",
       "         if (code_show){\n",
       "         $('div.cell.code_cell.rendered.selected div.input').hide();\n",
       "         } else {\n",
       "         $('div.cell.code_cell.rendered.selected div.input').show();\n",
       "         }\n",
       "         code_show = !code_show\n",
       "        } \n",
       "        $( document ).ready(code_toggle);\n",
       "        </script>\n",
       "        <form action=\"javascript:code_toggle()\"  align=\"right\"><input type=\"submit\" value=\"Raw code\"> </form>"
      ],
      "text/plain": [
       "<IPython.core.display.HTML object>"
      ]
     },
     "metadata": {},
     "output_type": "display_data"
    }
   ],
   "source": [
    "from Home_task_Interface import HomeTaskInterface \n",
    "HomeTaskInterface(task_number = 2, result = result2).display_hbox() # Номер задачи для проверки - task_number"
   ]
  },
  {
   "cell_type": "markdown",
   "metadata": {},
   "source": [
    "### Задача3 Полиндром\n",
    "Дано целое число x, напишите функцию которая возвращает true, если x - полиндром и false - иначе.\n",
    "\n",
    "Example 1:\n",
    "```\n",
    "Input: x = 121\n",
    "Output: true\n",
    "Explanation: 121 reads as 121 from left to right and from right to left.\n",
    "```\n",
    "Example 2:\n",
    "```\n",
    "Input: x = -121\n",
    "Output: false\n",
    "Explanation: From left to right, it reads -121. From right to left, it becomes 121-. Therefore it is not a palindrome.\n",
    "```\n",
    "Example 3:\n",
    "```\n",
    "Input: x = 10\n",
    "Output: false\n",
    "Explanation: Reads 01 from right to left. Therefore it is not a palindrome.\n",
    "```\n",
    "Задайте функцию в ячейке ниже и определите функцию isPalindrome:"
   ]
  },
  {
   "cell_type": "code",
   "execution_count": null,
   "metadata": {},
   "outputs": [],
   "source": [
    "#Ваше Решение:\n",
    "def isPalindrome(x):\n",
    "    if x<0:\n",
    "        return False\n",
    "    xx = [int(x) for x in str(x)]\n",
    "    c=0\n",
    "    while c==0:\n",
    "        for i in range(int(len(xx)/2)+1):\n",
    "            if xx[i]!=xx[-i-1] :\n",
    "                c+=1\n",
    "                return False\n",
    "            else:\n",
    "                c=0\n",
    "\n",
    "            return True\n",
    "#Polindrome_func = isPalindrome\n",
    "print(isPalindrome(121))\n",
    "\n",
    "\n",
    "###############################################################################\n",
    "#Запустите текущую ячейку с вашим ответом для сборки интерфейса проверки решения\n",
    "#Создание интерфейса проверки\n",
    "from Home_task_Interface import CellRunner\n",
    "from IPython.display import Javascript\n",
    "Javascript(CellRunner().runner(1)) #Запуск {1} ячейки из текущей"
   ]
  },
  {
   "cell_type": "code",
   "execution_count": null,
   "metadata": {},
   "outputs": [],
   "source": [
    "#Создание интерфейса проверки\n",
    "from Home_task_Interface import CellRunner\n",
    "from IPython.display import Javascript\n",
    "Javascript(CellRunner().runner(1)) #Запуск {1} ячейки из текущей"
   ]
  },
  {
   "cell_type": "code",
   "execution_count": null,
   "metadata": {},
   "outputs": [],
   "source": [
    "from Home_task_Interface import HomeTaskInterface\n",
    "HomeTaskInterface(task_number = 3, result = isPalindrome).display_hbox() # Номер задачи для проверки - task_number"
   ]
  },
  {
   "cell_type": "markdown",
   "metadata": {},
   "source": [
    "## Черновик"
   ]
  },
  {
   "cell_type": "code",
   "execution_count": null,
   "metadata": {},
   "outputs": [],
   "source": [
    "import inspect\n",
    "func_raw_code = inspect.getsource(Polindrome_func)\n",
    "func_raw_code"
   ]
  },
  {
   "cell_type": "code",
   "execution_count": null,
   "metadata": {},
   "outputs": [],
   "source": [
    "!python Test_Calculator.py -v"
   ]
  },
  {
   "cell_type": "code",
   "execution_count": null,
   "metadata": {},
   "outputs": [],
   "source": [
    "с =3\n",
    "с\n",
    "!python Test_Unit_test_task1.py -v"
   ]
  },
  {
   "cell_type": "code",
   "execution_count": null,
   "metadata": {},
   "outputs": [],
   "source": [
    "{\"tags\": [\"hide-cell\"]}"
   ]
  },
  {
   "cell_type": "code",
   "execution_count": null,
   "metadata": {},
   "outputs": [],
   "source": [
    "class color:\n",
    "   PURPLE = '\\033[95m'\n",
    "   CYAN = '\\033[96m'\n",
    "   DARKCYAN = '\\033[36m'\n",
    "   BLUE = '\\033[94m'\n",
    "   GREEN = '\\033[92m'\n",
    "   YELLOW = '\\033[93m'\n",
    "   RED = '\\033[91m'\n",
    "   BOLD = '\\033[1m'\n",
    "   UNDERLINE = '\\033[4m'\n",
    "   END = '\\033[0m'\n",
    "\n",
    "print('\\033[4m' + 'Hello, World!' + color.YELLOW)"
   ]
  },
  {
   "cell_type": "code",
   "execution_count": null,
   "metadata": {},
   "outputs": [],
   "source": [
    "from IPython.core.display import display, HTML\n",
    "display(HTML('<h2>Hello, world!</h2>'))"
   ]
  },
  {
   "cell_type": "code",
   "execution_count": null,
   "metadata": {},
   "outputs": [],
   "source": [
    "try:\n",
    "  print(xxx)\n",
    "except:\n",
    "  print(\"An exception occurred\")"
   ]
  },
  {
   "cell_type": "code",
   "execution_count": null,
   "metadata": {},
   "outputs": [],
   "source": [
    "from IPython.display import HTML\n",
    "import random\n",
    "\n",
    "def hide_toggle(for_next=False):\n",
    "    this_cell = \"\"\"$('div.cell.code_cell.rendered.selected')\"\"\"\n",
    "    next_cell = this_cell + '.next()'\n",
    "\n",
    "    toggle_text = 'Toggle show/hide'  # text shown on toggle link\n",
    "    target_cell = this_cell  # target cell to control with toggle\n",
    "    js_hide_current = ''  # bit of JS to permanently hide code in current cell (only when toggling next cell)\n",
    "\n",
    "    if for_next:\n",
    "        target_cell = next_cell\n",
    "        toggle_text += ' next cell'\n",
    "        js_hide_current = this_cell + '.find(\"div.input\").hide();'\n",
    "\n",
    "    js_f_name = 'code_toggle_{}'.format(str(random.randint(1,2**64)))\n",
    "\n",
    "    html = \"\"\"\n",
    "        <script>\n",
    "            function {f_name}() {{\n",
    "                {cell_selector}.find('div.input').toggle();\n",
    "            }}\n",
    "\n",
    "            {js_hide_current}\n",
    "        </script>\n",
    "\n",
    "        <a href=\"javascript:{f_name}()\">{toggle_text}</a>\n",
    "    \"\"\".format(\n",
    "        f_name=js_f_name,\n",
    "        cell_selector=target_cell,\n",
    "        js_hide_current=js_hide_current, \n",
    "        toggle_text=toggle_text\n",
    "    )\n",
    "\n",
    "    return HTML(html)\n",
    "print('end')\n",
    "#hide_toggle()"
   ]
  },
  {
   "cell_type": "code",
   "execution_count": null,
   "metadata": {},
   "outputs": [],
   "source": [
    "x = 1\n",
    "y = 2\n",
    "print('Result is {} + {}'.format(x, y))\n",
    "\n",
    "hide_toggle()"
   ]
  },
  {
   "cell_type": "code",
   "execution_count": null,
   "metadata": {},
   "outputs": [],
   "source": [
    "hide_toggle(for_next=True)"
   ]
  },
  {
   "cell_type": "code",
   "execution_count": null,
   "metadata": {},
   "outputs": [],
   "source": [
    "# Запуск иной ячейки из текущей = run next cell\n",
    "from IPython.display import Javascript\n",
    "js_command ='''\n",
    "var output_area = this;\n",
    "// find my cell element\n",
    "var cell_element = output_area.element.parents('.cell');\n",
    "// which cell is it?\n",
    "var cell_idx = Jupyter.notebook.get_cell_elements().index(cell_element);\n",
    "Jupyter.notebook.execute_cells([cell_idx+1]);\n",
    "Jupyter.notebook.execute_cells([cell_idx+2])\n",
    "'''\n",
    "Javascript(js_command)"
   ]
  },
  {
   "cell_type": "code",
   "execution_count": null,
   "metadata": {},
   "outputs": [],
   "source": [
    "print('js done 2')"
   ]
  },
  {
   "cell_type": "code",
   "execution_count": null,
   "metadata": {},
   "outputs": [],
   "source": [
    "from IPython.display import HTML\n",
    "print('hidden cell is done')\n",
    "\n",
    "HTML('''<script>\n",
    "code_show=true; \n",
    "function code_toggle() {\n",
    " if (code_show){\n",
    " $('div.cell.code_cell.rendered.selected div.input').hide();\n",
    " } else {\n",
    " $('div.cell.code_cell.rendered.selected div.input').show();\n",
    " }\n",
    " code_show = !code_show\n",
    "} \n",
    "$( document ).ready(code_toggle);\n",
    "</script>\n",
    "<form action=\"javascript:code_toggle()\"><input type=\"submit\" value=\"Click here to toggle on/off the raw code.\"></form>''')\n"
   ]
  },
  {
   "cell_type": "code",
   "execution_count": null,
   "metadata": {},
   "outputs": [],
   "source": [
    "from IPython.display import HTML\n",
    "tagg = HTML('''<script>\n",
    "code_show=true; \n",
    "function code_toggle() {\n",
    " if (code_show){\n",
    " $('.cm-comment:contains(@hidden)').closest('div.input').hide();\n",
    " } else {\n",
    " $('.cm-comment:contains(@hidden)').closest('div.input').show();\n",
    " }\n",
    " code_show = !code_show\n",
    "} \n",
    "$( document ).ready(code_toggle);\n",
    "</script>\n",
    "The raw code for this IPython notebook is by default hidden for easier reading.\n",
    "To toggle on/off the raw code, click <a href=\"javascript:code_toggle()\">here</a>.''')\n",
    "display(tagg)"
   ]
  },
  {
   "cell_type": "code",
   "execution_count": null,
   "metadata": {},
   "outputs": [],
   "source": [
    "from IPython.core.display import display, HTML\n",
    "# Удалить весь инпут во всем ноутбуке\n",
    "#display(HTML(r\"\"\"<style id=hide>div.input{display:none;}</style><button type=\"button\"onclick=\"var myStyle = document.getElementById('hide').sheet;myStyle.insertRule('div.input{display:inherit !important;}', 0);\">Show inputs</button>\"\"\"))\n",
    "c = 5\n",
    "c"
   ]
  },
  {
   "cell_type": "code",
   "execution_count": null,
   "metadata": {},
   "outputs": [],
   "source": [
    "from IPython.display import HTML\n",
    "from IPython.display import display\n",
    "\n",
    "# Взято из https://stackoverflow.com/questions/31517194/how-to-hide-one-specific-cell-input-or-output-in-ipython-notebook\n",
    "tag = HTML(''' <script> <input type=\"hidden\">\n",
    "code_show=true; \n",
    "function code_toggle() {\n",
    "    if (code_show){\n",
    "        $('div.cell.code_cell.rendered.selected div.input').hide();\n",
    "    } else {\n",
    "        $('div.cell.code_cell.rendered.selected div.input').show();\n",
    "    }\n",
    "    code_show = !code_show\n",
    "} \n",
    "$( document ).ready(code_toggle);\n",
    "</script>\n",
    "<p style=\"text-align:right;\"> * <a href=\"javascript:code_toggle()\">  \n",
    "Скрыть\\развернуть тех.код   </a> </p> \n",
    "<!-- <form action=\"javascript:code_toggle()\"><input type=\"submit\" value=\"Показать\\Скрыть технический код\"></form> -->\n",
    "''')\n",
    "\n",
    "display(tag)"
   ]
  },
  {
   "cell_type": "code",
   "execution_count": null,
   "metadata": {
    "scrolled": true,
    "tags": [
     "hide_input",
     "hhh"
    ]
   },
   "outputs": [],
   "source": [
    "from IPython.display import HTML\n",
    "print('xxx')\n",
    "\n",
    "HTML('''<script>\n",
    "code_show=true; \n",
    "function code_toggle() {\n",
    " if (code_show){\n",
    " $('div.cell.code_cell.rendered.selected div.input').hide();\n",
    " } else {\n",
    " $('div.cell.code_cell.rendered.selected div.input').show();\n",
    " }\n",
    " code_show = !code_show\n",
    "} \n",
    "$( document ).ready(code_toggle);\n",
    "</script>\n",
    "<form action=\"javascript:code_toggle()\"><input type=\"submit\" value=\"Click here to toggle on/off the raw code.\"></form>''')\n"
   ]
  },
  {
   "cell_type": "code",
   "execution_count": null,
   "metadata": {},
   "outputs": [],
   "source": [
    "from IPython.display import HTML\n",
    "from IPython.display import display\n",
    "\n",
    "# Taken from https://stackoverflow.com/questions/31517194/how-to-hide-one-specific-cell-input-or-output-in-ipython-notebook\n",
    "tag = HTML('''<script>\n",
    "code_show=true; \n",
    "function code_toggle() {\n",
    "    if (code_show){\n",
    "        $('div.cell.code_cell.rendered.selected div.input').hide();\n",
    "    } else {\n",
    "        $('div.cell.code_cell.rendered.selected div.input').show();\n",
    "    }\n",
    "    code_show = !code_show\n",
    "} \n",
    "$( document ).ready(code_toggle);\n",
    "</script>\n",
    "To show/hide this cell's raw code input, click <a href=\"javascript:code_toggle()\">here</a>.''')\n",
    "display(tag)\n",
    "\n",
    "'''</script>\n",
    "<p style=\"text-align:right;\"> * <a href=\"javascript:code_toggle()\">  \n",
    "Скрыть\\развернуть тех.код   </a> </p> '''"
   ]
  },
  {
   "cell_type": "code",
   "execution_count": null,
   "metadata": {},
   "outputs": [],
   "source": [
    "def is_notebook() -> bool:\n",
    "    try:\n",
    "        shell = get_ipython().__class__.__name__\n",
    "        if shell == 'ZMQInteractiveShell':\n",
    "            return True   # Jupyter notebook or qtconsole\n",
    "        elif shell == 'TerminalInteractiveShell':\n",
    "            return False  # Terminal running IPython\n",
    "        else:\n",
    "            return False  # Other type (?)\n",
    "    except NameError:\n",
    "        return False      # Probably standard Python interpreter\n",
    "is_notebook()"
   ]
  },
  {
   "cell_type": "code",
   "execution_count": null,
   "metadata": {},
   "outputs": [],
   "source": [
    "import unittest\n",
    "\n",
    "class TestStringMethods(unittest.TestCase):\n",
    "\n",
    "    def test_upper(self):\n",
    "        self.assertEqual('foo'.upper(), 'FOO')\n",
    "\n",
    "    def test_isupper(self):\n",
    "        self.assertTrue('FOO'.isupper())\n",
    "        self.assertFalse('Foo'.isupper())\n",
    "\n",
    "    def test_split(self):\n",
    "        s = 'hello world'\n",
    "        self.assertEqual(s.split(), ['hello', 'world'])\n",
    "        # check that s.split fails when the separator is not a string\n",
    "        with self.assertRaises(TypeError):\n",
    "            s.split(2)\n",
    "\n",
    "#if __name__ == '__main__':\n",
    "#    unittest.main()\n"
   ]
  },
  {
   "cell_type": "code",
   "execution_count": null,
   "metadata": {},
   "outputs": [],
   "source": [
    "def foo(arg1,arg2):         \n",
    "   #do something with args \n",
    "    a = arg1 + arg2 \n",
    "    if arg1>1:\n",
    "        return a  \n",
    "import inspect\n",
    "func_raw_code = inspect.getsource(foo)\n",
    "print(func_raw_code)"
   ]
  },
  {
   "cell_type": "code",
   "execution_count": null,
   "metadata": {},
   "outputs": [],
   "source": [
    "def isPalindrome(x):\n",
    "    if x<0:\n",
    "        return False\n",
    "    xx = [int(x) for x in str(x)]\n",
    "    c=0\n",
    "    while c==0:\n",
    "        for i in range(int(len(xx)/2)+1):\n",
    "            if xx[i]!=xx[-i-1] :\n",
    "                c+=1\n",
    "                return False\n",
    "            else:\n",
    "                c=0\n",
    "\n",
    "            return True\n",
    "#Polindrome_func = isPalindrome\n",
    "print(isPalindrome(121))\n",
    "#func_raw_code = str(inspect.getsource(isPalindrome))\n",
    "#func_raw_code\n",
    "import inspect\n",
    "fft = print(inspect.getsource(isPalindrome))\n",
    "fft"
   ]
  },
  {
   "cell_type": "code",
   "execution_count": null,
   "metadata": {},
   "outputs": [],
   "source": [
    "def foo(arg1,arg2):         \n",
    "   #do something with args \n",
    "    a = arg1 + arg2 \n",
    "    if arg1>1:\n",
    "        return a  \n",
    "import inspect\n",
    "func_raw_code = inspect.getsource(foo)\n",
    "print(func_raw_code)"
   ]
  },
  {
   "cell_type": "code",
   "execution_count": null,
   "metadata": {},
   "outputs": [],
   "source": [
    "result = 'WorldPeace'"
   ]
  },
  {
   "cell_type": "code",
   "execution_count": null,
   "metadata": {},
   "outputs": [],
   "source": [
    "names_list = ['Алла', 'Маша', 'Александр', 'Сергей', 'Вера', 'Константин', 'Елена', 'Максим', 'Роман']\n",
    "#Решение:\n",
    "result = names_list[::-1][::2]\n",
    "#result = names_list[2::-1][::2]\n",
    "result"
   ]
  },
  {
   "cell_type": "code",
   "execution_count": null,
   "metadata": {},
   "outputs": [],
   "source": [
    "#Ваше Решение:\n",
    "def isPalindrome(x):\n",
    "    if x<0:\n",
    "        return False\n",
    "    xx = [int(x) for x in str(x)]\n",
    "    c=0\n",
    "    while c==0:\n",
    "        for i in range(int(len(xx)/2)+1):\n",
    "            if xx[i]!=xx[-i-1] :\n",
    "                c+=1\n",
    "                return False\n",
    "            else:\n",
    "                c=0\n",
    "\n",
    "            return True\n",
    "#Polindrome_func = isPalindrome\n",
    "print(isPalindrome(541207818702145))\n",
    "#Создание интерфейса проверки\n",
    "from Home_task_Interface import CellRunner\n",
    "from IPython.display import Javascript\n",
    "Javascript(CellRunner().runner(1)) #Запуск {1} ячейки из текущей"
   ]
  },
  {
   "cell_type": "code",
   "execution_count": null,
   "metadata": {},
   "outputs": [],
   "source": [
    "from Home_task_Interface import HomeTaskInterface\n",
    "#result3 = isPalindrome \n",
    "HomeTaskInterface(task_number = 3, result = isPalindrome).display_hbox() # Номер задачи для проверки - task_number"
   ]
  },
  {
   "cell_type": "code",
   "execution_count": null,
   "metadata": {},
   "outputs": [],
   "source": [
    "#!python Test_Unit_test_task1.py\n",
    "print(33)"
   ]
  },
  {
   "cell_type": "code",
   "execution_count": null,
   "metadata": {},
   "outputs": [],
   "source": [
    "result\n",
    "#func_raw_code = str(inspect.getsource(result))\n",
    "#func_raw_code"
   ]
  },
  {
   "cell_type": "code",
   "execution_count": null,
   "metadata": {},
   "outputs": [],
   "source": [
    "import subprocess\n",
    "output = subprocess.run('python3 Test_Unit_test_task1.py', shell=True, stdout=subprocess.PIPE, stderr=subprocess.PIPE, encoding='utf-8') #.stdout\n",
    "print(output.stderr) #именно stderr, т.к. output.stdout - не выведет результат. \n",
    "if 's\\n\\nOK' in output.stderr:\n",
    "    print('Ответ ВЕРНЫЙ! Отлично!')\n",
    "else:\n",
    "    print('Ответ НЕВЕРНЫЙ, попробуй подсказку')"
   ]
  },
  {
   "cell_type": "code",
   "execution_count": null,
   "metadata": {},
   "outputs": [],
   "source": [
    "result = isPalindrome\n",
    "def ff(  ):\n",
    "    pass\n",
    "#result = ff\n",
    "result"
   ]
  },
  {
   "cell_type": "code",
   "execution_count": null,
   "metadata": {},
   "outputs": [],
   "source": [
    "import inspect\n",
    "if callable(result): # Если result - это функция\n",
    "    func_raw_code = str(inspect.getsource(result)) # забираем функцию как строку\n",
    "    func_raw_code = func_raw_code.split('\\n') # парсим строку, потому что функция getsource удаляет табуляцию на вторых строках\n",
    "    for row in range(1,len(func_raw_code)-1):\n",
    "        func_raw_code[row] = str('\\n\\t' + func_raw_code[row] ) #добавляем всем строкам табуляцию, кроме первой\n",
    "    #Добавляем \"self\" для превращения функции в метод    \n",
    "    if 'def ' in func_raw_code[0]: #Если в первой строке ключевое слово def\n",
    "        splitted_row_right = func_raw_code[0].split('(')[1]\n",
    "        #необходимо понять было ли что-то в скобках (переменные)\n",
    "        if any(c.isalpha() for c in splitted_row_right.split(')')[0]): #если в скобках не было пусто\n",
    "            splitted_row_right = '(self, ' + splitted_row_right\n",
    "        else:\n",
    "            splitted_row_right = '(self' + splitted_row_right #если переменных не было\n",
    "        func_raw_code[0] = func_raw_code[0].split('(')[0] + splitted_row_right #соединяем левую (т.е. [0]) и правую части\n",
    "    func_raw_code_str = str(''.join(func_raw_code)) #соединяем список строк с новыми табуляциями\n",
    "    class_str = '''\n",
    "class Solution:\n",
    "    def __init__(self):\n",
    "        pass          \n",
    "    ''' + func_raw_code_str\n",
    "                    \n",
    "print(class_str)"
   ]
  },
  {
   "cell_type": "code",
   "execution_count": null,
   "metadata": {},
   "outputs": [],
   "source": [
    "any(c.isalpha() for c in ' ')"
   ]
  },
  {
   "cell_type": "code",
   "execution_count": null,
   "metadata": {},
   "outputs": [],
   "source": [
    "import ipywidgets as widgets\n",
    "\n",
    "int_slider = widgets.IntSlider(max=10, value=5)\n",
    "int_slider"
   ]
  },
  {
   "cell_type": "code",
   "execution_count": null,
   "metadata": {},
   "outputs": [],
   "source": [
    "from ipywidgets import Button, Layout, HBox, VBox\n",
    "button_empty = Button(description=\" \", button_style='info', layout=Layout(width='155px', height='25px'))\n",
    "button_write = Button(description=\"ОТПРАВИТЬ ОТВЕТ\", icon='check', button_style='info',  \\\n",
    "                      layout=Layout(width='205px', height='85px', border='1px solid #0d4282'))\n",
    "display(HBox([button_write, VBox([button_empty, button_empty,button_empty])]))"
   ]
  },
  {
   "cell_type": "code",
   "execution_count": null,
   "metadata": {},
   "outputs": [],
   "source": [
    "from IPython.core.interactiveshell import InteractiveShell\n",
    "InteractiveShell.ast_node_interactivity = \"all\""
   ]
  },
  {
   "cell_type": "code",
   "execution_count": null,
   "metadata": {},
   "outputs": [],
   "source": [
    "from ipywidgets import Button, Layout\n",
    "b = Button(description = 'x', fontsize =1000,color='black',\n",
    "          #style = {'button_color': 'transparent'}, \n",
    "          layout = Layout(width = '30px', color='black'\n",
    "                         , border='1px solid #0d4282'))\n",
    "#b.add_class('myclass')\n",
    "b"
   ]
  },
  {
   "cell_type": "code",
   "execution_count": null,
   "metadata": {},
   "outputs": [],
   "source": [
    "import ipywidgets as  widgets\n",
    "name1 = widgets.Text(description='Location:')\n",
    "zip1 = widgets.BoundedIntText(description='Zip:', min=0, max=99999)\n",
    "page1 = widgets.Box(children=[name1, zip1])\n",
    "\n",
    "name2 = widgets.Text(description='Location:')\n",
    "zip2 = widgets.BoundedIntText(description='Zip:', min=0, max=99999)\n",
    "page2 = widgets.Box(children=[name2, zip2])\n",
    "\n",
    "accord = widgets.Accordion(children=[page1, page2], width=400)\n",
    "display(accord)\n",
    "\n",
    "accord.set_title(0, 'From')\n",
    "accord.set_title(1, 'To')\n"
   ]
  },
  {
   "cell_type": "code",
   "execution_count": null,
   "metadata": {},
   "outputs": [],
   "source": [
    "name = widgets.Text(description='Name:', padding=4)\n",
    "color = widgets.Dropdown(description='Color:', padding=4, options=['red', 'orange', 'yellow', 'green', 'blue', 'indigo', 'violet'])\n",
    "page1 = widgets.Box(children=[name, color], padding=4)\n",
    "\n",
    "age = widgets.IntSlider(description='Age:', padding=4, min=0, max=120, value=50)\n",
    "gender = widgets.RadioButtons(description='Gender:', padding=4, options=['male', 'female'])\n",
    "page2 = widgets.Box(children=[age, gender], padding=4)\n",
    "\n",
    "tabs = widgets.Tab(children=[page1, page2])\n",
    "display(tabs)\n",
    "\n",
    "tabs.set_title(0, 'Name')\n",
    "tabs.set_title(1, 'Details')"
   ]
  },
  {
   "cell_type": "code",
   "execution_count": null,
   "metadata": {},
   "outputs": [],
   "source": [
    "buttons = [widgets.Button(description=str(i)) for i in range(2)]\n",
    "display(*buttons)"
   ]
  },
  {
   "cell_type": "code",
   "execution_count": null,
   "metadata": {},
   "outputs": [],
   "source": [
    "form = widgets.VBox()\n",
    "first = widgets.Text(description=\"First:\")\n",
    "last = widgets.Text(description=\"Last:\")\n",
    "\n",
    "student = widgets.Checkbox(description=\"Student:\", value=False)\n",
    "school_info = widgets.VBox(visible=False, children=[\n",
    "    widgets.Text(description=\"School:\"),\n",
    "    widgets.IntText(description=\"Grade:\", min=0, max=12)\n",
    "    ])\n",
    "\n",
    "pet = widgets.Text(description=\"Pet:\")\n",
    "form.children = [first, last, student, school_info, pet]\n",
    "display(form)\n",
    "\n",
    "def on_student_toggle(name, value):\n",
    "    if value:\n",
    "        school_info.visible = True\n",
    "    else:\n",
    "        school_info.visible = False\n",
    "student.on_trait_change(on_student_toggle, 'value')"
   ]
  },
  {
   "cell_type": "code",
   "execution_count": null,
   "metadata": {},
   "outputs": [],
   "source": [
    "grid_button = widgets.ToggleButton(\n",
    "    value=False,\n",
    "    description='Grid',\n",
    "    icon='check'\n",
    ")\n",
    "grid_button"
   ]
  },
  {
   "cell_type": "code",
   "execution_count": null,
   "metadata": {},
   "outputs": [],
   "source": [
    "from ipywidgets import Button, Layout, HBox, VBox\n",
    "from IPython.display import HTML, display\n",
    "\n",
    "button_write = Button(description=\"ОТПРАВИТЬ ОТВЕТ\", button_style='info', icon='check', tooltip='This is the tooltip', layout=Layout(width='257px', height='47px', border='1px solid #0d4282'))    \n",
    "button_show_sulution = Button(description=\"Показать решение\", button_style= 'warning', layout=Layout(width='135px', height='30px'))\n",
    "button_feedback = Button(description=\"Обратная связь\", button_style='primary', layout=Layout(width='135px', height='30px'))\n",
    "button_check_unittest = Button(description=\"ПРОВЕРИТЬ ЗАДАНИЕ\", button_style='success', layout=Layout(width='257px', height='47px', border='1px solid #0d4282'))\n",
    "button_clear =  Button(description=\"Стереть результат \", button_style='primary', layout=Layout(width='135px', height='30px'))\n",
    "button_tip = Button(description=\"Подсказка\", button_style='warning', layout=Layout(width='135px', height='30px'))\n",
    "button_correct_answer = Button(description=\"ОТВЕТ ВЕРНЫЙ!\", button_style='success', tooltip='Молодец!', layout=Layout(width='397px', height='98px', border='1px solid #0d4282'))\n",
    "\n",
    "display(HBox([VBox([button_write, button_check_unittest]),VBox([button_tip, button_feedback, button_clear]), button_correct_answer]))\n",
    "display(VBox([HBox([VBox([button_write, button_check_unittest]),VBox([button_tip, button_feedback, button_clear])]), button_correct_answer]))\n",
    "display(HTML('<h1>Ответ ВЕРНЫЙ!</h1>'))\n"
   ]
  },
  {
   "cell_type": "code",
   "execution_count": null,
   "metadata": {},
   "outputs": [],
   "source": [
    "from IPython.display import HTML, display, clear_output\n",
    "hj = HTML('''<html>\n",
    "<head><title>My first Python CGI app</title></head>\n",
    "<body>\n",
    "<p>Hello, 'world'!</p>\n",
    "</body>\n",
    "</html>''')\n",
    "hj"
   ]
  },
  {
   "cell_type": "code",
   "execution_count": null,
   "metadata": {},
   "outputs": [],
   "source": [
    "import ipywidgets as widgets\n",
    "t = widgets.Text(\n",
    "    value='Hello World',\n",
    "    placeholder='Type something',\n",
    "    description='Инструкция:',\n",
    "    disabled=True\n",
    ")\n",
    "display(t)"
   ]
  },
  {
   "cell_type": "code",
   "execution_count": null,
   "metadata": {},
   "outputs": [],
   "source": [
    "from Home_task_Interface import HomeTaskInterface\n",
    "HomeTaskInterface(task_number = 1, result = 'isPalindrome').display_hbox() # Номер задачи для проверки - task_number"
   ]
  },
  {
   "cell_type": "code",
   "execution_count": null,
   "metadata": {},
   "outputs": [],
   "source": [
    "from IPython.display import HTML\n",
    "import ipywidgets as widgets\n",
    "html_instruction_desc = '''\n",
    "<form action=\"/html/tags/html_form_tag_action.cfm\" method=\"post\">\n",
    "<textarea name=\"comments\" id=\"comments\" disabled style=\"font-family:Times New Roman;\n",
    "font-size: 15.5px; line-height: 14px;  width:392px;\n",
    "padding:1px;height:98px;\n",
    "background-color:#ebf2ff;border:5px groove #4383fa;\">\n",
    "Инструкция:\n",
    "1. Нажмите на кнопку \"ОТПРАВИТЬ ОТВЕТ\"\n",
    "2. Дождитесь фразы 'Ответ принят'.\n",
    "3. Нажмите на кнопку 'ПРОВЕРИТЬ ЗАДАНИЕ'.\n",
    "Ответ можно переотправлять.\n",
    "Будет принят последний из отправленных.\n",
    "</textarea><br>\n",
    "</form>\n",
    "'''\n",
    "#HTML(html_desc\n",
    "label_instruction = widgets.HTML(value=html_instruction_desc)\n",
    "#ipywidgets.HTML(html_desc)\n",
    "display(label_instruction)"
   ]
  },
  {
   "cell_type": "code",
   "execution_count": null,
   "metadata": {},
   "outputs": [],
   "source": [
    "from IPython.display import HTML\n",
    "import ipywidgets\n",
    "html_desc2 = '''\n",
    "<html>\n",
    " <head>\n",
    "  <meta charset=\"utf-8\">\n",
    "  <title>border-style</title>\n",
    "  <style>\n",
    "   p { \n",
    "    border-style: double; /* Стиль линии вокруг параграфа */\n",
    "    padding: 5px; /* Поля вокруг текста */\n",
    "   }\n",
    "  </style> \n",
    " </head> \n",
    " <body> \n",
    "  <p>Lorem ipsum dolor sit amet, consectetuer adipiscing elit, sed diem \n",
    "  nonummy nibh euismod tincidunt ut lacreet dolore magna aliguam erat volutpat.</p>\n",
    " </body> \n",
    "</html>\n",
    "'''\n",
    "HTML(html_desc2)"
   ]
  },
  {
   "cell_type": "code",
   "execution_count": 10,
   "metadata": {},
   "outputs": [
    {
     "data": {
      "application/vnd.jupyter.widget-view+json": {
       "model_id": "ed3d5ab2ffc742ca932d2e3e293e8e4c",
       "version_major": 2,
       "version_minor": 0
      },
      "text/plain": [
       "HBox(children=(VBox(children=(HTML(value='\\n<button class=\"button-91\" role=\"button\">ОТПРАВИТЬ ОТВЕТ</button>\\n…"
      ]
     },
     "metadata": {},
     "output_type": "display_data"
    }
   ],
   "source": [
    "from IPython.display import HTML\n",
    "import ipywidgets as widgets\n",
    "from ipywidgets import Button, Layout, HBox, VBox\n",
    "\n",
    "html_check_button = '''\n",
    "<button class=\"button-63\" role=\"button\">ПРОВЕРИТЬ</button>\n",
    "\n",
    "<style>\n",
    "/* CSS */\n",
    ".button-63 {\n",
    "  align-items: center;\n",
    "  background-image: linear-gradient(144deg,#096ac1, #4d0aaa 50%,#00DDEB);\n",
    "  border: 0.29;\n",
    "  border-radius: 14px;\n",
    "  box-shadow: rgba(151, 65, 252, 0.2) 0 15px 30px -5px;\n",
    "  box-sizing: border-box;\n",
    "  color: #FFFFFF;\n",
    "  display: flex;\n",
    "  font-family: Phantomsans, sans-serif;\n",
    "  justify-content: center;\n",
    "  line-height: 1em;\n",
    "  max-width: 100%;\n",
    "  padding: 9px 11px;\n",
    "  text-decoration: none;\n",
    "  user-select: none;\n",
    "  -webkit-user-select: none;\n",
    "  touch-action: manipulation;\n",
    "  white-space: nowrap;\n",
    "  cursor: pointer;\n",
    "  width: 266px;\n",
    "  font-size: 15px;\n",
    "  font-weight: bold;\n",
    "  height: 45px;\n",
    "\n",
    "}\n",
    "</style>\n",
    "\n",
    "'''\n",
    "\n",
    "html_send_answer = '''\n",
    "<button class=\"button-91\" role=\"button\">ОТПРАВИТЬ ОТВЕТ</button>\n",
    "\n",
    "<style>\n",
    "/* CSS */\n",
    ".button-91 {\n",
    "  color: #fff;\n",
    "  background-color: #38D2D2;\n",
    "  background-image: radial-gradient(93% 87% at 87% 89%, rgba(0, 0, 0, 0.23) 0%, transparent 86.18%), radial-gradient(66% 66% at 26% 20%, rgba(255, 255, 255, 0.55) 0%, rgba(255, 255, 255, 0) 69.79%, rgba(255, 255, 255, 0) 100%);\n",
    "  box-shadow: inset -3px -3px 9px rgba(255, 255, 255, 0.25), inset 0px 3px 9px rgba(255, 255, 255, 0.3), inset 0px 1px 1px rgba(255, 255, 255, 0.6), inset 0px -8px 36px rgba(0, 0, 0, 0.3), inset 0px 1px 5px rgba(255, 255, 255, 0.6), 2px 19px 31px rgba(0, 0, 0, 0.2);\n",
    "  border-radius: 14px;\n",
    "  border: 0.5;\n",
    "  text-decoration: none;\n",
    "  user-select: none;\n",
    "  -webkit-user-select: none;\n",
    "  touch-action: manipulation;\n",
    "  white-space: nowrap;\n",
    "  cursor: pointer;\n",
    "  width: 266px;\n",
    "  height: 45px;\n",
    "  font-size: 15px;\n",
    "  font-weight: bold;\n",
    "  }\n",
    "</style>\n",
    "'''\n",
    "\n",
    "html_apple1 = '''\n",
    "<button class=\"button-15\" role=\"button\"> {sss} </button>\n",
    "'''\n",
    "html_apple2 = '''\n",
    "<style>\n",
    "/* CSS */\n",
    ".button-15 {\n",
    "  background-image: linear-gradient(#42A1EC, #1E4A6C);\n",
    "  border: 1px solid #0077CC;\n",
    "  border-radius: 5px;\n",
    "  box-sizing: border-box;\n",
    "  color: #FFFFFF;\n",
    "  cursor: pointer;\n",
    "  direction: ltr;\n",
    "  display: block;\n",
    "  font-family: \"SF Pro Text\",\"SF Pro Icons\",\"AOS Icons\",\"Helvetica Neue\",Helvetica,Arial,sans-serif;\n",
    "  font-size: 15px;\n",
    "  font-weight: 400;\n",
    "  letter-spacing: -.022em;\n",
    "  line-height: 1.47059;\n",
    "  min-width: 30px;\n",
    "  overflow: visible;\n",
    "  padding: 3px 9px;\n",
    "  text-align: center;\n",
    "  vertical-align: baseline;\n",
    "  user-select: none;\n",
    "  -webkit-user-select: none;\n",
    "  touch-action: manipulation;\n",
    "  white-space: nowrap;\n",
    "}\n",
    "\n",
    ".button-15:disabled {\n",
    "  cursor: default;\n",
    "  opacity: .3;\n",
    "}\n",
    "\n",
    ".button-15:hover {\n",
    "  background-image: linear-gradient(#51A9EE, #147BCD);\n",
    "  border-color: #1482D0;\n",
    "  text-decoration: none;\n",
    "}\n",
    "\n",
    ".button-15:active {\n",
    "  background-image: linear-gradient(#3D94D9, #1E4A6C);\n",
    "  border-color: #006DBC;\n",
    "  outline: none;\n",
    "}\n",
    "\n",
    ".button-15:focus {\n",
    "  box-shadow: rgba(131, 192, 253, 0.5) 0 0 0 3px;\n",
    "  outline: none;\n",
    "}\n",
    ".button-15 {\n",
    "    font-size: 15px;\n",
    "    min-width: 176px;\n",
    "  }\n",
    "</style>\n",
    "'''\n",
    "html_instruction_desc = '''\n",
    "<form action=\"/html/tags/html_form_tag_action.cfm\" method=\"post\">\n",
    "<textarea name=\"comments\" id=\"comments\" disabled \n",
    "style=\"font-family:Times New Roman; font-size: 15.5px; line-height: 14px;  width:362px;\n",
    "padding:1px;height:98px;\n",
    "background-color:#ebf2ff;border:1px groove #4383fa;\">\n",
    "Инструкция:\n",
    "1. Нажмите на кнопку 'Отправить ответ'\n",
    "2. Дождитесь фразы 'Ответ принят'.\n",
    "3. Нажмите на кнопку 'Проверить задание'.\n",
    "\n",
    "Ответ можно переотправлять.\n",
    "Будет принят последний из отправленных.\n",
    "</textarea><br>\n",
    "</form>\n",
    "'''\n",
    "\n",
    "html_result ='''\n",
    "<button class=\"button-67\" role=\"button\"> \n",
    "НЕВЕРНО \n",
    "Попробуй снова\n",
    "или посмотри\n",
    "подсказку</button>\n",
    "\n",
    "<style>\n",
    "/* CSS */\n",
    ".button-67 {\n",
    "  align-items: center;\n",
    "  background: #f5f5fa;\n",
    "  border: 0;\n",
    "  border-radius: 8px;\n",
    "  box-shadow: -10px -10px 30px 0 #fff,2px 2px 30px 0 #1d0dca17;\n",
    "  box-sizing: border-box;\n",
    "  color: #2a1f62;\n",
    "  cursor: pointer;\n",
    "  display: flex;\n",
    "  font-family: \"Cascadia Code\",Consolas,Monaco,\"Andale Mono\",\"Ubuntu Mono\",monospace;\n",
    "  font-size: 15px;\n",
    "  justify-content: center;\n",
    "  line-height: 1.5rem;\n",
    "  padding: 20px 3px;\n",
    "  position: relative;\n",
    "  text-align: center;\n",
    "  transition: .2s;\n",
    "  user-select: none;\n",
    "  -webkit-user-select: none;\n",
    "  touch-action: manipulation;\n",
    "  white-space: pre;\n",
    "  width: 125px;\n",
    "  height: 125\n",
    "  word-break: normal;\n",
    "  word-spacing: normal;\n",
    "  padding: 7px;\n",
    "}\n",
    "\n",
    "\n",
    "'''\n",
    "\n",
    "box_layout = widgets.Layout(display='flex',\n",
    "                flex_flow='column',\n",
    "                align_items='stretch',\n",
    "                width='269px')\n",
    "\n",
    "check_button = widgets.HTML(value=html_check_button)\n",
    "send_answer_button = widgets.HTML(value=html_send_answer)\n",
    "apple_button_tip = widgets.HTML(value=str(html_apple1.format(sss = \"Подсказка\") + html_apple2))\n",
    "apple_button_feedback = widgets.HTML(value=str(html_apple1.format(sss = \"Обратная связь\") + html_apple2))\n",
    "apple_button_clear = widgets.HTML(value=str(html_apple1.format(sss = \"Стереть результат\") + html_apple2))\n",
    "instruction_desc_button = widgets.HTML(value = html_instruction_desc)\n",
    "result_desc_button = widgets.HTML(value = html_result)\n",
    "\n",
    "\n",
    "display(HBox([VBox([send_answer_button, check_button],layout=box_layout),\\\n",
    "              result_desc_button,\n",
    "               VBox([apple_button_tip, apple_button_feedback, apple_button_clear]),\\\n",
    "             instruction_desc_button]) )\n",
    "#display(send_answer_button)\n"
   ]
  },
  {
   "cell_type": "code",
   "execution_count": 21,
   "metadata": {},
   "outputs": [
    {
     "data": {
      "application/vnd.jupyter.widget-view+json": {
       "model_id": "3776cecd5192439a986bcae5726d1f13",
       "version_major": 2,
       "version_minor": 0
      },
      "text/plain": [
       "HTML(value='\\n<form action=\"/html/tags/html_form_tag_action.cfm\" method=\"post\">\\n<textarea name=\"comments\" id=…"
      ]
     },
     "metadata": {},
     "output_type": "display_data"
    }
   ],
   "source": [
    "from IPython.display import HTML\n",
    "import ipywidgets as widgets\n",
    "from IPython.display import display\n",
    "from ipywidgets import Button, Layout, HBox, VBox\n",
    "\n",
    "html_instruction_desc = '''\n",
    "<form action=\"/html/tags/html_form_tag_action.cfm\" method=\"post\">\n",
    "<textarea name=\"comments\" id=\"comments\" disabled \n",
    "style=\"font-family:Times New Roman; font-size: 15.5px; line-height: 14px;  width:362px;\n",
    "padding:1px;height:98px;\n",
    "background-color:#ebf2ff;border:1px groove #4383fa;\">\n",
    "Инструкция:\n",
    "</textarea><br>\n",
    "</form>\n",
    "'''\n",
    "instruction_desc_button = widgets.HTML(value = html_instruction_desc)\n",
    "display(instruction_desc_button)\n"
   ]
  },
  {
   "cell_type": "code",
   "execution_count": 18,
   "metadata": {},
   "outputs": [
    {
     "name": "stdout",
     "output_type": "stream",
     "text": [
      "Enabling notebook extension jupyter-js-widgets/extension...\r\n",
      "      - Validating: \u001b[32mOK\u001b[0m\r\n"
     ]
    }
   ],
   "source": [
    "!jupyter nbextension enable --py widgetsnbextension"
   ]
  },
  {
   "cell_type": "code",
   "execution_count": 17,
   "metadata": {},
   "outputs": [
    {
     "name": "stdout",
     "output_type": "stream",
     "text": [
      "An error occured.\r\n",
      "PermissionError: [Errno 13] Permission denied: '/opt/conda/share/jupyter/lab/extensions'\r\n",
      "See the log file for details:  /tmp/jupyterlab-debug-zf92mdhf.log\r\n"
     ]
    }
   ],
   "source": [
    "!jupyter labextension install @jupyter-widgets/jupyterlab-manager"
   ]
  },
  {
   "cell_type": "code",
   "execution_count": 20,
   "metadata": {},
   "outputs": [
    {
     "name": "stdout",
     "output_type": "stream",
     "text": [
      "Defaulting to user installation because normal site-packages is not writeable\n",
      "Requirement already satisfied: ipywidgets in /opt/conda/lib/python3.6/site-packages (7.6.3)\n",
      "Requirement already satisfied: widgetsnbextension~=3.5.0 in /opt/conda/lib/python3.6/site-packages (from ipywidgets) (3.5.1)\n",
      "Requirement already satisfied: nbformat>=4.2.0 in /opt/conda/lib/python3.6/site-packages (from ipywidgets) (5.0.4)\n",
      "Requirement already satisfied: ipykernel>=4.5.1 in /opt/conda/lib/python3.6/site-packages (from ipywidgets) (5.1.4)\n",
      "Requirement already satisfied: jupyterlab-widgets>=1.0.0; python_version >= \"3.6\" in /opt/conda/lib/python3.6/site-packages (from ipywidgets) (1.0.0)\n",
      "Requirement already satisfied: ipython>=4.0.0; python_version >= \"3.3\" in /opt/conda/lib/python3.6/site-packages (from ipywidgets) (7.16.1)\n",
      "Requirement already satisfied: traitlets>=4.3.1 in /opt/conda/lib/python3.6/site-packages (from ipywidgets) (4.3.3)\n",
      "Requirement already satisfied: notebook>=4.4.1 in /opt/conda/lib/python3.6/site-packages (from widgetsnbextension~=3.5.0->ipywidgets) (6.1.5)\n",
      "Requirement already satisfied: ipython-genutils in /opt/conda/lib/python3.6/site-packages (from nbformat>=4.2.0->ipywidgets) (0.2.0)\n",
      "Requirement already satisfied: jupyter-core in /opt/conda/lib/python3.6/site-packages (from nbformat>=4.2.0->ipywidgets) (4.6.2)\n",
      "Requirement already satisfied: jsonschema!=2.5.0,>=2.4 in /opt/conda/lib/python3.6/site-packages (from nbformat>=4.2.0->ipywidgets) (3.2.0)\n",
      "Requirement already satisfied: tornado>=4.2 in /opt/conda/lib/python3.6/site-packages (from ipykernel>=4.5.1->ipywidgets) (6.0.4)\n",
      "Requirement already satisfied: jupyter-client in /opt/conda/lib/python3.6/site-packages (from ipykernel>=4.5.1->ipywidgets) (5.3.4)\n",
      "Requirement already satisfied: setuptools>=18.5 in /opt/conda/lib/python3.6/site-packages (from ipython>=4.0.0; python_version >= \"3.3\"->ipywidgets) (46.1.3)\n",
      "Requirement already satisfied: pygments in /opt/conda/lib/python3.6/site-packages (from ipython>=4.0.0; python_version >= \"3.3\"->ipywidgets) (2.7.4)\n",
      "Requirement already satisfied: jedi>=0.10 in /opt/conda/lib/python3.6/site-packages (from ipython>=4.0.0; python_version >= \"3.3\"->ipywidgets) (0.17.2)\n",
      "Requirement already satisfied: prompt-toolkit!=3.0.0,!=3.0.1,<3.1.0,>=2.0.0 in /opt/conda/lib/python3.6/site-packages (from ipython>=4.0.0; python_version >= \"3.3\"->ipywidgets) (3.0.3)\n",
      "Requirement already satisfied: pexpect; sys_platform != \"win32\" in /opt/conda/lib/python3.6/site-packages (from ipython>=4.0.0; python_version >= \"3.3\"->ipywidgets) (4.8.0)\n",
      "Requirement already satisfied: backcall in /opt/conda/lib/python3.6/site-packages (from ipython>=4.0.0; python_version >= \"3.3\"->ipywidgets) (0.1.0)\n",
      "Requirement already satisfied: decorator in /opt/conda/lib/python3.6/site-packages (from ipython>=4.0.0; python_version >= \"3.3\"->ipywidgets) (4.4.1)\n",
      "Requirement already satisfied: pickleshare in /opt/conda/lib/python3.6/site-packages (from ipython>=4.0.0; python_version >= \"3.3\"->ipywidgets) (0.7.5)\n",
      "Requirement already satisfied: six in /opt/conda/lib/python3.6/site-packages (from traitlets>=4.3.1->ipywidgets) (1.14.0)\n",
      "Requirement already satisfied: Send2Trash in /opt/conda/lib/python3.6/site-packages (from notebook>=4.4.1->widgetsnbextension~=3.5.0->ipywidgets) (1.5.0)\n",
      "Requirement already satisfied: jinja2 in /opt/conda/lib/python3.6/site-packages (from notebook>=4.4.1->widgetsnbextension~=3.5.0->ipywidgets) (3.0.1)\n",
      "Requirement already satisfied: nbconvert in /opt/conda/lib/python3.6/site-packages (from notebook>=4.4.1->widgetsnbextension~=3.5.0->ipywidgets) (5.6.1)\n",
      "Requirement already satisfied: prometheus-client in /opt/conda/lib/python3.6/site-packages (from notebook>=4.4.1->widgetsnbextension~=3.5.0->ipywidgets) (0.7.1)\n",
      "Requirement already satisfied: argon2-cffi in /opt/conda/lib/python3.6/site-packages (from notebook>=4.4.1->widgetsnbextension~=3.5.0->ipywidgets) (16.3.0)\n",
      "Requirement already satisfied: pyzmq>=17 in /opt/conda/lib/python3.6/site-packages (from notebook>=4.4.1->widgetsnbextension~=3.5.0->ipywidgets) (18.1.1)\n",
      "Requirement already satisfied: terminado>=0.8.3 in /opt/conda/lib/python3.6/site-packages (from notebook>=4.4.1->widgetsnbextension~=3.5.0->ipywidgets) (0.8.3)\n",
      "Requirement already satisfied: pyrsistent>=0.14.0 in /opt/conda/lib/python3.6/site-packages (from jsonschema!=2.5.0,>=2.4->nbformat>=4.2.0->ipywidgets) (0.15.7)\n",
      "Requirement already satisfied: attrs>=17.4.0 in /opt/conda/lib/python3.6/site-packages (from jsonschema!=2.5.0,>=2.4->nbformat>=4.2.0->ipywidgets) (19.3.0)\n",
      "Requirement already satisfied: importlib-metadata; python_version < \"3.8\" in /opt/conda/lib/python3.6/site-packages (from jsonschema!=2.5.0,>=2.4->nbformat>=4.2.0->ipywidgets) (1.7.0)\n",
      "Requirement already satisfied: python-dateutil>=2.1 in /opt/conda/lib/python3.6/site-packages (from jupyter-client->ipykernel>=4.5.1->ipywidgets) (2.8.1)\n",
      "Requirement already satisfied: parso<0.8.0,>=0.7.0 in /opt/conda/lib/python3.6/site-packages (from jedi>=0.10->ipython>=4.0.0; python_version >= \"3.3\"->ipywidgets) (0.7.1)\n",
      "Requirement already satisfied: wcwidth in /opt/conda/lib/python3.6/site-packages (from prompt-toolkit!=3.0.0,!=3.0.1,<3.1.0,>=2.0.0->ipython>=4.0.0; python_version >= \"3.3\"->ipywidgets) (0.1.8)\n",
      "Requirement already satisfied: ptyprocess>=0.5 in /opt/conda/lib/python3.6/site-packages (from pexpect; sys_platform != \"win32\"->ipython>=4.0.0; python_version >= \"3.3\"->ipywidgets) (0.6.0)\n",
      "Requirement already satisfied: MarkupSafe>=2.0 in /opt/conda/lib/python3.6/site-packages (from jinja2->notebook>=4.4.1->widgetsnbextension~=3.5.0->ipywidgets) (2.0.1)\n",
      "Requirement already satisfied: entrypoints>=0.2.2 in /opt/conda/lib/python3.6/site-packages (from nbconvert->notebook>=4.4.1->widgetsnbextension~=3.5.0->ipywidgets) (0.3)\n",
      "Requirement already satisfied: mistune<2,>=0.8.1 in /opt/conda/lib/python3.6/site-packages (from nbconvert->notebook>=4.4.1->widgetsnbextension~=3.5.0->ipywidgets) (0.8.4)\n",
      "Requirement already satisfied: pandocfilters>=1.4.1 in /opt/conda/lib/python3.6/site-packages (from nbconvert->notebook>=4.4.1->widgetsnbextension~=3.5.0->ipywidgets) (1.4.2)\n",
      "Requirement already satisfied: bleach in /opt/conda/lib/python3.6/site-packages (from nbconvert->notebook>=4.4.1->widgetsnbextension~=3.5.0->ipywidgets) (3.1.4)\n",
      "Requirement already satisfied: testpath in /opt/conda/lib/python3.6/site-packages (from nbconvert->notebook>=4.4.1->widgetsnbextension~=3.5.0->ipywidgets) (0.4.4)\n",
      "Requirement already satisfied: defusedxml in /opt/conda/lib/python3.6/site-packages (from nbconvert->notebook>=4.4.1->widgetsnbextension~=3.5.0->ipywidgets) (0.6.0)\n",
      "Requirement already satisfied: cffi>=1.0.0 in /opt/conda/lib/python3.6/site-packages (from argon2-cffi->notebook>=4.4.1->widgetsnbextension~=3.5.0->ipywidgets) (1.14.4)\n",
      "Requirement already satisfied: zipp>=0.5 in /opt/conda/lib/python3.6/site-packages (from importlib-metadata; python_version < \"3.8\"->jsonschema!=2.5.0,>=2.4->nbformat>=4.2.0->ipywidgets) (2.2.0)\n",
      "Requirement already satisfied: webencodings in /opt/conda/lib/python3.6/site-packages (from bleach->nbconvert->notebook>=4.4.1->widgetsnbextension~=3.5.0->ipywidgets) (0.5.1)\n",
      "Requirement already satisfied: pycparser in /opt/conda/lib/python3.6/site-packages (from cffi>=1.0.0->argon2-cffi->notebook>=4.4.1->widgetsnbextension~=3.5.0->ipywidgets) (2.18)\n"
     ]
    }
   ],
   "source": [
    "!pip install ipywidgets"
   ]
  },
  {
   "cell_type": "code",
   "execution_count": 22,
   "metadata": {},
   "outputs": [
    {
     "name": "stdout",
     "output_type": "stream",
     "text": [
      "Enabling notebook extension jupyter-js-widgets/extension...\r\n",
      "Traceback (most recent call last):\r\n",
      "  File \"/opt/conda/bin/jupyter-nbextension\", line 8, in <module>\r\n",
      "    sys.exit(main())\r\n",
      "  File \"/opt/conda/lib/python3.6/site-packages/jupyter_core/application.py\", line 270, in launch_instance\r\n",
      "    return super(JupyterApp, cls).launch_instance(argv=argv, **kwargs)\r\n",
      "  File \"/opt/conda/lib/python3.6/site-packages/traitlets/config/application.py\", line 664, in launch_instance\r\n",
      "    app.start()\r\n",
      "  File \"/opt/conda/lib/python3.6/site-packages/notebook/nbextensions.py\", line 983, in start\r\n",
      "    super(NBExtensionApp, self).start()\r\n",
      "  File \"/opt/conda/lib/python3.6/site-packages/jupyter_core/application.py\", line 259, in start\r\n",
      "    self.subapp.start()\r\n",
      "  File \"/opt/conda/lib/python3.6/site-packages/notebook/nbextensions.py\", line 891, in start\r\n",
      "    self.toggle_nbextension_python(self.extra_args[0])\r\n",
      "  File \"/opt/conda/lib/python3.6/site-packages/notebook/nbextensions.py\", line 867, in toggle_nbextension_python\r\n",
      "    logger=self.log)\r\n",
      "  File \"/opt/conda/lib/python3.6/site-packages/notebook/nbextensions.py\", line 478, in enable_nbextension_python\r\n",
      "    logger=logger)\r\n",
      "  File \"/opt/conda/lib/python3.6/site-packages/notebook/nbextensions.py\", line 381, in _set_nbextension_state_python\r\n",
      "    for nbext in nbexts]\r\n",
      "  File \"/opt/conda/lib/python3.6/site-packages/notebook/nbextensions.py\", line 381, in <listcomp>\r\n",
      "    for nbext in nbexts]\r\n",
      "  File \"/opt/conda/lib/python3.6/site-packages/notebook/nbextensions.py\", line 346, in _set_nbextension_state\r\n",
      "    cm.update(section, {\"load_extensions\": {require: state}})\r\n",
      "  File \"/opt/conda/lib/python3.6/site-packages/notebook/config_manager.py\", line 132, in update\r\n",
      "    self.set(section_name, data)\r\n",
      "  File \"/opt/conda/lib/python3.6/site-packages/notebook/config_manager.py\", line 121, in set\r\n",
      "    f = io.open(filename, 'w', encoding='utf-8')\r\n",
      "PermissionError: [Errno 13] Permission denied: '/opt/conda/etc/jupyter/nbconfig/notebook.json'\r\n"
     ]
    }
   ],
   "source": [
    "!jupyter nbextension enable --py --sys-prefix widgetsnbextension"
   ]
  },
  {
   "cell_type": "code",
   "execution_count": 23,
   "metadata": {},
   "outputs": [
    {
     "name": "stdout",
     "output_type": "stream",
     "text": [
      "Enabling notebook extension jupyter-js-widgets/extension...\r\n",
      "      - Validating: \u001b[32mOK\u001b[0m\r\n"
     ]
    }
   ],
   "source": [
    "!jupyter nbextension enable --py widgetsnbextension"
   ]
  },
  {
   "cell_type": "code",
   "execution_count": 11,
   "metadata": {},
   "outputs": [
    {
     "data": {
      "application/vnd.jupyter.widget-view+json": {
       "model_id": "57bc0d3be34d4cf89ca3947a6dbcaf88",
       "version_major": 2,
       "version_minor": 0
      },
      "text/plain": [
       "Dropdown(options=('Январь', 'Февраль', 'Март'), value='Январь')"
      ]
     },
     "metadata": {},
     "output_type": "display_data"
    }
   ],
   "source": [
    "from IPython.display import display\n",
    "import ipywidgets as widgets\n",
    "#Выпадающий список месяцев\n",
    "month_options = ['Январь', \n",
    "               'Февраль', \n",
    "               'Март']\n",
    "dropdown_month = widgets.Dropdown(\n",
    "    options = month_options\n",
    ")\n",
    "display(dropdown_month)"
   ]
  },
  {
   "cell_type": "code",
   "execution_count": 16,
   "metadata": {},
   "outputs": [
    {
     "ename": "TypeError",
     "evalue": "'list' object is not callable",
     "output_type": "error",
     "traceback": [
      "\u001b[0;31m---------------------------------------------------------------------------\u001b[0m",
      "\u001b[0;31mTypeError\u001b[0m                                 Traceback (most recent call last)",
      "\u001b[0;32m/opt/conda/lib/python3.6/site-packages/ipywidgets/widgets/interaction.py\u001b[0m in \u001b[0;36mupdate\u001b[0;34m(self, *args)\u001b[0m\n\u001b[1;32m    254\u001b[0m                     \u001b[0mvalue\u001b[0m \u001b[0;34m=\u001b[0m \u001b[0mwidget\u001b[0m\u001b[0;34m.\u001b[0m\u001b[0mget_interact_value\u001b[0m\u001b[0;34m(\u001b[0m\u001b[0;34m)\u001b[0m\u001b[0;34m\u001b[0m\u001b[0m\n\u001b[1;32m    255\u001b[0m                     \u001b[0mself\u001b[0m\u001b[0;34m.\u001b[0m\u001b[0mkwargs\u001b[0m\u001b[0;34m[\u001b[0m\u001b[0mwidget\u001b[0m\u001b[0;34m.\u001b[0m\u001b[0m_kwarg\u001b[0m\u001b[0;34m]\u001b[0m \u001b[0;34m=\u001b[0m \u001b[0mvalue\u001b[0m\u001b[0;34m\u001b[0m\u001b[0m\n\u001b[0;32m--> 256\u001b[0;31m                 \u001b[0mself\u001b[0m\u001b[0;34m.\u001b[0m\u001b[0mresult\u001b[0m \u001b[0;34m=\u001b[0m \u001b[0mself\u001b[0m\u001b[0;34m.\u001b[0m\u001b[0mf\u001b[0m\u001b[0;34m(\u001b[0m\u001b[0;34m**\u001b[0m\u001b[0mself\u001b[0m\u001b[0;34m.\u001b[0m\u001b[0mkwargs\u001b[0m\u001b[0;34m)\u001b[0m\u001b[0;34m\u001b[0m\u001b[0m\n\u001b[0m\u001b[1;32m    257\u001b[0m                 \u001b[0mshow_inline_matplotlib_plots\u001b[0m\u001b[0;34m(\u001b[0m\u001b[0;34m)\u001b[0m\u001b[0;34m\u001b[0m\u001b[0m\n\u001b[1;32m    258\u001b[0m                 \u001b[0;32mif\u001b[0m \u001b[0mself\u001b[0m\u001b[0;34m.\u001b[0m\u001b[0mauto_display\u001b[0m \u001b[0;32mand\u001b[0m \u001b[0mself\u001b[0m\u001b[0;34m.\u001b[0m\u001b[0mresult\u001b[0m \u001b[0;32mis\u001b[0m \u001b[0;32mnot\u001b[0m \u001b[0;32mNone\u001b[0m\u001b[0;34m:\u001b[0m\u001b[0;34m\u001b[0m\u001b[0m\n",
      "\u001b[0;31mTypeError\u001b[0m: 'list' object is not callable"
     ]
    }
   ],
   "source": []
  },
  {
   "cell_type": "code",
   "execution_count": null,
   "metadata": {},
   "outputs": [],
   "source": []
  }
 ],
 "metadata": {
  "kernelspec": {
   "display_name": "Python 3",
   "language": "python",
   "name": "python3"
  },
  "language_info": {
   "codemirror_mode": {
    "name": "ipython",
    "version": 3
   },
   "file_extension": ".py",
   "mimetype": "text/x-python",
   "name": "python",
   "nbconvert_exporter": "python",
   "pygments_lexer": "ipython3",
   "version": "3.6.4"
  },
  "widgets": {
   "application/vnd.jupyter.widget-state+json": {
    "state": {
     "008420d79a3e44c5a63ce9031140a23f": {
      "model_module": "@jupyter-widgets/controls",
      "model_module_version": "1.5.0",
      "model_name": "ButtonStyleModel",
      "state": {}
     },
     "019a1309aa4a4221a7c447a2d8b2f06c": {
      "model_module": "@jupyter-widgets/controls",
      "model_module_version": "1.5.0",
      "model_name": "DescriptionStyleModel",
      "state": {
       "description_width": ""
      }
     },
     "01c7233e880b4a05aa3dbaf8cc403b4d": {
      "model_module": "@jupyter-widgets/controls",
      "model_module_version": "1.5.0",
      "model_name": "ButtonStyleModel",
      "state": {}
     },
     "027ec9df420d41b4a5e07ae673ba0a12": {
      "model_module": "@jupyter-widgets/base",
      "model_module_version": "1.2.0",
      "model_name": "LayoutModel",
      "state": {
       "height": "25px",
       "width": "145px"
      }
     },
     "0295812fde8848b883907c7dad61fcd5": {
      "model_module": "@jupyter-widgets/base",
      "model_module_version": "1.2.0",
      "model_name": "LayoutModel",
      "state": {
       "height": "45px",
       "width": "295px"
      }
     },
     "02e5b98b702f4c19af9773a34419c671": {
      "model_module": "@jupyter-widgets/controls",
      "model_module_version": "1.5.0",
      "model_name": "ButtonModel",
      "state": {
       "button_style": "primary",
       "description": "Показать решение",
       "layout": "IPY_MODEL_f34e3dc6a17944fb9355d31138df6d36",
       "style": "IPY_MODEL_01c7233e880b4a05aa3dbaf8cc403b4d"
      }
     },
     "0386ce8e13ad4d11979027f323549fac": {
      "model_module": "@jupyter-widgets/controls",
      "model_module_version": "1.5.0",
      "model_name": "ButtonModel",
      "state": {
       "button_style": "success",
       "description": "Проверить",
       "layout": "IPY_MODEL_a4bf0f3d080e4ae6b55d772bbabeba81",
       "style": "IPY_MODEL_9567fb46e2e14038ae3c896300fe65e0"
      }
     },
     "04568383d060448f8d492942e7b9b7a2": {
      "model_module": "@jupyter-widgets/controls",
      "model_module_version": "1.5.0",
      "model_name": "ButtonModel",
      "state": {
       "button_style": "danger",
       "description": "Обратная связь",
       "layout": "IPY_MODEL_ee0a07ceb44549f19dbac1a73b865d1e",
       "style": "IPY_MODEL_cfc9dafe010d4759a341030f944f0619"
      }
     },
     "04e07eee14654368ba9fdf435167e488": {
      "model_module": "@jupyter-widgets/controls",
      "model_module_version": "1.5.0",
      "model_name": "ButtonStyleModel",
      "state": {}
     },
     "050461d473ef46ecad8a4d34e1c78c1b": {
      "model_module": "@jupyter-widgets/controls",
      "model_module_version": "1.5.0",
      "model_name": "DescriptionStyleModel",
      "state": {
       "description_width": ""
      }
     },
     "0513e8d794f042b5815536ba3606a249": {
      "model_module": "@jupyter-widgets/base",
      "model_module_version": "1.2.0",
      "model_name": "LayoutModel",
      "state": {
       "height": "25px",
       "width": "145px"
      }
     },
     "059069494b8e4f3fbff8360cf116d60a": {
      "model_module": "@jupyter-widgets/controls",
      "model_module_version": "1.5.0",
      "model_name": "ButtonStyleModel",
      "state": {}
     },
     "05af9993eff64a7abaf46b234c59d1b2": {
      "model_module": "@jupyter-widgets/controls",
      "model_module_version": "1.5.0",
      "model_name": "LabelModel",
      "state": {
       "layout": "IPY_MODEL_13f95f89ee684c7f890bae11509d1ccf",
       "style": "IPY_MODEL_d3f2c962baba4879bdc720db41146b6b",
       "value": "Описание1"
      }
     },
     "0688e2f27c354899b524795d3a93a505": {
      "model_module": "@jupyter-widgets/base",
      "model_module_version": "1.2.0",
      "model_name": "LayoutModel",
      "state": {}
     },
     "06e4482c7bf04046aaf1c641966ef953": {
      "model_module": "@jupyter-widgets/base",
      "model_module_version": "1.2.0",
      "model_name": "LayoutModel",
      "state": {
       "height": "35px",
       "width": "295px"
      }
     },
     "06fa1aa641354193bcdd91c8eccdaf96": {
      "model_module": "@jupyter-widgets/controls",
      "model_module_version": "1.5.0",
      "model_name": "LabelModel",
      "state": {
       "layout": "IPY_MODEL_4f9a1ebd62b64640a37440e5f00762f0",
       "style": "IPY_MODEL_26cc5414c80a4d4facbf2b8387fbceb2",
       "value": "Ответ можно переотправлять. Будет принят последний из отправленных"
      }
     },
     "0701e14339594a0fb1da91396487eb6c": {
      "model_module": "@jupyter-widgets/base",
      "model_module_version": "1.2.0",
      "model_name": "LayoutModel",
      "state": {
       "height": "25px",
       "width": "145px"
      }
     },
     "07436ddf167c40a7b702b2e4b0705a65": {
      "model_module": "@jupyter-widgets/controls",
      "model_module_version": "1.5.0",
      "model_name": "ButtonModel",
      "state": {
       "button_style": "danger",
       "description": "Обратная связь",
       "layout": "IPY_MODEL_670c163fb42c4e9a82c11c7584740c33",
       "style": "IPY_MODEL_4a065b4efaf94b948c92068adad6434f"
      }
     },
     "079f6316fd0045f78df9057e9980ba76": {
      "model_module": "@jupyter-widgets/controls",
      "model_module_version": "1.5.0",
      "model_name": "ButtonStyleModel",
      "state": {}
     },
     "0810de748a70406092e3160515a3558a": {
      "model_module": "@jupyter-widgets/controls",
      "model_module_version": "1.5.0",
      "model_name": "ButtonStyleModel",
      "state": {}
     },
     "082e584e2c814866a3859d0cbca747e9": {
      "model_module": "@jupyter-widgets/controls",
      "model_module_version": "1.5.0",
      "model_name": "ButtonModel",
      "state": {
       "button_style": "success",
       "description": "Проверить",
       "layout": "IPY_MODEL_0fd1a693cdb84737b483c9736eba1aeb",
       "style": "IPY_MODEL_abf7bb048ab8459489cf8e7509c1d8b9"
      }
     },
     "08355af1f2394158a46c30d29e74d0ee": {
      "model_module": "@jupyter-widgets/base",
      "model_module_version": "1.2.0",
      "model_name": "LayoutModel",
      "state": {}
     },
     "08818840415f4bf9b234f6cfb4b1c921": {
      "model_module": "@jupyter-widgets/controls",
      "model_module_version": "1.5.0",
      "model_name": "DescriptionStyleModel",
      "state": {
       "description_width": ""
      }
     },
     "099300fd1594475285b0f87554ceb55a": {
      "model_module": "@jupyter-widgets/controls",
      "model_module_version": "1.5.0",
      "model_name": "ButtonModel",
      "state": {
       "button_style": "success",
       "description": "Проверить",
       "layout": "IPY_MODEL_4edc1a83d915495a9e0dc858639bcf73",
       "style": "IPY_MODEL_3300c948b7614159b7adc6d1b0c8d651"
      }
     },
     "09a2c5e409f2413eb6636888b0b69580": {
      "model_module": "@jupyter-widgets/controls",
      "model_module_version": "1.5.0",
      "model_name": "ButtonModel",
      "state": {
       "button_style": "success",
       "description": "Test Unit Test",
       "layout": "IPY_MODEL_4256a539685e431cbc51eb6a7fd1778a",
       "style": "IPY_MODEL_13b8f3061c2c43929ebcefc8c54f28d5"
      }
     },
     "0a1b3dd976f343fa914cfcb8cb652b20": {
      "model_module": "@jupyter-widgets/base",
      "model_module_version": "1.2.0",
      "model_name": "LayoutModel",
      "state": {}
     },
     "0ab8ff22046246748b2f11d9902b4f32": {
      "model_module": "@jupyter-widgets/base",
      "model_module_version": "1.2.0",
      "model_name": "LayoutModel",
      "state": {}
     },
     "0ac18bb6adc241b8a4ca46eecf9b77a0": {
      "model_module": "@jupyter-widgets/controls",
      "model_module_version": "1.5.0",
      "model_name": "HBoxModel",
      "state": {
       "children": [
        "IPY_MODEL_099300fd1594475285b0f87554ceb55a",
        "IPY_MODEL_09a2c5e409f2413eb6636888b0b69580",
        "IPY_MODEL_02e5b98b702f4c19af9773a34419c671",
        "IPY_MODEL_f40f78ae6745494f96f2f080162304b9",
        "IPY_MODEL_9188efb4c1064fa68631c35e1cba11cb"
       ],
       "layout": "IPY_MODEL_66f3cfa8cba64d49a9d944cb42b28e39"
      }
     },
     "0aece5b8096047b684edbc282336508b": {
      "model_module": "@jupyter-widgets/base",
      "model_module_version": "1.2.0",
      "model_name": "LayoutModel",
      "state": {
       "height": "25px",
       "width": "145px"
      }
     },
     "0b3fb2fe708c45558d29aa17da17a788": {
      "model_module": "@jupyter-widgets/controls",
      "model_module_version": "1.5.0",
      "model_name": "ButtonStyleModel",
      "state": {}
     },
     "0c12759bf2174d92a7063636d97965a6": {
      "model_module": "@jupyter-widgets/controls",
      "model_module_version": "1.5.0",
      "model_name": "ButtonStyleModel",
      "state": {}
     },
     "0c2d6c25f2f94e2dbbfcb7072b6b6d46": {
      "model_module": "@jupyter-widgets/controls",
      "model_module_version": "1.5.0",
      "model_name": "LabelModel",
      "state": {
       "layout": "IPY_MODEL_9130c87881ec4b07a4dde8c3ca41327e",
       "style": "IPY_MODEL_4b994d6a5e9840a5908b7edb47743e65",
       "value": "Ответ можно переотправлять. Будет принят последний из отправленных"
      }
     },
     "0c2f62b6b7fa47408031d3d4422ef442": {
      "model_module": "@jupyter-widgets/base",
      "model_module_version": "1.2.0",
      "model_name": "LayoutModel",
      "state": {}
     },
     "0c9a535bb7974970bb25ee6a1c46c3c6": {
      "model_module": "@jupyter-widgets/controls",
      "model_module_version": "1.5.0",
      "model_name": "ButtonModel",
      "state": {
       "button_style": "primary",
       "description": "Отправить ответ",
       "layout": "IPY_MODEL_8851dfbf1f1141b78d99af974b1cc423",
       "style": "IPY_MODEL_68590865eec2415fae7ed095ac62d6c0"
      }
     },
     "0d25bd44489a4b64bb549c783df78525": {
      "model_module": "@jupyter-widgets/controls",
      "model_module_version": "1.5.0",
      "model_name": "HBoxModel",
      "state": {
       "children": [
        "IPY_MODEL_79c91cb862b2421e9ea519f4bcdb3261",
        "IPY_MODEL_20787f359f5c400caad211b5550c40a9",
        "IPY_MODEL_901c7a1bae24490f95e291d09e304bac",
        "IPY_MODEL_94db9019ae2145adbe673a4fcf1d8ac0",
        "IPY_MODEL_70087b5aaf294ab49335377eb8c630bd"
       ],
       "layout": "IPY_MODEL_d207efe186bd478ca72084c61db8fc53"
      }
     },
     "0d2ab8c448014443a6bd92d90d641ce1": {
      "model_module": "@jupyter-widgets/base",
      "model_module_version": "1.2.0",
      "model_name": "LayoutModel",
      "state": {}
     },
     "0e41b1595a0f4df2899e755f828068a7": {
      "model_module": "@jupyter-widgets/controls",
      "model_module_version": "1.5.0",
      "model_name": "ButtonModel",
      "state": {
       "button_style": "success",
       "description": "Проверить",
       "layout": "IPY_MODEL_1bd8b37a0595473fa1726aa65f70ed3e",
       "style": "IPY_MODEL_6e5c197bc5d54dffb6ed65e61d2eade5"
      }
     },
     "0ee7b9556de9456495cc0d0a19f6edd6": {
      "model_module": "@jupyter-widgets/base",
      "model_module_version": "1.2.0",
      "model_name": "LayoutModel",
      "state": {}
     },
     "0f447c12d78341ccbfa03b098c30f703": {
      "model_module": "@jupyter-widgets/base",
      "model_module_version": "1.2.0",
      "model_name": "LayoutModel",
      "state": {}
     },
     "0fd1a693cdb84737b483c9736eba1aeb": {
      "model_module": "@jupyter-widgets/base",
      "model_module_version": "1.2.0",
      "model_name": "LayoutModel",
      "state": {
       "height": "45px",
       "width": "295px"
      }
     },
     "1005d3504d4c4a7d85df6de516589a15": {
      "model_module": "@jupyter-widgets/base",
      "model_module_version": "1.2.0",
      "model_name": "LayoutModel",
      "state": {}
     },
     "1069f11e1b4944d4b98c2db3a4c6d984": {
      "model_module": "@jupyter-widgets/controls",
      "model_module_version": "1.5.0",
      "model_name": "LabelModel",
      "state": {
       "layout": "IPY_MODEL_0ee7b9556de9456495cc0d0a19f6edd6",
       "style": "IPY_MODEL_c2f88ba9ba4a4592932d281761133893",
       "value": "Описание1"
      }
     },
     "1088656396a04f25a6cde2fe6f03fc78": {
      "model_module": "@jupyter-widgets/controls",
      "model_module_version": "1.5.0",
      "model_name": "LabelModel",
      "state": {
       "layout": "IPY_MODEL_39ec042ccc124d1cb132755266e22fad",
       "style": "IPY_MODEL_f793646e3e2a4ba5a5f62210e57dd003",
       "value": "Ответ можно переотправлять. Будет принят последний из отправленных"
      }
     },
     "10fdce83cf444327a1951ed12633b704": {
      "model_module": "@jupyter-widgets/controls",
      "model_module_version": "1.5.0",
      "model_name": "ButtonModel",
      "state": {
       "button_style": "danger",
       "description": "Стереть результат ",
       "layout": "IPY_MODEL_44b474ae2f2c40bdbbb413c113c5e478",
       "style": "IPY_MODEL_87fe170eeace44ca9e4fbf4cd1e0cb62"
      }
     },
     "119eef29647542d69b57d158e769bf2b": {
      "model_module": "@jupyter-widgets/controls",
      "model_module_version": "1.5.0",
      "model_name": "DescriptionStyleModel",
      "state": {
       "description_width": ""
      }
     },
     "11ad0bdbcc9b42a0a7d0a00399ab9bf7": {
      "model_module": "@jupyter-widgets/base",
      "model_module_version": "1.2.0",
      "model_name": "LayoutModel",
      "state": {
       "height": "25px",
       "width": "145px"
      }
     },
     "12be6fe03dff47ffbed3330fef95d654": {
      "model_module": "@jupyter-widgets/base",
      "model_module_version": "1.2.0",
      "model_name": "LayoutModel",
      "state": {}
     },
     "12f21e1fdf3e49a6bed889c0a146ea2f": {
      "model_module": "@jupyter-widgets/controls",
      "model_module_version": "1.5.0",
      "model_name": "ButtonModel",
      "state": {
       "button_style": "primary",
       "description": "Отправить ответ",
       "layout": "IPY_MODEL_cffaf6b7e41f44fda10dd47ca67de5a6",
       "style": "IPY_MODEL_aeb254ff5dfc46a4a94eb9a826044663"
      }
     },
     "135e1eadba8c43e4b8cd698110ad376f": {
      "model_module": "@jupyter-widgets/base",
      "model_module_version": "1.2.0",
      "model_name": "LayoutModel",
      "state": {
       "height": "25px",
       "width": "145px"
      }
     },
     "13b8f3061c2c43929ebcefc8c54f28d5": {
      "model_module": "@jupyter-widgets/controls",
      "model_module_version": "1.5.0",
      "model_name": "ButtonStyleModel",
      "state": {}
     },
     "13c04e66cf2c4f22924f13760ba9240e": {
      "model_module": "@jupyter-widgets/controls",
      "model_module_version": "1.5.0",
      "model_name": "HBoxModel",
      "state": {
       "children": [
        "IPY_MODEL_0386ce8e13ad4d11979027f323549fac",
        "IPY_MODEL_5c87ae6bfa4c441ca1ee8cba2412acda",
        "IPY_MODEL_582cef48cf8446a29c8e6ce7d42b9c08",
        "IPY_MODEL_07436ddf167c40a7b702b2e4b0705a65",
        "IPY_MODEL_6ae5f8a983e5440b919256a53521bc8b"
       ],
       "layout": "IPY_MODEL_83d9a97744b146909ad0b31daf735f6d"
      }
     },
     "13f95f89ee684c7f890bae11509d1ccf": {
      "model_module": "@jupyter-widgets/base",
      "model_module_version": "1.2.0",
      "model_name": "LayoutModel",
      "state": {}
     },
     "14c93d1896724b6583bae1cceb4ee041": {
      "model_module": "@jupyter-widgets/base",
      "model_module_version": "1.2.0",
      "model_name": "LayoutModel",
      "state": {}
     },
     "151d8eba457c4bf8b46267e56c6f5128": {
      "model_module": "@jupyter-widgets/controls",
      "model_module_version": "1.5.0",
      "model_name": "HBoxModel",
      "state": {
       "children": [
        "IPY_MODEL_0e41b1595a0f4df2899e755f828068a7",
        "IPY_MODEL_c0e76466d9c042c6864a2603f877861a",
        "IPY_MODEL_47777ba7e7974632a5e8d70639823e36",
        "IPY_MODEL_b7d599a095c44aab87af40e7ea86bf2d",
        "IPY_MODEL_feb687ff7b0e404781132df7bb9df9a2"
       ],
       "layout": "IPY_MODEL_9198326de40b492fad4e6fd86d0770a1"
      }
     },
     "1554631ba2b24f34891dc9467f524577": {
      "model_module": "@jupyter-widgets/controls",
      "model_module_version": "1.5.0",
      "model_name": "ButtonStyleModel",
      "state": {}
     },
     "157a0b01635646388d10c03619aa1369": {
      "model_module": "@jupyter-widgets/controls",
      "model_module_version": "1.5.0",
      "model_name": "ButtonStyleModel",
      "state": {}
     },
     "1599d34e91e24cb99c13860c23c0969e": {
      "model_module": "@jupyter-widgets/controls",
      "model_module_version": "1.5.0",
      "model_name": "DescriptionStyleModel",
      "state": {
       "description_width": ""
      }
     },
     "161dcc9080cc49c7bb125bce800fb58b": {
      "model_module": "@jupyter-widgets/controls",
      "model_module_version": "1.5.0",
      "model_name": "DescriptionStyleModel",
      "state": {
       "description_width": ""
      }
     },
     "16bd00e9ce2548d08441c02232fa500f": {
      "model_module": "@jupyter-widgets/controls",
      "model_module_version": "1.5.0",
      "model_name": "LabelModel",
      "state": {
       "layout": "IPY_MODEL_d04e5f1f1d694af0ad9a94315c2df2f0",
       "style": "IPY_MODEL_9b4d4b110f6d4442bd8ee1a7cdeb4cc2",
       "value": "Описание1"
      }
     },
     "175cf9c9d6af4e3a9f42d1d230162337": {
      "model_module": "@jupyter-widgets/controls",
      "model_module_version": "1.5.0",
      "model_name": "ButtonModel",
      "state": {
       "button_style": "success",
       "description": "Проверить",
       "layout": "IPY_MODEL_4d59b442910148719c37eccacacd2c2e",
       "style": "IPY_MODEL_41178163a6ab46e9a2ad1156b66bca38"
      }
     },
     "17d7d229d5af4df1afec6139c6471328": {
      "model_module": "@jupyter-widgets/controls",
      "model_module_version": "1.5.0",
      "model_name": "LabelModel",
      "state": {
       "layout": "IPY_MODEL_99c80471721f478d9b9fcbb1ac39281d",
       "style": "IPY_MODEL_355728ecac0546ea8155d9e3ab141312",
       "value": "Описание2"
      }
     },
     "18a427cd64184c60b94ccb023ccaa05a": {
      "model_module": "@jupyter-widgets/base",
      "model_module_version": "1.2.0",
      "model_name": "LayoutModel",
      "state": {
       "height": "35px",
       "width": "295px"
      }
     },
     "18b2101a7459405abb0f4a06b9be86d4": {
      "model_module": "@jupyter-widgets/controls",
      "model_module_version": "1.5.0",
      "model_name": "ButtonModel",
      "state": {
       "button_style": "danger",
       "description": "Стереть результат ",
       "layout": "IPY_MODEL_abfc25d610244c178f360a46b33ed766",
       "style": "IPY_MODEL_bae0b090b83f4a05b82dcd91be697cff"
      }
     },
     "18e4450ded4842b88bd6bad511e27dee": {
      "model_module": "@jupyter-widgets/controls",
      "model_module_version": "1.5.0",
      "model_name": "LabelModel",
      "state": {
       "layout": "IPY_MODEL_487dd549222447adaf17847fe1b26704",
       "style": "IPY_MODEL_f1c40976be2b4c798987c125529f30e8",
       "value": "Ответ можно переотправлять. Будет принят последний из отправленных"
      }
     },
     "1951a071085c4a5bacf589f53a110920": {
      "model_module": "@jupyter-widgets/controls",
      "model_module_version": "1.5.0",
      "model_name": "LabelModel",
      "state": {
       "layout": "IPY_MODEL_991bc991c0b74670bf89fd03bcdf0285",
       "style": "IPY_MODEL_6a4ab23cfa8b4d5aa7314c4413706767",
       "value": "Ответ можно переотправлять. Будет принят последний из отправленных"
      }
     },
     "19859937eccc4802a14ceafc8b197d4d": {
      "model_module": "@jupyter-widgets/controls",
      "model_module_version": "1.5.0",
      "model_name": "ButtonStyleModel",
      "state": {}
     },
     "19a72f5ffdad415d96c22729f0680cf1": {
      "model_module": "@jupyter-widgets/controls",
      "model_module_version": "1.5.0",
      "model_name": "ButtonStyleModel",
      "state": {}
     },
     "1a596305a8bf4499b3b67f2e54de062a": {
      "model_module": "@jupyter-widgets/controls",
      "model_module_version": "1.5.0",
      "model_name": "ButtonStyleModel",
      "state": {}
     },
     "1a64170c03274430aa9b636468e2085b": {
      "model_module": "@jupyter-widgets/controls",
      "model_module_version": "1.5.0",
      "model_name": "ButtonModel",
      "state": {
       "button_style": "success",
       "description": "Test Unit Test",
       "layout": "IPY_MODEL_1c44d3bcc141418c94d9b4a6e6270f43",
       "style": "IPY_MODEL_46c087eab74640fd8fe59f2da7e454d9"
      }
     },
     "1b016325ab314fa4ad03e1cd8fa116fa": {
      "model_module": "@jupyter-widgets/base",
      "model_module_version": "1.2.0",
      "model_name": "LayoutModel",
      "state": {}
     },
     "1bd8b37a0595473fa1726aa65f70ed3e": {
      "model_module": "@jupyter-widgets/base",
      "model_module_version": "1.2.0",
      "model_name": "LayoutModel",
      "state": {
       "height": "45px",
       "width": "295px"
      }
     },
     "1c096643f03a4c7daab99b40468db2c5": {
      "model_module": "@jupyter-widgets/base",
      "model_module_version": "1.2.0",
      "model_name": "LayoutModel",
      "state": {}
     },
     "1c44d3bcc141418c94d9b4a6e6270f43": {
      "model_module": "@jupyter-widgets/base",
      "model_module_version": "1.2.0",
      "model_name": "LayoutModel",
      "state": {
       "height": "25px",
       "width": "145px"
      }
     },
     "1c61acb7e3424f79b6675ee33829fa2d": {
      "model_module": "@jupyter-widgets/base",
      "model_module_version": "1.2.0",
      "model_name": "LayoutModel",
      "state": {}
     },
     "1d107b245ddf47e8b1267a751ccafd87": {
      "model_module": "@jupyter-widgets/base",
      "model_module_version": "1.2.0",
      "model_name": "LayoutModel",
      "state": {}
     },
     "1d67d187487941588dfee4a94a2f8f9a": {
      "model_module": "@jupyter-widgets/controls",
      "model_module_version": "1.5.0",
      "model_name": "ButtonStyleModel",
      "state": {}
     },
     "1d8899ed838244e8b2e2037c7d6009b1": {
      "model_module": "@jupyter-widgets/base",
      "model_module_version": "1.2.0",
      "model_name": "LayoutModel",
      "state": {
       "height": "35px",
       "width": "295px"
      }
     },
     "1e19c63e4b3f4c57acb3d09fd4ce1b6a": {
      "model_module": "@jupyter-widgets/base",
      "model_module_version": "1.2.0",
      "model_name": "LayoutModel",
      "state": {}
     },
     "1e22673d5d2a4fe99bd02cdad53e05cc": {
      "model_module": "@jupyter-widgets/base",
      "model_module_version": "1.2.0",
      "model_name": "LayoutModel",
      "state": {
       "height": "45px",
       "width": "295px"
      }
     },
     "1e676eb0ebf54c8cb6f5268d1eab04f3": {
      "model_module": "@jupyter-widgets/controls",
      "model_module_version": "1.5.0",
      "model_name": "ButtonStyleModel",
      "state": {}
     },
     "2005ba3ffc20488a93d7a93781bf5654": {
      "model_module": "@jupyter-widgets/base",
      "model_module_version": "1.2.0",
      "model_name": "LayoutModel",
      "state": {}
     },
     "20787f359f5c400caad211b5550c40a9": {
      "model_module": "@jupyter-widgets/controls",
      "model_module_version": "1.5.0",
      "model_name": "ButtonModel",
      "state": {
       "button_style": "success",
       "description": "Test Unit Test",
       "layout": "IPY_MODEL_4a41f659c94e448d8a2984bed8a2db4a",
       "style": "IPY_MODEL_572c2831f0c240408067362c45633aaf"
      }
     },
     "20ba2b434f4e4a1cb006bec5ce30dcbf": {
      "model_module": "@jupyter-widgets/base",
      "model_module_version": "1.2.0",
      "model_name": "LayoutModel",
      "state": {}
     },
     "219f6ba584384209a195bc31a152bb78": {
      "model_module": "@jupyter-widgets/controls",
      "model_module_version": "1.5.0",
      "model_name": "LabelModel",
      "state": {
       "layout": "IPY_MODEL_3526752599f84fbdac16372cef1a4cef",
       "style": "IPY_MODEL_3bbc702ee2b0442381887cdfd3df1283",
       "value": "Описание1"
      }
     },
     "22c76f11cf8d438395a73b878f3c5571": {
      "model_module": "@jupyter-widgets/controls",
      "model_module_version": "1.5.0",
      "model_name": "ButtonStyleModel",
      "state": {}
     },
     "23334c46ae944899bcca617239513f56": {
      "model_module": "@jupyter-widgets/controls",
      "model_module_version": "1.5.0",
      "model_name": "LabelModel",
      "state": {
       "layout": "IPY_MODEL_e006faa8409e40dbbd81e3727a30790b",
       "style": "IPY_MODEL_f0a2824069c2445aadbfeb00929920d2",
       "value": "Описание1"
      }
     },
     "2357bba828834edba5dc76b150fd49bd": {
      "model_module": "@jupyter-widgets/controls",
      "model_module_version": "1.5.0",
      "model_name": "ButtonStyleModel",
      "state": {}
     },
     "236831d6c85049c4a2a0a7ba6949ccf7": {
      "model_module": "@jupyter-widgets/controls",
      "model_module_version": "1.5.0",
      "model_name": "LabelModel",
      "state": {
       "layout": "IPY_MODEL_24f0595dbfe24ca4baff8826f2326e81",
       "style": "IPY_MODEL_83855534e71f4919b6af802adf01e75b",
       "value": "Описание2"
      }
     },
     "23bdd0854ce44ef590072447ec3e781d": {
      "model_module": "@jupyter-widgets/controls",
      "model_module_version": "1.5.0",
      "model_name": "DescriptionStyleModel",
      "state": {
       "description_width": ""
      }
     },
     "23dcbef981ac4464aa59b118a630e267": {
      "model_module": "@jupyter-widgets/controls",
      "model_module_version": "1.5.0",
      "model_name": "LabelModel",
      "state": {
       "layout": "IPY_MODEL_90b62a1619e8456d80e1969d4b1c2bff",
       "style": "IPY_MODEL_3719bf3b1f834fd5a85dd53ca014bd14",
       "value": "Ответ можно переотправлять. Будет принят последний из отправленных"
      }
     },
     "2450b23e274c4bc48f969e099ca47d05": {
      "model_module": "@jupyter-widgets/base",
      "model_module_version": "1.2.0",
      "model_name": "LayoutModel",
      "state": {}
     },
     "247851bd02f24544a27cc6a0d381a47e": {
      "model_module": "@jupyter-widgets/controls",
      "model_module_version": "1.5.0",
      "model_name": "HBoxModel",
      "state": {
       "children": [
        "IPY_MODEL_873e843d535b44fb804d2dc40cc031bd",
        "IPY_MODEL_70cb53506a474c9ba040d44d2b490349",
        "IPY_MODEL_d8f6baff795448a599033d8f93903531",
        "IPY_MODEL_a6d72fe0959c41f2b0c56d4f12f447b3",
        "IPY_MODEL_10fdce83cf444327a1951ed12633b704"
       ],
       "layout": "IPY_MODEL_2af2df0072b74c22b671036b549cccc0"
      }
     },
     "24c18f7f7f774f2389e91f0e64753e24": {
      "model_module": "@jupyter-widgets/base",
      "model_module_version": "1.2.0",
      "model_name": "LayoutModel",
      "state": {
       "height": "35px",
       "width": "295px"
      }
     },
     "24f0595dbfe24ca4baff8826f2326e81": {
      "model_module": "@jupyter-widgets/base",
      "model_module_version": "1.2.0",
      "model_name": "LayoutModel",
      "state": {}
     },
     "2525ac9d9eec4c6c9b4b471aacf3559a": {
      "model_module": "@jupyter-widgets/controls",
      "model_module_version": "1.5.0",
      "model_name": "ButtonModel",
      "state": {
       "button_style": "danger",
       "description": "Обратная связь",
       "layout": "IPY_MODEL_3704a128d652423e832967e8c179c94b",
       "style": "IPY_MODEL_bc3f8a6914bd4bf4a3265a5c29c7f463"
      }
     },
     "2625a73d330f4b2b826cd56764514b03": {
      "model_module": "@jupyter-widgets/base",
      "model_module_version": "1.2.0",
      "model_name": "LayoutModel",
      "state": {
       "height": "25px",
       "width": "145px"
      }
     },
     "268ddb0086124476b3d923eaba04bbc8": {
      "model_module": "@jupyter-widgets/controls",
      "model_module_version": "1.5.0",
      "model_name": "LabelModel",
      "state": {
       "layout": "IPY_MODEL_4cb4a318101149efb0abaca50be05eee",
       "style": "IPY_MODEL_a00489c84e524f90b009a67c6b42cb7b",
       "value": "Описание1"
      }
     },
     "26cc5414c80a4d4facbf2b8387fbceb2": {
      "model_module": "@jupyter-widgets/controls",
      "model_module_version": "1.5.0",
      "model_name": "DescriptionStyleModel",
      "state": {
       "description_width": ""
      }
     },
     "26ed9a450707446c9ea44e77739b1196": {
      "model_module": "@jupyter-widgets/controls",
      "model_module_version": "1.5.0",
      "model_name": "LabelModel",
      "state": {
       "layout": "IPY_MODEL_3940ad664b9b4ccba9870a2eeee65f13",
       "style": "IPY_MODEL_81a700ca459b4f91bdf42aa14f9b1a93",
       "value": "Описание2"
      }
     },
     "27b0fd8a2ad74a5c9fe37a77ccecf025": {
      "model_module": "@jupyter-widgets/base",
      "model_module_version": "1.2.0",
      "model_name": "LayoutModel",
      "state": {
       "height": "25px",
       "width": "145px"
      }
     },
     "2801ecdab345472ea4cbf6c8729e264a": {
      "model_module": "@jupyter-widgets/controls",
      "model_module_version": "1.5.0",
      "model_name": "HBoxModel",
      "state": {
       "children": [
        "IPY_MODEL_175cf9c9d6af4e3a9f42d1d230162337",
        "IPY_MODEL_c585ffcd0ca54894bb93bb4384dbc060",
        "IPY_MODEL_b4d68ee8d0d34c2b8becb8c4f43a346b",
        "IPY_MODEL_ccc9068410e84c378b505110c26c2f0c",
        "IPY_MODEL_98898034fb7540a9af8177efefcc74d6"
       ],
       "layout": "IPY_MODEL_d6c1e17001c34a089d7cd477d510c791"
      }
     },
     "280689d1228b4f75bb668e8cd0e17c7c": {
      "model_module": "@jupyter-widgets/base",
      "model_module_version": "1.2.0",
      "model_name": "LayoutModel",
      "state": {
       "height": "25px",
       "width": "145px"
      }
     },
     "287376accfb6474cb2fcaebbe799ace8": {
      "model_module": "@jupyter-widgets/base",
      "model_module_version": "1.2.0",
      "model_name": "LayoutModel",
      "state": {}
     },
     "28cb425f78824d9da9881fef7a69bccf": {
      "model_module": "@jupyter-widgets/controls",
      "model_module_version": "1.5.0",
      "model_name": "LabelModel",
      "state": {
       "layout": "IPY_MODEL_f5c82c31eb9d49008a30cd9ffc7dd4d6",
       "style": "IPY_MODEL_d14ed068e3e04ceb931c6db9c4c64c3e",
       "value": "Ответ можно переотправлять. Будет принят последний из отправленных"
      }
     },
     "29b23f907585468aa923e48ea8312dac": {
      "model_module": "@jupyter-widgets/controls",
      "model_module_version": "1.5.0",
      "model_name": "LabelModel",
      "state": {
       "layout": "IPY_MODEL_1b016325ab314fa4ad03e1cd8fa116fa",
       "style": "IPY_MODEL_2fbe3e0fc8d2402a8de354d153549d6a",
       "value": "Описание2"
      }
     },
     "29febd5860ea4cc2805f6a74a06825be": {
      "model_module": "@jupyter-widgets/controls",
      "model_module_version": "1.5.0",
      "model_name": "ButtonModel",
      "state": {
       "button_style": "success",
       "description": "Проверить",
       "layout": "IPY_MODEL_4d9bb8fba75045dda60713db3cc646ec",
       "style": "IPY_MODEL_32f136ff38ed48cd8d8071eb9a627fc5"
      }
     },
     "2a31ea80633e40569ea1e501b8afe19c": {
      "model_module": "@jupyter-widgets/controls",
      "model_module_version": "1.5.0",
      "model_name": "ButtonModel",
      "state": {
       "button_style": "success",
       "description": "Test Unit Test",
       "layout": "IPY_MODEL_3cba7940c5f24bbd9d909742427bc5d5",
       "style": "IPY_MODEL_4a658b8f3b5b4ab0b92f49d3f39fe581"
      }
     },
     "2aab3960e73d4f9ca571e62d0997ff47": {
      "model_module": "@jupyter-widgets/controls",
      "model_module_version": "1.5.0",
      "model_name": "ButtonStyleModel",
      "state": {}
     },
     "2aefb6831125425898568417bbb67918": {
      "model_module": "@jupyter-widgets/base",
      "model_module_version": "1.2.0",
      "model_name": "LayoutModel",
      "state": {}
     },
     "2af2df0072b74c22b671036b549cccc0": {
      "model_module": "@jupyter-widgets/base",
      "model_module_version": "1.2.0",
      "model_name": "LayoutModel",
      "state": {}
     },
     "2b502f1c88724f4aa28ef22d02ed8df9": {
      "model_module": "@jupyter-widgets/controls",
      "model_module_version": "1.5.0",
      "model_name": "ButtonModel",
      "state": {
       "button_style": "success",
       "description": "Test Unit Test",
       "layout": "IPY_MODEL_d8cde23508354c6188abe6527ad4abd5",
       "style": "IPY_MODEL_2f914e229e204c38aa7c893c6f2bad16"
      }
     },
     "2b509637aa5948eb8d0de1a9cf9ff1fa": {
      "model_module": "@jupyter-widgets/controls",
      "model_module_version": "1.5.0",
      "model_name": "HBoxModel",
      "state": {
       "children": [
        "IPY_MODEL_90e5be2f9afd4eeabf2bcf44abacad21",
        "IPY_MODEL_bf970e4977b2467a85c86159e3943307",
        "IPY_MODEL_406cfeaa62f64ceca99759c9ff089bfe",
        "IPY_MODEL_cf53aa40dc1e45d3b917593ba217ff24",
        "IPY_MODEL_18b2101a7459405abb0f4a06b9be86d4"
       ],
       "layout": "IPY_MODEL_d6a3f5b7cff24c64879aec683395a591"
      }
     },
     "2beb835fc2a14e6c8b60882a562b1818": {
      "model_module": "@jupyter-widgets/controls",
      "model_module_version": "1.5.0",
      "model_name": "ButtonStyleModel",
      "state": {}
     },
     "2c390aef0686426c938897b0333498ba": {
      "model_module": "@jupyter-widgets/controls",
      "model_module_version": "1.5.0",
      "model_name": "ButtonModel",
      "state": {
       "button_style": "primary",
       "description": "Отправить ответ",
       "layout": "IPY_MODEL_6820910029d2435cae1be1abfb4324c0",
       "style": "IPY_MODEL_fd36d5c083bf40528d742a2125a3af45"
      }
     },
     "2df7ea76f6df4ef1a3e32e9c9088a26e": {
      "model_module": "@jupyter-widgets/controls",
      "model_module_version": "1.5.0",
      "model_name": "DescriptionStyleModel",
      "state": {
       "description_width": ""
      }
     },
     "2ea35138daf8485d97bfcd73e62c1ae7": {
      "model_module": "@jupyter-widgets/base",
      "model_module_version": "1.2.0",
      "model_name": "LayoutModel",
      "state": {
       "height": "45px",
       "width": "295px"
      }
     },
     "2f1fc7fe204743d09861510dc1129d55": {
      "model_module": "@jupyter-widgets/controls",
      "model_module_version": "1.5.0",
      "model_name": "ButtonModel",
      "state": {
       "button_style": "primary",
       "description": "Отправить ответ",
       "layout": "IPY_MODEL_5df882b55bfa42dd9da1c271edcbfef1",
       "style": "IPY_MODEL_a73a1a1a974148f49fa14b104659843e"
      }
     },
     "2f210d35b47d487bbef2aff9bd15e955": {
      "model_module": "@jupyter-widgets/controls",
      "model_module_version": "1.5.0",
      "model_name": "LabelModel",
      "state": {
       "layout": "IPY_MODEL_978a7149d5d446c5ab728cd9fc36c6b5",
       "style": "IPY_MODEL_b93807a928384b8ea75897537d51b9ce",
       "value": "Описание1"
      }
     },
     "2f914e229e204c38aa7c893c6f2bad16": {
      "model_module": "@jupyter-widgets/controls",
      "model_module_version": "1.5.0",
      "model_name": "ButtonStyleModel",
      "state": {}
     },
     "2fbe3e0fc8d2402a8de354d153549d6a": {
      "model_module": "@jupyter-widgets/controls",
      "model_module_version": "1.5.0",
      "model_name": "DescriptionStyleModel",
      "state": {
       "description_width": ""
      }
     },
     "2ff5032817914984a8ae805344fb739c": {
      "model_module": "@jupyter-widgets/base",
      "model_module_version": "1.2.0",
      "model_name": "LayoutModel",
      "state": {
       "height": "35px",
       "width": "295px"
      }
     },
     "30c1b5ec0c814b16870e678714a718b3": {
      "model_module": "@jupyter-widgets/controls",
      "model_module_version": "1.5.0",
      "model_name": "DescriptionStyleModel",
      "state": {
       "description_width": ""
      }
     },
     "31196ef7c0c047c187c948bc1cf241cd": {
      "model_module": "@jupyter-widgets/base",
      "model_module_version": "1.2.0",
      "model_name": "LayoutModel",
      "state": {}
     },
     "312bd20e969f41fb832ff5d4013ec9bf": {
      "model_module": "@jupyter-widgets/controls",
      "model_module_version": "1.5.0",
      "model_name": "ButtonModel",
      "state": {
       "button_style": "danger",
       "description": "Стереть результат ",
       "layout": "IPY_MODEL_9adcf021680847769e25f870605064be",
       "style": "IPY_MODEL_5b7757f9aa084dfcb3df24a8e2b49efc"
      }
     },
     "31c8a8a33eb6431db2cc10cd75b416dd": {
      "model_module": "@jupyter-widgets/controls",
      "model_module_version": "1.5.0",
      "model_name": "ButtonStyleModel",
      "state": {}
     },
     "322182b35e07498a8b23991860eed8c0": {
      "model_module": "@jupyter-widgets/controls",
      "model_module_version": "1.5.0",
      "model_name": "HBoxModel",
      "state": {
       "children": [
        "IPY_MODEL_f97386dcbb734c849d059bc5ad69e2f6",
        "IPY_MODEL_d942acffdef94234b6a71b144b1b7d11",
        "IPY_MODEL_efaa724cd32f4147ae6207e400365fa5",
        "IPY_MODEL_2525ac9d9eec4c6c9b4b471aacf3559a",
        "IPY_MODEL_f36710e965464d06a0a85e86ec3b80c5"
       ],
       "layout": "IPY_MODEL_31196ef7c0c047c187c948bc1cf241cd"
      }
     },
     "3242e59b77144c05a4cab27da07662fc": {
      "model_module": "@jupyter-widgets/base",
      "model_module_version": "1.2.0",
      "model_name": "LayoutModel",
      "state": {
       "height": "25px",
       "width": "145px"
      }
     },
     "32775f6352294fb4b2aa082b998edec0": {
      "model_module": "@jupyter-widgets/controls",
      "model_module_version": "1.5.0",
      "model_name": "ButtonStyleModel",
      "state": {}
     },
     "327c73c035454f1885dd6e7ef8c10263": {
      "model_module": "@jupyter-widgets/controls",
      "model_module_version": "1.5.0",
      "model_name": "LabelModel",
      "state": {
       "layout": "IPY_MODEL_dc4685e0b87349078884f5d8d7672c63",
       "style": "IPY_MODEL_161dcc9080cc49c7bb125bce800fb58b",
       "value": "Описание1"
      }
     },
     "32f136ff38ed48cd8d8071eb9a627fc5": {
      "model_module": "@jupyter-widgets/controls",
      "model_module_version": "1.5.0",
      "model_name": "ButtonStyleModel",
      "state": {}
     },
     "3300c948b7614159b7adc6d1b0c8d651": {
      "model_module": "@jupyter-widgets/controls",
      "model_module_version": "1.5.0",
      "model_name": "ButtonStyleModel",
      "state": {}
     },
     "33a58b935b0344d081d1f69c1e3837f6": {
      "model_module": "@jupyter-widgets/controls",
      "model_module_version": "1.5.0",
      "model_name": "ButtonModel",
      "state": {
       "button_style": "success",
       "description": "Test Unit Test",
       "layout": "IPY_MODEL_135e1eadba8c43e4b8cd698110ad376f",
       "style": "IPY_MODEL_af5bbd95c6974efabecef23e9b2c0460"
      }
     },
     "33c7faf1ed3e4da3bc217afd2dd73ceb": {
      "model_module": "@jupyter-widgets/controls",
      "model_module_version": "1.5.0",
      "model_name": "ButtonStyleModel",
      "state": {}
     },
     "33cbbc71d42a48fe9d99d4e8effe0159": {
      "model_module": "@jupyter-widgets/controls",
      "model_module_version": "1.5.0",
      "model_name": "LabelModel",
      "state": {
       "layout": "IPY_MODEL_662c38e074044047923c9232e912dff5",
       "style": "IPY_MODEL_b013e760ec9446e0b3616b38a55a1968",
       "value": "Описание2"
      }
     },
     "33d59c74c5da493eb9c4bf968a6ae5d0": {
      "model_module": "@jupyter-widgets/controls",
      "model_module_version": "1.5.0",
      "model_name": "ButtonStyleModel",
      "state": {}
     },
     "340a001530e14c9c94d072ccba136542": {
      "model_module": "@jupyter-widgets/controls",
      "model_module_version": "1.5.0",
      "model_name": "LabelModel",
      "state": {
       "layout": "IPY_MODEL_86822c948abf42fda6fec0e3a227dd12",
       "style": "IPY_MODEL_55ecbc11c27241789fc25faee56a3037",
       "value": "Ответ можно переотправлять. Будет принят последний из отправленных"
      }
     },
     "34535d249c8448469f196c791dc65850": {
      "model_module": "@jupyter-widgets/base",
      "model_module_version": "1.2.0",
      "model_name": "LayoutModel",
      "state": {
       "height": "25px",
       "width": "145px"
      }
     },
     "3488bb0b7c1c42d8a7f9fc9ae453f47e": {
      "model_module": "@jupyter-widgets/base",
      "model_module_version": "1.2.0",
      "model_name": "LayoutModel",
      "state": {
       "height": "25px",
       "width": "145px"
      }
     },
     "34fe0402041d44c2977c1d1bad6e7f23": {
      "model_module": "@jupyter-widgets/controls",
      "model_module_version": "1.5.0",
      "model_name": "ButtonModel",
      "state": {
       "button_style": "danger",
       "description": "Стереть результат ",
       "layout": "IPY_MODEL_b3bfc83c5d1b4b36b5e26ea7b45f7aae",
       "style": "IPY_MODEL_2beb835fc2a14e6c8b60882a562b1818"
      }
     },
     "3520aef91f8e43c7a643d93e783d8817": {
      "model_module": "@jupyter-widgets/controls",
      "model_module_version": "1.5.0",
      "model_name": "HBoxModel",
      "state": {
       "children": [
        "IPY_MODEL_d428a724c85c40e789de4b385eb33a4c",
        "IPY_MODEL_624fd522943348ef8bb4e8f3b8fd1047",
        "IPY_MODEL_528a9211c36a474b8dd4af180ef91115",
        "IPY_MODEL_cbdbb9e1f32a417892e33de0d8d24b54",
        "IPY_MODEL_4eda883f2e6b442fb7d911845e355d1e"
       ],
       "layout": "IPY_MODEL_8fa3631d94c542f39abe7674608437a7"
      }
     },
     "3526752599f84fbdac16372cef1a4cef": {
      "model_module": "@jupyter-widgets/base",
      "model_module_version": "1.2.0",
      "model_name": "LayoutModel",
      "state": {}
     },
     "355728ecac0546ea8155d9e3ab141312": {
      "model_module": "@jupyter-widgets/controls",
      "model_module_version": "1.5.0",
      "model_name": "DescriptionStyleModel",
      "state": {
       "description_width": ""
      }
     },
     "35ae14b609624ab49930950203d602ea": {
      "model_module": "@jupyter-widgets/base",
      "model_module_version": "1.2.0",
      "model_name": "LayoutModel",
      "state": {
       "height": "35px",
       "width": "295px"
      }
     },
     "35c96d693013400eaea4242a6be58b5f": {
      "model_module": "@jupyter-widgets/base",
      "model_module_version": "1.2.0",
      "model_name": "LayoutModel",
      "state": {}
     },
     "3613a810c5954df59cc4f668c6d1c142": {
      "model_module": "@jupyter-widgets/controls",
      "model_module_version": "1.5.0",
      "model_name": "ButtonStyleModel",
      "state": {}
     },
     "36255d59d0e842dea2ec64d68bea705e": {
      "model_module": "@jupyter-widgets/controls",
      "model_module_version": "1.5.0",
      "model_name": "ButtonModel",
      "state": {
       "button_style": "primary",
       "description": "Отправить ответ",
       "layout": "IPY_MODEL_7111a7c9040f4ee2b6e9826a1c30b5fb",
       "style": "IPY_MODEL_c6455e801a3d407fb328309c4d8f8d6b"
      }
     },
     "365a5e9043dc40e187c6c502eed5b545": {
      "model_module": "@jupyter-widgets/controls",
      "model_module_version": "1.5.0",
      "model_name": "DescriptionStyleModel",
      "state": {
       "description_width": ""
      }
     },
     "36b1e8d992ea488a8a7baf1088556bfc": {
      "model_module": "@jupyter-widgets/controls",
      "model_module_version": "1.5.0",
      "model_name": "LabelModel",
      "state": {
       "layout": "IPY_MODEL_0688e2f27c354899b524795d3a93a505",
       "style": "IPY_MODEL_fc8562ab31b44e639e5f9235888b3ee6",
       "value": "Ответ можно переотправлять. Будет принят последний из отправленных"
      }
     },
     "36fa0419d5e24383a46d1df53207f6b3": {
      "model_module": "@jupyter-widgets/controls",
      "model_module_version": "1.5.0",
      "model_name": "ButtonStyleModel",
      "state": {}
     },
     "3704a128d652423e832967e8c179c94b": {
      "model_module": "@jupyter-widgets/base",
      "model_module_version": "1.2.0",
      "model_name": "LayoutModel",
      "state": {
       "height": "25px",
       "width": "145px"
      }
     },
     "3719bf3b1f834fd5a85dd53ca014bd14": {
      "model_module": "@jupyter-widgets/controls",
      "model_module_version": "1.5.0",
      "model_name": "DescriptionStyleModel",
      "state": {
       "description_width": ""
      }
     },
     "37347b0192cc4465a5d78314a3ba9423": {
      "model_module": "@jupyter-widgets/base",
      "model_module_version": "1.2.0",
      "model_name": "LayoutModel",
      "state": {
       "height": "35px",
       "width": "295px"
      }
     },
     "373d0be86cb74a3387ba7d3a25ad6834": {
      "model_module": "@jupyter-widgets/controls",
      "model_module_version": "1.5.0",
      "model_name": "LabelModel",
      "state": {
       "layout": "IPY_MODEL_ca9c62c3004c4b05a8fef4f7e30bb08c",
       "style": "IPY_MODEL_08818840415f4bf9b234f6cfb4b1c921",
       "value": "Описание2"
      }
     },
     "3815dba9155b43f1a8f2831e5ca53f8a": {
      "model_module": "@jupyter-widgets/base",
      "model_module_version": "1.2.0",
      "model_name": "LayoutModel",
      "state": {}
     },
     "381733f7307a40a6b72577ff32c91d6d": {
      "model_module": "@jupyter-widgets/controls",
      "model_module_version": "1.5.0",
      "model_name": "ButtonModel",
      "state": {
       "button_style": "danger",
       "description": "Стереть результат ",
       "layout": "IPY_MODEL_93a75b59817743638a772a2a7062c37c",
       "style": "IPY_MODEL_36fa0419d5e24383a46d1df53207f6b3"
      }
     },
     "3882a68392124bfd8daffc33b0706197": {
      "model_module": "@jupyter-widgets/controls",
      "model_module_version": "1.5.0",
      "model_name": "ButtonModel",
      "state": {
       "button_style": "danger",
       "description": "Стереть результат ",
       "layout": "IPY_MODEL_280689d1228b4f75bb668e8cd0e17c7c",
       "style": "IPY_MODEL_a5f0faaad4704b08bdb56300cb8d838a"
      }
     },
     "3940ad664b9b4ccba9870a2eeee65f13": {
      "model_module": "@jupyter-widgets/base",
      "model_module_version": "1.2.0",
      "model_name": "LayoutModel",
      "state": {}
     },
     "39e970b52fcb4bf88dcf394bb5838fdb": {
      "model_module": "@jupyter-widgets/controls",
      "model_module_version": "1.5.0",
      "model_name": "ButtonModel",
      "state": {
       "button_style": "primary",
       "description": "Отправить ответ",
       "layout": "IPY_MODEL_06e4482c7bf04046aaf1c641966ef953",
       "style": "IPY_MODEL_8821a86e37d0491daf86295bca4f76bb"
      }
     },
     "39ec042ccc124d1cb132755266e22fad": {
      "model_module": "@jupyter-widgets/base",
      "model_module_version": "1.2.0",
      "model_name": "LayoutModel",
      "state": {}
     },
     "3b11db3876564430a6d801330d5c2148": {
      "model_module": "@jupyter-widgets/controls",
      "model_module_version": "1.5.0",
      "model_name": "ButtonStyleModel",
      "state": {}
     },
     "3b259697ce224573b6d4f724ffaf3c22": {
      "model_module": "@jupyter-widgets/controls",
      "model_module_version": "1.5.0",
      "model_name": "ButtonStyleModel",
      "state": {}
     },
     "3bbc702ee2b0442381887cdfd3df1283": {
      "model_module": "@jupyter-widgets/controls",
      "model_module_version": "1.5.0",
      "model_name": "DescriptionStyleModel",
      "state": {
       "description_width": ""
      }
     },
     "3bd1a2b8098649e7a29773bbf3e114e6": {
      "model_module": "@jupyter-widgets/controls",
      "model_module_version": "1.5.0",
      "model_name": "DescriptionStyleModel",
      "state": {
       "description_width": ""
      }
     },
     "3c6393f7e0ff40bd84db4a4d39042f50": {
      "model_module": "@jupyter-widgets/controls",
      "model_module_version": "1.5.0",
      "model_name": "LabelModel",
      "state": {
       "layout": "IPY_MODEL_f875fd46d64a4b6fa91eaa68fbdbc3b1",
       "style": "IPY_MODEL_969c61dfd36e412bb60b7c8cb4c6a77f",
       "value": "Описание2"
      }
     },
     "3cba7940c5f24bbd9d909742427bc5d5": {
      "model_module": "@jupyter-widgets/base",
      "model_module_version": "1.2.0",
      "model_name": "LayoutModel",
      "state": {
       "height": "25px",
       "width": "145px"
      }
     },
     "3d80d9d06ca34e6fb1205321ad98599c": {
      "model_module": "@jupyter-widgets/controls",
      "model_module_version": "1.5.0",
      "model_name": "ButtonStyleModel",
      "state": {}
     },
     "3e20922720274a518754cf69e0aec242": {
      "model_module": "@jupyter-widgets/controls",
      "model_module_version": "1.5.0",
      "model_name": "ButtonStyleModel",
      "state": {}
     },
     "3e35a9dd60ab4257812fe9131d6eba57": {
      "model_module": "@jupyter-widgets/controls",
      "model_module_version": "1.5.0",
      "model_name": "DescriptionStyleModel",
      "state": {
       "description_width": ""
      }
     },
     "3e93716d34c144619f5e71ee87e1c035": {
      "model_module": "@jupyter-widgets/base",
      "model_module_version": "1.2.0",
      "model_name": "LayoutModel",
      "state": {
       "height": "25px",
       "width": "145px"
      }
     },
     "3eb12e9a56774b7489c669c7b0664edf": {
      "model_module": "@jupyter-widgets/controls",
      "model_module_version": "1.5.0",
      "model_name": "LabelModel",
      "state": {
       "layout": "IPY_MODEL_20ba2b434f4e4a1cb006bec5ce30dcbf",
       "style": "IPY_MODEL_653ba4ba3a934c98b638f94e38e326ac",
       "value": "Описание2"
      }
     },
     "3ee03676aa2f465f89a6c1f84c4df11a": {
      "model_module": "@jupyter-widgets/controls",
      "model_module_version": "1.5.0",
      "model_name": "ButtonModel",
      "state": {
       "button_style": "success",
       "description": "Проверить",
       "layout": "IPY_MODEL_3f3e3e4b211940948d36a79d3f18088e",
       "style": "IPY_MODEL_d973780e08b0435cadc467a96790b671"
      }
     },
     "3f3e3e4b211940948d36a79d3f18088e": {
      "model_module": "@jupyter-widgets/base",
      "model_module_version": "1.2.0",
      "model_name": "LayoutModel",
      "state": {
       "height": "45px",
       "width": "295px"
      }
     },
     "3f96676151114708b94dad24080aa137": {
      "model_module": "@jupyter-widgets/base",
      "model_module_version": "1.2.0",
      "model_name": "LayoutModel",
      "state": {
       "height": "25px",
       "width": "145px"
      }
     },
     "3f9ea7f254724a84b161864cfd2f577a": {
      "model_module": "@jupyter-widgets/base",
      "model_module_version": "1.2.0",
      "model_name": "LayoutModel",
      "state": {}
     },
     "4050333c5d324326aaad0c50b3a17c90": {
      "model_module": "@jupyter-widgets/base",
      "model_module_version": "1.2.0",
      "model_name": "LayoutModel",
      "state": {}
     },
     "406cfeaa62f64ceca99759c9ff089bfe": {
      "model_module": "@jupyter-widgets/controls",
      "model_module_version": "1.5.0",
      "model_name": "ButtonModel",
      "state": {
       "button_style": "primary",
       "description": "Показать решение",
       "layout": "IPY_MODEL_fee2af23666f4e6a918e7e6d3d3008eb",
       "style": "IPY_MODEL_abc260569f2140a986ec7d06bb59d6a4"
      }
     },
     "40d79a6cb4c74752b29d6635c8782e73": {
      "model_module": "@jupyter-widgets/controls",
      "model_module_version": "1.5.0",
      "model_name": "ButtonStyleModel",
      "state": {}
     },
     "41178163a6ab46e9a2ad1156b66bca38": {
      "model_module": "@jupyter-widgets/controls",
      "model_module_version": "1.5.0",
      "model_name": "ButtonStyleModel",
      "state": {}
     },
     "414199d7a0db4581843d493777476349": {
      "model_module": "@jupyter-widgets/controls",
      "model_module_version": "1.5.0",
      "model_name": "LabelModel",
      "state": {
       "layout": "IPY_MODEL_a8edcb3fd9594bbe928d51e11e0263bf",
       "style": "IPY_MODEL_4a9c707d66cf4997b7ad80b1149efeab",
       "value": "Описание2"
      }
     },
     "41ddf7e0df0147fcac57c0e9931f835c": {
      "model_module": "@jupyter-widgets/base",
      "model_module_version": "1.2.0",
      "model_name": "LayoutModel",
      "state": {
       "height": "25px",
       "width": "145px"
      }
     },
     "41e6a2173b564a1ea48828f774b5af48": {
      "model_module": "@jupyter-widgets/base",
      "model_module_version": "1.2.0",
      "model_name": "LayoutModel",
      "state": {
       "height": "25px",
       "width": "145px"
      }
     },
     "4201e8c7ad7148cc9b4a1dccd000edf3": {
      "model_module": "@jupyter-widgets/controls",
      "model_module_version": "1.5.0",
      "model_name": "ButtonModel",
      "state": {
       "button_style": "primary",
       "description": "Отправить ответ",
       "layout": "IPY_MODEL_2ff5032817914984a8ae805344fb739c",
       "style": "IPY_MODEL_e2d615b1d6d94186a8829e102d7d3950"
      }
     },
     "4256a539685e431cbc51eb6a7fd1778a": {
      "model_module": "@jupyter-widgets/base",
      "model_module_version": "1.2.0",
      "model_name": "LayoutModel",
      "state": {
       "height": "25px",
       "width": "145px"
      }
     },
     "42622ee1723848869db3825f513ffe3a": {
      "model_module": "@jupyter-widgets/controls",
      "model_module_version": "1.5.0",
      "model_name": "ButtonModel",
      "state": {
       "button_style": "danger",
       "description": "Обратная связь",
       "layout": "IPY_MODEL_0513e8d794f042b5815536ba3606a249",
       "style": "IPY_MODEL_9f898d97123447f9a49f444ef3b80d1c"
      }
     },
     "42d074bd9dd5453a9eb7016175194136": {
      "model_module": "@jupyter-widgets/controls",
      "model_module_version": "1.5.0",
      "model_name": "DescriptionStyleModel",
      "state": {
       "description_width": ""
      }
     },
     "43d5f5066a974cb998a52c33b3de1e06": {
      "model_module": "@jupyter-widgets/controls",
      "model_module_version": "1.5.0",
      "model_name": "LabelModel",
      "state": {
       "layout": "IPY_MODEL_43dba45269a4484083ac30f2fb2204be",
       "style": "IPY_MODEL_92f1fb9f6bf347049bd9cd496017ef5c",
       "value": "Описание1"
      }
     },
     "43da5b702f7542128cc8c86abce16ed4": {
      "model_module": "@jupyter-widgets/controls",
      "model_module_version": "1.5.0",
      "model_name": "ButtonStyleModel",
      "state": {}
     },
     "43dba45269a4484083ac30f2fb2204be": {
      "model_module": "@jupyter-widgets/base",
      "model_module_version": "1.2.0",
      "model_name": "LayoutModel",
      "state": {}
     },
     "443aa423bb744be7a9e94cfe8b8bfc03": {
      "model_module": "@jupyter-widgets/controls",
      "model_module_version": "1.5.0",
      "model_name": "ButtonStyleModel",
      "state": {}
     },
     "4456242abca84e8e99e3ecc592798898": {
      "model_module": "@jupyter-widgets/controls",
      "model_module_version": "1.5.0",
      "model_name": "ButtonModel",
      "state": {
       "button_style": "primary",
       "description": "Показать решение",
       "layout": "IPY_MODEL_41ddf7e0df0147fcac57c0e9931f835c",
       "style": "IPY_MODEL_1a596305a8bf4499b3b67f2e54de062a"
      }
     },
     "446d63deb9904a4e9fe6234fd1b3410d": {
      "model_module": "@jupyter-widgets/base",
      "model_module_version": "1.2.0",
      "model_name": "LayoutModel",
      "state": {
       "height": "25px",
       "width": "145px"
      }
     },
     "4475132d74d946e0a431354a9e75db77": {
      "model_module": "@jupyter-widgets/base",
      "model_module_version": "1.2.0",
      "model_name": "LayoutModel",
      "state": {}
     },
     "44b474ae2f2c40bdbbb413c113c5e478": {
      "model_module": "@jupyter-widgets/base",
      "model_module_version": "1.2.0",
      "model_name": "LayoutModel",
      "state": {
       "height": "25px",
       "width": "145px"
      }
     },
     "45905fe2a73a4bc3a604b14f09c7d394": {
      "model_module": "@jupyter-widgets/controls",
      "model_module_version": "1.5.0",
      "model_name": "ButtonModel",
      "state": {
       "button_style": "success",
       "description": "Проверить",
       "layout": "IPY_MODEL_c0d35e42ee9342cdaed4341f2a1880e1",
       "style": "IPY_MODEL_059069494b8e4f3fbff8360cf116d60a"
      }
     },
     "45bae2ba21234bbd9598b069173ef9ae": {
      "model_module": "@jupyter-widgets/base",
      "model_module_version": "1.2.0",
      "model_name": "LayoutModel",
      "state": {
       "height": "25px",
       "width": "145px"
      }
     },
     "4623bbf547e94fcf943f5ec48f617c72": {
      "model_module": "@jupyter-widgets/controls",
      "model_module_version": "1.5.0",
      "model_name": "ButtonStyleModel",
      "state": {}
     },
     "46a62d8308c64e25a02ca8833e5c0124": {
      "model_module": "@jupyter-widgets/base",
      "model_module_version": "1.2.0",
      "model_name": "LayoutModel",
      "state": {}
     },
     "46c087eab74640fd8fe59f2da7e454d9": {
      "model_module": "@jupyter-widgets/controls",
      "model_module_version": "1.5.0",
      "model_name": "ButtonStyleModel",
      "state": {}
     },
     "47777ba7e7974632a5e8d70639823e36": {
      "model_module": "@jupyter-widgets/controls",
      "model_module_version": "1.5.0",
      "model_name": "ButtonModel",
      "state": {
       "button_style": "primary",
       "description": "Показать решение",
       "layout": "IPY_MODEL_11ad0bdbcc9b42a0a7d0a00399ab9bf7",
       "style": "IPY_MODEL_c198f3c59ded4c7191faaab44e244f10"
      }
     },
     "47fe7198dce6484a982f3fd92ed407f6": {
      "model_module": "@jupyter-widgets/base",
      "model_module_version": "1.2.0",
      "model_name": "LayoutModel",
      "state": {
       "height": "35px",
       "width": "295px"
      }
     },
     "487dd549222447adaf17847fe1b26704": {
      "model_module": "@jupyter-widgets/base",
      "model_module_version": "1.2.0",
      "model_name": "LayoutModel",
      "state": {}
     },
     "49369554b3a045aabea19867218621ab": {
      "model_module": "@jupyter-widgets/controls",
      "model_module_version": "1.5.0",
      "model_name": "ButtonStyleModel",
      "state": {}
     },
     "4a065b4efaf94b948c92068adad6434f": {
      "model_module": "@jupyter-widgets/controls",
      "model_module_version": "1.5.0",
      "model_name": "ButtonStyleModel",
      "state": {}
     },
     "4a294255c56544d6a2d51c4f91b786dc": {
      "model_module": "@jupyter-widgets/base",
      "model_module_version": "1.2.0",
      "model_name": "LayoutModel",
      "state": {}
     },
     "4a41f659c94e448d8a2984bed8a2db4a": {
      "model_module": "@jupyter-widgets/base",
      "model_module_version": "1.2.0",
      "model_name": "LayoutModel",
      "state": {
       "height": "25px",
       "width": "145px"
      }
     },
     "4a658b8f3b5b4ab0b92f49d3f39fe581": {
      "model_module": "@jupyter-widgets/controls",
      "model_module_version": "1.5.0",
      "model_name": "ButtonStyleModel",
      "state": {}
     },
     "4a9c707d66cf4997b7ad80b1149efeab": {
      "model_module": "@jupyter-widgets/controls",
      "model_module_version": "1.5.0",
      "model_name": "DescriptionStyleModel",
      "state": {
       "description_width": ""
      }
     },
     "4b994d6a5e9840a5908b7edb47743e65": {
      "model_module": "@jupyter-widgets/controls",
      "model_module_version": "1.5.0",
      "model_name": "DescriptionStyleModel",
      "state": {
       "description_width": ""
      }
     },
     "4ba07dfa448e419da0380d919c31bf1c": {
      "model_module": "@jupyter-widgets/controls",
      "model_module_version": "1.5.0",
      "model_name": "DescriptionStyleModel",
      "state": {
       "description_width": ""
      }
     },
     "4ca1074f4eca4bd0b4f402a1b58d8b44": {
      "model_module": "@jupyter-widgets/controls",
      "model_module_version": "1.5.0",
      "model_name": "LabelModel",
      "state": {
       "layout": "IPY_MODEL_9d6685e084cc467c95e444ad8410d07d",
       "style": "IPY_MODEL_3e35a9dd60ab4257812fe9131d6eba57",
       "value": "Ответ можно переотправлять. Будет принят последний из отправленных"
      }
     },
     "4ca6b697d6df4dd39108d0893896188b": {
      "model_module": "@jupyter-widgets/base",
      "model_module_version": "1.2.0",
      "model_name": "LayoutModel",
      "state": {
       "height": "45px",
       "width": "295px"
      }
     },
     "4cb4a318101149efb0abaca50be05eee": {
      "model_module": "@jupyter-widgets/base",
      "model_module_version": "1.2.0",
      "model_name": "LayoutModel",
      "state": {}
     },
     "4d0cbf3af260443086b3a6734805cea5": {
      "model_module": "@jupyter-widgets/controls",
      "model_module_version": "1.5.0",
      "model_name": "ButtonModel",
      "state": {
       "button_style": "primary",
       "description": "Отправить ответ",
       "layout": "IPY_MODEL_1d8899ed838244e8b2e2037c7d6009b1",
       "style": "IPY_MODEL_affb563e9feb4b4aa9737b085d13a2bc"
      }
     },
     "4d4019cc72784ce1b349930942a77b0d": {
      "model_module": "@jupyter-widgets/controls",
      "model_module_version": "1.5.0",
      "model_name": "LabelModel",
      "state": {
       "layout": "IPY_MODEL_6de7ffdc915445d1b7d39d4a0490abf2",
       "style": "IPY_MODEL_9705b9518d034df59c3dcf36834843c2",
       "value": "Ответ можно переотправлять. Будет принят последний из отправленных"
      }
     },
     "4d59b442910148719c37eccacacd2c2e": {
      "model_module": "@jupyter-widgets/base",
      "model_module_version": "1.2.0",
      "model_name": "LayoutModel",
      "state": {
       "height": "45px",
       "width": "295px"
      }
     },
     "4d9bb8fba75045dda60713db3cc646ec": {
      "model_module": "@jupyter-widgets/base",
      "model_module_version": "1.2.0",
      "model_name": "LayoutModel",
      "state": {
       "height": "45px",
       "width": "295px"
      }
     },
     "4e276ab1d60e4979a5bf94698fe01620": {
      "model_module": "@jupyter-widgets/controls",
      "model_module_version": "1.5.0",
      "model_name": "ButtonModel",
      "state": {
       "button_style": "danger",
       "description": "Обратная связь",
       "layout": "IPY_MODEL_92604220e70e45fab8cb5ce83b9e5d06",
       "style": "IPY_MODEL_1d67d187487941588dfee4a94a2f8f9a"
      }
     },
     "4ec7822df62149a1939cd6c04728426e": {
      "model_module": "@jupyter-widgets/controls",
      "model_module_version": "1.5.0",
      "model_name": "DescriptionStyleModel",
      "state": {
       "description_width": ""
      }
     },
     "4eda883f2e6b442fb7d911845e355d1e": {
      "model_module": "@jupyter-widgets/controls",
      "model_module_version": "1.5.0",
      "model_name": "ButtonModel",
      "state": {
       "button_style": "danger",
       "description": "Стереть результат ",
       "layout": "IPY_MODEL_d35c6c85916d4c529592f89cf351beef",
       "style": "IPY_MODEL_c60dfa44793b495995a00df6382c2346"
      }
     },
     "4edc1a83d915495a9e0dc858639bcf73": {
      "model_module": "@jupyter-widgets/base",
      "model_module_version": "1.2.0",
      "model_name": "LayoutModel",
      "state": {
       "height": "45px",
       "width": "295px"
      }
     },
     "4f3277dd1ec645198d7fdcacbd01be85": {
      "model_module": "@jupyter-widgets/base",
      "model_module_version": "1.2.0",
      "model_name": "LayoutModel",
      "state": {
       "height": "45px",
       "width": "295px"
      }
     },
     "4f4a3ea343124a0580ce8ed8c0465bc1": {
      "model_module": "@jupyter-widgets/controls",
      "model_module_version": "1.5.0",
      "model_name": "ButtonModel",
      "state": {
       "button_style": "danger",
       "description": "Обратная связь",
       "layout": "IPY_MODEL_dcfab740fa3f42cca09f76f861280ad8",
       "style": "IPY_MODEL_841c729514cf4b739cabe62a715e4cfa"
      }
     },
     "4f9a1ebd62b64640a37440e5f00762f0": {
      "model_module": "@jupyter-widgets/base",
      "model_module_version": "1.2.0",
      "model_name": "LayoutModel",
      "state": {}
     },
     "4fdce237937c497696db18eafde52d3e": {
      "model_module": "@jupyter-widgets/controls",
      "model_module_version": "1.5.0",
      "model_name": "HBoxModel",
      "state": {
       "children": [
        "IPY_MODEL_84428353e2cc49bd812e6e0c807c3d8b",
        "IPY_MODEL_2b502f1c88724f4aa28ef22d02ed8df9",
        "IPY_MODEL_cb77ba88b25d435e9e3240e78d2c7d2e",
        "IPY_MODEL_4f4a3ea343124a0580ce8ed8c0465bc1",
        "IPY_MODEL_e1b767b1712e4140bd4876319bc6987c"
       ],
       "layout": "IPY_MODEL_0d2ab8c448014443a6bd92d90d641ce1"
      }
     },
     "50ae59c0e1184b3197a974ad9b3810de": {
      "model_module": "@jupyter-widgets/controls",
      "model_module_version": "1.5.0",
      "model_name": "LabelModel",
      "state": {
       "layout": "IPY_MODEL_4475132d74d946e0a431354a9e75db77",
       "style": "IPY_MODEL_d75d60c30fa147418ac1e4d20cb7a06b",
       "value": "Описание1"
      }
     },
     "51186995f2b6415ca0bb13aa44513afd": {
      "model_module": "@jupyter-widgets/controls",
      "model_module_version": "1.5.0",
      "model_name": "ButtonStyleModel",
      "state": {}
     },
     "513b14757ea04c0d90cd4997ce0c3558": {
      "model_module": "@jupyter-widgets/controls",
      "model_module_version": "1.5.0",
      "model_name": "ButtonStyleModel",
      "state": {}
     },
     "524d9727f6734b748fabead1123bd500": {
      "model_module": "@jupyter-widgets/controls",
      "model_module_version": "1.5.0",
      "model_name": "DescriptionStyleModel",
      "state": {
       "description_width": ""
      }
     },
     "525591be0a7749b29e76d97f53c0bed0": {
      "model_module": "@jupyter-widgets/controls",
      "model_module_version": "1.5.0",
      "model_name": "ButtonModel",
      "state": {
       "button_style": "danger",
       "description": "Стереть результат ",
       "layout": "IPY_MODEL_78c5bf9e77e04264860db603c999ec41",
       "style": "IPY_MODEL_e7f4fec1e59342438bee0f593dbd5680"
      }
     },
     "528a9211c36a474b8dd4af180ef91115": {
      "model_module": "@jupyter-widgets/controls",
      "model_module_version": "1.5.0",
      "model_name": "ButtonModel",
      "state": {
       "button_style": "primary",
       "description": "Показать решение",
       "layout": "IPY_MODEL_41e6a2173b564a1ea48828f774b5af48",
       "style": "IPY_MODEL_3e20922720274a518754cf69e0aec242"
      }
     },
     "528bcea7f07e4de8937d6e78e654284a": {
      "model_module": "@jupyter-widgets/controls",
      "model_module_version": "1.5.0",
      "model_name": "ButtonStyleModel",
      "state": {}
     },
     "533f630867ee463aada35dd28df9e01a": {
      "model_module": "@jupyter-widgets/base",
      "model_module_version": "1.2.0",
      "model_name": "LayoutModel",
      "state": {
       "height": "35px",
       "width": "295px"
      }
     },
     "534365a0502542b4aad5c9073280088c": {
      "model_module": "@jupyter-widgets/controls",
      "model_module_version": "1.5.0",
      "model_name": "ButtonStyleModel",
      "state": {}
     },
     "539d37554b864fd2ba8c326a1be9572d": {
      "model_module": "@jupyter-widgets/controls",
      "model_module_version": "1.5.0",
      "model_name": "ButtonModel",
      "state": {
       "button_style": "primary",
       "description": "Отправить ответ",
       "layout": "IPY_MODEL_68731043cda14dd8be0057c93bfd5c56",
       "style": "IPY_MODEL_19a72f5ffdad415d96c22729f0680cf1"
      }
     },
     "546807d10d7f43a6b593a74ee0894d67": {
      "model_module": "@jupyter-widgets/controls",
      "model_module_version": "1.5.0",
      "model_name": "LabelModel",
      "state": {
       "layout": "IPY_MODEL_99b9c7e7d5284bae9fbb5de17bc2e89a",
       "style": "IPY_MODEL_e9ffd70b29254eb6971d7a1cfca2e648",
       "value": "Описание1"
      }
     },
     "55ecbc11c27241789fc25faee56a3037": {
      "model_module": "@jupyter-widgets/controls",
      "model_module_version": "1.5.0",
      "model_name": "DescriptionStyleModel",
      "state": {
       "description_width": ""
      }
     },
     "572c2831f0c240408067362c45633aaf": {
      "model_module": "@jupyter-widgets/controls",
      "model_module_version": "1.5.0",
      "model_name": "ButtonStyleModel",
      "state": {}
     },
     "57c38b5a8fa847338fef79ed7990daa3": {
      "model_module": "@jupyter-widgets/controls",
      "model_module_version": "1.5.0",
      "model_name": "ButtonModel",
      "state": {
       "button_style": "primary",
       "description": "Отправить ответ",
       "layout": "IPY_MODEL_47fe7198dce6484a982f3fd92ed407f6",
       "style": "IPY_MODEL_84b09199c1834a2ca3152e46b9a8db40"
      }
     },
     "57c8cb37e1dc42ea914835130d530bee": {
      "model_module": "@jupyter-widgets/controls",
      "model_module_version": "1.5.0",
      "model_name": "LabelModel",
      "state": {
       "layout": "IPY_MODEL_b39a041ec9964e37a50c06424d665098",
       "style": "IPY_MODEL_1599d34e91e24cb99c13860c23c0969e",
       "value": "Ответ можно переотправлять. Будет принят последний из отправленных"
      }
     },
     "580e965ece08456c88c3ccfde3d3a6d5": {
      "model_module": "@jupyter-widgets/base",
      "model_module_version": "1.2.0",
      "model_name": "LayoutModel",
      "state": {}
     },
     "58190092e24148ba8681f81163762f64": {
      "model_module": "@jupyter-widgets/controls",
      "model_module_version": "1.5.0",
      "model_name": "LabelModel",
      "state": {
       "layout": "IPY_MODEL_580e965ece08456c88c3ccfde3d3a6d5",
       "style": "IPY_MODEL_c3cd898139b5415191bce043c8e5993b",
       "value": "Ответ можно переотправлять. Будет принят последний из отправленных"
      }
     },
     "582cef48cf8446a29c8e6ce7d42b9c08": {
      "model_module": "@jupyter-widgets/controls",
      "model_module_version": "1.5.0",
      "model_name": "ButtonModel",
      "state": {
       "button_style": "primary",
       "description": "Показать решение",
       "layout": "IPY_MODEL_d2982378471f42429d596f454c3e220e",
       "style": "IPY_MODEL_3613a810c5954df59cc4f668c6d1c142"
      }
     },
     "585aae97a72141f1be8de716961e0795": {
      "model_module": "@jupyter-widgets/controls",
      "model_module_version": "1.5.0",
      "model_name": "ButtonModel",
      "state": {
       "button_style": "success",
       "description": "Test Unit Test",
       "layout": "IPY_MODEL_446d63deb9904a4e9fe6234fd1b3410d",
       "style": "IPY_MODEL_008420d79a3e44c5a63ce9031140a23f"
      }
     },
     "58920a9c3c564d6eadedc348059d62d2": {
      "model_module": "@jupyter-widgets/controls",
      "model_module_version": "1.5.0",
      "model_name": "ButtonStyleModel",
      "state": {}
     },
     "589885b9164d4e24b05f345131d5f4de": {
      "model_module": "@jupyter-widgets/controls",
      "model_module_version": "1.5.0",
      "model_name": "LabelModel",
      "state": {
       "layout": "IPY_MODEL_c7b9a58e9716477d831711c7d6f3c1fa",
       "style": "IPY_MODEL_fb14f95c29bb4b41a938d8b73741d91f",
       "value": "Ответ можно переотправлять. Будет принят последний из отправленных"
      }
     },
     "59b64031fb8445f1a5f73f8d777e1bb0": {
      "model_module": "@jupyter-widgets/controls",
      "model_module_version": "1.5.0",
      "model_name": "ButtonModel",
      "state": {
       "button_style": "primary",
       "description": "Отправить ответ",
       "layout": "IPY_MODEL_d385a0af88f7445ea55d264301d2e52b",
       "style": "IPY_MODEL_d286ce7e26534b46a49d43cf2ad67563"
      }
     },
     "5a1a3d64d27541d19ccb3bb0fc0d56fa": {
      "model_module": "@jupyter-widgets/controls",
      "model_module_version": "1.5.0",
      "model_name": "LabelModel",
      "state": {
       "layout": "IPY_MODEL_2005ba3ffc20488a93d7a93781bf5654",
       "style": "IPY_MODEL_119eef29647542d69b57d158e769bf2b",
       "value": "Описание2"
      }
     },
     "5a7b28944b594ecea3b1c28020fb3c55": {
      "model_module": "@jupyter-widgets/controls",
      "model_module_version": "1.5.0",
      "model_name": "LabelModel",
      "state": {
       "layout": "IPY_MODEL_3f9ea7f254724a84b161864cfd2f577a",
       "style": "IPY_MODEL_be9c45b26d05485384058528d4473a3a",
       "value": "Ответ можно переотправлять. Будет принят последний из отправленных"
      }
     },
     "5aa31d3503bf41dcbfbab44e83b0fb39": {
      "model_module": "@jupyter-widgets/controls",
      "model_module_version": "1.5.0",
      "model_name": "ButtonStyleModel",
      "state": {}
     },
     "5b7757f9aa084dfcb3df24a8e2b49efc": {
      "model_module": "@jupyter-widgets/controls",
      "model_module_version": "1.5.0",
      "model_name": "ButtonStyleModel",
      "state": {}
     },
     "5c3b7a59374d4765855cdbed2bf58ee7": {
      "model_module": "@jupyter-widgets/base",
      "model_module_version": "1.2.0",
      "model_name": "LayoutModel",
      "state": {
       "height": "45px",
       "width": "295px"
      }
     },
     "5c87ae6bfa4c441ca1ee8cba2412acda": {
      "model_module": "@jupyter-widgets/controls",
      "model_module_version": "1.5.0",
      "model_name": "ButtonModel",
      "state": {
       "button_style": "success",
       "description": "Test Unit Test",
       "layout": "IPY_MODEL_6f840716ac5f486fbfbdd4efc52b1475",
       "style": "IPY_MODEL_d2b8d139ddaa4330838cc5101f285fa6"
      }
     },
     "5d1dc552ed61438b94f8cfad40d2dca3": {
      "model_module": "@jupyter-widgets/controls",
      "model_module_version": "1.5.0",
      "model_name": "HBoxModel",
      "state": {
       "children": [
        "IPY_MODEL_9912932b5399470e91b42be140533408",
        "IPY_MODEL_585aae97a72141f1be8de716961e0795",
        "IPY_MODEL_baf958416d064e58b304b4288dbd312c",
        "IPY_MODEL_a76e4d5bf4b844dfb92af40d007dbd8b",
        "IPY_MODEL_68578a93eefd47c18d792dc49a2cca6f"
       ],
       "layout": "IPY_MODEL_287376accfb6474cb2fcaebbe799ace8"
      }
     },
     "5dbcd4dcb931461bbf69702b588253d4": {
      "model_module": "@jupyter-widgets/controls",
      "model_module_version": "1.5.0",
      "model_name": "LabelModel",
      "state": {
       "layout": "IPY_MODEL_f63d8f6365af42f68ab4c06d7df783ea",
       "style": "IPY_MODEL_9e612471eb8145c39eaa8f7dba9cf445",
       "value": "Описание2"
      }
     },
     "5df882b55bfa42dd9da1c271edcbfef1": {
      "model_module": "@jupyter-widgets/base",
      "model_module_version": "1.2.0",
      "model_name": "LayoutModel",
      "state": {
       "height": "35px",
       "width": "295px"
      }
     },
     "5e8dc2be07d84d4c992bd6a797599012": {
      "model_module": "@jupyter-widgets/controls",
      "model_module_version": "1.5.0",
      "model_name": "ButtonModel",
      "state": {
       "button_style": "primary",
       "description": "Показать решение",
       "layout": "IPY_MODEL_3f96676151114708b94dad24080aa137",
       "style": "IPY_MODEL_8544158e8bb449f9bf3c9b184457525c"
      }
     },
     "5eba41b56c8c430ea8e2146396b3e32f": {
      "model_module": "@jupyter-widgets/base",
      "model_module_version": "1.2.0",
      "model_name": "LayoutModel",
      "state": {}
     },
     "5f0429f5ebd24cf0824ede4f58add763": {
      "model_module": "@jupyter-widgets/base",
      "model_module_version": "1.2.0",
      "model_name": "LayoutModel",
      "state": {
       "height": "25px",
       "width": "145px"
      }
     },
     "5fc1d97f80ad48f5b75e85ac64dacb1c": {
      "model_module": "@jupyter-widgets/base",
      "model_module_version": "1.2.0",
      "model_name": "LayoutModel",
      "state": {
       "height": "35px",
       "width": "295px"
      }
     },
     "62097fa63e1d47528ce599209600c9b7": {
      "model_module": "@jupyter-widgets/controls",
      "model_module_version": "1.5.0",
      "model_name": "ButtonStyleModel",
      "state": {}
     },
     "624fd522943348ef8bb4e8f3b8fd1047": {
      "model_module": "@jupyter-widgets/controls",
      "model_module_version": "1.5.0",
      "model_name": "ButtonModel",
      "state": {
       "button_style": "success",
       "description": "Test Unit Test",
       "layout": "IPY_MODEL_ae38807ad7c04dabbb2e88bef6393e79",
       "style": "IPY_MODEL_49369554b3a045aabea19867218621ab"
      }
     },
     "62f4c133370d4596b7dbeb19643ea266": {
      "model_module": "@jupyter-widgets/controls",
      "model_module_version": "1.5.0",
      "model_name": "ButtonStyleModel",
      "state": {}
     },
     "6302ae5cbbf446dab2cada8f337aefae": {
      "model_module": "@jupyter-widgets/base",
      "model_module_version": "1.2.0",
      "model_name": "LayoutModel",
      "state": {}
     },
     "63782481266f430588101ad21e937cf0": {
      "model_module": "@jupyter-widgets/controls",
      "model_module_version": "1.5.0",
      "model_name": "ButtonStyleModel",
      "state": {}
     },
     "63ec97926b494df4b7be2189b0d1acec": {
      "model_module": "@jupyter-widgets/controls",
      "model_module_version": "1.5.0",
      "model_name": "ButtonStyleModel",
      "state": {}
     },
     "64dc17d828d94e85b1c7ee5b25211dba": {
      "model_module": "@jupyter-widgets/base",
      "model_module_version": "1.2.0",
      "model_name": "LayoutModel",
      "state": {}
     },
     "652250fad6ad4079a81303cb5e4ad726": {
      "model_module": "@jupyter-widgets/controls",
      "model_module_version": "1.5.0",
      "model_name": "DescriptionStyleModel",
      "state": {
       "description_width": ""
      }
     },
     "653ba4ba3a934c98b638f94e38e326ac": {
      "model_module": "@jupyter-widgets/controls",
      "model_module_version": "1.5.0",
      "model_name": "DescriptionStyleModel",
      "state": {
       "description_width": ""
      }
     },
     "65fd4d627d0d42ce8a80d9abd4b76f07": {
      "model_module": "@jupyter-widgets/base",
      "model_module_version": "1.2.0",
      "model_name": "LayoutModel",
      "state": {
       "height": "45px",
       "width": "295px"
      }
     },
     "662c38e074044047923c9232e912dff5": {
      "model_module": "@jupyter-widgets/base",
      "model_module_version": "1.2.0",
      "model_name": "LayoutModel",
      "state": {}
     },
     "66745afc440a424f9934dc295275849c": {
      "model_module": "@jupyter-widgets/controls",
      "model_module_version": "1.5.0",
      "model_name": "ButtonStyleModel",
      "state": {}
     },
     "66f3cfa8cba64d49a9d944cb42b28e39": {
      "model_module": "@jupyter-widgets/base",
      "model_module_version": "1.2.0",
      "model_name": "LayoutModel",
      "state": {}
     },
     "670c163fb42c4e9a82c11c7584740c33": {
      "model_module": "@jupyter-widgets/base",
      "model_module_version": "1.2.0",
      "model_name": "LayoutModel",
      "state": {
       "height": "25px",
       "width": "145px"
      }
     },
     "680fb0fdbc5b48d1a909c190f417cd26": {
      "model_module": "@jupyter-widgets/controls",
      "model_module_version": "1.5.0",
      "model_name": "ButtonModel",
      "state": {
       "button_style": "success",
       "description": "Test Unit Test",
       "layout": "IPY_MODEL_94b9efb1b7ef4dbe80472d4c252af489",
       "style": "IPY_MODEL_4623bbf547e94fcf943f5ec48f617c72"
      }
     },
     "6820910029d2435cae1be1abfb4324c0": {
      "model_module": "@jupyter-widgets/base",
      "model_module_version": "1.2.0",
      "model_name": "LayoutModel",
      "state": {
       "height": "35px",
       "width": "295px"
      }
     },
     "682361fba5264d39a26fea8d10875dc5": {
      "model_module": "@jupyter-widgets/base",
      "model_module_version": "1.2.0",
      "model_name": "LayoutModel",
      "state": {
       "height": "25px",
       "width": "145px"
      }
     },
     "682d3144a184431c9cf91fbd8ede5833": {
      "model_module": "@jupyter-widgets/base",
      "model_module_version": "1.2.0",
      "model_name": "LayoutModel",
      "state": {
       "height": "35px",
       "width": "295px"
      }
     },
     "68578a93eefd47c18d792dc49a2cca6f": {
      "model_module": "@jupyter-widgets/controls",
      "model_module_version": "1.5.0",
      "model_name": "ButtonModel",
      "state": {
       "button_style": "danger",
       "description": "Стереть результат ",
       "layout": "IPY_MODEL_79dbaccd5f8442c884fe50d9c55c6e21",
       "style": "IPY_MODEL_51186995f2b6415ca0bb13aa44513afd"
      }
     },
     "68590865eec2415fae7ed095ac62d6c0": {
      "model_module": "@jupyter-widgets/controls",
      "model_module_version": "1.5.0",
      "model_name": "ButtonStyleModel",
      "state": {}
     },
     "68731043cda14dd8be0057c93bfd5c56": {
      "model_module": "@jupyter-widgets/base",
      "model_module_version": "1.2.0",
      "model_name": "LayoutModel",
      "state": {
       "height": "35px",
       "width": "295px"
      }
     },
     "6a282918340243dfa137fb19b6eaf4c3": {
      "model_module": "@jupyter-widgets/controls",
      "model_module_version": "1.5.0",
      "model_name": "LabelModel",
      "state": {
       "layout": "IPY_MODEL_4a294255c56544d6a2d51c4f91b786dc",
       "style": "IPY_MODEL_7e1dd7ec3b7042df828ed9a276c29f9d",
       "value": "Ответ можно переотправлять. Будет принят последний из отправленных"
      }
     },
     "6a4ab23cfa8b4d5aa7314c4413706767": {
      "model_module": "@jupyter-widgets/controls",
      "model_module_version": "1.5.0",
      "model_name": "DescriptionStyleModel",
      "state": {
       "description_width": ""
      }
     },
     "6a707a2604f3476d94d9439bcd9f2871": {
      "model_module": "@jupyter-widgets/controls",
      "model_module_version": "1.5.0",
      "model_name": "LabelModel",
      "state": {
       "layout": "IPY_MODEL_aeb1df34f2c943329feb6cc5d39ad449",
       "style": "IPY_MODEL_365a5e9043dc40e187c6c502eed5b545",
       "value": "Описание1"
      }
     },
     "6ab29ebc262941c8aa1434428265dda0": {
      "model_module": "@jupyter-widgets/controls",
      "model_module_version": "1.5.0",
      "model_name": "ButtonModel",
      "state": {
       "button_style": "primary",
       "description": "Отправить ответ",
       "layout": "IPY_MODEL_5fc1d97f80ad48f5b75e85ac64dacb1c",
       "style": "IPY_MODEL_eb577155d19b4e62a0d36be4677901d4"
      }
     },
     "6ae5f8a983e5440b919256a53521bc8b": {
      "model_module": "@jupyter-widgets/controls",
      "model_module_version": "1.5.0",
      "model_name": "ButtonModel",
      "state": {
       "button_style": "danger",
       "description": "Стереть результат ",
       "layout": "IPY_MODEL_92d53bf213b84feeabc09e0f4cf7ec4c",
       "style": "IPY_MODEL_c82950a99af6490081be0d9540808eeb"
      }
     },
     "6b086dd500504b38b7ca3f3dab9fdbd4": {
      "model_module": "@jupyter-widgets/controls",
      "model_module_version": "1.5.0",
      "model_name": "LabelModel",
      "state": {
       "layout": "IPY_MODEL_6302ae5cbbf446dab2cada8f337aefae",
       "style": "IPY_MODEL_019a1309aa4a4221a7c447a2d8b2f06c",
       "value": "Описание2"
      }
     },
     "6bf0a9eaa5c042999b04e2b2a8e29a27": {
      "model_module": "@jupyter-widgets/base",
      "model_module_version": "1.2.0",
      "model_name": "LayoutModel",
      "state": {
       "height": "25px",
       "width": "145px"
      }
     },
     "6bf8bfe7e6584469af29d560aa5b2d0a": {
      "model_module": "@jupyter-widgets/controls",
      "model_module_version": "1.5.0",
      "model_name": "DescriptionStyleModel",
      "state": {
       "description_width": ""
      }
     },
     "6bff99e82a5845098af4efe276bb6d14": {
      "model_module": "@jupyter-widgets/base",
      "model_module_version": "1.2.0",
      "model_name": "LayoutModel",
      "state": {
       "height": "25px",
       "width": "145px"
      }
     },
     "6c51db23dc7643518ed8e50d1c97b9ee": {
      "model_module": "@jupyter-widgets/controls",
      "model_module_version": "1.5.0",
      "model_name": "LabelModel",
      "state": {
       "layout": "IPY_MODEL_1005d3504d4c4a7d85df6de516589a15",
       "style": "IPY_MODEL_9af8392e240e4868810e34e31ba481d9",
       "value": "Описание1"
      }
     },
     "6da6c0fca431446b82dd36b2e52e41fa": {
      "model_module": "@jupyter-widgets/base",
      "model_module_version": "1.2.0",
      "model_name": "LayoutModel",
      "state": {
       "height": "45px",
       "width": "295px"
      }
     },
     "6de7ffdc915445d1b7d39d4a0490abf2": {
      "model_module": "@jupyter-widgets/base",
      "model_module_version": "1.2.0",
      "model_name": "LayoutModel",
      "state": {}
     },
     "6e211930f8b34c58aae1305baa8dbe4a": {
      "model_module": "@jupyter-widgets/base",
      "model_module_version": "1.2.0",
      "model_name": "LayoutModel",
      "state": {
       "height": "25px",
       "width": "145px"
      }
     },
     "6e5c197bc5d54dffb6ed65e61d2eade5": {
      "model_module": "@jupyter-widgets/controls",
      "model_module_version": "1.5.0",
      "model_name": "ButtonStyleModel",
      "state": {}
     },
     "6f3c4b038dec4faa9143b97fe2548d37": {
      "model_module": "@jupyter-widgets/controls",
      "model_module_version": "1.5.0",
      "model_name": "ButtonStyleModel",
      "state": {}
     },
     "6f840716ac5f486fbfbdd4efc52b1475": {
      "model_module": "@jupyter-widgets/base",
      "model_module_version": "1.2.0",
      "model_name": "LayoutModel",
      "state": {
       "height": "25px",
       "width": "145px"
      }
     },
     "7001339b4c9440008963ef8a5cae94ff": {
      "model_module": "@jupyter-widgets/controls",
      "model_module_version": "1.5.0",
      "model_name": "HBoxModel",
      "state": {
       "children": [
        "IPY_MODEL_8612d76a419249fd9de098731fc733f6",
        "IPY_MODEL_bce9adc9bf084c8985bf2dd9c802849c",
        "IPY_MODEL_efd8f53c0505423080be05f50da22582",
        "IPY_MODEL_7d74a3b4b8f845b8a7e597fc263e059f",
        "IPY_MODEL_525591be0a7749b29e76d97f53c0bed0"
       ],
       "layout": "IPY_MODEL_b0edb6b6f5af42619e92614ad5584d62"
      }
     },
     "70087b5aaf294ab49335377eb8c630bd": {
      "model_module": "@jupyter-widgets/controls",
      "model_module_version": "1.5.0",
      "model_name": "ButtonModel",
      "state": {
       "button_style": "danger",
       "description": "Стереть результат ",
       "layout": "IPY_MODEL_aa85397a02e048d1b2c4801d3e362f0e",
       "style": "IPY_MODEL_f2f69021fad8437285a2ab38f84e674d"
      }
     },
     "70158df9781d43eb875737d2ba7dbc34": {
      "model_module": "@jupyter-widgets/base",
      "model_module_version": "1.2.0",
      "model_name": "LayoutModel",
      "state": {
       "height": "35px",
       "width": "295px"
      }
     },
     "705be339d3e34eb3a8beaedb6e44e41f": {
      "model_module": "@jupyter-widgets/base",
      "model_module_version": "1.2.0",
      "model_name": "LayoutModel",
      "state": {
       "height": "45px",
       "width": "295px"
      }
     },
     "70cb53506a474c9ba040d44d2b490349": {
      "model_module": "@jupyter-widgets/controls",
      "model_module_version": "1.5.0",
      "model_name": "ButtonModel",
      "state": {
       "button_style": "success",
       "description": "Test Unit Test",
       "layout": "IPY_MODEL_c3dc3dc3192e4fb09c3f82bc49b2edfa",
       "style": "IPY_MODEL_528bcea7f07e4de8937d6e78e654284a"
      }
     },
     "7111a7c9040f4ee2b6e9826a1c30b5fb": {
      "model_module": "@jupyter-widgets/base",
      "model_module_version": "1.2.0",
      "model_name": "LayoutModel",
      "state": {
       "height": "35px",
       "width": "295px"
      }
     },
     "7161aad93b0048828b25234ff4688606": {
      "model_module": "@jupyter-widgets/base",
      "model_module_version": "1.2.0",
      "model_name": "LayoutModel",
      "state": {
       "height": "25px",
       "width": "145px"
      }
     },
     "72179a1202dc496a8e809b47682c63dd": {
      "model_module": "@jupyter-widgets/controls",
      "model_module_version": "1.5.0",
      "model_name": "LabelModel",
      "state": {
       "layout": "IPY_MODEL_3815dba9155b43f1a8f2831e5ca53f8a",
       "style": "IPY_MODEL_6bf8bfe7e6584469af29d560aa5b2d0a",
       "value": "Описание2"
      }
     },
     "723299cdc2944c6791178be4ef04caed": {
      "model_module": "@jupyter-widgets/controls",
      "model_module_version": "1.5.0",
      "model_name": "ButtonStyleModel",
      "state": {}
     },
     "72686a9ffa5b49209e4ea21629f6d1b2": {
      "model_module": "@jupyter-widgets/controls",
      "model_module_version": "1.5.0",
      "model_name": "ButtonModel",
      "state": {
       "button_style": "danger",
       "description": "Стереть результат ",
       "layout": "IPY_MODEL_770317b25a0e4c9a95ea17348dc061f8",
       "style": "IPY_MODEL_f32a6f97c6a249aea8323c9c0e73d175"
      }
     },
     "72d7f583cf9647a2aa68e8fa37395bcf": {
      "model_module": "@jupyter-widgets/controls",
      "model_module_version": "1.5.0",
      "model_name": "ButtonModel",
      "state": {
       "button_style": "danger",
       "description": "Обратная связь",
       "layout": "IPY_MODEL_91c112015b7a43598550964b1ff2613b",
       "style": "IPY_MODEL_40d79a6cb4c74752b29d6635c8782e73"
      }
     },
     "72e0b7cf31254f1493a0c6e8962ed2c6": {
      "model_module": "@jupyter-widgets/controls",
      "model_module_version": "1.5.0",
      "model_name": "ButtonModel",
      "state": {
       "button_style": "success",
       "description": "Проверить",
       "layout": "IPY_MODEL_0295812fde8848b883907c7dad61fcd5",
       "style": "IPY_MODEL_9d9e4fed03af445f85a6e023e8045b1f"
      }
     },
     "72f611ba78804a598ae15b88dd7fe1db": {
      "model_module": "@jupyter-widgets/controls",
      "model_module_version": "1.5.0",
      "model_name": "LabelModel",
      "state": {
       "layout": "IPY_MODEL_5eba41b56c8c430ea8e2146396b3e32f",
       "style": "IPY_MODEL_731ac570b00b44a9bd03bfc41946e05a",
       "value": "Ответ можно переотправлять. Будет принят последний из отправленных"
      }
     },
     "731ac570b00b44a9bd03bfc41946e05a": {
      "model_module": "@jupyter-widgets/controls",
      "model_module_version": "1.5.0",
      "model_name": "DescriptionStyleModel",
      "state": {
       "description_width": ""
      }
     },
     "7422ad2d5928435c9b2b03f940a61586": {
      "model_module": "@jupyter-widgets/controls",
      "model_module_version": "1.5.0",
      "model_name": "ButtonStyleModel",
      "state": {}
     },
     "7423dd5c762343beac8bdc265ae2f145": {
      "model_module": "@jupyter-widgets/controls",
      "model_module_version": "1.5.0",
      "model_name": "HBoxModel",
      "state": {
       "children": [
        "IPY_MODEL_45905fe2a73a4bc3a604b14f09c7d394",
        "IPY_MODEL_680fb0fdbc5b48d1a909c190f417cd26",
        "IPY_MODEL_7b416b7e5ee14567ad2b140f5f7aae82",
        "IPY_MODEL_b66c4a3013654859b4d4f768be06407d",
        "IPY_MODEL_312bd20e969f41fb832ff5d4013ec9bf"
       ],
       "layout": "IPY_MODEL_0a1b3dd976f343fa914cfcb8cb652b20"
      }
     },
     "74da37b06e5e4b23a079cdec54928127": {
      "model_module": "@jupyter-widgets/controls",
      "model_module_version": "1.5.0",
      "model_name": "ButtonStyleModel",
      "state": {}
     },
     "7649c6dd4d3240bda9d52b9853cf85d5": {
      "model_module": "@jupyter-widgets/base",
      "model_module_version": "1.2.0",
      "model_name": "LayoutModel",
      "state": {}
     },
     "770317b25a0e4c9a95ea17348dc061f8": {
      "model_module": "@jupyter-widgets/base",
      "model_module_version": "1.2.0",
      "model_name": "LayoutModel",
      "state": {
       "height": "25px",
       "width": "145px"
      }
     },
     "78c5bf9e77e04264860db603c999ec41": {
      "model_module": "@jupyter-widgets/base",
      "model_module_version": "1.2.0",
      "model_name": "LayoutModel",
      "state": {
       "height": "25px",
       "width": "145px"
      }
     },
     "7902ba7725b9440db02ad823b3097132": {
      "model_module": "@jupyter-widgets/controls",
      "model_module_version": "1.5.0",
      "model_name": "ButtonStyleModel",
      "state": {}
     },
     "79c91cb862b2421e9ea519f4bcdb3261": {
      "model_module": "@jupyter-widgets/controls",
      "model_module_version": "1.5.0",
      "model_name": "ButtonModel",
      "state": {
       "button_style": "success",
       "description": "Проверить",
       "layout": "IPY_MODEL_1e22673d5d2a4fe99bd02cdad53e05cc",
       "style": "IPY_MODEL_8b35edd07a6c40bf8d37dbe8d8f4bd1b"
      }
     },
     "79dbaccd5f8442c884fe50d9c55c6e21": {
      "model_module": "@jupyter-widgets/base",
      "model_module_version": "1.2.0",
      "model_name": "LayoutModel",
      "state": {
       "height": "25px",
       "width": "145px"
      }
     },
     "7b33b7f518d74830a841dfcdb916f204": {
      "model_module": "@jupyter-widgets/controls",
      "model_module_version": "1.5.0",
      "model_name": "LabelModel",
      "state": {
       "layout": "IPY_MODEL_cecdcb92f64549b5b967e3803801f95b",
       "style": "IPY_MODEL_edef666a76e3454099e8d9f0f60bbe48",
       "value": "Описание1"
      }
     },
     "7b3f0a17c523480f8e3969f6df02b7c0": {
      "model_module": "@jupyter-widgets/controls",
      "model_module_version": "1.5.0",
      "model_name": "ButtonStyleModel",
      "state": {}
     },
     "7b416b7e5ee14567ad2b140f5f7aae82": {
      "model_module": "@jupyter-widgets/controls",
      "model_module_version": "1.5.0",
      "model_name": "ButtonModel",
      "state": {
       "button_style": "primary",
       "description": "Показать решение",
       "layout": "IPY_MODEL_6bff99e82a5845098af4efe276bb6d14",
       "style": "IPY_MODEL_7422ad2d5928435c9b2b03f940a61586"
      }
     },
     "7bd58cf227d94f6a9b674ae54dcd16ff": {
      "model_module": "@jupyter-widgets/base",
      "model_module_version": "1.2.0",
      "model_name": "LayoutModel",
      "state": {
       "height": "35px",
       "width": "295px"
      }
     },
     "7c3ae6708bde409bb4292bee2d916a98": {
      "model_module": "@jupyter-widgets/controls",
      "model_module_version": "1.5.0",
      "model_name": "HBoxModel",
      "state": {
       "children": [
        "IPY_MODEL_082e584e2c814866a3859d0cbca747e9",
        "IPY_MODEL_951c4642e6024c1e9905620975aad1da",
        "IPY_MODEL_a9415d6f72124ed3ab6dcef438254612",
        "IPY_MODEL_04568383d060448f8d492942e7b9b7a2",
        "IPY_MODEL_9dd902e2533644fe9aed9daf0a9a3ab2"
       ],
       "layout": "IPY_MODEL_dda3c3955c2049ec8aecf8e8c6b34fb5"
      }
     },
     "7cfd0a1e969846a2a88746592ce4cade": {
      "model_module": "@jupyter-widgets/base",
      "model_module_version": "1.2.0",
      "model_name": "LayoutModel",
      "state": {
       "height": "35px",
       "width": "295px"
      }
     },
     "7d74a3b4b8f845b8a7e597fc263e059f": {
      "model_module": "@jupyter-widgets/controls",
      "model_module_version": "1.5.0",
      "model_name": "ButtonModel",
      "state": {
       "button_style": "danger",
       "description": "Обратная связь",
       "layout": "IPY_MODEL_3e93716d34c144619f5e71ee87e1c035",
       "style": "IPY_MODEL_19859937eccc4802a14ceafc8b197d4d"
      }
     },
     "7e1dd7ec3b7042df828ed9a276c29f9d": {
      "model_module": "@jupyter-widgets/controls",
      "model_module_version": "1.5.0",
      "model_name": "DescriptionStyleModel",
      "state": {
       "description_width": ""
      }
     },
     "7eb9b2876b434b9b821ed8b470471e8d": {
      "model_module": "@jupyter-widgets/base",
      "model_module_version": "1.2.0",
      "model_name": "LayoutModel",
      "state": {
       "height": "25px",
       "width": "145px"
      }
     },
     "7f0bb0b7718d4902bea62b70b252118d": {
      "model_module": "@jupyter-widgets/controls",
      "model_module_version": "1.5.0",
      "model_name": "ButtonStyleModel",
      "state": {}
     },
     "7f6876e4d3d8409fbca7753aaa0d5368": {
      "model_module": "@jupyter-widgets/controls",
      "model_module_version": "1.5.0",
      "model_name": "ButtonModel",
      "state": {
       "button_style": "primary",
       "description": "Отправить ответ",
       "layout": "IPY_MODEL_682d3144a184431c9cf91fbd8ede5833",
       "style": "IPY_MODEL_1554631ba2b24f34891dc9467f524577"
      }
     },
     "80301c40939742fcbdd214393223d4ae": {
      "model_module": "@jupyter-widgets/base",
      "model_module_version": "1.2.0",
      "model_name": "LayoutModel",
      "state": {}
     },
     "8113e4b3f4fb414e8df63b7ad1a394ba": {
      "model_module": "@jupyter-widgets/controls",
      "model_module_version": "1.5.0",
      "model_name": "ButtonStyleModel",
      "state": {}
     },
     "819ddfee2d2a423fb1d45eb17c850300": {
      "model_module": "@jupyter-widgets/controls",
      "model_module_version": "1.5.0",
      "model_name": "LabelModel",
      "state": {
       "layout": "IPY_MODEL_e9ee66f4f16d458da86948dde0badbf6",
       "style": "IPY_MODEL_e182a69f51b4403a9bc5a4990df359ce",
       "value": "Описание1"
      }
     },
     "81a700ca459b4f91bdf42aa14f9b1a93": {
      "model_module": "@jupyter-widgets/controls",
      "model_module_version": "1.5.0",
      "model_name": "DescriptionStyleModel",
      "state": {
       "description_width": ""
      }
     },
     "825eeb9bd09a4d5d9bd61105594979e9": {
      "model_module": "@jupyter-widgets/controls",
      "model_module_version": "1.5.0",
      "model_name": "LabelModel",
      "state": {
       "layout": "IPY_MODEL_2450b23e274c4bc48f969e099ca47d05",
       "style": "IPY_MODEL_d30afd4813a744b99fe3358802260089",
       "value": "Описание1"
      }
     },
     "8283dee1dfaf4602a4d976ff4161f690": {
      "model_module": "@jupyter-widgets/controls",
      "model_module_version": "1.5.0",
      "model_name": "LabelModel",
      "state": {
       "layout": "IPY_MODEL_1d107b245ddf47e8b1267a751ccafd87",
       "style": "IPY_MODEL_42d074bd9dd5453a9eb7016175194136",
       "value": "Описание2"
      }
     },
     "83855534e71f4919b6af802adf01e75b": {
      "model_module": "@jupyter-widgets/controls",
      "model_module_version": "1.5.0",
      "model_name": "DescriptionStyleModel",
      "state": {
       "description_width": ""
      }
     },
     "83d9a97744b146909ad0b31daf735f6d": {
      "model_module": "@jupyter-widgets/base",
      "model_module_version": "1.2.0",
      "model_name": "LayoutModel",
      "state": {}
     },
     "841c729514cf4b739cabe62a715e4cfa": {
      "model_module": "@jupyter-widgets/controls",
      "model_module_version": "1.5.0",
      "model_name": "ButtonStyleModel",
      "state": {}
     },
     "84428353e2cc49bd812e6e0c807c3d8b": {
      "model_module": "@jupyter-widgets/controls",
      "model_module_version": "1.5.0",
      "model_name": "ButtonModel",
      "state": {
       "button_style": "success",
       "description": "Проверить",
       "layout": "IPY_MODEL_9f6733091c114be3ad38fc1b2306e369",
       "style": "IPY_MODEL_cdeb599b68824c2995f224ed15f1f38e"
      }
     },
     "84b09199c1834a2ca3152e46b9a8db40": {
      "model_module": "@jupyter-widgets/controls",
      "model_module_version": "1.5.0",
      "model_name": "ButtonStyleModel",
      "state": {}
     },
     "84ece3c55fa04e51887cd796769ffe61": {
      "model_module": "@jupyter-widgets/controls",
      "model_module_version": "1.5.0",
      "model_name": "ButtonStyleModel",
      "state": {}
     },
     "8544158e8bb449f9bf3c9b184457525c": {
      "model_module": "@jupyter-widgets/controls",
      "model_module_version": "1.5.0",
      "model_name": "ButtonStyleModel",
      "state": {}
     },
     "85fdb66d598740b3b64e53aa41f8ac86": {
      "model_module": "@jupyter-widgets/controls",
      "model_module_version": "1.5.0",
      "model_name": "ButtonModel",
      "state": {
       "button_style": "primary",
       "description": "Показать решение",
       "layout": "IPY_MODEL_3242e59b77144c05a4cab27da07662fc",
       "style": "IPY_MODEL_31c8a8a33eb6431db2cc10cd75b416dd"
      }
     },
     "8612d76a419249fd9de098731fc733f6": {
      "model_module": "@jupyter-widgets/controls",
      "model_module_version": "1.5.0",
      "model_name": "ButtonModel",
      "state": {
       "button_style": "success",
       "description": "Проверить",
       "layout": "IPY_MODEL_2ea35138daf8485d97bfcd73e62c1ae7",
       "style": "IPY_MODEL_3d80d9d06ca34e6fb1205321ad98599c"
      }
     },
     "863ba308b99c4ec79f091c2eb400c32d": {
      "model_module": "@jupyter-widgets/base",
      "model_module_version": "1.2.0",
      "model_name": "LayoutModel",
      "state": {
       "height": "25px",
       "width": "145px"
      }
     },
     "86822c948abf42fda6fec0e3a227dd12": {
      "model_module": "@jupyter-widgets/base",
      "model_module_version": "1.2.0",
      "model_name": "LayoutModel",
      "state": {}
     },
     "873e843d535b44fb804d2dc40cc031bd": {
      "model_module": "@jupyter-widgets/controls",
      "model_module_version": "1.5.0",
      "model_name": "ButtonModel",
      "state": {
       "button_style": "success",
       "description": "Проверить",
       "layout": "IPY_MODEL_65fd4d627d0d42ce8a80d9abd4b76f07",
       "style": "IPY_MODEL_1e676eb0ebf54c8cb6f5268d1eab04f3"
      }
     },
     "87448f14f7534930a1f55e16db9468f9": {
      "model_module": "@jupyter-widgets/controls",
      "model_module_version": "1.5.0",
      "model_name": "ButtonModel",
      "state": {
       "button_style": "primary",
       "description": "Отправить ответ",
       "layout": "IPY_MODEL_7cfd0a1e969846a2a88746592ce4cade",
       "style": "IPY_MODEL_2aab3960e73d4f9ca571e62d0997ff47"
      }
     },
     "87fe170eeace44ca9e4fbf4cd1e0cb62": {
      "model_module": "@jupyter-widgets/controls",
      "model_module_version": "1.5.0",
      "model_name": "ButtonStyleModel",
      "state": {}
     },
     "8821a86e37d0491daf86295bca4f76bb": {
      "model_module": "@jupyter-widgets/controls",
      "model_module_version": "1.5.0",
      "model_name": "ButtonStyleModel",
      "state": {}
     },
     "882df557bce84947aa2673e027c3adf4": {
      "model_module": "@jupyter-widgets/base",
      "model_module_version": "1.2.0",
      "model_name": "LayoutModel",
      "state": {
       "height": "35px",
       "width": "295px"
      }
     },
     "8851dfbf1f1141b78d99af974b1cc423": {
      "model_module": "@jupyter-widgets/base",
      "model_module_version": "1.2.0",
      "model_name": "LayoutModel",
      "state": {
       "height": "35px",
       "width": "295px"
      }
     },
     "88b68ef87e8f410d91af94556eccd8ef": {
      "model_module": "@jupyter-widgets/controls",
      "model_module_version": "1.5.0",
      "model_name": "LabelModel",
      "state": {
       "layout": "IPY_MODEL_af28da3fec2641d6b8f47c161d2385fa",
       "style": "IPY_MODEL_f243f59356984fd3a064a9c3a3be38db",
       "value": "Описание2"
      }
     },
     "88ef9c4d1e4247c4ba1e771fc6dc1976": {
      "model_module": "@jupyter-widgets/controls",
      "model_module_version": "1.5.0",
      "model_name": "ButtonStyleModel",
      "state": {}
     },
     "8967703be5404eed8b8ba53cc1e50729": {
      "model_module": "@jupyter-widgets/controls",
      "model_module_version": "1.5.0",
      "model_name": "DescriptionStyleModel",
      "state": {
       "description_width": ""
      }
     },
     "8a1ccc9af629438582ef79667d3e8c43": {
      "model_module": "@jupyter-widgets/base",
      "model_module_version": "1.2.0",
      "model_name": "LayoutModel",
      "state": {}
     },
     "8a71c234716c43478d97e5d34ab09267": {
      "model_module": "@jupyter-widgets/base",
      "model_module_version": "1.2.0",
      "model_name": "LayoutModel",
      "state": {}
     },
     "8a7810f054d5441ba289992e27d3c999": {
      "model_module": "@jupyter-widgets/controls",
      "model_module_version": "1.5.0",
      "model_name": "ButtonModel",
      "state": {
       "button_style": "success",
       "description": "Проверить",
       "layout": "IPY_MODEL_986b91a4eb574e1db9dafcbb24fdeba2",
       "style": "IPY_MODEL_d455a0b83a6a42da90d24556baf740f9"
      }
     },
     "8b35edd07a6c40bf8d37dbe8d8f4bd1b": {
      "model_module": "@jupyter-widgets/controls",
      "model_module_version": "1.5.0",
      "model_name": "ButtonStyleModel",
      "state": {}
     },
     "8b4bd02fb63843fd8fea409594f504e9": {
      "model_module": "@jupyter-widgets/controls",
      "model_module_version": "1.5.0",
      "model_name": "ButtonModel",
      "state": {
       "button_style": "primary",
       "description": "Отправить ответ",
       "layout": "IPY_MODEL_882df557bce84947aa2673e027c3adf4",
       "style": "IPY_MODEL_7b3f0a17c523480f8e3969f6df02b7c0"
      }
     },
     "8ba2bf59b52a4043bf4f85df7fe741d5": {
      "model_module": "@jupyter-widgets/controls",
      "model_module_version": "1.5.0",
      "model_name": "ButtonStyleModel",
      "state": {}
     },
     "8bc41369e93946fcb2323a6fcb6dbfed": {
      "model_module": "@jupyter-widgets/controls",
      "model_module_version": "1.5.0",
      "model_name": "ButtonModel",
      "state": {
       "button_style": "success",
       "description": "Проверить",
       "layout": "IPY_MODEL_705be339d3e34eb3a8beaedb6e44e41f",
       "style": "IPY_MODEL_62097fa63e1d47528ce599209600c9b7"
      }
     },
     "8bed762fc9df4af18133b20a60c94e58": {
      "model_module": "@jupyter-widgets/controls",
      "model_module_version": "1.5.0",
      "model_name": "ButtonStyleModel",
      "state": {}
     },
     "8c831648c7194cb4a883a9e01e039442": {
      "model_module": "@jupyter-widgets/base",
      "model_module_version": "1.2.0",
      "model_name": "LayoutModel",
      "state": {
       "height": "25px",
       "width": "145px"
      }
     },
     "8cf1fb81589347e582247efe9d4272bc": {
      "model_module": "@jupyter-widgets/controls",
      "model_module_version": "1.5.0",
      "model_name": "ButtonStyleModel",
      "state": {}
     },
     "8dcd7c54258c4f80aa6ed87e82082f85": {
      "model_module": "@jupyter-widgets/controls",
      "model_module_version": "1.5.0",
      "model_name": "ButtonModel",
      "state": {
       "button_style": "primary",
       "description": "Отправить ответ",
       "layout": "IPY_MODEL_7bd58cf227d94f6a9b674ae54dcd16ff",
       "style": "IPY_MODEL_079f6316fd0045f78df9057e9980ba76"
      }
     },
     "8f5c56fb2ce143a49614172acb4c0569": {
      "model_module": "@jupyter-widgets/controls",
      "model_module_version": "1.5.0",
      "model_name": "LabelModel",
      "state": {
       "layout": "IPY_MODEL_1c096643f03a4c7daab99b40468db2c5",
       "style": "IPY_MODEL_da97ec3c22f0491fad50b6cbbc85ef1c",
       "value": "Описание1"
      }
     },
     "8fa3631d94c542f39abe7674608437a7": {
      "model_module": "@jupyter-widgets/base",
      "model_module_version": "1.2.0",
      "model_name": "LayoutModel",
      "state": {}
     },
     "901c7a1bae24490f95e291d09e304bac": {
      "model_module": "@jupyter-widgets/controls",
      "model_module_version": "1.5.0",
      "model_name": "ButtonModel",
      "state": {
       "button_style": "primary",
       "description": "Показать решение",
       "layout": "IPY_MODEL_d2a13759d1f14b929dc5c8e3db809b6d",
       "style": "IPY_MODEL_0810de748a70406092e3160515a3558a"
      }
     },
     "90a38a1de4124059a6f3afbef8f9a1fc": {
      "model_module": "@jupyter-widgets/base",
      "model_module_version": "1.2.0",
      "model_name": "LayoutModel",
      "state": {
       "height": "35px",
       "width": "295px"
      }
     },
     "90b62a1619e8456d80e1969d4b1c2bff": {
      "model_module": "@jupyter-widgets/base",
      "model_module_version": "1.2.0",
      "model_name": "LayoutModel",
      "state": {}
     },
     "90e5be2f9afd4eeabf2bcf44abacad21": {
      "model_module": "@jupyter-widgets/controls",
      "model_module_version": "1.5.0",
      "model_name": "ButtonModel",
      "state": {
       "button_style": "success",
       "description": "Проверить",
       "layout": "IPY_MODEL_d9f0e62cac784a6cabba2aa0a782af34",
       "style": "IPY_MODEL_b897959a685e41d8b060dd7e2db7412e"
      }
     },
     "9102427199344eb89ba385b369ca5c11": {
      "model_module": "@jupyter-widgets/base",
      "model_module_version": "1.2.0",
      "model_name": "LayoutModel",
      "state": {
       "height": "25px",
       "width": "145px"
      }
     },
     "9130c87881ec4b07a4dde8c3ca41327e": {
      "model_module": "@jupyter-widgets/base",
      "model_module_version": "1.2.0",
      "model_name": "LayoutModel",
      "state": {}
     },
     "9188efb4c1064fa68631c35e1cba11cb": {
      "model_module": "@jupyter-widgets/controls",
      "model_module_version": "1.5.0",
      "model_name": "ButtonModel",
      "state": {
       "button_style": "danger",
       "description": "Стереть результат ",
       "layout": "IPY_MODEL_682361fba5264d39a26fea8d10875dc5",
       "style": "IPY_MODEL_66745afc440a424f9934dc295275849c"
      }
     },
     "9198326de40b492fad4e6fd86d0770a1": {
      "model_module": "@jupyter-widgets/base",
      "model_module_version": "1.2.0",
      "model_name": "LayoutModel",
      "state": {}
     },
     "91c112015b7a43598550964b1ff2613b": {
      "model_module": "@jupyter-widgets/base",
      "model_module_version": "1.2.0",
      "model_name": "LayoutModel",
      "state": {
       "height": "25px",
       "width": "145px"
      }
     },
     "920d96cd34124301a5f3b7051a8113f8": {
      "model_module": "@jupyter-widgets/controls",
      "model_module_version": "1.5.0",
      "model_name": "DescriptionStyleModel",
      "state": {
       "description_width": ""
      }
     },
     "92604220e70e45fab8cb5ce83b9e5d06": {
      "model_module": "@jupyter-widgets/base",
      "model_module_version": "1.2.0",
      "model_name": "LayoutModel",
      "state": {
       "height": "25px",
       "width": "145px"
      }
     },
     "92d53bf213b84feeabc09e0f4cf7ec4c": {
      "model_module": "@jupyter-widgets/base",
      "model_module_version": "1.2.0",
      "model_name": "LayoutModel",
      "state": {
       "height": "25px",
       "width": "145px"
      }
     },
     "92f1fb9f6bf347049bd9cd496017ef5c": {
      "model_module": "@jupyter-widgets/controls",
      "model_module_version": "1.5.0",
      "model_name": "DescriptionStyleModel",
      "state": {
       "description_width": ""
      }
     },
     "9354b8a1cc71474b8a281e6d029f3e5c": {
      "model_module": "@jupyter-widgets/base",
      "model_module_version": "1.2.0",
      "model_name": "LayoutModel",
      "state": {
       "height": "25px",
       "width": "145px"
      }
     },
     "9369bcc593c64654b427eed405c7a9de": {
      "model_module": "@jupyter-widgets/base",
      "model_module_version": "1.2.0",
      "model_name": "LayoutModel",
      "state": {
       "height": "25px",
       "width": "145px"
      }
     },
     "93a75b59817743638a772a2a7062c37c": {
      "model_module": "@jupyter-widgets/base",
      "model_module_version": "1.2.0",
      "model_name": "LayoutModel",
      "state": {
       "height": "25px",
       "width": "145px"
      }
     },
     "943d34a622cc465084772f5dfceff3b7": {
      "model_module": "@jupyter-widgets/base",
      "model_module_version": "1.2.0",
      "model_name": "LayoutModel",
      "state": {
       "height": "25px",
       "width": "145px"
      }
     },
     "94a336ab998143529839bf5f9029112d": {
      "model_module": "@jupyter-widgets/controls",
      "model_module_version": "1.5.0",
      "model_name": "ButtonModel",
      "state": {
       "button_style": "danger",
       "description": "Стереть результат ",
       "layout": "IPY_MODEL_9771f2e128d149ef9d34711c2f3f0aaf",
       "style": "IPY_MODEL_3b259697ce224573b6d4f724ffaf3c22"
      }
     },
     "94b9efb1b7ef4dbe80472d4c252af489": {
      "model_module": "@jupyter-widgets/base",
      "model_module_version": "1.2.0",
      "model_name": "LayoutModel",
      "state": {
       "height": "25px",
       "width": "145px"
      }
     },
     "94be69dffdcd43bb8818051b4938c6d9": {
      "model_module": "@jupyter-widgets/controls",
      "model_module_version": "1.5.0",
      "model_name": "ButtonModel",
      "state": {
       "button_style": "danger",
       "description": "Обратная связь",
       "layout": "IPY_MODEL_6e211930f8b34c58aae1305baa8dbe4a",
       "style": "IPY_MODEL_dd271a4ee1d64dda83cb3f3a5abd6cbc"
      }
     },
     "94db9019ae2145adbe673a4fcf1d8ac0": {
      "model_module": "@jupyter-widgets/controls",
      "model_module_version": "1.5.0",
      "model_name": "ButtonModel",
      "state": {
       "button_style": "danger",
       "description": "Обратная связь",
       "layout": "IPY_MODEL_27b0fd8a2ad74a5c9fe37a77ccecf025",
       "style": "IPY_MODEL_0b3fb2fe708c45558d29aa17da17a788"
      }
     },
     "951c4642e6024c1e9905620975aad1da": {
      "model_module": "@jupyter-widgets/controls",
      "model_module_version": "1.5.0",
      "model_name": "ButtonModel",
      "state": {
       "button_style": "success",
       "description": "Test Unit Test",
       "layout": "IPY_MODEL_cae6cfbffad24f13bdbecacc8ffe5495",
       "style": "IPY_MODEL_58920a9c3c564d6eadedc348059d62d2"
      }
     },
     "9567fb46e2e14038ae3c896300fe65e0": {
      "model_module": "@jupyter-widgets/controls",
      "model_module_version": "1.5.0",
      "model_name": "ButtonStyleModel",
      "state": {}
     },
     "962e7f6d5598449d941414ba5183ab80": {
      "model_module": "@jupyter-widgets/controls",
      "model_module_version": "1.5.0",
      "model_name": "ButtonStyleModel",
      "state": {}
     },
     "96964297d2824afbaaf09c2496cbf1e1": {
      "model_module": "@jupyter-widgets/controls",
      "model_module_version": "1.5.0",
      "model_name": "DescriptionStyleModel",
      "state": {
       "description_width": ""
      }
     },
     "969c61dfd36e412bb60b7c8cb4c6a77f": {
      "model_module": "@jupyter-widgets/controls",
      "model_module_version": "1.5.0",
      "model_name": "DescriptionStyleModel",
      "state": {
       "description_width": ""
      }
     },
     "96ca10c264ec4322bd012a1871b8bbf1": {
      "model_module": "@jupyter-widgets/controls",
      "model_module_version": "1.5.0",
      "model_name": "HBoxModel",
      "state": {
       "children": [
        "IPY_MODEL_de1264a4ad514b7596636533d76e0a42",
        "IPY_MODEL_d332374d0873434085cdfa1f6a93f29b",
        "IPY_MODEL_fca7333e6d86455b8299f258e0580b1b",
        "IPY_MODEL_4e276ab1d60e4979a5bf94698fe01620",
        "IPY_MODEL_3882a68392124bfd8daffc33b0706197"
       ],
       "layout": "IPY_MODEL_80301c40939742fcbdd214393223d4ae"
      }
     },
     "970207ba9ff34fa8a923037eb6e2bdbc": {
      "model_module": "@jupyter-widgets/controls",
      "model_module_version": "1.5.0",
      "model_name": "HBoxModel",
      "state": {
       "children": [
        "IPY_MODEL_d06ae576c4a34f70bbd18508a4a467f8",
        "IPY_MODEL_9ac31fd4f3074b2a8daaf16f813c7c88",
        "IPY_MODEL_5e8dc2be07d84d4c992bd6a797599012",
        "IPY_MODEL_94be69dffdcd43bb8818051b4938c6d9",
        "IPY_MODEL_e98699b5e30d4e238aa756e7ac7d4755"
       ],
       "layout": "IPY_MODEL_2aefb6831125425898568417bbb67918"
      }
     },
     "9705b9518d034df59c3dcf36834843c2": {
      "model_module": "@jupyter-widgets/controls",
      "model_module_version": "1.5.0",
      "model_name": "DescriptionStyleModel",
      "state": {
       "description_width": ""
      }
     },
     "970ea4199f9f422386459321d9f84f05": {
      "model_module": "@jupyter-widgets/controls",
      "model_module_version": "1.5.0",
      "model_name": "LabelModel",
      "state": {
       "layout": "IPY_MODEL_a271fd110b8c488491b0a2b7a065e480",
       "style": "IPY_MODEL_eef6a448fa354fa7957b65041a723b5f",
       "value": "Ответ можно переотправлять. Будет принят последний из отправленных"
      }
     },
     "971095bb83034095966ae04332b576fc": {
      "model_module": "@jupyter-widgets/controls",
      "model_module_version": "1.5.0",
      "model_name": "LabelModel",
      "state": {
       "layout": "IPY_MODEL_0f447c12d78341ccbfa03b098c30f703",
       "style": "IPY_MODEL_524d9727f6734b748fabead1123bd500",
       "value": "Описание2"
      }
     },
     "9771f2e128d149ef9d34711c2f3f0aaf": {
      "model_module": "@jupyter-widgets/base",
      "model_module_version": "1.2.0",
      "model_name": "LayoutModel",
      "state": {
       "height": "25px",
       "width": "145px"
      }
     },
     "978a7149d5d446c5ab728cd9fc36c6b5": {
      "model_module": "@jupyter-widgets/base",
      "model_module_version": "1.2.0",
      "model_name": "LayoutModel",
      "state": {}
     },
     "986b91a4eb574e1db9dafcbb24fdeba2": {
      "model_module": "@jupyter-widgets/base",
      "model_module_version": "1.2.0",
      "model_name": "LayoutModel",
      "state": {
       "height": "45px",
       "width": "295px"
      }
     },
     "98898034fb7540a9af8177efefcc74d6": {
      "model_module": "@jupyter-widgets/controls",
      "model_module_version": "1.5.0",
      "model_name": "ButtonModel",
      "state": {
       "button_style": "danger",
       "description": "Стереть результат ",
       "layout": "IPY_MODEL_45bae2ba21234bbd9598b069173ef9ae",
       "style": "IPY_MODEL_7902ba7725b9440db02ad823b3097132"
      }
     },
     "98e4542de6ac4c7e8f41c8fccc35830a": {
      "model_module": "@jupyter-widgets/controls",
      "model_module_version": "1.5.0",
      "model_name": "ButtonStyleModel",
      "state": {}
     },
     "9912932b5399470e91b42be140533408": {
      "model_module": "@jupyter-widgets/controls",
      "model_module_version": "1.5.0",
      "model_name": "ButtonModel",
      "state": {
       "button_style": "success",
       "description": "Проверить",
       "layout": "IPY_MODEL_4ca6b697d6df4dd39108d0893896188b",
       "style": "IPY_MODEL_aedbe8152ee84a388e4c155011857cb0"
      }
     },
     "991bc991c0b74670bf89fd03bcdf0285": {
      "model_module": "@jupyter-widgets/base",
      "model_module_version": "1.2.0",
      "model_name": "LayoutModel",
      "state": {}
     },
     "995b5220b57c40da9636a6b7171c832d": {
      "model_module": "@jupyter-widgets/controls",
      "model_module_version": "1.5.0",
      "model_name": "LabelModel",
      "state": {
       "layout": "IPY_MODEL_b6410fc891c94633aca804d25c80df71",
       "style": "IPY_MODEL_4ec7822df62149a1939cd6c04728426e",
       "value": "Описание2"
      }
     },
     "99a8a4dd7de5431e9ebf4c7ec24cb21c": {
      "model_module": "@jupyter-widgets/controls",
      "model_module_version": "1.5.0",
      "model_name": "ButtonStyleModel",
      "state": {}
     },
     "99b4e7cf29ce4931923b1ca8afc7e727": {
      "model_module": "@jupyter-widgets/controls",
      "model_module_version": "1.5.0",
      "model_name": "ButtonStyleModel",
      "state": {}
     },
     "99b9c7e7d5284bae9fbb5de17bc2e89a": {
      "model_module": "@jupyter-widgets/base",
      "model_module_version": "1.2.0",
      "model_name": "LayoutModel",
      "state": {}
     },
     "99c80471721f478d9b9fcbb1ac39281d": {
      "model_module": "@jupyter-widgets/base",
      "model_module_version": "1.2.0",
      "model_name": "LayoutModel",
      "state": {}
     },
     "9ac31fd4f3074b2a8daaf16f813c7c88": {
      "model_module": "@jupyter-widgets/controls",
      "model_module_version": "1.5.0",
      "model_name": "ButtonModel",
      "state": {
       "button_style": "success",
       "description": "Test Unit Test",
       "layout": "IPY_MODEL_9354b8a1cc71474b8a281e6d029f3e5c",
       "style": "IPY_MODEL_8bed762fc9df4af18133b20a60c94e58"
      }
     },
     "9adcf021680847769e25f870605064be": {
      "model_module": "@jupyter-widgets/base",
      "model_module_version": "1.2.0",
      "model_name": "LayoutModel",
      "state": {
       "height": "25px",
       "width": "145px"
      }
     },
     "9af8392e240e4868810e34e31ba481d9": {
      "model_module": "@jupyter-widgets/controls",
      "model_module_version": "1.5.0",
      "model_name": "DescriptionStyleModel",
      "state": {
       "description_width": ""
      }
     },
     "9b4d4b110f6d4442bd8ee1a7cdeb4cc2": {
      "model_module": "@jupyter-widgets/controls",
      "model_module_version": "1.5.0",
      "model_name": "DescriptionStyleModel",
      "state": {
       "description_width": ""
      }
     },
     "9d04f9d239e3424393183089b911a1a5": {
      "model_module": "@jupyter-widgets/controls",
      "model_module_version": "1.5.0",
      "model_name": "ButtonStyleModel",
      "state": {}
     },
     "9d6685e084cc467c95e444ad8410d07d": {
      "model_module": "@jupyter-widgets/base",
      "model_module_version": "1.2.0",
      "model_name": "LayoutModel",
      "state": {}
     },
     "9d9e4fed03af445f85a6e023e8045b1f": {
      "model_module": "@jupyter-widgets/controls",
      "model_module_version": "1.5.0",
      "model_name": "ButtonStyleModel",
      "state": {}
     },
     "9dd902e2533644fe9aed9daf0a9a3ab2": {
      "model_module": "@jupyter-widgets/controls",
      "model_module_version": "1.5.0",
      "model_name": "ButtonModel",
      "state": {
       "button_style": "danger",
       "description": "Стереть результат ",
       "layout": "IPY_MODEL_b73b1a88186b433b893daa4480e33136",
       "style": "IPY_MODEL_fcbdfd39012e453395340a730dbb5620"
      }
     },
     "9e0cd5909479452286afddb24ae68647": {
      "model_module": "@jupyter-widgets/base",
      "model_module_version": "1.2.0",
      "model_name": "LayoutModel",
      "state": {
       "height": "45px",
       "width": "295px"
      }
     },
     "9e1d1ecad5894b0788c4751f11ed0163": {
      "model_module": "@jupyter-widgets/controls",
      "model_module_version": "1.5.0",
      "model_name": "ButtonStyleModel",
      "state": {}
     },
     "9e49978462414964a3968166561d4175": {
      "model_module": "@jupyter-widgets/base",
      "model_module_version": "1.2.0",
      "model_name": "LayoutModel",
      "state": {
       "height": "25px",
       "width": "145px"
      }
     },
     "9e51659a8e1342f7bbe7ec56f1c1a4a7": {
      "model_module": "@jupyter-widgets/controls",
      "model_module_version": "1.5.0",
      "model_name": "ButtonModel",
      "state": {
       "button_style": "success",
       "description": "Test Unit Test",
       "layout": "IPY_MODEL_e40295742c1c4b2384cc1205eba72c34",
       "style": "IPY_MODEL_d8e80f1634ee4b2681c119fce61a7150"
      }
     },
     "9e612471eb8145c39eaa8f7dba9cf445": {
      "model_module": "@jupyter-widgets/controls",
      "model_module_version": "1.5.0",
      "model_name": "DescriptionStyleModel",
      "state": {
       "description_width": ""
      }
     },
     "9f6733091c114be3ad38fc1b2306e369": {
      "model_module": "@jupyter-widgets/base",
      "model_module_version": "1.2.0",
      "model_name": "LayoutModel",
      "state": {
       "height": "45px",
       "width": "295px"
      }
     },
     "9f898d97123447f9a49f444ef3b80d1c": {
      "model_module": "@jupyter-widgets/controls",
      "model_module_version": "1.5.0",
      "model_name": "ButtonStyleModel",
      "state": {}
     },
     "9fe5acc84b9842d1ac7e513d1143edf4": {
      "model_module": "@jupyter-widgets/controls",
      "model_module_version": "1.5.0",
      "model_name": "ButtonModel",
      "state": {
       "button_style": "primary",
       "description": "Отправить ответ",
       "layout": "IPY_MODEL_533f630867ee463aada35dd28df9e01a",
       "style": "IPY_MODEL_b9e337c4f504432b83e99eec55fe3a28"
      }
     },
     "9fe6a319a3244fa5911cb5775b715935": {
      "model_module": "@jupyter-widgets/controls",
      "model_module_version": "1.5.0",
      "model_name": "ButtonStyleModel",
      "state": {}
     },
     "a00489c84e524f90b009a67c6b42cb7b": {
      "model_module": "@jupyter-widgets/controls",
      "model_module_version": "1.5.0",
      "model_name": "DescriptionStyleModel",
      "state": {
       "description_width": ""
      }
     },
     "a14968226b4f4af38032456e9791a8e9": {
      "model_module": "@jupyter-widgets/base",
      "model_module_version": "1.2.0",
      "model_name": "LayoutModel",
      "state": {
       "height": "25px",
       "width": "145px"
      }
     },
     "a166c2e128884a3cab9d3582ca808722": {
      "model_module": "@jupyter-widgets/controls",
      "model_module_version": "1.5.0",
      "model_name": "ButtonStyleModel",
      "state": {}
     },
     "a26e6a56027346f08bca5a838a425ebd": {
      "model_module": "@jupyter-widgets/controls",
      "model_module_version": "1.5.0",
      "model_name": "ButtonModel",
      "state": {
       "button_style": "primary",
       "description": "Показать решение",
       "layout": "IPY_MODEL_d0d859492dc849fe99a4a1995e73437f",
       "style": "IPY_MODEL_dfaca7a1967e4854b11f9d8d58aa0cfc"
      }
     },
     "a271fd110b8c488491b0a2b7a065e480": {
      "model_module": "@jupyter-widgets/base",
      "model_module_version": "1.2.0",
      "model_name": "LayoutModel",
      "state": {}
     },
     "a47d4cd605d946eeb2f4b910e66ed3f3": {
      "model_module": "@jupyter-widgets/controls",
      "model_module_version": "1.5.0",
      "model_name": "DescriptionStyleModel",
      "state": {
       "description_width": ""
      }
     },
     "a4bf0f3d080e4ae6b55d772bbabeba81": {
      "model_module": "@jupyter-widgets/base",
      "model_module_version": "1.2.0",
      "model_name": "LayoutModel",
      "state": {
       "height": "45px",
       "width": "295px"
      }
     },
     "a4e30987bde44f1889fc7f610625605e": {
      "model_module": "@jupyter-widgets/controls",
      "model_module_version": "1.5.0",
      "model_name": "LabelModel",
      "state": {
       "layout": "IPY_MODEL_1c61acb7e3424f79b6675ee33829fa2d",
       "style": "IPY_MODEL_920d96cd34124301a5f3b7051a8113f8",
       "value": "Ответ можно переотправлять. Будет принят последний из отправленных"
      }
     },
     "a51061c23e374ce08cc2670aadd1641d": {
      "model_module": "@jupyter-widgets/controls",
      "model_module_version": "1.5.0",
      "model_name": "ButtonModel",
      "state": {
       "button_style": "danger",
       "description": "Стереть результат ",
       "layout": "IPY_MODEL_5f0429f5ebd24cf0824ede4f58add763",
       "style": "IPY_MODEL_d3ca8ddbb9e545c88f56ce49f01d3a67"
      }
     },
     "a5f0faaad4704b08bdb56300cb8d838a": {
      "model_module": "@jupyter-widgets/controls",
      "model_module_version": "1.5.0",
      "model_name": "ButtonStyleModel",
      "state": {}
     },
     "a60663192087428b86f00c750b86ff51": {
      "model_module": "@jupyter-widgets/controls",
      "model_module_version": "1.5.0",
      "model_name": "ButtonModel",
      "state": {
       "button_style": "primary",
       "description": "Отправить ответ",
       "layout": "IPY_MODEL_ea3eb9242bce43b29bb7d49b020dc78d",
       "style": "IPY_MODEL_157a0b01635646388d10c03619aa1369"
      }
     },
     "a6478296a67b4e9e8ecec9a5a807e8bc": {
      "model_module": "@jupyter-widgets/controls",
      "model_module_version": "1.5.0",
      "model_name": "ButtonStyleModel",
      "state": {}
     },
     "a6d72fe0959c41f2b0c56d4f12f447b3": {
      "model_module": "@jupyter-widgets/controls",
      "model_module_version": "1.5.0",
      "model_name": "ButtonModel",
      "state": {
       "button_style": "danger",
       "description": "Обратная связь",
       "layout": "IPY_MODEL_943d34a622cc465084772f5dfceff3b7",
       "style": "IPY_MODEL_c7c4ae9e940144f993acebe35ee589a4"
      }
     },
     "a73a1a1a974148f49fa14b104659843e": {
      "model_module": "@jupyter-widgets/controls",
      "model_module_version": "1.5.0",
      "model_name": "ButtonStyleModel",
      "state": {}
     },
     "a76e4d5bf4b844dfb92af40d007dbd8b": {
      "model_module": "@jupyter-widgets/controls",
      "model_module_version": "1.5.0",
      "model_name": "ButtonModel",
      "state": {
       "button_style": "danger",
       "description": "Обратная связь",
       "layout": "IPY_MODEL_027ec9df420d41b4a5e07ae673ba0a12",
       "style": "IPY_MODEL_8113e4b3f4fb414e8df63b7ad1a394ba"
      }
     },
     "a8006779b9954d83816b7496b1e72408": {
      "model_module": "@jupyter-widgets/controls",
      "model_module_version": "1.5.0",
      "model_name": "ButtonStyleModel",
      "state": {}
     },
     "a8edcb3fd9594bbe928d51e11e0263bf": {
      "model_module": "@jupyter-widgets/base",
      "model_module_version": "1.2.0",
      "model_name": "LayoutModel",
      "state": {}
     },
     "a9415d6f72124ed3ab6dcef438254612": {
      "model_module": "@jupyter-widgets/controls",
      "model_module_version": "1.5.0",
      "model_name": "ButtonModel",
      "state": {
       "button_style": "primary",
       "description": "Показать решение",
       "layout": "IPY_MODEL_6bf0a9eaa5c042999b04e2b2a8e29a27",
       "style": "IPY_MODEL_33c7faf1ed3e4da3bc217afd2dd73ceb"
      }
     },
     "a96fc8c6f1414f5dbe1c4798fb34f845": {
      "model_module": "@jupyter-widgets/controls",
      "model_module_version": "1.5.0",
      "model_name": "ButtonStyleModel",
      "state": {}
     },
     "aa570c6ac7f0422d8bdda73f925e8d8c": {
      "model_module": "@jupyter-widgets/controls",
      "model_module_version": "1.5.0",
      "model_name": "LabelModel",
      "state": {
       "layout": "IPY_MODEL_0c2f62b6b7fa47408031d3d4422ef442",
       "style": "IPY_MODEL_23bdd0854ce44ef590072447ec3e781d",
       "value": "Ответ можно переотправлять. Будет принят последний из отправленных"
      }
     },
     "aa85397a02e048d1b2c4801d3e362f0e": {
      "model_module": "@jupyter-widgets/base",
      "model_module_version": "1.2.0",
      "model_name": "LayoutModel",
      "state": {
       "height": "25px",
       "width": "145px"
      }
     },
     "ab556ec0ad6d4ce896017c8382dd6dfa": {
      "model_module": "@jupyter-widgets/controls",
      "model_module_version": "1.5.0",
      "model_name": "ButtonModel",
      "state": {
       "button_style": "primary",
       "description": "Показать решение",
       "layout": "IPY_MODEL_c1462f6b060e4fe1a506b52f1cdab981",
       "style": "IPY_MODEL_e3681967f08d428da50aa960d7987ba1"
      }
     },
     "abc260569f2140a986ec7d06bb59d6a4": {
      "model_module": "@jupyter-widgets/controls",
      "model_module_version": "1.5.0",
      "model_name": "ButtonStyleModel",
      "state": {}
     },
     "abf7bb048ab8459489cf8e7509c1d8b9": {
      "model_module": "@jupyter-widgets/controls",
      "model_module_version": "1.5.0",
      "model_name": "ButtonStyleModel",
      "state": {}
     },
     "abfc25d610244c178f360a46b33ed766": {
      "model_module": "@jupyter-widgets/base",
      "model_module_version": "1.2.0",
      "model_name": "LayoutModel",
      "state": {
       "height": "25px",
       "width": "145px"
      }
     },
     "ae38807ad7c04dabbb2e88bef6393e79": {
      "model_module": "@jupyter-widgets/base",
      "model_module_version": "1.2.0",
      "model_name": "LayoutModel",
      "state": {
       "height": "25px",
       "width": "145px"
      }
     },
     "aeb1df34f2c943329feb6cc5d39ad449": {
      "model_module": "@jupyter-widgets/base",
      "model_module_version": "1.2.0",
      "model_name": "LayoutModel",
      "state": {}
     },
     "aeb254ff5dfc46a4a94eb9a826044663": {
      "model_module": "@jupyter-widgets/controls",
      "model_module_version": "1.5.0",
      "model_name": "ButtonStyleModel",
      "state": {}
     },
     "aeb5d53e90fc4a54a41bc1338e47abfa": {
      "model_module": "@jupyter-widgets/base",
      "model_module_version": "1.2.0",
      "model_name": "LayoutModel",
      "state": {
       "height": "25px",
       "width": "145px"
      }
     },
     "aedbe8152ee84a388e4c155011857cb0": {
      "model_module": "@jupyter-widgets/controls",
      "model_module_version": "1.5.0",
      "model_name": "ButtonStyleModel",
      "state": {}
     },
     "af28da3fec2641d6b8f47c161d2385fa": {
      "model_module": "@jupyter-widgets/base",
      "model_module_version": "1.2.0",
      "model_name": "LayoutModel",
      "state": {}
     },
     "af5bbd95c6974efabecef23e9b2c0460": {
      "model_module": "@jupyter-widgets/controls",
      "model_module_version": "1.5.0",
      "model_name": "ButtonStyleModel",
      "state": {}
     },
     "affb563e9feb4b4aa9737b085d13a2bc": {
      "model_module": "@jupyter-widgets/controls",
      "model_module_version": "1.5.0",
      "model_name": "ButtonStyleModel",
      "state": {}
     },
     "b013e760ec9446e0b3616b38a55a1968": {
      "model_module": "@jupyter-widgets/controls",
      "model_module_version": "1.5.0",
      "model_name": "DescriptionStyleModel",
      "state": {
       "description_width": ""
      }
     },
     "b0b8ff42d1044dec8f61ffc449bac281": {
      "model_module": "@jupyter-widgets/controls",
      "model_module_version": "1.5.0",
      "model_name": "LabelModel",
      "state": {
       "layout": "IPY_MODEL_b783f057bf884f69b5611547ca74cda2",
       "style": "IPY_MODEL_050461d473ef46ecad8a4d34e1c78c1b",
       "value": "Описание1"
      }
     },
     "b0edb6b6f5af42619e92614ad5584d62": {
      "model_module": "@jupyter-widgets/base",
      "model_module_version": "1.2.0",
      "model_name": "LayoutModel",
      "state": {}
     },
     "b28703931dab4fe5873f28b45e4cb0e4": {
      "model_module": "@jupyter-widgets/base",
      "model_module_version": "1.2.0",
      "model_name": "LayoutModel",
      "state": {
       "height": "25px",
       "width": "145px"
      }
     },
     "b31760df2daa4c75841df05234cc109f": {
      "model_module": "@jupyter-widgets/controls",
      "model_module_version": "1.5.0",
      "model_name": "HBoxModel",
      "state": {
       "children": [
        "IPY_MODEL_8a7810f054d5441ba289992e27d3c999",
        "IPY_MODEL_33a58b935b0344d081d1f69c1e3837f6",
        "IPY_MODEL_e4b5c0fd89084ca49d5aafc53b2eef21",
        "IPY_MODEL_c0e985471c324e139a71f2fc175ce7d0",
        "IPY_MODEL_34fe0402041d44c2977c1d1bad6e7f23"
       ],
       "layout": "IPY_MODEL_8a71c234716c43478d97e5d34ab09267"
      }
     },
     "b39a041ec9964e37a50c06424d665098": {
      "model_module": "@jupyter-widgets/base",
      "model_module_version": "1.2.0",
      "model_name": "LayoutModel",
      "state": {}
     },
     "b3bfc83c5d1b4b36b5e26ea7b45f7aae": {
      "model_module": "@jupyter-widgets/base",
      "model_module_version": "1.2.0",
      "model_name": "LayoutModel",
      "state": {
       "height": "25px",
       "width": "145px"
      }
     },
     "b3d83dad72a848849574e8768ece3a91": {
      "model_module": "@jupyter-widgets/base",
      "model_module_version": "1.2.0",
      "model_name": "LayoutModel",
      "state": {
       "height": "25px",
       "width": "145px"
      }
     },
     "b3da49e2f4384aaf9efc6412f2ec136e": {
      "model_module": "@jupyter-widgets/base",
      "model_module_version": "1.2.0",
      "model_name": "LayoutModel",
      "state": {
       "height": "25px",
       "width": "145px"
      }
     },
     "b4995090d26f4e3690abda39919fe303": {
      "model_module": "@jupyter-widgets/controls",
      "model_module_version": "1.5.0",
      "model_name": "ButtonStyleModel",
      "state": {}
     },
     "b4d68ee8d0d34c2b8becb8c4f43a346b": {
      "model_module": "@jupyter-widgets/controls",
      "model_module_version": "1.5.0",
      "model_name": "ButtonModel",
      "state": {
       "button_style": "primary",
       "description": "Показать решение",
       "layout": "IPY_MODEL_34535d249c8448469f196c791dc65850",
       "style": "IPY_MODEL_84ece3c55fa04e51887cd796769ffe61"
      }
     },
     "b6410fc891c94633aca804d25c80df71": {
      "model_module": "@jupyter-widgets/base",
      "model_module_version": "1.2.0",
      "model_name": "LayoutModel",
      "state": {}
     },
     "b66c4a3013654859b4d4f768be06407d": {
      "model_module": "@jupyter-widgets/controls",
      "model_module_version": "1.5.0",
      "model_name": "ButtonModel",
      "state": {
       "button_style": "danger",
       "description": "Обратная связь",
       "layout": "IPY_MODEL_9369bcc593c64654b427eed405c7a9de",
       "style": "IPY_MODEL_6f3c4b038dec4faa9143b97fe2548d37"
      }
     },
     "b73b1a88186b433b893daa4480e33136": {
      "model_module": "@jupyter-widgets/base",
      "model_module_version": "1.2.0",
      "model_name": "LayoutModel",
      "state": {
       "height": "25px",
       "width": "145px"
      }
     },
     "b783f057bf884f69b5611547ca74cda2": {
      "model_module": "@jupyter-widgets/base",
      "model_module_version": "1.2.0",
      "model_name": "LayoutModel",
      "state": {}
     },
     "b7d599a095c44aab87af40e7ea86bf2d": {
      "model_module": "@jupyter-widgets/controls",
      "model_module_version": "1.5.0",
      "model_name": "ButtonModel",
      "state": {
       "button_style": "danger",
       "description": "Обратная связь",
       "layout": "IPY_MODEL_cc7102e48ca24b179d448b95c0b0265d",
       "style": "IPY_MODEL_8ba2bf59b52a4043bf4f85df7fe741d5"
      }
     },
     "b897959a685e41d8b060dd7e2db7412e": {
      "model_module": "@jupyter-widgets/controls",
      "model_module_version": "1.5.0",
      "model_name": "ButtonStyleModel",
      "state": {}
     },
     "b93807a928384b8ea75897537d51b9ce": {
      "model_module": "@jupyter-widgets/controls",
      "model_module_version": "1.5.0",
      "model_name": "DescriptionStyleModel",
      "state": {
       "description_width": ""
      }
     },
     "b9cb5e40a7344f3589779e3660644e0b": {
      "model_module": "@jupyter-widgets/controls",
      "model_module_version": "1.5.0",
      "model_name": "LabelModel",
      "state": {
       "layout": "IPY_MODEL_35c96d693013400eaea4242a6be58b5f",
       "style": "IPY_MODEL_4ba07dfa448e419da0380d919c31bf1c",
       "value": "Описание1"
      }
     },
     "b9e337c4f504432b83e99eec55fe3a28": {
      "model_module": "@jupyter-widgets/controls",
      "model_module_version": "1.5.0",
      "model_name": "ButtonStyleModel",
      "state": {}
     },
     "ba61af0377014988a5e9f240e469e4c6": {
      "model_module": "@jupyter-widgets/controls",
      "model_module_version": "1.5.0",
      "model_name": "ButtonModel",
      "state": {
       "button_style": "primary",
       "description": "Отправить ответ",
       "layout": "IPY_MODEL_35ae14b609624ab49930950203d602ea",
       "style": "IPY_MODEL_f89e804ab8694250a937d425c1a13d5e"
      }
     },
     "bae0b090b83f4a05b82dcd91be697cff": {
      "model_module": "@jupyter-widgets/controls",
      "model_module_version": "1.5.0",
      "model_name": "ButtonStyleModel",
      "state": {}
     },
     "baf958416d064e58b304b4288dbd312c": {
      "model_module": "@jupyter-widgets/controls",
      "model_module_version": "1.5.0",
      "model_name": "ButtonModel",
      "state": {
       "button_style": "primary",
       "description": "Показать решение",
       "layout": "IPY_MODEL_e734615838fb4b62a8cc8bf204739c4b",
       "style": "IPY_MODEL_98e4542de6ac4c7e8f41c8fccc35830a"
      }
     },
     "bb3f1bef2d7245db9d6599e3614b86f5": {
      "model_module": "@jupyter-widgets/controls",
      "model_module_version": "1.5.0",
      "model_name": "LabelModel",
      "state": {
       "layout": "IPY_MODEL_12be6fe03dff47ffbed3330fef95d654",
       "style": "IPY_MODEL_a47d4cd605d946eeb2f4b910e66ed3f3",
       "value": "Описание1"
      }
     },
     "bb5c961d2fb8463880177a0a32d1f9b6": {
      "model_module": "@jupyter-widgets/controls",
      "model_module_version": "1.5.0",
      "model_name": "ButtonModel",
      "state": {
       "button_style": "primary",
       "description": "Отправить ответ",
       "layout": "IPY_MODEL_37347b0192cc4465a5d78314a3ba9423",
       "style": "IPY_MODEL_5aa31d3503bf41dcbfbab44e83b0fb39"
      }
     },
     "bbb7c13033c04b6aa2bed53bab0ad9f3": {
      "model_module": "@jupyter-widgets/controls",
      "model_module_version": "1.5.0",
      "model_name": "LabelModel",
      "state": {
       "layout": "IPY_MODEL_0ab8ff22046246748b2f11d9902b4f32",
       "style": "IPY_MODEL_d2584a08b7074738b0971e68655aca10",
       "value": "Описание2"
      }
     },
     "bc3f8a6914bd4bf4a3265a5c29c7f463": {
      "model_module": "@jupyter-widgets/controls",
      "model_module_version": "1.5.0",
      "model_name": "ButtonStyleModel",
      "state": {}
     },
     "bcdef885efb44f65956907442505fb88": {
      "model_module": "@jupyter-widgets/controls",
      "model_module_version": "1.5.0",
      "model_name": "HBoxModel",
      "state": {
       "children": [
        "IPY_MODEL_72e0b7cf31254f1493a0c6e8962ed2c6",
        "IPY_MODEL_9e51659a8e1342f7bbe7ec56f1c1a4a7",
        "IPY_MODEL_4456242abca84e8e99e3ecc592798898",
        "IPY_MODEL_d1c09018b970431989f50908bf718394",
        "IPY_MODEL_381733f7307a40a6b72577ff32c91d6d"
       ],
       "layout": "IPY_MODEL_1e19c63e4b3f4c57acb3d09fd4ce1b6a"
      }
     },
     "bce9adc9bf084c8985bf2dd9c802849c": {
      "model_module": "@jupyter-widgets/controls",
      "model_module_version": "1.5.0",
      "model_name": "ButtonModel",
      "state": {
       "button_style": "success",
       "description": "Test Unit Test",
       "layout": "IPY_MODEL_d8ac295a95224e7196e4b07785f8c210",
       "style": "IPY_MODEL_63782481266f430588101ad21e937cf0"
      }
     },
     "be9c45b26d05485384058528d4473a3a": {
      "model_module": "@jupyter-widgets/controls",
      "model_module_version": "1.5.0",
      "model_name": "DescriptionStyleModel",
      "state": {
       "description_width": ""
      }
     },
     "bf970e4977b2467a85c86159e3943307": {
      "model_module": "@jupyter-widgets/controls",
      "model_module_version": "1.5.0",
      "model_name": "ButtonModel",
      "state": {
       "button_style": "success",
       "description": "Test Unit Test",
       "layout": "IPY_MODEL_7eb9b2876b434b9b821ed8b470471e8d",
       "style": "IPY_MODEL_0c12759bf2174d92a7063636d97965a6"
      }
     },
     "c0197910bef241b9a2dff6cce496e978": {
      "model_module": "@jupyter-widgets/controls",
      "model_module_version": "1.5.0",
      "model_name": "LabelModel",
      "state": {
       "layout": "IPY_MODEL_c75c826f16684bb9b84385fac517f6e7",
       "style": "IPY_MODEL_e65f53866d084f3abbb85b7d971dbd20",
       "value": "Описание2"
      }
     },
     "c0d35e42ee9342cdaed4341f2a1880e1": {
      "model_module": "@jupyter-widgets/base",
      "model_module_version": "1.2.0",
      "model_name": "LayoutModel",
      "state": {
       "height": "45px",
       "width": "295px"
      }
     },
     "c0e76466d9c042c6864a2603f877861a": {
      "model_module": "@jupyter-widgets/controls",
      "model_module_version": "1.5.0",
      "model_name": "ButtonModel",
      "state": {
       "button_style": "success",
       "description": "Test Unit Test",
       "layout": "IPY_MODEL_d273751ff749491f89164e78f8bd1efc",
       "style": "IPY_MODEL_99a8a4dd7de5431e9ebf4c7ec24cb21c"
      }
     },
     "c0e985471c324e139a71f2fc175ce7d0": {
      "model_module": "@jupyter-widgets/controls",
      "model_module_version": "1.5.0",
      "model_name": "ButtonModel",
      "state": {
       "button_style": "danger",
       "description": "Обратная связь",
       "layout": "IPY_MODEL_f8e1f16114cd477dbca63d0b08fb2840",
       "style": "IPY_MODEL_b4995090d26f4e3690abda39919fe303"
      }
     },
     "c1462f6b060e4fe1a506b52f1cdab981": {
      "model_module": "@jupyter-widgets/base",
      "model_module_version": "1.2.0",
      "model_name": "LayoutModel",
      "state": {
       "height": "25px",
       "width": "145px"
      }
     },
     "c1837b92991143fab36f01450a1c510d": {
      "model_module": "@jupyter-widgets/controls",
      "model_module_version": "1.5.0",
      "model_name": "LabelModel",
      "state": {
       "layout": "IPY_MODEL_8a1ccc9af629438582ef79667d3e8c43",
       "style": "IPY_MODEL_652250fad6ad4079a81303cb5e4ad726",
       "value": "Ответ можно переотправлять. Будет принят последний из отправленных"
      }
     },
     "c198f3c59ded4c7191faaab44e244f10": {
      "model_module": "@jupyter-widgets/controls",
      "model_module_version": "1.5.0",
      "model_name": "ButtonStyleModel",
      "state": {}
     },
     "c2f88ba9ba4a4592932d281761133893": {
      "model_module": "@jupyter-widgets/controls",
      "model_module_version": "1.5.0",
      "model_name": "DescriptionStyleModel",
      "state": {
       "description_width": ""
      }
     },
     "c3cd898139b5415191bce043c8e5993b": {
      "model_module": "@jupyter-widgets/controls",
      "model_module_version": "1.5.0",
      "model_name": "DescriptionStyleModel",
      "state": {
       "description_width": ""
      }
     },
     "c3dc3dc3192e4fb09c3f82bc49b2edfa": {
      "model_module": "@jupyter-widgets/base",
      "model_module_version": "1.2.0",
      "model_name": "LayoutModel",
      "state": {
       "height": "25px",
       "width": "145px"
      }
     },
     "c585ffcd0ca54894bb93bb4384dbc060": {
      "model_module": "@jupyter-widgets/controls",
      "model_module_version": "1.5.0",
      "model_name": "ButtonModel",
      "state": {
       "button_style": "success",
       "description": "Test Unit Test",
       "layout": "IPY_MODEL_da514a02648e47638e9a877d207d3f02",
       "style": "IPY_MODEL_e48dc8c0f4d7435c8398119b199e9c80"
      }
     },
     "c60dfa44793b495995a00df6382c2346": {
      "model_module": "@jupyter-widgets/controls",
      "model_module_version": "1.5.0",
      "model_name": "ButtonStyleModel",
      "state": {}
     },
     "c6455e801a3d407fb328309c4d8f8d6b": {
      "model_module": "@jupyter-widgets/controls",
      "model_module_version": "1.5.0",
      "model_name": "ButtonStyleModel",
      "state": {}
     },
     "c65da0db66304441b6abaa8591369a7f": {
      "model_module": "@jupyter-widgets/controls",
      "model_module_version": "1.5.0",
      "model_name": "LabelModel",
      "state": {
       "layout": "IPY_MODEL_14c93d1896724b6583bae1cceb4ee041",
       "style": "IPY_MODEL_2df7ea76f6df4ef1a3e32e9c9088a26e",
       "value": "Ответ можно переотправлять. Будет принят последний из отправленных"
      }
     },
     "c75c826f16684bb9b84385fac517f6e7": {
      "model_module": "@jupyter-widgets/base",
      "model_module_version": "1.2.0",
      "model_name": "LayoutModel",
      "state": {}
     },
     "c7b9a58e9716477d831711c7d6f3c1fa": {
      "model_module": "@jupyter-widgets/base",
      "model_module_version": "1.2.0",
      "model_name": "LayoutModel",
      "state": {}
     },
     "c7c4ae9e940144f993acebe35ee589a4": {
      "model_module": "@jupyter-widgets/controls",
      "model_module_version": "1.5.0",
      "model_name": "ButtonStyleModel",
      "state": {}
     },
     "c804cccd26a042efbd37adc4d78ed1c6": {
      "model_module": "@jupyter-widgets/base",
      "model_module_version": "1.2.0",
      "model_name": "LayoutModel",
      "state": {
       "height": "25px",
       "width": "145px"
      }
     },
     "c82950a99af6490081be0d9540808eeb": {
      "model_module": "@jupyter-widgets/controls",
      "model_module_version": "1.5.0",
      "model_name": "ButtonStyleModel",
      "state": {}
     },
     "c8c9018346174b8e8de075d43cc74b27": {
      "model_module": "@jupyter-widgets/controls",
      "model_module_version": "1.5.0",
      "model_name": "ButtonModel",
      "state": {
       "button_style": "primary",
       "description": "Отправить ответ",
       "layout": "IPY_MODEL_f95d4cb6676e439fa465cf676e02ed92",
       "style": "IPY_MODEL_9fe6a319a3244fa5911cb5775b715935"
      }
     },
     "c9ed4e842d39454881525b516d4ee07a": {
      "model_module": "@jupyter-widgets/controls",
      "model_module_version": "1.5.0",
      "model_name": "LabelModel",
      "state": {
       "layout": "IPY_MODEL_08355af1f2394158a46c30d29e74d0ee",
       "style": "IPY_MODEL_3bd1a2b8098649e7a29773bbf3e114e6",
       "value": "Ответ можно переотправлять. Будет принят последний из отправленных"
      }
     },
     "ca02dc79bab24393b87b6ed09fe4c083": {
      "model_module": "@jupyter-widgets/base",
      "model_module_version": "1.2.0",
      "model_name": "LayoutModel",
      "state": {}
     },
     "ca50e7b07df949b2bcb63a67328c5104": {
      "model_module": "@jupyter-widgets/controls",
      "model_module_version": "1.5.0",
      "model_name": "ButtonModel",
      "state": {
       "button_style": "primary",
       "description": "Отправить ответ",
       "layout": "IPY_MODEL_18a427cd64184c60b94ccb023ccaa05a",
       "style": "IPY_MODEL_22c76f11cf8d438395a73b878f3c5571"
      }
     },
     "ca9c62c3004c4b05a8fef4f7e30bb08c": {
      "model_module": "@jupyter-widgets/base",
      "model_module_version": "1.2.0",
      "model_name": "LayoutModel",
      "state": {}
     },
     "cae6cfbffad24f13bdbecacc8ffe5495": {
      "model_module": "@jupyter-widgets/base",
      "model_module_version": "1.2.0",
      "model_name": "LayoutModel",
      "state": {
       "height": "25px",
       "width": "145px"
      }
     },
     "cb77ba88b25d435e9e3240e78d2c7d2e": {
      "model_module": "@jupyter-widgets/controls",
      "model_module_version": "1.5.0",
      "model_name": "ButtonModel",
      "state": {
       "button_style": "primary",
       "description": "Показать решение",
       "layout": "IPY_MODEL_b28703931dab4fe5873f28b45e4cb0e4",
       "style": "IPY_MODEL_723299cdc2944c6791178be4ef04caed"
      }
     },
     "cbd2c6714de448c387ec940ba29b8e4a": {
      "model_module": "@jupyter-widgets/controls",
      "model_module_version": "1.5.0",
      "model_name": "ButtonStyleModel",
      "state": {}
     },
     "cbdbb9e1f32a417892e33de0d8d24b54": {
      "model_module": "@jupyter-widgets/controls",
      "model_module_version": "1.5.0",
      "model_name": "ButtonModel",
      "state": {
       "button_style": "danger",
       "description": "Обратная связь",
       "layout": "IPY_MODEL_863ba308b99c4ec79f091c2eb400c32d",
       "style": "IPY_MODEL_8cf1fb81589347e582247efe9d4272bc"
      }
     },
     "cc7102e48ca24b179d448b95c0b0265d": {
      "model_module": "@jupyter-widgets/base",
      "model_module_version": "1.2.0",
      "model_name": "LayoutModel",
      "state": {
       "height": "25px",
       "width": "145px"
      }
     },
     "ccc9068410e84c378b505110c26c2f0c": {
      "model_module": "@jupyter-widgets/controls",
      "model_module_version": "1.5.0",
      "model_name": "ButtonModel",
      "state": {
       "button_style": "danger",
       "description": "Обратная связь",
       "layout": "IPY_MODEL_2625a73d330f4b2b826cd56764514b03",
       "style": "IPY_MODEL_74da37b06e5e4b23a079cdec54928127"
      }
     },
     "cdeb599b68824c2995f224ed15f1f38e": {
      "model_module": "@jupyter-widgets/controls",
      "model_module_version": "1.5.0",
      "model_name": "ButtonStyleModel",
      "state": {}
     },
     "ce8e52af29334e8db3258d794a1db64b": {
      "model_module": "@jupyter-widgets/controls",
      "model_module_version": "1.5.0",
      "model_name": "LabelModel",
      "state": {
       "layout": "IPY_MODEL_7649c6dd4d3240bda9d52b9853cf85d5",
       "style": "IPY_MODEL_ec5ba055c79a4abca5b6d79b87d09a35",
       "value": "Ответ можно переотправлять. Будет принят последний из отправленных"
      }
     },
     "cecdcb92f64549b5b967e3803801f95b": {
      "model_module": "@jupyter-widgets/base",
      "model_module_version": "1.2.0",
      "model_name": "LayoutModel",
      "state": {}
     },
     "cf3785698b044df28f58fbf94481e390": {
      "model_module": "@jupyter-widgets/base",
      "model_module_version": "1.2.0",
      "model_name": "LayoutModel",
      "state": {
       "height": "25px",
       "width": "145px"
      }
     },
     "cf53aa40dc1e45d3b917593ba217ff24": {
      "model_module": "@jupyter-widgets/controls",
      "model_module_version": "1.5.0",
      "model_name": "ButtonModel",
      "state": {
       "button_style": "danger",
       "description": "Обратная связь",
       "layout": "IPY_MODEL_e1c9bc6285084d69974df95761fcfb01",
       "style": "IPY_MODEL_32775f6352294fb4b2aa082b998edec0"
      }
     },
     "cf785be2305145f6a2308e2f71ec9064": {
      "model_module": "@jupyter-widgets/base",
      "model_module_version": "1.2.0",
      "model_name": "LayoutModel",
      "state": {}
     },
     "cfc9dafe010d4759a341030f944f0619": {
      "model_module": "@jupyter-widgets/controls",
      "model_module_version": "1.5.0",
      "model_name": "ButtonStyleModel",
      "state": {}
     },
     "cfe67fcbac4c4ceb9986cd17fa1feaa0": {
      "model_module": "@jupyter-widgets/base",
      "model_module_version": "1.2.0",
      "model_name": "LayoutModel",
      "state": {}
     },
     "cffaf6b7e41f44fda10dd47ca67de5a6": {
      "model_module": "@jupyter-widgets/base",
      "model_module_version": "1.2.0",
      "model_name": "LayoutModel",
      "state": {
       "height": "35px",
       "width": "295px"
      }
     },
     "d01abe9b8d954c4a92959076470c341d": {
      "model_module": "@jupyter-widgets/base",
      "model_module_version": "1.2.0",
      "model_name": "LayoutModel",
      "state": {}
     },
     "d04e5f1f1d694af0ad9a94315c2df2f0": {
      "model_module": "@jupyter-widgets/base",
      "model_module_version": "1.2.0",
      "model_name": "LayoutModel",
      "state": {}
     },
     "d06ae576c4a34f70bbd18508a4a467f8": {
      "model_module": "@jupyter-widgets/controls",
      "model_module_version": "1.5.0",
      "model_name": "ButtonModel",
      "state": {
       "button_style": "success",
       "description": "Проверить",
       "layout": "IPY_MODEL_9e0cd5909479452286afddb24ae68647",
       "style": "IPY_MODEL_33d59c74c5da493eb9c4bf968a6ae5d0"
      }
     },
     "d0d859492dc849fe99a4a1995e73437f": {
      "model_module": "@jupyter-widgets/base",
      "model_module_version": "1.2.0",
      "model_name": "LayoutModel",
      "state": {
       "height": "25px",
       "width": "145px"
      }
     },
     "d14ed068e3e04ceb931c6db9c4c64c3e": {
      "model_module": "@jupyter-widgets/controls",
      "model_module_version": "1.5.0",
      "model_name": "DescriptionStyleModel",
      "state": {
       "description_width": ""
      }
     },
     "d1c09018b970431989f50908bf718394": {
      "model_module": "@jupyter-widgets/controls",
      "model_module_version": "1.5.0",
      "model_name": "ButtonModel",
      "state": {
       "button_style": "danger",
       "description": "Обратная связь",
       "layout": "IPY_MODEL_b3da49e2f4384aaf9efc6412f2ec136e",
       "style": "IPY_MODEL_d7b68fe24fc64983bf0a27d2b677a4e6"
      }
     },
     "d207efe186bd478ca72084c61db8fc53": {
      "model_module": "@jupyter-widgets/base",
      "model_module_version": "1.2.0",
      "model_name": "LayoutModel",
      "state": {}
     },
     "d2584a08b7074738b0971e68655aca10": {
      "model_module": "@jupyter-widgets/controls",
      "model_module_version": "1.5.0",
      "model_name": "DescriptionStyleModel",
      "state": {
       "description_width": ""
      }
     },
     "d273751ff749491f89164e78f8bd1efc": {
      "model_module": "@jupyter-widgets/base",
      "model_module_version": "1.2.0",
      "model_name": "LayoutModel",
      "state": {
       "height": "25px",
       "width": "145px"
      }
     },
     "d286ce7e26534b46a49d43cf2ad67563": {
      "model_module": "@jupyter-widgets/controls",
      "model_module_version": "1.5.0",
      "model_name": "ButtonStyleModel",
      "state": {}
     },
     "d2982378471f42429d596f454c3e220e": {
      "model_module": "@jupyter-widgets/base",
      "model_module_version": "1.2.0",
      "model_name": "LayoutModel",
      "state": {
       "height": "25px",
       "width": "145px"
      }
     },
     "d2a13759d1f14b929dc5c8e3db809b6d": {
      "model_module": "@jupyter-widgets/base",
      "model_module_version": "1.2.0",
      "model_name": "LayoutModel",
      "state": {
       "height": "25px",
       "width": "145px"
      }
     },
     "d2b8d139ddaa4330838cc5101f285fa6": {
      "model_module": "@jupyter-widgets/controls",
      "model_module_version": "1.5.0",
      "model_name": "ButtonStyleModel",
      "state": {}
     },
     "d30afd4813a744b99fe3358802260089": {
      "model_module": "@jupyter-widgets/controls",
      "model_module_version": "1.5.0",
      "model_name": "DescriptionStyleModel",
      "state": {
       "description_width": ""
      }
     },
     "d332374d0873434085cdfa1f6a93f29b": {
      "model_module": "@jupyter-widgets/controls",
      "model_module_version": "1.5.0",
      "model_name": "ButtonModel",
      "state": {
       "button_style": "success",
       "description": "Test Unit Test",
       "layout": "IPY_MODEL_9102427199344eb89ba385b369ca5c11",
       "style": "IPY_MODEL_43da5b702f7542128cc8c86abce16ed4"
      }
     },
     "d35c6c85916d4c529592f89cf351beef": {
      "model_module": "@jupyter-widgets/base",
      "model_module_version": "1.2.0",
      "model_name": "LayoutModel",
      "state": {
       "height": "25px",
       "width": "145px"
      }
     },
     "d385a0af88f7445ea55d264301d2e52b": {
      "model_module": "@jupyter-widgets/base",
      "model_module_version": "1.2.0",
      "model_name": "LayoutModel",
      "state": {
       "height": "35px",
       "width": "295px"
      }
     },
     "d3ca8ddbb9e545c88f56ce49f01d3a67": {
      "model_module": "@jupyter-widgets/controls",
      "model_module_version": "1.5.0",
      "model_name": "ButtonStyleModel",
      "state": {}
     },
     "d3f2c962baba4879bdc720db41146b6b": {
      "model_module": "@jupyter-widgets/controls",
      "model_module_version": "1.5.0",
      "model_name": "DescriptionStyleModel",
      "state": {
       "description_width": ""
      }
     },
     "d428a724c85c40e789de4b385eb33a4c": {
      "model_module": "@jupyter-widgets/controls",
      "model_module_version": "1.5.0",
      "model_name": "ButtonModel",
      "state": {
       "button_style": "success",
       "description": "Проверить",
       "layout": "IPY_MODEL_5c3b7a59374d4765855cdbed2bf58ee7",
       "style": "IPY_MODEL_88ef9c4d1e4247c4ba1e771fc6dc1976"
      }
     },
     "d455a0b83a6a42da90d24556baf740f9": {
      "model_module": "@jupyter-widgets/controls",
      "model_module_version": "1.5.0",
      "model_name": "ButtonStyleModel",
      "state": {}
     },
     "d576052a0f5c46eeb314922dbab313f6": {
      "model_module": "@jupyter-widgets/controls",
      "model_module_version": "1.5.0",
      "model_name": "HBoxModel",
      "state": {
       "children": [
        "IPY_MODEL_8bc41369e93946fcb2323a6fcb6dbfed",
        "IPY_MODEL_2a31ea80633e40569ea1e501b8afe19c",
        "IPY_MODEL_a26e6a56027346f08bca5a838a425ebd",
        "IPY_MODEL_e16d48b1996f4212b85b78bd91030962",
        "IPY_MODEL_72686a9ffa5b49209e4ea21629f6d1b2"
       ],
       "layout": "IPY_MODEL_4050333c5d324326aaad0c50b3a17c90"
      }
     },
     "d6a3f5b7cff24c64879aec683395a591": {
      "model_module": "@jupyter-widgets/base",
      "model_module_version": "1.2.0",
      "model_name": "LayoutModel",
      "state": {}
     },
     "d6c1e17001c34a089d7cd477d510c791": {
      "model_module": "@jupyter-widgets/base",
      "model_module_version": "1.2.0",
      "model_name": "LayoutModel",
      "state": {}
     },
     "d75d60c30fa147418ac1e4d20cb7a06b": {
      "model_module": "@jupyter-widgets/controls",
      "model_module_version": "1.5.0",
      "model_name": "DescriptionStyleModel",
      "state": {
       "description_width": ""
      }
     },
     "d7b68fe24fc64983bf0a27d2b677a4e6": {
      "model_module": "@jupyter-widgets/controls",
      "model_module_version": "1.5.0",
      "model_name": "ButtonStyleModel",
      "state": {}
     },
     "d8ac295a95224e7196e4b07785f8c210": {
      "model_module": "@jupyter-widgets/base",
      "model_module_version": "1.2.0",
      "model_name": "LayoutModel",
      "state": {
       "height": "25px",
       "width": "145px"
      }
     },
     "d8cde23508354c6188abe6527ad4abd5": {
      "model_module": "@jupyter-widgets/base",
      "model_module_version": "1.2.0",
      "model_name": "LayoutModel",
      "state": {
       "height": "25px",
       "width": "145px"
      }
     },
     "d8e80f1634ee4b2681c119fce61a7150": {
      "model_module": "@jupyter-widgets/controls",
      "model_module_version": "1.5.0",
      "model_name": "ButtonStyleModel",
      "state": {}
     },
     "d8f6baff795448a599033d8f93903531": {
      "model_module": "@jupyter-widgets/controls",
      "model_module_version": "1.5.0",
      "model_name": "ButtonModel",
      "state": {
       "button_style": "primary",
       "description": "Показать решение",
       "layout": "IPY_MODEL_c804cccd26a042efbd37adc4d78ed1c6",
       "style": "IPY_MODEL_534365a0502542b4aad5c9073280088c"
      }
     },
     "d9280e43ea6d48fb97770371452b413b": {
      "model_module": "@jupyter-widgets/controls",
      "model_module_version": "1.5.0",
      "model_name": "DescriptionStyleModel",
      "state": {
       "description_width": ""
      }
     },
     "d942acffdef94234b6a71b144b1b7d11": {
      "model_module": "@jupyter-widgets/controls",
      "model_module_version": "1.5.0",
      "model_name": "ButtonModel",
      "state": {
       "button_style": "success",
       "description": "Test Unit Test",
       "layout": "IPY_MODEL_0aece5b8096047b684edbc282336508b",
       "style": "IPY_MODEL_04e07eee14654368ba9fdf435167e488"
      }
     },
     "d973780e08b0435cadc467a96790b671": {
      "model_module": "@jupyter-widgets/controls",
      "model_module_version": "1.5.0",
      "model_name": "ButtonStyleModel",
      "state": {}
     },
     "d9f0e62cac784a6cabba2aa0a782af34": {
      "model_module": "@jupyter-widgets/base",
      "model_module_version": "1.2.0",
      "model_name": "LayoutModel",
      "state": {
       "height": "45px",
       "width": "295px"
      }
     },
     "da514a02648e47638e9a877d207d3f02": {
      "model_module": "@jupyter-widgets/base",
      "model_module_version": "1.2.0",
      "model_name": "LayoutModel",
      "state": {
       "height": "25px",
       "width": "145px"
      }
     },
     "da97ec3c22f0491fad50b6cbbc85ef1c": {
      "model_module": "@jupyter-widgets/controls",
      "model_module_version": "1.5.0",
      "model_name": "DescriptionStyleModel",
      "state": {
       "description_width": ""
      }
     },
     "daf2949cb98c4d4e84dbc219148ee50c": {
      "model_module": "@jupyter-widgets/controls",
      "model_module_version": "1.5.0",
      "model_name": "ButtonModel",
      "state": {
       "button_style": "success",
       "description": "Test Unit Test",
       "layout": "IPY_MODEL_b3d83dad72a848849574e8768ece3a91",
       "style": "IPY_MODEL_9d04f9d239e3424393183089b911a1a5"
      }
     },
     "dc4685e0b87349078884f5d8d7672c63": {
      "model_module": "@jupyter-widgets/base",
      "model_module_version": "1.2.0",
      "model_name": "LayoutModel",
      "state": {}
     },
     "dcfab740fa3f42cca09f76f861280ad8": {
      "model_module": "@jupyter-widgets/base",
      "model_module_version": "1.2.0",
      "model_name": "LayoutModel",
      "state": {
       "height": "25px",
       "width": "145px"
      }
     },
     "dd271a4ee1d64dda83cb3f3a5abd6cbc": {
      "model_module": "@jupyter-widgets/controls",
      "model_module_version": "1.5.0",
      "model_name": "ButtonStyleModel",
      "state": {}
     },
     "dda3c3955c2049ec8aecf8e8c6b34fb5": {
      "model_module": "@jupyter-widgets/base",
      "model_module_version": "1.2.0",
      "model_name": "LayoutModel",
      "state": {}
     },
     "de1264a4ad514b7596636533d76e0a42": {
      "model_module": "@jupyter-widgets/controls",
      "model_module_version": "1.5.0",
      "model_name": "ButtonModel",
      "state": {
       "button_style": "success",
       "description": "Проверить",
       "layout": "IPY_MODEL_4f3277dd1ec645198d7fdcacbd01be85",
       "style": "IPY_MODEL_cbd2c6714de448c387ec940ba29b8e4a"
      }
     },
     "dfaca7a1967e4854b11f9d8d58aa0cfc": {
      "model_module": "@jupyter-widgets/controls",
      "model_module_version": "1.5.0",
      "model_name": "ButtonStyleModel",
      "state": {}
     },
     "e006faa8409e40dbbd81e3727a30790b": {
      "model_module": "@jupyter-widgets/base",
      "model_module_version": "1.2.0",
      "model_name": "LayoutModel",
      "state": {}
     },
     "e023339b68c14a3284428f0325ed0c00": {
      "model_module": "@jupyter-widgets/base",
      "model_module_version": "1.2.0",
      "model_name": "LayoutModel",
      "state": {
       "height": "25px",
       "width": "145px"
      }
     },
     "e05844c04c864538949a1c921434fecb": {
      "model_module": "@jupyter-widgets/base",
      "model_module_version": "1.2.0",
      "model_name": "LayoutModel",
      "state": {
       "height": "25px",
       "width": "145px"
      }
     },
     "e0d2b3b974ca43c8b493687af8868e93": {
      "model_module": "@jupyter-widgets/controls",
      "model_module_version": "1.5.0",
      "model_name": "HBoxModel",
      "state": {
       "children": [
        "IPY_MODEL_29febd5860ea4cc2805f6a74a06825be",
        "IPY_MODEL_1a64170c03274430aa9b636468e2085b",
        "IPY_MODEL_ab556ec0ad6d4ce896017c8382dd6dfa",
        "IPY_MODEL_42622ee1723848869db3825f513ffe3a",
        "IPY_MODEL_94a336ab998143529839bf5f9029112d"
       ],
       "layout": "IPY_MODEL_cfe67fcbac4c4ceb9986cd17fa1feaa0"
      }
     },
     "e16d48b1996f4212b85b78bd91030962": {
      "model_module": "@jupyter-widgets/controls",
      "model_module_version": "1.5.0",
      "model_name": "ButtonModel",
      "state": {
       "button_style": "danger",
       "description": "Обратная связь",
       "layout": "IPY_MODEL_aeb5d53e90fc4a54a41bc1338e47abfa",
       "style": "IPY_MODEL_63ec97926b494df4b7be2189b0d1acec"
      }
     },
     "e182a69f51b4403a9bc5a4990df359ce": {
      "model_module": "@jupyter-widgets/controls",
      "model_module_version": "1.5.0",
      "model_name": "DescriptionStyleModel",
      "state": {
       "description_width": ""
      }
     },
     "e1b767b1712e4140bd4876319bc6987c": {
      "model_module": "@jupyter-widgets/controls",
      "model_module_version": "1.5.0",
      "model_name": "ButtonModel",
      "state": {
       "button_style": "danger",
       "description": "Стереть результат ",
       "layout": "IPY_MODEL_e023339b68c14a3284428f0325ed0c00",
       "style": "IPY_MODEL_99b4e7cf29ce4931923b1ca8afc7e727"
      }
     },
     "e1c9bc6285084d69974df95761fcfb01": {
      "model_module": "@jupyter-widgets/base",
      "model_module_version": "1.2.0",
      "model_name": "LayoutModel",
      "state": {
       "height": "25px",
       "width": "145px"
      }
     },
     "e2d615b1d6d94186a8829e102d7d3950": {
      "model_module": "@jupyter-widgets/controls",
      "model_module_version": "1.5.0",
      "model_name": "ButtonStyleModel",
      "state": {}
     },
     "e3681967f08d428da50aa960d7987ba1": {
      "model_module": "@jupyter-widgets/controls",
      "model_module_version": "1.5.0",
      "model_name": "ButtonStyleModel",
      "state": {}
     },
     "e3edb717f7bb4e52aa7c34f885ce9445": {
      "model_module": "@jupyter-widgets/controls",
      "model_module_version": "1.5.0",
      "model_name": "LabelModel",
      "state": {
       "layout": "IPY_MODEL_cf785be2305145f6a2308e2f71ec9064",
       "style": "IPY_MODEL_8967703be5404eed8b8ba53cc1e50729",
       "value": "Описание2"
      }
     },
     "e40295742c1c4b2384cc1205eba72c34": {
      "model_module": "@jupyter-widgets/base",
      "model_module_version": "1.2.0",
      "model_name": "LayoutModel",
      "state": {
       "height": "25px",
       "width": "145px"
      }
     },
     "e43742138dee49d6a78ffe94120736df": {
      "model_module": "@jupyter-widgets/controls",
      "model_module_version": "1.5.0",
      "model_name": "ButtonModel",
      "state": {
       "button_style": "primary",
       "description": "Отправить ответ",
       "layout": "IPY_MODEL_24c18f7f7f774f2389e91f0e64753e24",
       "style": "IPY_MODEL_a166c2e128884a3cab9d3582ca808722"
      }
     },
     "e48dc8c0f4d7435c8398119b199e9c80": {
      "model_module": "@jupyter-widgets/controls",
      "model_module_version": "1.5.0",
      "model_name": "ButtonStyleModel",
      "state": {}
     },
     "e4b5c0fd89084ca49d5aafc53b2eef21": {
      "model_module": "@jupyter-widgets/controls",
      "model_module_version": "1.5.0",
      "model_name": "ButtonModel",
      "state": {
       "button_style": "primary",
       "description": "Показать решение",
       "layout": "IPY_MODEL_9e49978462414964a3968166561d4175",
       "style": "IPY_MODEL_62f4c133370d4596b7dbeb19643ea266"
      }
     },
     "e65f53866d084f3abbb85b7d971dbd20": {
      "model_module": "@jupyter-widgets/controls",
      "model_module_version": "1.5.0",
      "model_name": "DescriptionStyleModel",
      "state": {
       "description_width": ""
      }
     },
     "e734615838fb4b62a8cc8bf204739c4b": {
      "model_module": "@jupyter-widgets/base",
      "model_module_version": "1.2.0",
      "model_name": "LayoutModel",
      "state": {
       "height": "25px",
       "width": "145px"
      }
     },
     "e7f4fec1e59342438bee0f593dbd5680": {
      "model_module": "@jupyter-widgets/controls",
      "model_module_version": "1.5.0",
      "model_name": "ButtonStyleModel",
      "state": {}
     },
     "e98699b5e30d4e238aa756e7ac7d4755": {
      "model_module": "@jupyter-widgets/controls",
      "model_module_version": "1.5.0",
      "model_name": "ButtonModel",
      "state": {
       "button_style": "danger",
       "description": "Стереть результат ",
       "layout": "IPY_MODEL_e05844c04c864538949a1c921434fecb",
       "style": "IPY_MODEL_a96fc8c6f1414f5dbe1c4798fb34f845"
      }
     },
     "e9ee66f4f16d458da86948dde0badbf6": {
      "model_module": "@jupyter-widgets/base",
      "model_module_version": "1.2.0",
      "model_name": "LayoutModel",
      "state": {}
     },
     "e9ffd70b29254eb6971d7a1cfca2e648": {
      "model_module": "@jupyter-widgets/controls",
      "model_module_version": "1.5.0",
      "model_name": "DescriptionStyleModel",
      "state": {
       "description_width": ""
      }
     },
     "ea3eb9242bce43b29bb7d49b020dc78d": {
      "model_module": "@jupyter-widgets/base",
      "model_module_version": "1.2.0",
      "model_name": "LayoutModel",
      "state": {
       "height": "35px",
       "width": "295px"
      }
     },
     "ea8b46afd2004960acfec93adc09e64c": {
      "model_module": "@jupyter-widgets/controls",
      "model_module_version": "1.5.0",
      "model_name": "LabelModel",
      "state": {
       "layout": "IPY_MODEL_d01abe9b8d954c4a92959076470c341d",
       "style": "IPY_MODEL_96964297d2824afbaaf09c2496cbf1e1",
       "value": "Ответ можно переотправлять. Будет принят последний из отправленных"
      }
     },
     "eb577155d19b4e62a0d36be4677901d4": {
      "model_module": "@jupyter-widgets/controls",
      "model_module_version": "1.5.0",
      "model_name": "ButtonStyleModel",
      "state": {}
     },
     "ec5ba055c79a4abca5b6d79b87d09a35": {
      "model_module": "@jupyter-widgets/controls",
      "model_module_version": "1.5.0",
      "model_name": "DescriptionStyleModel",
      "state": {
       "description_width": ""
      }
     },
     "edef666a76e3454099e8d9f0f60bbe48": {
      "model_module": "@jupyter-widgets/controls",
      "model_module_version": "1.5.0",
      "model_name": "DescriptionStyleModel",
      "state": {
       "description_width": ""
      }
     },
     "ee0a07ceb44549f19dbac1a73b865d1e": {
      "model_module": "@jupyter-widgets/base",
      "model_module_version": "1.2.0",
      "model_name": "LayoutModel",
      "state": {
       "height": "25px",
       "width": "145px"
      }
     },
     "eef6a448fa354fa7957b65041a723b5f": {
      "model_module": "@jupyter-widgets/controls",
      "model_module_version": "1.5.0",
      "model_name": "DescriptionStyleModel",
      "state": {
       "description_width": ""
      }
     },
     "efaa724cd32f4147ae6207e400365fa5": {
      "model_module": "@jupyter-widgets/controls",
      "model_module_version": "1.5.0",
      "model_name": "ButtonModel",
      "state": {
       "button_style": "primary",
       "description": "Показать решение",
       "layout": "IPY_MODEL_a14968226b4f4af38032456e9791a8e9",
       "style": "IPY_MODEL_7f0bb0b7718d4902bea62b70b252118d"
      }
     },
     "efd8f53c0505423080be05f50da22582": {
      "model_module": "@jupyter-widgets/controls",
      "model_module_version": "1.5.0",
      "model_name": "ButtonModel",
      "state": {
       "button_style": "primary",
       "description": "Показать решение",
       "layout": "IPY_MODEL_8c831648c7194cb4a883a9e01e039442",
       "style": "IPY_MODEL_3b11db3876564430a6d801330d5c2148"
      }
     },
     "efed19faf2814cf2b348538443d1c5cd": {
      "model_module": "@jupyter-widgets/controls",
      "model_module_version": "1.5.0",
      "model_name": "ButtonModel",
      "state": {
       "button_style": "primary",
       "description": "Отправить ответ",
       "layout": "IPY_MODEL_90a38a1de4124059a6f3afbef8f9a1fc",
       "style": "IPY_MODEL_a6478296a67b4e9e8ecec9a5a807e8bc"
      }
     },
     "f04e24a70ee94d28b0996c6313588de0": {
      "model_module": "@jupyter-widgets/controls",
      "model_module_version": "1.5.0",
      "model_name": "HBoxModel",
      "state": {
       "children": [
        "IPY_MODEL_3ee03676aa2f465f89a6c1f84c4df11a",
        "IPY_MODEL_daf2949cb98c4d4e84dbc219148ee50c",
        "IPY_MODEL_85fdb66d598740b3b64e53aa41f8ac86",
        "IPY_MODEL_72d7f583cf9647a2aa68e8fa37395bcf",
        "IPY_MODEL_a51061c23e374ce08cc2670aadd1641d"
       ],
       "layout": "IPY_MODEL_64dc17d828d94e85b1c7ee5b25211dba"
      }
     },
     "f0a2824069c2445aadbfeb00929920d2": {
      "model_module": "@jupyter-widgets/controls",
      "model_module_version": "1.5.0",
      "model_name": "DescriptionStyleModel",
      "state": {
       "description_width": ""
      }
     },
     "f0ff873e2c55419fba0f85bde8c71f1d": {
      "model_module": "@jupyter-widgets/controls",
      "model_module_version": "1.5.0",
      "model_name": "ButtonModel",
      "state": {
       "button_style": "primary",
       "description": "Отправить ответ",
       "layout": "IPY_MODEL_70158df9781d43eb875737d2ba7dbc34",
       "style": "IPY_MODEL_9e1d1ecad5894b0788c4751f11ed0163"
      }
     },
     "f1c40976be2b4c798987c125529f30e8": {
      "model_module": "@jupyter-widgets/controls",
      "model_module_version": "1.5.0",
      "model_name": "DescriptionStyleModel",
      "state": {
       "description_width": ""
      }
     },
     "f243f59356984fd3a064a9c3a3be38db": {
      "model_module": "@jupyter-widgets/controls",
      "model_module_version": "1.5.0",
      "model_name": "DescriptionStyleModel",
      "state": {
       "description_width": ""
      }
     },
     "f2f69021fad8437285a2ab38f84e674d": {
      "model_module": "@jupyter-widgets/controls",
      "model_module_version": "1.5.0",
      "model_name": "ButtonStyleModel",
      "state": {}
     },
     "f32a6f97c6a249aea8323c9c0e73d175": {
      "model_module": "@jupyter-widgets/controls",
      "model_module_version": "1.5.0",
      "model_name": "ButtonStyleModel",
      "state": {}
     },
     "f34e3dc6a17944fb9355d31138df6d36": {
      "model_module": "@jupyter-widgets/base",
      "model_module_version": "1.2.0",
      "model_name": "LayoutModel",
      "state": {
       "height": "25px",
       "width": "145px"
      }
     },
     "f36710e965464d06a0a85e86ec3b80c5": {
      "model_module": "@jupyter-widgets/controls",
      "model_module_version": "1.5.0",
      "model_name": "ButtonModel",
      "state": {
       "button_style": "danger",
       "description": "Стереть результат ",
       "layout": "IPY_MODEL_7161aad93b0048828b25234ff4688606",
       "style": "IPY_MODEL_2357bba828834edba5dc76b150fd49bd"
      }
     },
     "f40f78ae6745494f96f2f080162304b9": {
      "model_module": "@jupyter-widgets/controls",
      "model_module_version": "1.5.0",
      "model_name": "ButtonModel",
      "state": {
       "button_style": "danger",
       "description": "Обратная связь",
       "layout": "IPY_MODEL_3488bb0b7c1c42d8a7f9fc9ae453f47e",
       "style": "IPY_MODEL_962e7f6d5598449d941414ba5183ab80"
      }
     },
     "f42c339d784c42ebabe0b17dd66f3e6b": {
      "model_module": "@jupyter-widgets/controls",
      "model_module_version": "1.5.0",
      "model_name": "LabelModel",
      "state": {
       "layout": "IPY_MODEL_46a62d8308c64e25a02ca8833e5c0124",
       "style": "IPY_MODEL_d9280e43ea6d48fb97770371452b413b",
       "value": "Описание1"
      }
     },
     "f4d93277bb6f450ca573aa3eeef39905": {
      "model_module": "@jupyter-widgets/controls",
      "model_module_version": "1.5.0",
      "model_name": "LabelModel",
      "state": {
       "layout": "IPY_MODEL_ca02dc79bab24393b87b6ed09fe4c083",
       "style": "IPY_MODEL_30c1b5ec0c814b16870e678714a718b3",
       "value": "Описание2"
      }
     },
     "f5c82c31eb9d49008a30cd9ffc7dd4d6": {
      "model_module": "@jupyter-widgets/base",
      "model_module_version": "1.2.0",
      "model_name": "LayoutModel",
      "state": {}
     },
     "f63d8f6365af42f68ab4c06d7df783ea": {
      "model_module": "@jupyter-widgets/base",
      "model_module_version": "1.2.0",
      "model_name": "LayoutModel",
      "state": {}
     },
     "f793646e3e2a4ba5a5f62210e57dd003": {
      "model_module": "@jupyter-widgets/controls",
      "model_module_version": "1.5.0",
      "model_name": "DescriptionStyleModel",
      "state": {
       "description_width": ""
      }
     },
     "f875fd46d64a4b6fa91eaa68fbdbc3b1": {
      "model_module": "@jupyter-widgets/base",
      "model_module_version": "1.2.0",
      "model_name": "LayoutModel",
      "state": {}
     },
     "f89e804ab8694250a937d425c1a13d5e": {
      "model_module": "@jupyter-widgets/controls",
      "model_module_version": "1.5.0",
      "model_name": "ButtonStyleModel",
      "state": {}
     },
     "f8e1f16114cd477dbca63d0b08fb2840": {
      "model_module": "@jupyter-widgets/base",
      "model_module_version": "1.2.0",
      "model_name": "LayoutModel",
      "state": {
       "height": "25px",
       "width": "145px"
      }
     },
     "f95d4cb6676e439fa465cf676e02ed92": {
      "model_module": "@jupyter-widgets/base",
      "model_module_version": "1.2.0",
      "model_name": "LayoutModel",
      "state": {
       "height": "35px",
       "width": "295px"
      }
     },
     "f97386dcbb734c849d059bc5ad69e2f6": {
      "model_module": "@jupyter-widgets/controls",
      "model_module_version": "1.5.0",
      "model_name": "ButtonModel",
      "state": {
       "button_style": "success",
       "description": "Проверить",
       "layout": "IPY_MODEL_6da6c0fca431446b82dd36b2e52e41fa",
       "style": "IPY_MODEL_443aa423bb744be7a9e94cfe8b8bfc03"
      }
     },
     "fb14f95c29bb4b41a938d8b73741d91f": {
      "model_module": "@jupyter-widgets/controls",
      "model_module_version": "1.5.0",
      "model_name": "DescriptionStyleModel",
      "state": {
       "description_width": ""
      }
     },
     "fc8562ab31b44e639e5f9235888b3ee6": {
      "model_module": "@jupyter-widgets/controls",
      "model_module_version": "1.5.0",
      "model_name": "DescriptionStyleModel",
      "state": {
       "description_width": ""
      }
     },
     "fca7333e6d86455b8299f258e0580b1b": {
      "model_module": "@jupyter-widgets/controls",
      "model_module_version": "1.5.0",
      "model_name": "ButtonModel",
      "state": {
       "button_style": "primary",
       "description": "Показать решение",
       "layout": "IPY_MODEL_cf3785698b044df28f58fbf94481e390",
       "style": "IPY_MODEL_a8006779b9954d83816b7496b1e72408"
      }
     },
     "fcbdfd39012e453395340a730dbb5620": {
      "model_module": "@jupyter-widgets/controls",
      "model_module_version": "1.5.0",
      "model_name": "ButtonStyleModel",
      "state": {}
     },
     "fd36d5c083bf40528d742a2125a3af45": {
      "model_module": "@jupyter-widgets/controls",
      "model_module_version": "1.5.0",
      "model_name": "ButtonStyleModel",
      "state": {}
     },
     "feb687ff7b0e404781132df7bb9df9a2": {
      "model_module": "@jupyter-widgets/controls",
      "model_module_version": "1.5.0",
      "model_name": "ButtonModel",
      "state": {
       "button_style": "danger",
       "description": "Стереть результат ",
       "layout": "IPY_MODEL_0701e14339594a0fb1da91396487eb6c",
       "style": "IPY_MODEL_513b14757ea04c0d90cd4997ce0c3558"
      }
     },
     "fee2af23666f4e6a918e7e6d3d3008eb": {
      "model_module": "@jupyter-widgets/base",
      "model_module_version": "1.2.0",
      "model_name": "LayoutModel",
      "state": {
       "height": "25px",
       "width": "145px"
      }
     }
    },
    "version_major": 2,
    "version_minor": 0
   }
  }
 },
 "nbformat": 4,
 "nbformat_minor": 4
}
