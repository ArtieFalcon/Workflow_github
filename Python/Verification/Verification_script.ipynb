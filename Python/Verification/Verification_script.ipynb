# jupiter cell
from VerificationC import VerificationClass as VC
spark = VC().RunSpark()
sample_table = 'schema.tbl2' #Наименование таблицы-эталона вида database.table
sample_date_field = 'report_date' # дата выгрузки (поле партицирования)
test_table = 'schema.tbl2' #Наименование таблицы-теста вида database.table
test_date_field = 'report_date' #дата выгрузки (поле партицирования)
report_date_field = "'2022-11-26'" # отчетная дата
VC().Verify(spark,sample_table,sample_date_field,test_table,test_date_field,report_date_field,rows_amount=100)
